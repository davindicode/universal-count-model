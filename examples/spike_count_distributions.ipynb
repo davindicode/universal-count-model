{
 "cells": [
  {
   "cell_type": "markdown",
   "metadata": {},
   "source": [
    "# Modeling spike counts\n",
    "\n",
    "### Table of contents\n",
    "\n",
    "1. [**Count distributions**](#likelihood)\n",
    "2. [**Universal Count Model likelihood**](#ucm)\n"
   ]
  },
  {
   "cell_type": "code",
   "execution_count": 17,
   "metadata": {},
   "outputs": [],
   "source": [
    "import torch\n",
    "import torch.nn as nn\n",
    "import torch.optim as optim\n",
    "from torch.nn import Parameter\n",
    "\n",
    "import matplotlib.pyplot as plt\n",
    "\n",
    "import numpy as np\n",
    "import scipy.special as sps\n",
    "\n",
    "import sys\n",
    "sys.path.append(\"..\")\n",
    "\n",
    "import neuroprob as nprb\n",
    "from neuroprob import utils"
   ]
  },
  {
   "cell_type": "markdown",
   "metadata": {},
   "source": [
    "<a id=\"likelihood\"></a>\n",
    "## 1. Count distributions"
   ]
  },
  {
   "cell_type": "code",
   "execution_count": 18,
   "metadata": {},
   "outputs": [],
   "source": [
    "def get_nll(likelihood, max_count, trials = 2):\n",
    "    neurons = 1\n",
    "\n",
    "    ### set data ###\n",
    "    spikes = torch.arange(max_count)[None, :]\n",
    "    likelihood.set_Y(spikes, max_count)\n",
    "\n",
    "    ### compute NLL ###\n",
    "    rates = 10.0*torch.ones(trials, neurons, max_count)  # rate (primary) parameter\n",
    "    nll = likelihood.nll(0, rates, spikes*torch.log(rates), spikes, range(neurons))\n",
    "    return nll\n",
    "\n",
    "\n",
    "tbin = 0.1\n",
    "max_count = 10"
   ]
  },
  {
   "cell_type": "code",
   "execution_count": null,
   "metadata": {},
   "outputs": [],
   "source": [
    "likelihood = nprb.likelihoods.Poisson(tbin, neurons, 'exp')\n",
    "\n",
    "poiss_nll = get_nll(likelihood, max_count)\n",
    "poiss_prbs = utils.stats.poiss_count_prob(\n",
    "    bins, rates[0, 0, 0].numpy()*likelihood.tbin.item(), None, 1.0)"
   ]
  },
  {
   "cell_type": "code",
   "execution_count": 12,
   "metadata": {},
   "outputs": [],
   "source": [
    "r_inv = 0.0*torch.ones(1)\n",
    "likelihood = nprb.likelihoods.Negative_binomial(tbin, 1, 'exp', r_inv)\n",
    "\n",
    "nb_nll = get_nll(likelihood, max_count)\n",
    "nb_prbs = utils.stats.nb_count_prob(\n",
    "    bins, rates[0, 0, 0].numpy()*likelihood.tbin.item(), r_inv[0].item(), 1.0)"
   ]
  },
  {
   "cell_type": "code",
   "execution_count": 13,
   "metadata": {},
   "outputs": [],
   "source": [
    "alpha = 0.95*torch.ones(neurons)\n",
    "likelihood = nprb.likelihoods.ZI_Poisson(tbin, neurons, 'exp', alpha)\n",
    "\n",
    "zip_nll = get_nll(likelihood, max_count)\n",
    "zip_prbs = utils.stats.zip_count_prob(\n",
    "    bins, rates[0, 0, 0].numpy()*likelihood.tbin.item(), alpha[0].item(), 1.0)"
   ]
  },
  {
   "cell_type": "code",
   "execution_count": null,
   "metadata": {},
   "outputs": [],
   "source": [
    "log_nu = 1.*torch.ones(neurons)\n",
    "likelihood = nprb.likelihoods.COM_Poisson(tbin, neurons, 'exp', log_nu)\n",
    "\n",
    "cmp_nll = get_nll(likelihood, max_count)\n",
    "cmp_prbs = utils.stats.cmp_count_prob(\n",
    "    bins, rates[0, 0, 0].numpy()*likelihood.tbin.item(), np.exp(log_nu[0].item()), 1.0)"
   ]
  },
  {
   "cell_type": "code",
   "execution_count": 14,
   "metadata": {},
   "outputs": [
    {
     "data": {
      "image/png": "[encoded data removed]",
      "text/plain": [
       "<Figure size 432x288 with 1 Axes>"
      ]
     },
     "metadata": {
      "needs_background": "light"
     },
     "output_type": "display_data"
    }
   ],
   "source": [
    "fig, axes = plt.subplots()\n",
    "\n",
    "plt.plot(spikes[0, :], np.exp(-nll.data.numpy()[0, :]))\n",
    "\n",
    "bins = np.arange(max_count)\n",
    "plt.plot(bins, prbs, 'r.', label=r'numpy')\n",
    "plt.legend()\n",
    "plt.show()"
   ]
  },
  {
   "cell_type": "code",
   "execution_count": 15,
   "metadata": {},
   "outputs": [
    {
     "data": {
      "image/png": "[encoded data removed]",
      "text/plain": [
       "<Figure size 432x288 with 1 Axes>"
      ]
     },
     "metadata": {
      "needs_background": "light"
     },
     "output_type": "display_data"
    },
    {
     "data": {
      "image/png": "[encoded data removed]",
      "text/plain": [
       "<Figure size 432x288 with 1 Axes>"
      ]
     },
     "metadata": {
      "needs_background": "light"
     },
     "output_type": "display_data"
    }
   ],
   "source": [
    "### sample ###\n",
    "rate = np.linspace(0, 10, 100)[None, None, :].repeat(100, axis=0)*10\n",
    "syn_train = likelihood.sample(rate, [0], XZ=None)\n",
    "\n",
    "\n",
    "### empirical count mean and variance ###\n",
    "m = syn_train.mean(0)\n",
    "v = syn_train.var(0)\n",
    "\n",
    "plt.scatter(m, v)\n",
    "\n",
    "nx = np.linspace(0, m.max())\n",
    "plt.plot(nx, nx*(1+nx*alpha.numpy()[0]))\n",
    "plt.show()\n",
    "\n",
    "plt.hist(syn_train.flatten(), bins=np.arange(max_count+1)-.5)\n",
    "plt.show()"
   ]
  },
  {
   "cell_type": "code",
   "execution_count": null,
   "metadata": {},
   "outputs": [],
   "source": []
  },
  {
   "cell_type": "markdown",
   "metadata": {},
   "source": [
    "## 2. UCM\n",
    "\n",
    "The above only holds for one covariate dimension that we looked at. To look at the intrinsic degree of freedom for a neuron, it may be more informative and convenient to look at the softmax weights and biases that connect the GP functions to the spike count distribution. We now load the pre-softmax weights and biases. Each neuron has its own set of weights and biases $W_n$ and $\\mathbf{b}_n$. Note we used a exponential-quadratic expansion for $\\phi(\\cdot)$. This expansion combines the quadratic basis expansion with an exponential mapping, i.e. for a vector $\\mathbf{f} = (f_1, f_2)$ we obtain \n",
    "\n",
    "$$\n",
    "\\phi(\\mathbf{f}) = (f_1, f_2, f_1^2, f_2^2, e^{f_1}, e^{f_2}, f_1 f_2)\n",
    "$$\n",
    "\n",
    "and for a vector $\\mathbf{f} = (f_1, f_2, f_3)$ we obtain \n",
    "\n",
    "$$\n",
    "\\phi(\\mathbf{f}) = (f_1, f_2, f_3, f_1^2, f_2^2, f_3^2, e^{f_1}, e^{f_2}, e^{f_3}, f_1 f_2, f_2 f_3, f_1 f_3)\n",
    "$$\n",
    "\n",
    "and so on. The last example here corresponds to the case of $C = 3$ as in the model that we loaded. The probability of spike count $k$ for neuron $n$ is then computed as \n",
    "\n",
    "$$\n",
    "P_{nk} = \\text{softmax}\\left( W_n \\cdot \\phi(\\mathbf{f}_n) + \\mathbf{b}_n \\right)_k\n",
    "$$\n",
    "\n",
    "Different basis expansions $\\phi(\\cdot)$ are defined in ```scripts/lib/models.py```."
   ]
  },
  {
   "cell_type": "code",
   "execution_count": 24,
   "metadata": {},
   "outputs": [],
   "source": []
  },
  {
   "cell_type": "code",
   "execution_count": 96,
   "metadata": {},
   "outputs": [],
   "source": [
    "K = 15\n",
    "C = 15"
   ]
  },
  {
   "cell_type": "code",
   "execution_count": 97,
   "metadata": {},
   "outputs": [],
   "source": [
    "N_samps = 3\n",
    "\n",
    "f = np.random.randn(N_samps, C)"
   ]
  },
  {
   "cell_type": "code",
   "execution_count": 98,
   "metadata": {},
   "outputs": [],
   "source": [
    "def phi(f):\n",
    "    expansion = [f, np.exp(f)]\n",
    "    expanded = np.concatenate(expansion, axis=-1)\n",
    "    return expanded  # (samps, expand_C)\n",
    "\n",
    "expand_C = 2 * C\n",
    "\n",
    "\n",
    "def compute_P(f, phi, W, b):\n",
    "    a = (W[None, ...] @ phi(f)[..., None])[..., 0] + b\n",
    "    return sps.softmax(a, axis=-1)"
   ]
  },
  {
   "cell_type": "code",
   "execution_count": 99,
   "metadata": {},
   "outputs": [],
   "source": [
    "W = np.random.randn(K + 1, expand_C) * 0.0\n",
    "W[:, C:] -= 1.\n",
    "W[:, :C] += np.arange(K + 1)[:, None]\n",
    "b = np.random.randn(K + 1) * 0.0 - sps.gammaln(np.arange(K + 1) + 1)\n",
    "\n",
    "P = compute_P(f, phi, W, b)"
   ]
  },
  {
   "cell_type": "code",
   "execution_count": 103,
   "metadata": {},
   "outputs": [
    {
     "data": {
      "image/png": "[encoded data removed]",
      "text/plain": [
       "<Figure size 576x216 with 3 Axes>"
      ]
     },
     "metadata": {
      "needs_background": "light"
     },
     "output_type": "display_data"
    }
   ],
   "source": [
    "fig, axes = plt.subplots(1, N_samps, figsize=(8, 3))\n",
    "\n",
    "for tr in range(N_samps):\n",
    "    axes[tr].bar(np.arange(K+1), P[tr, :])\n",
    "\n",
    "plt.show()"
   ]
  },
  {
   "cell_type": "code",
   "execution_count": null,
   "metadata": {},
   "outputs": [],
   "source": []
  },
  {
   "cell_type": "code",
   "execution_count": null,
   "metadata": {},
   "outputs": [],
   "source": []
  }
 ],
 "metadata": {
  "kernelspec": {
   "display_name": "python39",
   "language": "python",
   "name": "python39"
  },
  "language_info": {
   "codemirror_mode": {
    "name": "ipython",
    "version": 3
   },
   "file_extension": ".py",
   "mimetype": "text/x-python",
   "name": "python",
   "nbconvert_exporter": "python",
   "pygments_lexer": "ipython3",
   "version": "3.9.16"
  }
 },
 "nbformat": 4,
 "nbformat_minor": 4
}
