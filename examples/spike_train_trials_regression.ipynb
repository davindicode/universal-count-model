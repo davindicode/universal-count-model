{
 "cells": [
  {
   "cell_type": "markdown",
   "metadata": {},
   "source": [
    "# Spike train trials\n",
    "\n",
    "Here we fit a log Cox Gaussian process to inhomogeous Poisson spike train trials.\n",
    "\n",
    "### Table of contents\n",
    "\n",
    "1. [**Spike train trials**](#trials)\n",
    "2. [**Fitting a log Cox Gaussian process**](#cox)\n",
    "3. [**Evaluating the inferred intensity**](#infer)\n"
   ]
  },
  {
   "cell_type": "code",
   "execution_count": 1,
   "metadata": {},
   "outputs": [
    {
     "name": "stdout",
     "output_type": "stream",
     "text": [
      "PyTorch version: 1.13.1+cu117\n",
      "Using device: cuda:0\n"
     ]
    }
   ],
   "source": [
    "import torch\n",
    "import torch.optim as optim\n",
    "\n",
    "import matplotlib.pyplot as plt\n",
    "import numpy as np\n",
    "\n",
    "\n",
    "import sys\n",
    "sys.path.append(\"..\")\n",
    "\n",
    "\n",
    "import neuroprob as nprb\n",
    "from neuroprob import utils\n",
    "\n",
    "\n",
    "dev = nprb.inference.get_device()  # PyTorch device, gpu 0 by default if available"
   ]
  },
  {
   "cell_type": "code",
   "execution_count": 2,
   "metadata": {},
   "outputs": [],
   "source": [
    "# seed everything\n",
    "seed = 123\n",
    "torch.manual_seed(seed)\n",
    "rng = np.random.default_rng(seed)  # seed RNG"
   ]
  },
  {
   "cell_type": "markdown",
   "metadata": {},
   "source": [
    "<a id=\"trials\"></a>\n",
    "## 1. Spike train trials"
   ]
  },
  {
   "cell_type": "code",
   "execution_count": 3,
   "metadata": {},
   "outputs": [],
   "source": [
    "tbin = 0.001\n",
    "steps = 1000\n",
    "max_time = tbin*steps\n",
    "trials = 10\n",
    "neurons = 2\n",
    "\n",
    "rate = np.empty((trials, neurons, steps))\n",
    "rate[:, 0, :] = (20.0*np.sin(2*np.pi*np.arange(steps)/1000) + 20.0)[None, :].repeat(trials, axis=0)\n",
    "rate[:, 1, :] = (20.0*np.cos(2*np.pi*np.arange(steps)/1000) + 20.0)[None, :].repeat(trials, axis=0)\n",
    "\n",
    "spikes = rng.binomial(1, rate * tbin)  # (trials, neurons, ts)\n",
    "\n",
    "times = np.arange(steps)*tbin # time points to evaluate\n",
    "covariates = times[None, :, None].repeat(trials, axis=0) # input regressors of shape (trials, time, dimensions)\n",
    "\n",
    "\n",
    "t_spike = []\n",
    "for tr in range(trials):\n",
    "    t_spike_ = []\n",
    "    for n in range(neurons):\n",
    "        t_spike_.append(np.where(spikes[tr, n, :] > 0)[0])\n",
    "        \n",
    "    t_spike.append(t_spike_)"
   ]
  },
  {
   "cell_type": "code",
   "execution_count": 4,
   "metadata": {},
   "outputs": [
    {
     "data": {
      "image/png": "[encoded data removed]",
      "text/plain": [
       "<Figure size 432x288 with 1 Axes>"
      ]
     },
     "metadata": {
      "needs_background": "light"
     },
     "output_type": "display_data"
    },
    {
     "data": {
      "image/png": "[encoded data removed]",
      "text/plain": [
       "<Figure size 432x288 with 1 Axes>"
      ]
     },
     "metadata": {
      "needs_background": "light"
     },
     "output_type": "display_data"
    }
   ],
   "source": [
    "for n  in range(neurons):\n",
    "\n",
    "    plt.plot(times, rate[0, n])\n",
    "    for tr in range(trials):\n",
    "        plt.scatter(t_spike[tr][n]*tbin, (-5.0-2*tr)*np.ones_like(t_spike[tr][n]), marker='|')\n",
    "    plt.xlabel('time (s)')\n",
    "    plt.ylabel('firing rate (Hz)')\n",
    "    plt.show()"
   ]
  },
  {
   "cell_type": "markdown",
   "metadata": {},
   "source": [
    "<a id=\"cox\"></a>\n",
    "## 2. Fitting a log Cox Gaussian process\n",
    "\n",
    "Note we use the [sparse variational Gaussian process](https://arxiv.org/abs/1309.6835) to handle non-conjugate likelihoods and enable scalability to many time points (trading off expressivity of the inferred posterior)."
   ]
  },
  {
   "cell_type": "code",
   "execution_count": 5,
   "metadata": {},
   "outputs": [
    {
     "data": {
      "text/plain": [
       "VI_optimized(\n",
       "  (input_group): input_group()\n",
       "  (mapping): SVGP(\n",
       "    (kernel): Product(\n",
       "      (kern0): Constant()\n",
       "      (kern1): SquaredExponential()\n",
       "    )\n",
       "    (induc_pts): inducing_points()\n",
       "  )\n",
       "  (likelihood): Poisson()\n",
       ")"
      ]
     },
     "execution_count": 5,
     "metadata": {},
     "output_type": "execute_result"
    }
   ],
   "source": [
    "out_dims = neurons\n",
    "\n",
    "# kernel\n",
    "l = 1.*torch.ones(1, out_dims)\n",
    "v = torch.ones(out_dims)\n",
    "\n",
    "krn_1 = nprb.kernels.Constant(variance=v, tensor_type=torch.float)\n",
    "krn_2 = nprb.kernels.SquaredExponential(\n",
    "    input_dims=len(l), lengthscale=l, \\\n",
    "    track_dims=[0], f='softplus', \\\n",
    "    tensor_type=torch.float\n",
    ")\n",
    "\n",
    "kernel = nprb.kernels.Product(krn_1, krn_2)\n",
    "\n",
    "# inputs\n",
    "input_data = [\n",
    "    torch.from_numpy(times[None, None, :, None].repeat(trials, axis=0)), \n",
    "    # for trial structure, inputs have shapes (trials, out_dims, ts, dims)\n",
    "]\n",
    "input_group = nprb.inputs.input_group()\n",
    "input_group.set_XZ(input_data, steps, batch_info=500, trials=trials)\n",
    "\n",
    "# inducing points\n",
    "num_induc = 12\n",
    "Xu = np.array(\n",
    "    [np.linspace(0, max_time, num_induc)]\n",
    ").T[None, ...].repeat(out_dims, axis=0)\n",
    "inducing_points = nprb.mappings.inducing_points(\n",
    "    out_dims, torch.from_numpy(Xu), jitter=1e-5)\n",
    "\n",
    "\n",
    "# mapping\n",
    "in_dims = Xu.shape[-1]\n",
    "\n",
    "gp = nprb.mappings.SVGP(\n",
    "    in_dims, neurons, kernel, inducing_points=inducing_points, \n",
    "    whiten=True, jitter=1e-5, mean=torch.zeros(neurons), learn_mean=True\n",
    ")\n",
    "\n",
    "# likelihood\n",
    "likelihood = nprb.likelihoods.discrete.Poisson(tbin, neurons, 'exp')\n",
    "likelihood.set_Y(torch.from_numpy(spikes), batch_info=500) \n",
    "\n",
    "# assemble\n",
    "gpr = nprb.inference.VI_optimized(input_group, gp, likelihood)\n",
    "gpr.to(dev)"
   ]
  },
  {
   "cell_type": "code",
   "execution_count": null,
   "metadata": {},
   "outputs": [
    {
     "data": {
      "application/vnd.jupyter.widget-view+json": {
       "model_id": "3ae708eca62e432788b5224da4a1bd45",
       "version_major": 2,
       "version_minor": 0
      },
      "text/plain": [
       "  0%|          | 0/3000 [00:00<?, ?it/s]"
      ]
     },
     "metadata": {},
     "output_type": "display_data"
    }
   ],
   "source": [
    "# fitting\n",
    "sch = lambda o: optim.lr_scheduler.MultiplicativeLR(o, lambda e: 0.99)\n",
    "opt_lr_dict = {\n",
    "    'default': 1e-2, \n",
    "}\n",
    "\n",
    "gpr.set_optimizers(optim.Adam, sch, 100, opt_lr_dict)\n",
    "\n",
    "annealing = lambda x: 1.0\n",
    "losses = gpr.fit(3000, loss_margin=0.0, margin_epochs=100, kl_anneal_func=annealing, \n",
    "                 cov_samples=1, ll_samples=1, ll_mode='MC')"
   ]
  },
  {
   "cell_type": "code",
   "execution_count": null,
   "metadata": {},
   "outputs": [],
   "source": [
    "plt.figure()\n",
    "plt.plot(losses)\n",
    "plt.xlabel('epoch')\n",
    "plt.ylabel('negative ELBO')\n",
    "plt.show()"
   ]
  },
  {
   "cell_type": "markdown",
   "metadata": {},
   "source": [
    "<a id=\"infer\"></a>\n",
    "## 3. Evaluating the inferred intensity"
   ]
  },
  {
   "cell_type": "code",
   "execution_count": null,
   "metadata": {},
   "outputs": [],
   "source": [
    "# compare to true rate\n",
    "steps= 100\n",
    "show_neurons = list(range(neurons))\n",
    "eval_times = np.linspace(0.0, max_time, steps)[None, :]  # (dims, timesteps)\n",
    "\n",
    "samples = utils.model.marginal_posterior_samples(\n",
    "    gp, likelihood.f, torch.from_numpy(eval_times), 1000, show_neurons)\n",
    "lower, median, upper = [\n",
    "    p.cpu().numpy() for p in utils.stats.percentiles_from_samples(samples, smooth_length=5)\n",
    "]"
   ]
  },
  {
   "cell_type": "code",
   "execution_count": null,
   "metadata": {},
   "outputs": [],
   "source": [
    "visualize_trial = 0\n",
    "\n",
    "fig, axes = plt.subplots(1, 2, figsize=(8, 3))\n",
    "\n",
    "# intensity and uncertainty\n",
    "for k in show_neurons:\n",
    "    ax = axes[k]\n",
    "    \n",
    "    Xu = gp.induc_pts.Xu.data.cpu().numpy()[k, :, 0]\n",
    "    ax.scatter(Xu, -5.0*np.ones_like(Xu), marker='+', label='inducing points')\n",
    "    ax.set_xlim(eval_times[0, 0], eval_times[0, -1])\n",
    "    \n",
    "    ax.plot(np.linspace(0, max_time, rate.shape[-1]), rate[visualize_trial, k], 'r--', label='true rate')\n",
    "    line, = ax.plot(eval_times[0], median[k], label='GP posterior')\n",
    "    ax.fill_between(\n",
    "        eval_times[0], lower[k],\n",
    "        upper[k], color=line.get_color(), alpha=0.5\n",
    "    )\n",
    "    ax.set_xlabel('time (s)')\n",
    "    ax.set_ylabel('firing rate (Hz)')\n",
    "    ax.legend()\n",
    "    \n",
    "    \n",
    "fig.tight_layout()\n",
    "plt.show()"
   ]
  },
  {
   "cell_type": "code",
   "execution_count": null,
   "metadata": {},
   "outputs": [],
   "source": []
  }
 ],
 "metadata": {
  "kernelspec": {
   "display_name": "python39",
   "language": "python",
   "name": "python39"
  },
  "language_info": {
   "codemirror_mode": {
    "name": "ipython",
    "version": 3
   },
   "file_extension": ".py",
   "mimetype": "text/x-python",
   "name": "python",
   "nbconvert_exporter": "python",
   "pygments_lexer": "ipython3",
   "version": "3.9.16"
  }
 },
 "nbformat": 4,
 "nbformat_minor": 4
}
