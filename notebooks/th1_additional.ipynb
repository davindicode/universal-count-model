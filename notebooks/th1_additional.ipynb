{
 "cells": [
  {
   "cell_type": "code",
   "execution_count": 3,
   "metadata": {},
   "outputs": [
    {
     "name": "stdout",
     "output_type": "stream",
     "text": [
      "PyTorch version: 1.7.1+cu101\n",
      "Using device: cuda:0\n"
     ]
    },
    {
     "ename": "SyntaxError",
     "evalue": "invalid syntax (fit_model.py, line 40)",
     "output_type": "error",
     "traceback": [
      "Traceback \u001b[0;36m(most recent call last)\u001b[0m:\n",
      "  File \u001b[1;32m\"/var/home/dl543/.local/lib/python3.6/site-packages/IPython/core/interactiveshell.py\"\u001b[0m, line \u001b[1;32m3331\u001b[0m, in \u001b[1;35mrun_code\u001b[0m\n    exec(code_obj, self.user_global_ns, self.user_ns)\n",
      "\u001b[0;36m  File \u001b[0;32m\"<ipython-input-3-1163515509e5>\"\u001b[0;36m, line \u001b[0;32m31\u001b[0;36m, in \u001b[0;35m<module>\u001b[0;36m\u001b[0m\n\u001b[0;31m    import fit_model\u001b[0m\n",
      "\u001b[0;36m  File \u001b[0;32m\"../scripts/fit_model.py\"\u001b[0;36m, line \u001b[0;32m40\u001b[0m\n\u001b[0;31m    elif data_type == 'th1':\u001b[0m\n\u001b[0m       ^\u001b[0m\n\u001b[0;31mSyntaxError\u001b[0m\u001b[0;31m:\u001b[0m invalid syntax\n"
     ]
    }
   ],
   "source": [
    "import scipy\n",
    "import scipy.stats as scstats\n",
    "import scipy.special as sps\n",
    "import numpy as np\n",
    "\n",
    "import matplotlib.pyplot as plt\n",
    "import daft\n",
    "\n",
    "import sys\n",
    "sys.path.append(\"..\")\n",
    "sys.path.append(\"../scripts/\") # access to scripts\n",
    "\n",
    "\n",
    "import os\n",
    "if not os.path.exists('./output'):\n",
    "    os.makedirs('./output')\n",
    "    \n",
    "\n",
    "from neuroprob import utils\n",
    "\n",
    "import model_utils\n",
    "\n",
    "import pickle\n",
    "\n",
    "\n",
    "\n",
    "plt.style.use(['paper.mplstyle'])"
   ]
  },
  {
   "cell_type": "code",
   "execution_count": 5,
   "metadata": {},
   "outputs": [],
   "source": [
    "data = np.load(\"../data/Mouse28_140313_wake.npz\")"
   ]
  },
  {
   "cell_type": "markdown",
   "metadata": {},
   "source": [
    "### Plot figure 4"
   ]
  },
  {
   "cell_type": "code",
   "execution_count": null,
   "metadata": {},
   "outputs": [],
   "source": []
  },
  {
   "cell_type": "code",
   "execution_count": null,
   "metadata": {},
   "outputs": [],
   "source": [
    "fig = plt.figure(figsize=(8, 4))\n",
    "fig.text(-0.08, 1.02, 'A', transform=fig.transFigure, size=15, fontweight='bold')\n",
    "fig.text(0.29, 1.02, 'B', transform=fig.transFigure, size=15, fontweight='bold')\n",
    "fig.text(-0.08, 0.35, 'C', transform=fig.transFigure, size=15, fontweight='bold')\n",
    "fig.text(0.475, 0.35, 'D', transform=fig.transFigure, size=15, fontweight='bold')\n",
    "\n",
    "\n",
    "poscol = 'forestgreen'\n",
    "antcol = 'orange'\n",
    "\n",
    "show_neuron = [11, 26]\n",
    "\n",
    "\n",
    "regressors(fig)\n",
    "bin_sizes(fig)\n",
    "\n",
    "\n",
    "ATIs(fig)\n",
    "population_drift(fig)\n",
    "\n",
    "latent_variables_scores(fig)\n",
    "latent_posterior(fig)\n",
    "latent_delay(fig)\n",
    "\n",
    "\n",
    "\n",
    "plt.savefig('output/plot_hdc_add.pdf')\n",
    "plt.show()"
   ]
  },
  {
   "cell_type": "markdown",
   "metadata": {},
   "source": [
    "Some extra analysis below here"
   ]
  },
  {
   "cell_type": "code",
   "execution_count": null,
   "metadata": {},
   "outputs": [],
   "source": [
    "# mean drit in degrees/hr\n",
    "drift.mean()/np.pi*180*3600"
   ]
  },
  {
   "cell_type": "code",
   "execution_count": null,
   "metadata": {},
   "outputs": [],
   "source": [
    "# one-sample t-test for LVM scores of Universal versus Poisson delta cvLL\n",
    "order = [1, 2, 0]\n",
    "c_ = LVM_cv_ll.transpose(1, 0, 2).mean(-1)[order, :]\n",
    "rel_c = c_ - c_[0:1, :]\n",
    "score_err = rel_c.std(-1, ddof=1)/np.sqrt(rel_c.shape[-1])\n",
    "\n",
    "scipy.stats.ttest_1samp(rel_c[2, :], 0)"
   ]
  },
  {
   "cell_type": "code",
   "execution_count": null,
   "metadata": {},
   "outputs": [],
   "source": [
    "# selecting linear joint tuning cells, visualize residuals for all cells and chosen cutoff line\n",
    "plt.scatter(np.arange(33), res_var_drift)\n",
    "plt.plot(np.ones(33)*-0.999)\n",
    "plt.show()\n",
    "\n",
    "plt.scatter(np.arange(33), res_var)\n",
    "plt.plot(np.ones(33)*-0.999)\n",
    "plt.ylim(-1, -0.999)\n",
    "plt.show()"
   ]
  },
  {
   "cell_type": "code",
   "execution_count": null,
   "metadata": {},
   "outputs": [],
   "source": []
  }
 ],
 "metadata": {
  "kernelspec": {
   "display_name": "Python 3",
   "language": "python",
   "name": "python3"
  },
  "language_info": {
   "codemirror_mode": {
    "name": "ipython",
    "version": 3
   },
   "file_extension": ".py",
   "mimetype": "text/x-python",
   "name": "python",
   "nbconvert_exporter": "python",
   "pygments_lexer": "ipython3",
   "version": "3.6.9"
  }
 },
 "nbformat": 4,
 "nbformat_minor": 4
}
