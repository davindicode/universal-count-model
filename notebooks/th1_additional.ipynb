{
 "cells": [
  {
   "cell_type": "markdown",
   "metadata": {},
   "source": [
    "# Spike count trials regression\n",
    "\n",
    "### Table of contents\n",
    "\n",
    "1. [**Synthetic heteroscedastic count data**](#data)\n",
    "2. [**Model recovery**](#recover)\n",
    "3. [**Fitting the UCM**](#fit)\n",
    "4. [**Evaluating the UCM**](#eval)\n"
   ]
  },
  {
   "cell_type": "code",
   "execution_count": 4,
   "metadata": {},
   "outputs": [],
   "source": [
    "import scipy\n",
    "import scipy.stats as scstats\n",
    "import scipy.special as sps\n",
    "import numpy as np\n",
    "\n",
    "import pickle\n",
    "\n",
    "import matplotlib.pyplot as plt\n",
    "\n",
    "import sys\n",
    "sys.path.append(\"..\")\n",
    "from neuroprob import utils\n",
    "\n",
    "sys.path.append(\"../scripts/\") # access to scripts\n",
    "import models\n",
    "\n",
    "\n"
   ]
  },
  {
   "cell_type": "markdown",
   "metadata": {},
   "source": [
    "<a id=\"synthetic\"></a>\n",
    "## Plot figure 3\n",
    "\n",
    "Some extra analysis below here"
   ]
  },
  {
   "cell_type": "code",
   "execution_count": 5,
   "metadata": {},
   "outputs": [],
   "source": [
    "data_path = '../data/'\n",
    "data_type = 'th1'\n",
    "bin_size = 1\n",
    "\n",
    "dataset_dict = models.get_dataset(data_type, bin_size, data_path)"
   ]
  },
  {
   "cell_type": "code",
   "execution_count": 9,
   "metadata": {},
   "outputs": [
    {
     "data": {
      "text/plain": [
       "array([1., 1., 1., 1., 1., 1., 1., 1., 1., 1., 1., 1., 1., 1., 1., 0., 0.,\n",
       "       0., 0., 0., 0., 0., 0., 0., 0., 0., 0., 0., 0., 0., 0., 0., 0.])"
      ]
     },
     "execution_count": 9,
     "metadata": {},
     "output_type": "execute_result"
    }
   ],
   "source": [
    "dataset_dict[\"metainfo\"][\"neuron_regions\"]"
   ]
  },
  {
   "cell_type": "code",
   "execution_count": null,
   "metadata": {},
   "outputs": [],
   "source": [
    "# one sample t-test, cv_pll has shape (model, cv_trial, neuron_group)\n",
    "c = cv_pll.mean(-1)*(len(pick_neuron)/5) # mean over neuron cv groups, rescale to be comparable to A\n",
    "rel_c = (c-c[0:1, :])\n",
    "c_ = rel_c.mean(-1)\n",
    "yerr = rel_c.std(1, ddof=1)/np.sqrt(rel_c.shape[1])\n",
    "\n",
    "ttest = []\n",
    "for rc, rce in zip(c_[1:], yerr[1:]):\n",
    "    ttest.append(scipy.stats.ttest_1samp(rc, 0))"
   ]
  },
  {
   "cell_type": "code",
   "execution_count": null,
   "metadata": {},
   "outputs": [],
   "source": [
    "# check KS statistic of Fisher Z scores for different latent dimensions, compare to p=0.005 line\n",
    "plt.plot(np.log(p_KS_fishq[0]), marker='.')\n",
    "plt.plot(np.arange(5), np.log(np.ones(5)*0.005))"
   ]
  },
  {
   "cell_type": "code",
   "execution_count": null,
   "metadata": {},
   "outputs": [],
   "source": [
    "# one-sample t t-test for regression baseline of Universal versus Poisson\n",
    "order = [1, 2, 0]\n",
    "scores = PLL_rg_ll\n",
    "rel_score = (scores[order, :]-scores[order, :][0:1, :])\n",
    "score_err = rel_score.std(-1, ddof=1)/np.sqrt(rel_score.shape[-1])\n",
    "\n",
    "scipy.stats.ttest_1samp(rel_score[2, :], 0)"
   ]
  },
  {
   "cell_type": "code",
   "execution_count": null,
   "metadata": {},
   "outputs": [],
   "source": [
    "# plot the T_DS statistic for all latent dimensions\n",
    "\n",
    "fig = plt.figure(figsize=(8, 4))\n",
    "\n",
    "L = 0.04\n",
    "Ncases = T_DS_.shape[1]\n",
    "kcv_ind = 0 # choose validation set segment\n",
    "widths = np.ones(Ncases)\n",
    "heights = [1]\n",
    "spec = fig.add_gridspec(ncols=len(widths), nrows=len(heights), width_ratios=widths,\n",
    "                        height_ratios=heights, wspace=0.4, \n",
    "                        left=.0+X, right=0.2+X, bottom=-0.5+Y, top=-.35+Y)\n",
    "\n",
    "# T_DS_.shape is (cv, z_dim, neurons, 1)\n",
    "for en, r in enumerate(T_DS_[kcv_ind][..., 0]):\n",
    "    ax = fig.add_subplot(spec[0, en])\n",
    "    \n",
    "    ax.hist(r, bins=np.linspace(-L, L, 20), density=True, orientation='horizontal', \n",
    "            color='gray')\n",
    "    ax.set_xticks([])\n",
    "    if en == 0:\n",
    "        ax.set_ylabel(r'$T_{DS}$', labelpad=4, fontsize=10)\n",
    "    else:\n",
    "        ax.set_yticks([])\n",
    "    \n",
    "    samples = len(Zz[0,0,0])\n",
    "    std = np.sqrt(2/(samples-1))\n",
    "    xx = np.linspace(-L, L, 100)\n",
    "    yy = scstats.norm.pdf(xx/std)/std\n",
    "    ax.plot(yy, xx, 'r--')\n",
    "    ax.set_ylim(-L, L)\n",
    "    ax.set_xlim(0, yy.max()*1.2)\n",
    "    ax.set_xlabel('{}'.format(en))\n",
    "    \n",
    "\n",
    "plt.show()"
   ]
  },
  {
   "cell_type": "code",
   "execution_count": null,
   "metadata": {},
   "outputs": [],
   "source": [
    "# Show the empirical distribution of the KS statistic, T_KS_.shape is (cv, z_dim, neurons, 1)\n",
    "T = T_KS_[0, 0, :, 0]\n",
    "x = np.linspace(0, 0.01, 100)\n",
    "f = utils.stats.KS_sampling_dist(x, len(Qq[0, 0, 0]))\n",
    "plt.plot(x, f)\n",
    "plt.hist(T, density=True)\n",
    "plt.show()\n",
    "    "
   ]
  },
  {
   "cell_type": "code",
   "execution_count": null,
   "metadata": {},
   "outputs": [],
   "source": [
    "# show some tuning curves to latent dimensions\n",
    "\n",
    "fig = plt.figure(figsize=(8, 6))\n",
    "\n",
    "\n",
    "\n",
    "X = 0.0\n",
    "Y = 0.0\n",
    "# tuning\n",
    "widths = np.ones(len(show_neuron))\n",
    "heights = [1, 1]\n",
    "spec = fig.add_gridspec(ncols=len(widths), nrows=len(heights), width_ratios=widths,\n",
    "                        height_ratios=heights, hspace=0.5, wspace=0.2, \n",
    "                        left=.51+X, right=0.73+X, bottom=-0.37+Y, top=Y-0.15)\n",
    "\n",
    "for k, ne in enumerate(show_neuron):\n",
    "    ax = fig.add_subplot(spec[0, k])\n",
    "    \n",
    "    rate = field_zz[ne]/tbin\n",
    "    ax.set_title('{:.1f} Hz'.format(rate.max()), fontsize=10, pad=-5)\n",
    "    im = utils.plot.visualize_field((fig, ax), rate.T, grid_shape_pos, cbar=False, aspect='auto')\n",
    "    utils.plot.decorate_ax(ax, spines=[False, False, False, False])\n",
    "    \n",
    "bp = 3/4*(grid_shape_zz[0][1]-grid_shape_zz[0][0]) + grid_shape_zz[0][0]\n",
    "rp = 1/4*(grid_shape_zz[0][1]-grid_shape_zz[0][0]) + grid_shape_zz[0][0]\n",
    "py = 1.2*grid_shape_zz[1][1]\n",
    "for k, ne in enumerate(show_neuron):\n",
    "    ax = fig.add_subplot(spec[1, k])\n",
    "    \n",
    "    FF = ff_zz[ne]\n",
    "    rate = np.log(FF)\n",
    "    g = max(-rate.min(), rate.max())\n",
    "    ax.text(rp, py, '{:.1f}'.format(np.exp(g)), ha='center', fontsize=10, color='red')\n",
    "    ax.text(bp, py, '{:.1f}'.format(np.exp(-g)), ha='center', fontsize=10, color='blue')\n",
    "    im = utils.plot.visualize_field((fig, ax), rate.T, grid_shape_zz, cbar=False, aspect='auto', \n",
    "                                    vmin=-g, vmax=g, cmap=weight_map)\n",
    "    utils.plot.decorate_ax(ax, spines=[False, False, False, False])\n",
    "    \n",
    "    if k == 0:\n",
    "        ax.set_xticks(grid_shape_zz[0])\n",
    "        ax.set_yticks(grid_shape_zz[1])\n",
    "    \n",
    "fig.text(0.45+X, Y-0.25, r'$z_2$', rotation=90, fontsize=10, va='center')\n",
    "fig.text(0.62+X, Y-0.42, r'$z_1$', fontsize=10, ha='center')\n"
   ]
  },
  {
   "cell_type": "code",
   "execution_count": null,
   "metadata": {},
   "outputs": [],
   "source": [
    "# plot the noise correlation magnitudes against preferred head direction difference\n",
    "\n",
    "order = np.argsort(pref_hdw[:, 10])#list(np.argsort(pref_hdw[:region_edge, 10])) + list(np.argsort(pref_hdw[region_edge:, 10])+region_edge)\n",
    "\n",
    "hd = np.abs((pref_hdw[order, 10][:, None] - pref_hdw[order, 10][None, :]) % (np.pi))\n",
    "rd = R_mat_spt[0, 0][order, :][:, order]\n",
    "\n",
    "plt.scatter(np.tril(hd, k=-1).flatten(), np.tril(rd, k=-1).flatten())"
   ]
  },
  {
   "cell_type": "code",
   "execution_count": null,
   "metadata": {},
   "outputs": [],
   "source": [
    "# CCG of input dimensions\n",
    "delays = 5000\n",
    "Tsteps = rcov[0].shape[0]\n",
    "L = Tsteps-delays+1\n",
    "\n",
    "\n",
    "rc_tot = list(rcov[:-1]) + list(X_c.T)\n",
    "ccg = []\n",
    "\n",
    "L = Tsteps-2*delays\n",
    "for en, rc in enumerate(rc_tot):\n",
    "    for rc_ in rc_tot[en+1:]:\n",
    "        cg = np.empty(2*delays+1)\n",
    "        for d in range(-delays, delays+1):\n",
    "            A = rc[d+delays:d+delays+L]\n",
    "            B = rc_[delays:delays+L]\n",
    "\n",
    "            if en == 0:\n",
    "                cg[d+delays] = utils.stats.corr_lin_circ(B, A)\n",
    "            else:\n",
    "                cg[d+delays] = utils.stats.corr_lin_lin(A, B)\n",
    "                \n",
    "        ccg.append(cg)"
   ]
  },
  {
   "cell_type": "code",
   "execution_count": null,
   "metadata": {
    "scrolled": true
   },
   "outputs": [],
   "source": [
    "# cross correlations between behavioural and latent trajectories\n",
    "fig = plt.figure(figsize=(8, 8))\n",
    "\n",
    "\n",
    "\n",
    "RC_n = len(rc_tot)\n",
    "Tps = [1000, 100, 100, 3000, 3000, 100, 100]\n",
    "\n",
    "widths = np.ones(RC_n)\n",
    "heights = np.ones(RC_n)\n",
    "spec = fig.add_gridspec(ncols=len(widths), nrows=len(heights), width_ratios=widths,\n",
    "                        height_ratios=heights, hspace=0.7, wspace=0.7, \n",
    "                        left=.0, right=1., bottom=0., top=1.)\n",
    "\n",
    "for n in range(RC_n):\n",
    "    ax = fig.add_subplot(spec[n, n])\n",
    "    Tp = Tps[n]\n",
    "    t = np.arange(Tp)*tbin\n",
    "    if n >= len(rcov[:-1]):\n",
    "        ax.plot(t, acg_z[n-len(rcov[:-1])][:Tp])\n",
    "    else:\n",
    "        ax.plot(t, acg_rc[n][:Tp])\n",
    "        \n",
    "    if n == 0:\n",
    "        ax.set_ylabel('HD')\n",
    "        ax.set_xlabel('time (s)')\n",
    "    elif n == RC_n-1:\n",
    "        ax.set_xlabel(r'$z_2$')\n",
    "        \n",
    "        \n",
    "labels = ['HD', 'AHV', 'speed', r'$x$', r'$y$', r'$z_1$', r'$z_2$']\n",
    "Tp_ = 5000\n",
    "n__ = 0\n",
    "for n in range(RC_n):\n",
    "    for n_ in range(n+1, RC_n):\n",
    "        ax = fig.add_subplot(spec[n_, n])\n",
    "        t = np.arange(-Tp_, Tp_+1)*tbin\n",
    "        ax.plot(t, ccg[n__][:])\n",
    "        n__ += 1\n",
    "        \n",
    "        if n == 0:\n",
    "            ax.set_ylabel(labels[n_])\n",
    "        if n_ == RC_n-1:\n",
    "            ax.set_xlabel(labels[n])\n",
    "        \n",
    "        \n",
    "plt.show()"
   ]
  },
  {
   "cell_type": "code",
   "execution_count": null,
   "metadata": {},
   "outputs": [],
   "source": []
  },
  {
   "cell_type": "markdown",
   "metadata": {},
   "source": [
    "<a id=\"synthetic\"></a>\n",
    "## Plot figure 4\n",
    "\n",
    "Some extra analysis below here"
   ]
  },
  {
   "cell_type": "code",
   "execution_count": null,
   "metadata": {},
   "outputs": [],
   "source": [
    "# mean drit in degrees/hr\n",
    "drift.mean()/np.pi*180*3600"
   ]
  },
  {
   "cell_type": "code",
   "execution_count": null,
   "metadata": {},
   "outputs": [],
   "source": [
    "# one-sample t-test for LVM scores of Universal versus Poisson delta cvLL\n",
    "order = [1, 2, 0]\n",
    "c_ = LVM_cv_ll.transpose(1, 0, 2).mean(-1)[order, :]\n",
    "rel_c = c_ - c_[0:1, :]\n",
    "score_err = rel_c.std(-1, ddof=1)/np.sqrt(rel_c.shape[-1])\n",
    "\n",
    "scipy.stats.ttest_1samp(rel_c[2, :], 0)"
   ]
  },
  {
   "cell_type": "code",
   "execution_count": null,
   "metadata": {},
   "outputs": [],
   "source": [
    "# selecting linear joint tuning cells, visualize residuals for all cells and chosen cutoff line\n",
    "plt.scatter(np.arange(33), res_var_drift)\n",
    "plt.plot(np.ones(33)*-0.999)\n",
    "plt.show()\n",
    "\n",
    "plt.scatter(np.arange(33), res_var)\n",
    "plt.plot(np.ones(33)*-0.999)\n",
    "plt.ylim(-1, -0.999)\n",
    "plt.show()"
   ]
  },
  {
   "cell_type": "code",
   "execution_count": null,
   "metadata": {},
   "outputs": [],
   "source": []
  }
 ],
 "metadata": {
  "kernelspec": {
   "display_name": "Python 3",
   "language": "python",
   "name": "python3"
  },
  "language_info": {
   "codemirror_mode": {
    "name": "ipython",
    "version": 3
   },
   "file_extension": ".py",
   "mimetype": "text/x-python",
   "name": "python",
   "nbconvert_exporter": "python",
   "pygments_lexer": "ipython3",
   "version": "3.6.9"
  }
 },
 "nbformat": 4,
 "nbformat_minor": 4
}
