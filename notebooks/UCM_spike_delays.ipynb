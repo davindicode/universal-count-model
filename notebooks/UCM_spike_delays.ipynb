{
 "cells": [
  {
   "cell_type": "markdown",
   "metadata": {},
   "source": [
    "# UCM spike train delays\n",
    "\n",
    "Here we perform model selection over different basis expansions in the UCM evaluated on real neural data.\n",
    "\n",
    "```\n",
    "python3 models.py --data_type th1 --checkpoint_dir ./checkpoint/ --data_path ../data/ --cv_folds 10 --cv -1 1 2 3 5 6 8 --seeds 123 1234 12345 --batch_size 10000 --max_epochs 3000 --bin_size 40 --likelihood U-el-3 --mapping svgp-8 --x_mode hd --delays -5 -4 -3 -2 -1 0 1 2 3 4 5 --lr 1e-2 --jitter 1e-5 --gpu 0\n",
    "\n",
    "python3 models.py --data_type th1 --checkpoint_dir ./checkpoint/ --data_path ../data/ --cv_folds 10 --cv -1 1 2 3 5 6 8 --seeds 123 1234 12345 --batch_size 10000 --max_epochs 3000 --bin_size 40 --likelihood U-el-3 --mapping svgp-64 --x_mode hd-omega-speed-x-y-time --delays -3 -2 -1 0 1 2 3 --lr 1e-2 --jitter 1e-5 --gpu 0\n",
    "```\n",
    "\n",
    "### Table of contents\n",
    "\n",
    "1. [**Synthetic population**](#synthetic)\n",
    "3. [**SNN**](#snn)\n",
    "4. [**RNN**](#rnn)"
   ]
  },
  {
   "cell_type": "code",
   "execution_count": 1,
   "metadata": {},
   "outputs": [
    {
     "name": "stdout",
     "output_type": "stream",
     "text": [
      "PyTorch version: 1.13.1+cu117\n",
      "Using device: cuda:0\n"
     ]
    }
   ],
   "source": [
    "import torch\n",
    "import torch.nn as nn\n",
    "from torch.nn.parameter import Parameter\n",
    "import torch.nn.functional as F\n",
    "import torch.optim as optim\n",
    "\n",
    "import matplotlib.pyplot as plt\n",
    "\n",
    "import scipy.special as sps\n",
    "import scipy.stats as scstats\n",
    "import numpy as np\n",
    "\n",
    "import sys\n",
    "sys.path.append(\"..\") # access to library\n",
    "sys.path.append(\"../scripts/\") # access to scripts\n",
    "    \n",
    "\n",
    "import neuroprob as nprb\n",
    "from neuroprob import utils\n",
    "\n",
    "\n",
    "device = nprb.inference.get_device(gpu=0)\n",
    "\n",
    "import models\n",
    "#import ucm_stats\n",
    "\n",
    "import pickle\n"
   ]
  },
  {
   "cell_type": "markdown",
   "metadata": {},
   "source": [
    "<a id='simple'></a>\n",
    "## 1. Loading data"
   ]
  },
  {
   "cell_type": "code",
   "execution_count": 3,
   "metadata": {},
   "outputs": [],
   "source": [
    "data_path = '../data/'\n",
    "data_type = 'th1'\n",
    "bin_size = 40\n",
    "\n",
    "dataset_dict = models.get_dataset(data_type, bin_size, data_path)"
   ]
  },
  {
   "cell_type": "markdown",
   "metadata": {},
   "source": [
    "<a id='simple'></a>\n",
    "## 2. Simple Poisson-histogram model"
   ]
  },
  {
   "cell_type": "code",
   "execution_count": null,
   "metadata": {},
   "outputs": [],
   "source": [
    "unit_used = [40, 24, 35, 81, 26, 42, 27, 41, 20, 29]\n",
    "units_used = len(unit_used)\n",
    "bins_hd = 60\n",
    "bin_hd = np.linspace(0, 2*np.pi+1e-3, bins_hd+1)\n",
    "\n",
    "shifts = 101\n",
    "offset = -50\n",
    "lag_time = np.arange(offset*10, (offset+shifts)*10, 10)\n",
    "\n",
    "NLL, CVs = neural_utils.temporal_shift(tbin, lag_time, (rhd_t,), (bin_hd,), \\\n",
    "                                       [r_t_spike[u] for u in unit_used], 'cpu')"
   ]
  },
  {
   "cell_type": "code",
   "execution_count": 25,
   "metadata": {
    "scrolled": true
   },
   "outputs": [
    {
     "data": {
      "image/png": "[encoded data removed]",
      "text/plain": [
       "<Figure size 432x288 with 1 Axes>"
      ]
     },
     "metadata": {
      "needs_background": "light"
     },
     "output_type": "display_data"
    },
    {
     "data": {
      "image/png": "[encoded data removed]",
      "text/plain": [
       "<Figure size 432x288 with 1 Axes>"
      ]
     },
     "metadata": {
      "needs_background": "light"
     },
     "output_type": "display_data"
    }
   ],
   "source": [
    "neuron = 9\n",
    "\n",
    "plt.figure()\n",
    "#for k in range(5):\n",
    "#    plt.plot(lag_time*tbin, -CVs[:, k, neuron], linestyle='', marker='.')\n",
    "plt.plot(lag_time*tbin, -CVs[:, :, neuron].mean(1), linestyle='', marker='.')\n",
    "plt.xlabel('Spiketrain shift (ms)')\n",
    "plt.ylabel('Cross-validated log likelihood')\n",
    "plt.show()\n",
    "\n",
    "plt.figure()\n",
    "plt.plot(lag_time*tbin, -NLL[:, neuron], linestyle='', marker='.')\n",
    "plt.xlabel('Spiketrain shift (ms)')\n",
    "plt.ylabel('Log likelihood')\n",
    "plt.show()"
   ]
  },
  {
   "cell_type": "code",
   "execution_count": null,
   "metadata": {},
   "outputs": [],
   "source": [
    "# binning of covariates and analysis\n",
    "bins_hd = 60\n",
    "bin_hd = np.linspace(0, 2 * np.pi + 1e-3, bins_hd + 1)\n",
    "(\n",
    "    hd_rate,\n",
    "    hd_occup_time,\n",
    "    hd_tot_spikes,\n",
    ") = utils.neural.occupancy_normalized_histogram(\n",
    "    tbin, 0.0, (rhd_t,), (bin_hd,), spiketimes=r_t_spike\n",
    ")\n",
    "hd_prob = hd_occup_time / hd_occup_time.sum()\n",
    "hd_MI = utils.neural.spike_var_MI(hd_rate, hd_prob)\n",
    "filter_win = 41\n",
    "centre_win = filter_win // 2\n",
    "sigma = 6\n",
    "sfilter = np.exp(-0.5 * (np.arange(filter_win) - centre_win) ** 2 / sigma**2)\n",
    "sfilter = sfilter / sfilter.sum()\n",
    "sm_tun = utils.neural.smooth_hist(hd_rate, sfilter, [\"periodic\"], dev=\"cpu\")\n",
    "coherence, sparsity = utils.neural.geometric_tuning(hd_rate, sm_tun, hd_prob)"
   ]
  },
  {
   "cell_type": "code",
   "execution_count": null,
   "metadata": {},
   "outputs": [],
   "source": []
  },
  {
   "cell_type": "markdown",
   "metadata": {},
   "source": [
    "<a id='loading'></a>\n",
    "## 3. Loading UCM models\n",
    "\n",
    "Here we specify the dataset used for training and the model architecture hyperparameters. This model is the UCM fit to observed covariates ```x_mode = 'hd-w-s-pos-t'```, meaning head direction (```hd```), angular head velocity (```w```), speed (```s```), animal $x$ and $y$ position (```pos```, two dimensions), and absolute time since the start of the recording session (```t```)."
   ]
  },
  {
   "cell_type": "code",
   "execution_count": 4,
   "metadata": {},
   "outputs": [],
   "source": [
    "checkpoint_dir = '../scripts/checkpoint/'\n",
    "config_name = 'th1_U-el-4_svgp-64_X[hd-omega-speed-x-y-time]_Z[]_40K11_0d0_10f-1'\n",
    "batch_info = 500\n",
    "\n",
    "\n",
    "full_model, training_loss, fit_dict, val_dict = models.load_model(\n",
    "    config_name,\n",
    "    checkpoint_dir,\n",
    "    dataset_dict,\n",
    "    batch_info,\n",
    "    device,\n",
    ")"
   ]
  },
  {
   "cell_type": "code",
   "execution_count": 5,
   "metadata": {},
   "outputs": [
    {
     "data": {
      "text/plain": [
       "[<matplotlib.lines.Line2D at 0x7f6dbdc7b610>]"
      ]
     },
     "execution_count": 5,
     "metadata": {},
     "output_type": "execute_result"
    },
    {
     "data": {
      "image/png": "[encoded data removed]",
      "text/plain": [
       "<Figure size 432x288 with 1 Axes>"
      ]
     },
     "metadata": {
      "needs_background": "light"
     },
     "output_type": "display_data"
    }
   ],
   "source": [
    "plt.plot(training_loss)"
   ]
  },
  {
   "cell_type": "markdown",
   "metadata": {},
   "source": [
    "### Cross-validation"
   ]
  },
  {
   "cell_type": "code",
   "execution_count": 7,
   "metadata": {},
   "outputs": [],
   "source": [
    "cvs = [1, 2, 3, 5, 6, 8]\n",
    "batch_info = 500\n",
    "\n",
    "config_names = [\n",
    "    'th1_U-el-1_svgp-64_X[hd-omega-speed-x-y-time]_Z[]_40K11_0d0_10f{}'.format(cv) \n",
    "    for cv in cvs\n",
    "] + [\n",
    "    'th1_U-el-2_svgp-64_X[hd-omega-speed-x-y-time]_Z[]_40K11_0d0_10f{}'.format(cv) \n",
    "    for cv in cvs\n",
    "] + [\n",
    "    'th1_U-el-3_svgp-64_X[hd-omega-speed-x-y-time]_Z[]_40K11_0d0_10f{}'.format(cv) \n",
    "    for cv in cvs\n",
    "] + [\n",
    "    'th1_U-el-4_svgp-64_X[hd-omega-speed-x-y-time]_Z[]_40K11_0d0_10f{}'.format(cv) \n",
    "    for cv in cvs\n",
    "] + [\n",
    "    'th1_U-eq-3_svgp-64_X[hd-omega-speed-x-y-time]_Z[]_40K11_0d0_10f{}'.format(cv) \n",
    "    for cv in cvs\n",
    "]\n",
    "\n",
    "\n",
    "Ell = []\n",
    "for name in config_names:\n",
    "    full_model, training_loss, fit_dict, val_dict = models.load_model(\n",
    "        name,\n",
    "        checkpoint_dir,\n",
    "        dataset_dict,\n",
    "        batch_info,\n",
    "        device,\n",
    "    )\n",
    "    \n",
    "    Ell.append(\n",
    "        models.RG_pred_ll(\n",
    "            full_model,\n",
    "            val_dict,\n",
    "            neuron_group=None,\n",
    "            ll_mode=\"GH\",\n",
    "            ll_samples=100,\n",
    "            cov_samples=1,\n",
    "            beta=0.0,\n",
    "        )\n",
    "    )\n",
    "    \n",
    "Ell = np.array(Ell).reshape(-1, len(cvs))"
   ]
  },
  {
   "cell_type": "code",
   "execution_count": 8,
   "metadata": {},
   "outputs": [
    {
     "data": {
      "text/plain": [
       "<ErrorbarContainer object of 3 artists>"
      ]
     },
     "execution_count": 8,
     "metadata": {},
     "output_type": "execute_result"
    },
    {
     "data": {
      "image/png": "[encoded data removed]",
      "text/plain": [
       "<Figure size 245x183.75 with 1 Axes>"
      ]
     },
     "metadata": {},
     "output_type": "display_data"
    }
   ],
   "source": [
    "plt.errorbar(np.arange(Ell.shape[0]), Ell.mean(-1), yerr=Ell.std(-1) / np.sqrt(len(cvs)), capsize=3)"
   ]
  },
  {
   "cell_type": "code",
   "execution_count": null,
   "metadata": {},
   "outputs": [],
   "source": []
  }
 ],
 "metadata": {
  "kernelspec": {
   "display_name": "python39",
   "language": "python",
   "name": "python39"
  },
  "language_info": {
   "codemirror_mode": {
    "name": "ipython",
    "version": 3
   },
   "file_extension": ".py",
   "mimetype": "text/x-python",
   "name": "python",
   "nbconvert_exporter": "python",
   "pygments_lexer": "ipython3",
   "version": "3.9.16"
  }
 },
 "nbformat": 4,
 "nbformat_minor": 4
}
