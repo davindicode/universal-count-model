{
 "cells": [
  {
   "cell_type": "markdown",
   "metadata": {},
   "source": [
    "# UCM spike count distribution marginalization\n",
    "\n",
    "Here we compare UCM models with larger number of input covariates that have been marginalized to smaller numbers of input covariates with UCM models of the smaller input spaces.\n",
    "\n",
    "```\n",
    "python3 models.py --data_type th1 --checkpoint_dir ./checkpoint/ --data_path ../data/ --cv_folds 10 --cv -1 1 2 3 5 6 8 --seeds 123 1234 12345 --batch_size 10000 --max_epochs 3000 --bin_size 40 --likelihood U-el-3 --mapping svgp-32 --x_mode hd --lr 1e-2 --jitter 1e-5 --gpu 0\n",
    "\n",
    "python3 models.py --data_type th1 --checkpoint_dir ./checkpoint/ --data_path ../data/ --cv_folds 10 --cv -1 1 2 3 5 6 8 --seeds 123 1234 12345 --batch_size 10000 --max_epochs 3000 --bin_size 40 --likelihood U-el-3 --mapping svgp-32 --x_mode x-y --lr 1e-2 --jitter 1e-5 --gpu 0\n",
    "\n",
    "python3 models.py --data_type th1 --checkpoint_dir ./checkpoint/ --data_path ../data/ --cv_folds 10 --cv -1 1 2 3 5 6 8 --seeds 123 1234 12345 --batch_size 10000 --max_epochs 3000 --bin_size 40 --likelihood U-el-3 --mapping svgp-32 --x_mode hd-x-y --lr 1e-2 --jitter 1e-5 --gpu 1\n",
    "```\n",
    "\n",
    "### Table of contents\n",
    "\n",
    "1. [**Loading UCM models**](#load)\n",
    "2. [**Marginalized UCM comparison**](#marg)"
   ]
  },
  {
   "cell_type": "code",
   "execution_count": 1,
   "metadata": {},
   "outputs": [
    {
     "name": "stdout",
     "output_type": "stream",
     "text": [
      "PyTorch version: 1.13.1+cu117\n",
      "Using device: cuda:0\n"
     ]
    }
   ],
   "source": [
    "import torch\n",
    "import torch.nn as nn\n",
    "from torch.nn.parameter import Parameter\n",
    "import torch.nn.functional as F\n",
    "import torch.optim as optim\n",
    "\n",
    "import matplotlib.pyplot as plt\n",
    "\n",
    "import scipy.special as sps\n",
    "import scipy.stats as scstats\n",
    "import numpy as np\n",
    "\n",
    "import sys\n",
    "sys.path.append(\"..\") # access to library\n",
    "sys.path.append(\"../scripts/\") # access to scripts\n",
    "    \n",
    "\n",
    "import neuroprob as nprb\n",
    "from neuroprob import utils\n",
    "\n",
    "\n",
    "device = nprb.inference.get_device(gpu=0)\n",
    "\n",
    "import models\n",
    "#import ucm_stats\n",
    "\n",
    "import pickle\n"
   ]
  },
  {
   "cell_type": "markdown",
   "metadata": {},
   "source": [
    "<a id='loading'></a>\n",
    "## 1. Loading UCM models\n",
    "\n",
    "Here we specify the dataset used for training and the model architecture hyperparameters. This model is the UCM fit to observed covariates ```x_mode = 'hd-w-s-pos-t'```, meaning head direction (```hd```), angular head velocity (```w```), speed (```s```), animal $x$ and $y$ position (```pos```, two dimensions), and absolute time since the start of the recording session (```t```)."
   ]
  },
  {
   "cell_type": "code",
   "execution_count": 2,
   "metadata": {},
   "outputs": [],
   "source": [
    "data_path = '../data/'\n",
    "data_type = 'th1'\n",
    "bin_size = 40\n",
    "\n",
    "dataset_dict = models.get_dataset(data_type, bin_size, data_path)"
   ]
  },
  {
   "cell_type": "code",
   "execution_count": 3,
   "metadata": {},
   "outputs": [],
   "source": [
    "checkpoint_dir = '../scripts/checkpoint/'\n",
    "batch_info = 500\n",
    "training_losses = []\n",
    "\n",
    "config_name = 'th1_U-el-3_svgp-32_X[hd-x-y]_Z[]_40K11_0d0_10f1'\n",
    "\n",
    "full_model, training_loss, fit_dict, _ = models.load_model(\n",
    "    config_name,\n",
    "    checkpoint_dir,\n",
    "    dataset_dict,\n",
    "    batch_info,\n",
    "    'cpu', \n",
    ")\n",
    "training_losses.append(training_loss)\n",
    "\n",
    "\n",
    "config_name = 'th1_U-el-3_svgp-32_X[hd]_Z[]_40K11_0d0_10f1'\n",
    "\n",
    "hd_model, training_loss, _, _ = models.load_model(\n",
    "    config_name,\n",
    "    checkpoint_dir,\n",
    "    dataset_dict,\n",
    "    batch_info,\n",
    "    'cpu', \n",
    ")\n",
    "training_losses.append(training_loss)\n",
    "\n",
    "\n",
    "# config_name = 'th1_U-el-3_svgp-32_X[x-y]_Z[]_40K11_0d0_10f1'\n",
    "\n",
    "# xy_model, training_loss, _, _ = models.load_model(\n",
    "#     config_name,\n",
    "#     checkpoint_dir,\n",
    "#     dataset_dict,\n",
    "#     batch_info,\n",
    "#     'cpu', \n",
    "# )\n",
    "# training_losses.append(training_loss)"
   ]
  },
  {
   "cell_type": "code",
   "execution_count": 5,
   "metadata": {},
   "outputs": [
    {
     "data": {
      "image/png": "[encoded data removed]",
      "text/plain": [
       "<Figure size 432x288 with 1 Axes>"
      ]
     },
     "metadata": {
      "needs_background": "light"
     },
     "output_type": "display_data"
    }
   ],
   "source": [
    "for training_loss in training_losses:\n",
    "    plt.plot(training_loss)\n",
    "    plt.yscale('log')\n",
    "    \n",
    "plt.show()"
   ]
  },
  {
   "cell_type": "code",
   "execution_count": null,
   "metadata": {},
   "outputs": [],
   "source": []
  },
  {
   "cell_type": "code",
   "execution_count": null,
   "metadata": {},
   "outputs": [],
   "source": []
  },
  {
   "cell_type": "markdown",
   "metadata": {},
   "source": [
    "<a id='marg'></a>\n",
    "## 2. Marginalized UCM comparison\n",
    "\n",
    "Here we specify the dataset used for training and the model architecture hyperparameters. This model is the UCM fit to observed covariates ```x_mode = 'hd-w-s-pos-t'```, meaning head direction (```hd```), angular head velocity (```w```), speed (```s```), animal $x$ and $y$ position (```pos```, two dimensions), and absolute time since the start of the recording session (```t```)."
   ]
  },
  {
   "cell_type": "code",
   "execution_count": null,
   "metadata": {},
   "outputs": [
    {
     "data": {
      "application/vnd.jupyter.widget-view+json": {
       "model_id": "2eea7ab1c18f41dbb286304d8d3c3b49",
       "version_major": 2,
       "version_minor": 0
      },
      "text/plain": [
       "  0%|          | 0/100 [00:00<?, ?it/s]"
      ]
     },
     "metadata": {},
     "output_type": "display_data"
    }
   ],
   "source": [
    "# compare to model fit only to hd\n",
    "skip = 1\n",
    "MC = 100\n",
    "pick_neurons = [0]\n",
    "batch_size = 1000\n",
    "eval_steps = 100\n",
    "\n",
    "full_model = full_model.to('cpu')  # move to GPU if possible\n",
    "\n",
    "P_tot = utils.model.marginalize_UCM_P_count(\n",
    "    full_model.mapping,\n",
    "    full_model.likelihood, \n",
    "    [torch.linspace(0, 2 * np.pi, eval_steps)],\n",
    "    [0],\n",
    "    fit_dict['covariates'],\n",
    "    batch_size,\n",
    "    pick_neurons,\n",
    "    MC=MC,\n",
    "    sample_skip=skip,\n",
    ")\n",
    "\n",
    "full_model = full_model.to('cpu')\n"
   ]
  },
  {
   "cell_type": "code",
   "execution_count": null,
   "metadata": {},
   "outputs": [],
   "source": [
    "# quantiles, Z scores\n",
    "P_ = []\n",
    "for b in range(gpr.input_group.batches):\n",
    "    covariates, _ = gpr.input_group.sample_XZ(b, samples=1)  # get the training batch b\n",
    "    with torch.no_grad():\n",
    "        P_mc = utils.model.compute_UCM_P_count(\n",
    "            gp, likelihood, covariates, list(range(neurons)), MC=30, trials=1)  # predictive posterior\n",
    "    P_.append(P_mc.mean(0).cpu().numpy())  # take mean over MC samples\n",
    "P = np.concatenate(P_, axis=1)  # count probabilities of shape (neurons, timesteps, count)\n",
    "\n",
    "\n",
    "q = []\n",
    "Z = []\n",
    "trial = 0\n",
    "for n in range(neurons):\n",
    "    spike_binned = gpr.likelihood.all_spikes[trial, n, :].numpy()\n",
    "    q_ = utils.stats.counts_to_quantiles(P[n, ...], spike_binned, rng)\n",
    "    q.append(q_)\n",
    "\n",
    "q = np.array(q)  # quantiles of shape (neurons, timesteps)"
   ]
  },
  {
   "cell_type": "code",
   "execution_count": 5,
   "metadata": {},
   "outputs": [
    {
     "ename": "ValueError",
     "evalue": "not enough values to unpack (expected 2, got 1)",
     "output_type": "error",
     "traceback": [
      "\u001b[0;31m---------------------------------------------------------------------------\u001b[0m",
      "\u001b[0;31mValueError\u001b[0m                                Traceback (most recent call last)",
      "Input \u001b[0;32mIn [5]\u001b[0m, in \u001b[0;36m<cell line: 4>\u001b[0;34m()\u001b[0m\n\u001b[1;32m      1\u001b[0m \u001b[38;5;66;03m# compare to model fit only to speed\u001b[39;00m\n\u001b[1;32m      2\u001b[0m a \u001b[38;5;241m=\u001b[39m {\u001b[38;5;124m'\u001b[39m\u001b[38;5;124mf\u001b[39m\u001b[38;5;124m'\u001b[39m: \u001b[38;5;241m1\u001b[39m, \u001b[38;5;124m'\u001b[39m\u001b[38;5;124md\u001b[39m\u001b[38;5;124m'\u001b[39m: \u001b[38;5;241m2\u001b[39m}\n\u001b[0;32m----> 4\u001b[0m \u001b[38;5;28;01mfor\u001b[39;00m b, v \u001b[38;5;129;01min\u001b[39;00m \u001b[38;5;28mzip\u001b[39m(a):\n\u001b[1;32m      5\u001b[0m     \u001b[38;5;28mprint\u001b[39m(b, v)\n",
      "\u001b[0;31mValueError\u001b[0m: not enough values to unpack (expected 2, got 1)"
     ]
    }
   ],
   "source": [
    "# compare to model fit only to speed\n",
    "a = {'f': 1, 'd': 2}\n",
    "\n",
    "for b, v in zip(a):\n",
    "    print(b, v)"
   ]
  },
  {
   "cell_type": "code",
   "execution_count": null,
   "metadata": {},
   "outputs": [],
   "source": [
    "# compare to model fit only to hd-omega"
   ]
  },
  {
   "cell_type": "code",
   "execution_count": null,
   "metadata": {},
   "outputs": [],
   "source": [
    "# compare to model fit only to position"
   ]
  }
 ],
 "metadata": {
  "kernelspec": {
   "display_name": "python39",
   "language": "python",
   "name": "python39"
  },
  "language_info": {
   "codemirror_mode": {
    "name": "ipython",
    "version": 3
   },
   "file_extension": ".py",
   "mimetype": "text/x-python",
   "name": "python",
   "nbconvert_exporter": "python",
   "pygments_lexer": "ipython3",
   "version": "3.9.16"
  }
 },
 "nbformat": 4,
 "nbformat_minor": 4
}
