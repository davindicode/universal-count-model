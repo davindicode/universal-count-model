{
 "cells": [
  {
   "cell_type": "markdown",
   "metadata": {},
   "source": [
    "# Head direction attractor network\n",
    "\n",
    "\n",
    "### Table of contents\n",
    "\n",
    "1. [**Synthetic population**](#synthetic)\n",
    "3. [**SNN**](#snn)\n",
    "4. [**RNN**](#rnn)\n",
    "\n",
    "This notebook contains code for:\n",
    "- running GPLVM on synthetic HDC activity with a latent variable on the ring\n",
    "- running GPLVM or Deep GPs on synthetic place field activity for decoding position\n",
    "- running conditional GPLVM on place field synthetic data"
   ]
  },
  {
   "cell_type": "code",
   "execution_count": 7,
   "metadata": {},
   "outputs": [
    {
     "name": "stdout",
     "output_type": "stream",
     "text": [
      "The autoreload extension is already loaded. To reload it, use:\n",
      "  %reload_ext autoreload\n",
      "PyTorch version: 1.13.0+cu117\n",
      "Using device: cuda:0\n"
     ]
    }
   ],
   "source": [
    "%load_ext autoreload\n",
    "%autoreload 2\n",
    "\n",
    "import torch\n",
    "import torch.nn as nn\n",
    "import torch.optim as optim\n",
    "\n",
    "import matplotlib.pyplot as plt\n",
    "\n",
    "import numpy as np\n",
    "\n",
    "import pickle\n",
    "\n",
    "\n",
    "\n",
    "import sys\n",
    "sys.path.append(\"../lib\")\n",
    "\n",
    "import neuroprob as nprb\n",
    "from neuroprob import utils\n",
    "\n",
    "\n",
    "\n",
    "dev = nprb.inference.get_device()\n",
    "\n",
    "plt.style.use(['../paper.mplstyle'])"
   ]
  },
  {
   "cell_type": "code",
   "execution_count": 12,
   "metadata": {},
   "outputs": [],
   "source": []
  },
  {
   "cell_type": "code",
   "execution_count": null,
   "metadata": {},
   "outputs": [],
   "source": []
  },
  {
   "cell_type": "markdown",
   "metadata": {},
   "source": [
    "<a id=\"synthetic\"></a>\n",
    "## Synthetic HDC population"
   ]
  },
  {
   "cell_type": "code",
   "execution_count": 16,
   "metadata": {},
   "outputs": [],
   "source": [
    "# Gaussian von Mises bump head direction model\n",
    "trials = 3\n",
    "\n",
    "track_samples = 20000\n",
    "hd_t = np.empty((trials, track_samples))\n",
    "\n",
    "hd_t[:, 0] = np.random.rand(trials)*2*np.pi\n",
    "rn = np.random.randn(trials, track_samples-1)\n",
    "for k in range(track_samples-1):\n",
    "    hd_t[:, k+1] = hd_t[:, k] + 0.05*rn[:, k]\n",
    "    \n",
    "hd_t = hd_t % (2*np.pi)"
   ]
  },
  {
   "cell_type": "code",
   "execution_count": 17,
   "metadata": {},
   "outputs": [],
   "source": [
    "neurons = 50\n",
    "p_c = np.random.randn(neurons)**2 + 1.0\n",
    "p_a = np.maximum(0.0, 30.0 + 0.1*np.random.randn(neurons))\n",
    "p_b = 0.2*np.random.randn(neurons)**2 + 0.3\n",
    "p_z = np.linspace(0, 2*np.pi, neurons+1)[:-1]\n",
    "\n",
    "rate = p_a[None, :, None]*np.exp((np.cos(hd_t[:, None, :] - p_z[None, :, None])-1)/p_b[None, :, None]) + p_c[None, :, None]"
   ]
  },
  {
   "cell_type": "code",
   "execution_count": 18,
   "metadata": {},
   "outputs": [],
   "source": [
    "# IPP spike trains\n",
    "sample_bin = 0.001\n",
    "res = torch.poisson(torch.tensor(rate*sample_bin)).numpy()\n",
    "\n",
    "res_ind = [] # spike times\n",
    "for tr in range(trials):\n",
    "    res_ind_ = []\n",
    "    for n in range(neurons):\n",
    "        res_ind_.append(utils.neural.binned_to_indices(res[tr, n, :]))\n",
    "    res_ind.append(res_ind_)\n",
    "\n",
    "# bin data\n",
    "bin_size = 20\n",
    "\n",
    "rc_t = []\n",
    "rhd_t = []\n",
    "for tr in range(trials):\n",
    "    tbin, resamples, rc_t_, (rhd_t_,) = utils.neural.bin_data(bin_size, sample_bin, res_ind[tr], \n",
    "                                                            track_samples, (hd_t[tr],), average_behav=False)\n",
    "    \n",
    "    rc_t.append(rc_t_)\n",
    "    rhd_t.append(rhd_t_)\n",
    "    \n",
    "rc_t = np.array(rc_t)\n",
    "rhd_t = np.array(rhd_t)"
   ]
  },
  {
   "cell_type": "code",
   "execution_count": 19,
   "metadata": {
    "scrolled": true
   },
   "outputs": [
    {
     "ename": "AttributeError",
     "evalue": "module 'neuroprob.utils' has no attribute 'plot'",
     "output_type": "error",
     "traceback": [
      "\u001b[0;31m---------------------------------------------------------------------------\u001b[0m",
      "\u001b[0;31mAttributeError\u001b[0m                            Traceback (most recent call last)",
      "Input \u001b[0;32mIn [19]\u001b[0m, in \u001b[0;36m<cell line: 4>\u001b[0;34m()\u001b[0m\n\u001b[1;32m      1\u001b[0m tr \u001b[38;5;241m=\u001b[39m \u001b[38;5;241m0\u001b[39m\n\u001b[1;32m      3\u001b[0m fig, ax \u001b[38;5;241m=\u001b[39m plt\u001b[38;5;241m.\u001b[39msubplots(figsize\u001b[38;5;241m=\u001b[39m(\u001b[38;5;241m4\u001b[39m,\u001b[38;5;241m4\u001b[39m))\n\u001b[0;32m----> 4\u001b[0m \u001b[43mutils\u001b[49m\u001b[38;5;241;43m.\u001b[39;49m\u001b[43mplot\u001b[49m\u001b[38;5;241m.\u001b[39mraster_plot((fig, ax), res[tr], track_samples, sample_bin\u001b[38;5;241m*\u001b[39m\u001b[38;5;241m1000\u001b[39m, neurons, markersize\u001b[38;5;241m=\u001b[39m\u001b[38;5;241m10\u001b[39m)\n\u001b[1;32m      5\u001b[0m utils\u001b[38;5;241m.\u001b[39mplot\u001b[38;5;241m.\u001b[39mdecorate_ax(ax, xlabel\u001b[38;5;241m=\u001b[39m\u001b[38;5;124m'\u001b[39m\u001b[38;5;124mtime (ms)\u001b[39m\u001b[38;5;124m'\u001b[39m, ylabel\u001b[38;5;241m=\u001b[39m\u001b[38;5;124m'\u001b[39m\u001b[38;5;124mneuron\u001b[39m\u001b[38;5;124m'\u001b[39m)\n\u001b[1;32m      7\u001b[0m plt\u001b[38;5;241m.\u001b[39mfigure()\n",
      "\u001b[0;31mAttributeError\u001b[0m: module 'neuroprob.utils' has no attribute 'plot'"
     ]
    },
    {
     "data": {
      "image/png": "[encoded data removed]",
      "text/plain": [
       "<Figure size 280x280 with 1 Axes>"
      ]
     },
     "metadata": {},
     "output_type": "display_data"
    }
   ],
   "source": [
    "tr = 0\n",
    "\n",
    "fig, ax = plt.subplots(figsize=(4,4))\n",
    "utils.plot.raster_plot((fig, ax), res[tr], track_samples, sample_bin*1000, neurons, markersize=10)\n",
    "utils.plot.decorate_ax(ax, xlabel='time (ms)', ylabel='neuron')\n",
    "\n",
    "plt.figure()\n",
    "plt.scatter(np.arange(track_samples), hd_t[tr], marker='.')\n",
    "plt.show()"
   ]
  },
  {
   "cell_type": "code",
   "execution_count": null,
   "metadata": {},
   "outputs": [],
   "source": []
  },
  {
   "cell_type": "code",
   "execution_count": null,
   "metadata": {},
   "outputs": [],
   "source": []
  },
  {
   "cell_type": "markdown",
   "metadata": {},
   "source": [
    "### $T^1$-GPLVM"
   ]
  },
  {
   "cell_type": "code",
   "execution_count": null,
   "metadata": {},
   "outputs": [],
   "source": []
  },
  {
   "cell_type": "code",
   "execution_count": 17,
   "metadata": {},
   "outputs": [],
   "source": [
    "out_dims = neurons\n",
    "    \n",
    "l = 5.*torch.ones(1, out_dims)\n",
    "v = torch.ones(out_dims)\n",
    "\n",
    "constraints = []\n",
    "krn_1 = nppl.kernels.kernel.Constant(variance=v, tensor_type=torch.float)\n",
    "krn_2 = nppl.kernels.kernel.SquaredExponential(\n",
    "    input_dims=len(l), lengthscale=l, \\\n",
    "    track_dims=[0], topology='torus', f='softplus', \\\n",
    "    tensor_type=torch.float\n",
    ")\n",
    "\n",
    "kernel = nppl.kernels.kernel.Product(krn_1, krn_2)\n",
    "\n",
    "p = nppl.inputs.priors.dAR1(torch.tensor(0.), torch.tensor(4.0), 'torus', 1)\n",
    "v = nppl.inputs.variational.IndNormal(torch.rand(resamples, 1)*2*np.pi, torch.ones((resamples, 1))*0.1, 'torus', 1)\n",
    "input_data = [nppl.inference.prior_variational_pair(1, p, v)]\n",
    "\n",
    "num_induc = 8\n",
    "Xu = torch.tensor(\n",
    "    [np.linspace(0, 2*np.pi, num_induc+1)[:-1]]\n",
    ").T[None, ...].repeat(out_dims, 1, 1)\n",
    "inducing_points = nppl.kernels.kernel.inducing_points(out_dims, Xu, constraints)"
   ]
  },
  {
   "cell_type": "code",
   "execution_count": 18,
   "metadata": {},
   "outputs": [],
   "source": [
    "# mapping\n",
    "in_dims = Xu.shape[-1]\n",
    "\n",
    "gp_lvm = nppl.mappings.GP.SVGP(\n",
    "    in_dims, neurons, kernel, inducing_points=inducing_points, \n",
    "    whiten=True, jitter=1e-4, mean=torch.zeros(neurons), learn_mean=True\n",
    ")"
   ]
  },
  {
   "cell_type": "code",
   "execution_count": 21,
   "metadata": {},
   "outputs": [
    {
     "data": {
      "text/plain": [
       "VI_optimized(\n",
       "  (input_group): input_group(\n",
       "    (input_0): prior_variational_pair(\n",
       "      (prior): dAR1(\n",
       "        (transition): transition_()\n",
       "      )\n",
       "      (variational): IndNormal()\n",
       "    )\n",
       "  )\n",
       "  (mapping): SVGP(\n",
       "    (kernel): Product(\n",
       "      (kern0): Constant()\n",
       "      (kern1): SquaredExponential()\n",
       "    )\n",
       "    (induc_pts): inducing_points()\n",
       "  )\n",
       "  (likelihood): Poisson()\n",
       ")"
      ]
     },
     "execution_count": 21,
     "metadata": {},
     "output_type": "execute_result"
    }
   ],
   "source": [
    "### inputs and likelihood ###\n",
    "input_group = nppl.inference.input_group()\n",
    "input_group.set_XZ(input_data, resamples, batch_info=500, trials=trials)\n",
    "\n",
    "\n",
    "#likelihood = mdl.likelihoods.Gaussian(neurons, 'exp', log_var=np.zeros(neurons))\n",
    "likelihood = nppl.likelihoods.discrete.Poisson(tbin, neurons, 'exp')\n",
    "#likelihood = mdl.likelihoods.ZI_Poisson(tbin, neurons, 'exp', 0.0*np.zeros(neurons))\n",
    "likelihood.set_Y(torch.from_numpy(rc_t), batch_info=500) \n",
    "\n",
    "\n",
    "glm = nppl.inference.VI_optimized(input_group, gp_lvm, likelihood)\n",
    "glm.to(dev)"
   ]
  },
  {
   "cell_type": "code",
   "execution_count": 22,
   "metadata": {},
   "outputs": [
    {
     "data": {
      "application/vnd.jupyter.widget-view+json": {
       "model_id": "d86b5c651b4342c1b3284c093033f0ae",
       "version_major": 2,
       "version_minor": 0
      },
      "text/plain": [
       "HBox(children=(FloatProgress(value=0.0, max=3000.0), HTML(value='')))"
      ]
     },
     "metadata": {},
     "output_type": "display_data"
    },
    {
     "ename": "RuntimeError",
     "evalue": "The size of tensor a (3) must match the size of tensor b (2) at non-singleton dimension 0",
     "output_type": "error",
     "traceback": [
      "\u001b[0;31m---------------------------------------------------------------------------\u001b[0m",
      "\u001b[0;31mRuntimeError\u001b[0m                              Traceback (most recent call last)",
      "\u001b[0;32m<ipython-input-22-31cdeef6ebe7>\u001b[0m in \u001b[0;36m<module>\u001b[0;34m\u001b[0m\n\u001b[1;32m     11\u001b[0m \u001b[0mannealing\u001b[0m \u001b[0;34m=\u001b[0m \u001b[0;32mlambda\u001b[0m \u001b[0mx\u001b[0m\u001b[0;34m:\u001b[0m \u001b[0;36m1.0\u001b[0m\u001b[0;31m#min(1.0, 0.005*x)\u001b[0m\u001b[0;34m\u001b[0m\u001b[0;34m\u001b[0m\u001b[0m\n\u001b[1;32m     12\u001b[0m losses = glm.fit(3000, loss_margin=0.0, margin_epochs=100, kl_anneal_func=annealing, \n\u001b[0;32m---> 13\u001b[0;31m                  cov_samples=2, ll_samples=2, ll_mode='MC')\n\u001b[0m\u001b[1;32m     14\u001b[0m \u001b[0;34m\u001b[0m\u001b[0m\n\u001b[1;32m     15\u001b[0m \u001b[0mplt\u001b[0m\u001b[0;34m.\u001b[0m\u001b[0mfigure\u001b[0m\u001b[0;34m(\u001b[0m\u001b[0;34m)\u001b[0m\u001b[0;34m\u001b[0m\u001b[0;34m\u001b[0m\u001b[0m\n",
      "\u001b[0;32m~/Documents/Learning/neuroppl/neuroppl/inference.py\u001b[0m in \u001b[0;36mfit\u001b[0;34m(self, max_epochs, margin_epochs, loss_margin, neuron, kl_anneal_func, retain_graph, cov_samples, ll_samples, importance_weighted, ll_mode, lv_input, callback)\u001b[0m\n\u001b[1;32m    792\u001b[0m                         \u001b[0mloss\u001b[0m \u001b[0;34m=\u001b[0m \u001b[0mclosure\u001b[0m\u001b[0;34m(\u001b[0m\u001b[0;34m)\u001b[0m\u001b[0;34m\u001b[0m\u001b[0;34m\u001b[0m\u001b[0m\n\u001b[1;32m    793\u001b[0m                 \u001b[0;32melse\u001b[0m\u001b[0;34m:\u001b[0m\u001b[0;34m\u001b[0m\u001b[0;34m\u001b[0m\u001b[0m\n\u001b[0;32m--> 794\u001b[0;31m                     \u001b[0mloss\u001b[0m \u001b[0;34m=\u001b[0m \u001b[0mclosure\u001b[0m\u001b[0;34m(\u001b[0m\u001b[0;34m)\u001b[0m\u001b[0;34m\u001b[0m\u001b[0;34m\u001b[0m\u001b[0m\n\u001b[0m\u001b[1;32m    795\u001b[0m                     \u001b[0moptimizer\u001b[0m\u001b[0;34m[\u001b[0m\u001b[0;36m0\u001b[0m\u001b[0;34m]\u001b[0m\u001b[0;34m.\u001b[0m\u001b[0mstep\u001b[0m\u001b[0;34m(\u001b[0m\u001b[0;34m)\u001b[0m\u001b[0;34m\u001b[0m\u001b[0;34m\u001b[0m\u001b[0m\n\u001b[1;32m    796\u001b[0m \u001b[0;34m\u001b[0m\u001b[0m\n",
      "\u001b[0;32m~/Documents/Learning/neuroppl/neuroppl/inference.py\u001b[0m in \u001b[0;36mclosure\u001b[0;34m()\u001b[0m\n\u001b[1;32m    770\u001b[0m                                           \u001b[0mimportance_weighted\u001b[0m\u001b[0;34m=\u001b[0m\u001b[0mimportance_weighted\u001b[0m\u001b[0;34m,\u001b[0m\u001b[0;34m\u001b[0m\u001b[0;34m\u001b[0m\u001b[0m\n\u001b[1;32m    771\u001b[0m                                           \u001b[0mcov_samples\u001b[0m\u001b[0;34m=\u001b[0m\u001b[0mcov_samples\u001b[0m\u001b[0;34m,\u001b[0m \u001b[0mll_samples\u001b[0m\u001b[0;34m=\u001b[0m\u001b[0mll_samples\u001b[0m\u001b[0;34m,\u001b[0m\u001b[0;34m\u001b[0m\u001b[0;34m\u001b[0m\u001b[0m\n\u001b[0;32m--> 772\u001b[0;31m                                           ll_mode=ll_mode, lv_input=lv_input)\n\u001b[0m\u001b[1;32m    773\u001b[0m \u001b[0;34m\u001b[0m\u001b[0m\n\u001b[1;32m    774\u001b[0m                     \u001b[0;32mif\u001b[0m \u001b[0mloss\u001b[0m\u001b[0;34m.\u001b[0m\u001b[0mrequires_grad\u001b[0m\u001b[0;34m:\u001b[0m\u001b[0;34m\u001b[0m\u001b[0;34m\u001b[0m\u001b[0m\n",
      "\u001b[0;32m~/Documents/Learning/neuroppl/neuroppl/inference.py\u001b[0m in \u001b[0;36mobjective\u001b[0;34m(self, b, neuron, beta, cov_samples, ll_samples, importance_weighted, ll_mode, lv_input)\u001b[0m\n\u001b[1;32m    574\u001b[0m         \u001b[0mKL_prior_l\u001b[0m \u001b[0;34m=\u001b[0m \u001b[0mself\u001b[0m\u001b[0;34m.\u001b[0m\u001b[0mlikelihood\u001b[0m\u001b[0;34m.\u001b[0m\u001b[0mKL_prior\u001b[0m\u001b[0;34m(\u001b[0m\u001b[0mimportance_weighted\u001b[0m\u001b[0;34m)\u001b[0m\u001b[0;34m\u001b[0m\u001b[0;34m\u001b[0m\u001b[0m\n\u001b[1;32m    575\u001b[0m \u001b[0;34m\u001b[0m\u001b[0m\n\u001b[0;32m--> 576\u001b[0;31m         \u001b[0m_nll\u001b[0m\u001b[0;34m,\u001b[0m \u001b[0mws\u001b[0m \u001b[0;34m=\u001b[0m \u001b[0mself\u001b[0m\u001b[0;34m.\u001b[0m\u001b[0m_nll\u001b[0m\u001b[0;34m(\u001b[0m\u001b[0mF\u001b[0m\u001b[0;34m,\u001b[0m \u001b[0mF_var\u001b[0m\u001b[0;34m,\u001b[0m \u001b[0mll_samples\u001b[0m\u001b[0;34m,\u001b[0m \u001b[0mll_mode\u001b[0m\u001b[0;34m,\u001b[0m \u001b[0mb\u001b[0m\u001b[0;34m,\u001b[0m \u001b[0mneuron\u001b[0m\u001b[0;34m,\u001b[0m \u001b[0mXZ\u001b[0m\u001b[0;34m,\u001b[0m \u001b[0msum_time\u001b[0m\u001b[0;34m=\u001b[0m\u001b[0;32mTrue\u001b[0m\u001b[0;34m)\u001b[0m\u001b[0;34m\u001b[0m\u001b[0;34m\u001b[0m\u001b[0m\n\u001b[0m\u001b[1;32m    577\u001b[0m \u001b[0;34m\u001b[0m\u001b[0m\n\u001b[1;32m    578\u001b[0m         \u001b[0;31m### bounds ###\u001b[0m\u001b[0;34m\u001b[0m\u001b[0;34m\u001b[0m\u001b[0;34m\u001b[0m\u001b[0m\n",
      "\u001b[0;32m~/Documents/Learning/neuroppl/neuroppl/inference.py\u001b[0m in \u001b[0;36m_nll\u001b[0;34m(self, mean, variance, ll_samples, ll_mode, b, neuron, XZ, sum_time)\u001b[0m\n\u001b[1;32m    502\u001b[0m     \u001b[0;32mdef\u001b[0m \u001b[0m_nll\u001b[0m\u001b[0;34m(\u001b[0m\u001b[0mself\u001b[0m\u001b[0;34m,\u001b[0m \u001b[0mmean\u001b[0m\u001b[0;34m,\u001b[0m \u001b[0mvariance\u001b[0m\u001b[0;34m,\u001b[0m \u001b[0mll_samples\u001b[0m\u001b[0;34m,\u001b[0m \u001b[0mll_mode\u001b[0m\u001b[0;34m,\u001b[0m \u001b[0mb\u001b[0m\u001b[0;34m,\u001b[0m \u001b[0mneuron\u001b[0m\u001b[0;34m,\u001b[0m \u001b[0mXZ\u001b[0m\u001b[0;34m,\u001b[0m \u001b[0msum_time\u001b[0m\u001b[0;34m=\u001b[0m\u001b[0;32mFalse\u001b[0m\u001b[0;34m)\u001b[0m\u001b[0;34m:\u001b[0m\u001b[0;34m\u001b[0m\u001b[0;34m\u001b[0m\u001b[0m\n\u001b[1;32m    503\u001b[0m         _nll, ws = self.likelihood.objective(mean, variance, XZ, b, neuron, \n\u001b[0;32m--> 504\u001b[0;31m                                              samples=ll_samples, mode=ll_mode) # (sample, time)\n\u001b[0m\u001b[1;32m    505\u001b[0m         \u001b[0m_nll\u001b[0m \u001b[0;34m=\u001b[0m \u001b[0m_nll\u001b[0m\u001b[0;34m.\u001b[0m\u001b[0mview\u001b[0m\u001b[0;34m(\u001b[0m\u001b[0;34m-\u001b[0m\u001b[0;36m1\u001b[0m\u001b[0;34m,\u001b[0m \u001b[0mself\u001b[0m\u001b[0;34m.\u001b[0m\u001b[0minput_group\u001b[0m\u001b[0;34m.\u001b[0m\u001b[0mtrials\u001b[0m\u001b[0;34m,\u001b[0m \u001b[0m_nll\u001b[0m\u001b[0;34m.\u001b[0m\u001b[0mshape\u001b[0m\u001b[0;34m[\u001b[0m\u001b[0;34m-\u001b[0m\u001b[0;36m1\u001b[0m\u001b[0;34m]\u001b[0m\u001b[0;34m)\u001b[0m \u001b[0;31m# (MC/GH sample, trials, time)\u001b[0m\u001b[0;34m\u001b[0m\u001b[0;34m\u001b[0m\u001b[0m\n\u001b[1;32m    506\u001b[0m         \u001b[0;32mif\u001b[0m \u001b[0msum_time\u001b[0m\u001b[0;34m:\u001b[0m \u001b[0;31m# need separate NLL values at time steps for enumeration (e.g. HMM)\u001b[0m\u001b[0;34m\u001b[0m\u001b[0;34m\u001b[0m\u001b[0m\n",
      "\u001b[0;32m~/Documents/Learning/neuroppl/neuroppl/likelihoods/discrete.py\u001b[0m in \u001b[0;36mobjective\u001b[0;34m(self, F_mu, F_var, XZ, b, neuron, samples, mode)\u001b[0m\n\u001b[1;32m    374\u001b[0m             \u001b[0mbatch_edge\u001b[0m \u001b[0;34m=\u001b[0m \u001b[0mself\u001b[0m\u001b[0;34m.\u001b[0m\u001b[0mbatch_info\u001b[0m\u001b[0;34m[\u001b[0m\u001b[0;36m0\u001b[0m\u001b[0;34m]\u001b[0m\u001b[0;34m\u001b[0m\u001b[0;34m\u001b[0m\u001b[0m\n\u001b[1;32m    375\u001b[0m             \u001b[0mspikes\u001b[0m \u001b[0;34m=\u001b[0m \u001b[0mself\u001b[0m\u001b[0;34m.\u001b[0m\u001b[0mall_spikes\u001b[0m\u001b[0;34m[\u001b[0m\u001b[0;34m:\u001b[0m\u001b[0;34m,\u001b[0m \u001b[0mneuron\u001b[0m\u001b[0;34m,\u001b[0m \u001b[0mbatch_edge\u001b[0m\u001b[0;34m[\u001b[0m\u001b[0mb\u001b[0m\u001b[0;34m]\u001b[0m\u001b[0;34m:\u001b[0m\u001b[0mbatch_edge\u001b[0m\u001b[0;34m[\u001b[0m\u001b[0mb\u001b[0m\u001b[0;34m+\u001b[0m\u001b[0;36m1\u001b[0m\u001b[0;34m]\u001b[0m\u001b[0;34m]\u001b[0m\u001b[0;34m.\u001b[0m\u001b[0mto\u001b[0m\u001b[0;34m(\u001b[0m\u001b[0mself\u001b[0m\u001b[0;34m.\u001b[0m\u001b[0mtbin\u001b[0m\u001b[0;34m.\u001b[0m\u001b[0mdevice\u001b[0m\u001b[0;34m)\u001b[0m\u001b[0;34m\u001b[0m\u001b[0;34m\u001b[0m\u001b[0m\n\u001b[0;32m--> 376\u001b[0;31m             \u001b[0mn_l_rates\u001b[0m \u001b[0;34m=\u001b[0m \u001b[0;34m(\u001b[0m\u001b[0mspikes\u001b[0m\u001b[0;34m*\u001b[0m\u001b[0mF_mu\u001b[0m\u001b[0;34m[\u001b[0m\u001b[0;34m:\u001b[0m\u001b[0;34m,\u001b[0m \u001b[0mneuron\u001b[0m\u001b[0;34m,\u001b[0m \u001b[0;34m:\u001b[0m\u001b[0;34m]\u001b[0m\u001b[0;34m)\u001b[0m\u001b[0;34m\u001b[0m\u001b[0;34m\u001b[0m\u001b[0m\n\u001b[0m\u001b[1;32m    377\u001b[0m \u001b[0;34m\u001b[0m\u001b[0m\n\u001b[1;32m    378\u001b[0m             \u001b[0mtfact\u001b[0m\u001b[0;34m,\u001b[0m \u001b[0mlfact\u001b[0m \u001b[0;34m=\u001b[0m \u001b[0mself\u001b[0m\u001b[0;34m.\u001b[0m\u001b[0mget_saved_factors\u001b[0m\u001b[0;34m(\u001b[0m\u001b[0mb\u001b[0m\u001b[0;34m,\u001b[0m \u001b[0mneuron\u001b[0m\u001b[0;34m,\u001b[0m \u001b[0mspikes\u001b[0m\u001b[0;34m)\u001b[0m\u001b[0;34m\u001b[0m\u001b[0;34m\u001b[0m\u001b[0m\n",
      "\u001b[0;31mRuntimeError\u001b[0m: The size of tensor a (3) must match the size of tensor b (2) at non-singleton dimension 0"
     ]
    }
   ],
   "source": [
    "# fitting\n",
    "sch = lambda o: optim.lr_scheduler.MultiplicativeLR(o, lambda e: 0.9)\n",
    "opt_tuple = (optim.Adam, 100, sch)\n",
    "opt_lr_dict = {'default': 5*1e-3, \n",
    "               'input_group.input_0.variational.finv_std': 5*1e-3}\n",
    "\n",
    "glm.set_optimizers(opt_tuple, opt_lr_dict)#, \n",
    "                   #newton_grad=('rate_model.0.u_loc',), newton_lr=1e-1)\n",
    "                   #nat_grad=('rate_model.0.u_loc', 'rate_model.0.u_scale_tril'), nat_lr=1e-1)\n",
    "\n",
    "annealing = lambda x: 1.0#min(1.0, 0.005*x)\n",
    "losses = glm.fit(3000, loss_margin=0.0, margin_epochs=100, kl_anneal_func=annealing, \n",
    "                 cov_samples=2, ll_samples=2, ll_mode='MC')\n",
    "\n",
    "plt.figure()\n",
    "plt.plot(losses)\n",
    "plt.xlabel('epoch')\n",
    "plt.ylabel('NLL per time sample')\n",
    "plt.show()"
   ]
  },
  {
   "cell_type": "code",
   "execution_count": null,
   "metadata": {},
   "outputs": [],
   "source": [
    "X_loc, X_str = glm.input_group.input_0.variational.eval_moments(0, resamples, None)\n",
    "X_loc = X_loc.data.cpu().numpy()\n",
    "X_str = X_str.data.cpu().numpy()\n",
    "\n",
    "plt.scatter(np.arange(resamples), X_loc[:] % (2*np.pi))"
   ]
  },
  {
   "cell_type": "code",
   "execution_count": null,
   "metadata": {},
   "outputs": [],
   "source": [
    "model_name = 'GPLVM_T1R1'\n",
    "checkpoint = torch.load('./checkpoint/' + model_name)\n",
    "glm.load_state_dict(checkpoint['glm'])\n",
    "\n",
    "X_loc, X_std = gp_lvm.eval_X(net_input=glm.likelihood.spikes[0])\n",
    "TRlat_t, shift, sign, _ = tools.shift_circ_traj(X_loc[0], rhd_t, dev)\n",
    "TRlat_t2, shift, sign, TRscale, _ = tools.shift_traj(X_loc[1], rhd_t, dev)\n",
    "TRlat_std = X_std[0]\n",
    "TRlat_std2 = X_std[1]\n",
    "\n",
    "TRlen_2 = glm.rate_model[0].kernel.kern1.lengthscale.flatten().data.cpu().numpy()\n",
    "TRlen_1 = glm.rate_model[0].kernel.kern0.kern1.lengthscale.flatten().data.cpu().numpy()"
   ]
  },
  {
   "cell_type": "code",
   "execution_count": null,
   "metadata": {},
   "outputs": [],
   "source": [
    "def posterior_rate(mapping, likelihood, covariates, MC, F_dims, trials=1, percentiles=[0.05, .5, 0.95]):\n",
    "    \"\"\"\n",
    "    Sample F from diagonalized variational posterior.\n",
    "    \n",
    "    :returns: F of shape (MCxtrials, outdims, time)\n",
    "    \"\"\"\n",
    "    cov = mapping.to_XZ(covariates, trials)\n",
    "    with torch.no_grad():\n",
    "        if mapping.MC_only:\n",
    "            F = mapping.sample_F(cov)[:, F_dims, :] # TODO: cov_samples vs ll_samples?\n",
    "            samples = likelihood.f(F.view(-1, trials, *samples.shape[1:]))\n",
    "        else:\n",
    "            F_mu, F_var = mapping.compute_F(cov)\n",
    "            samples = likelihood.sample_rate(\n",
    "                F_mu[:, F_dims, :], F_var[:, F_dims, :], trials, MC)\n",
    "    \n",
    "    return utils.signal.percentiles_from_samples(samples, percentiles)"
   ]
  },
  {
   "cell_type": "code",
   "execution_count": null,
   "metadata": {},
   "outputs": [],
   "source": [
    "\n",
    "\n",
    "steps= 100\n",
    "show_neurons = [0, 1, 20]\n",
    "covariates = np.linspace(0, 2*np.pi, steps)[None, :]\n",
    "\n",
    "hd__ = (covariates-shift)/sign\n",
    "r_true = p_a[:, None]*np.exp((np.cos(covariates[0:1, :] - p_z[:, None])-1)/p_b[:, None]) + p_c[:, None]\n",
    "\n",
    "lower, mean, upper = gp_lvm.eval_rate(hd__, show_neurons, 'posterior', n_samp=10)\n",
    "for k, neuron in enumerate(show_neurons):\n",
    "\n",
    "    fig, ax = plt.subplots()\n",
    "    ax.plot(covariates[0], r_true[neuron], 'r--')\n",
    "    line, = ax.plot(covariates[0], mean[0, k])\n",
    "    ax.fill_between(\n",
    "        covariates[0], lower[0, k],\n",
    "        upper[0, k], color=line.get_color(), alpha=0.5\n",
    "    )\n",
    "    ax.set_xlabel('head direction')\n",
    "    ax.set_ylabel('firing rate (Hz)')\n",
    "\n",
    "plt.show()\n",
    "\n",
    "# draw tuning curves\n",
    "samp = 10\n",
    "#gp_lvm.set_params(jitter=1e-5)\n",
    "gp_lvm.jitter = 1e-5\n",
    "tuning = gp_lvm.eval_tuning(covariates, show_neurons, samp)\n",
    "\n",
    "for k_n in range(len(show_neurons)):\n",
    "    for n in range(samp):\n",
    "        plt.plot(tuning[n, k_n, :])\n",
    "\n",
    "    plt.show()"
   ]
  },
  {
   "cell_type": "code",
   "execution_count": null,
   "metadata": {},
   "outputs": [],
   "source": [
    "# circular posterior\n",
    "utils.plot.plot_circ_posterior(\n",
    "    ax, times, wrap_y, y_std, col='k', linewidth=1., step=1, alpha=0.5, line_alpha=1., \n",
    "    l=None, l_std=None\n",
    ")\n",
    "    \n",
    "    \n",
    "    \n",
    "T = 1000\n",
    "\n",
    "fig, ax = plt.subplots(figsize=(4,3))\n",
    "ax.set_xlim([0, tbin*T])\n",
    "ax.set_ylim([0, 2*np.pi])\n",
    "ax.set_yticks([0, 2*np.pi])\n",
    "ax.set_yticklabels([r'$0$', r'$2\\pi$'])\n",
    "ax.set_xlabel('time (s)')\n",
    "ax.set_ylabel('head direction')\n",
    "\n",
    "\n",
    "ax.errorbar(tbin*np.arange(T), wrap_lat_t[:T], yerr=lat_std[:T], linestyle='', \n",
    "            elinewidth=1, color='tab:blue', alpha=0.5 ,label='var. dist.')\n",
    "\n",
    "X__ = wrap_lat_t[:T]+lat_std[:T]\n",
    "a = np.where(X__ > 2*np.pi)[0]\n",
    "ax.errorbar(tbin*np.arange(T)[a], wrap_lat_t[a]-2*np.pi, yerr=lat_std[a], linestyle='', \n",
    "            elinewidth=1, color='tab:blue', alpha=0.5)\n",
    "\n",
    "X__ = wrap_lat_t[:T]-lat_std[:T]\n",
    "a = np.where(X__ < 0)[0]\n",
    "ax.errorbar(tbin*np.arange(T)[a], wrap_lat_t[a]+2*np.pi, yerr=lat_std[a], linestyle='', \n",
    "            elinewidth=1, color='tab:blue', alpha=0.5)\n",
    "\n",
    "ax.scatter(tbin*np.arange(T), rhd_t[:T], marker='.', color='r', zorder=2, label='true latents')\n",
    "\n",
    "ax.legend()\n",
    "plt.show()\n"
   ]
  },
  {
   "cell_type": "code",
   "execution_count": null,
   "metadata": {},
   "outputs": [],
   "source": []
  },
  {
   "cell_type": "markdown",
   "metadata": {},
   "source": [
    "### $T^1 \\times R^1$-GPLVM"
   ]
  },
  {
   "cell_type": "code",
   "execution_count": 8,
   "metadata": {},
   "outputs": [],
   "source": []
  },
  {
   "cell_type": "code",
   "execution_count": 18,
   "metadata": {},
   "outputs": [],
   "source": [
    "\n",
    "l = 5.*torch.ones((1, neurons))\n",
    "l_ = 1.*torch.ones((1, neurons))\n",
    "v = torch.ones(neurons)\n",
    "kernels_tuples = [('variance', v), ('SE', 'torus', l), ('SE', 'euclid', l_)]\n",
    "VI_tuples = [(['RW', (0.0, 4.0, True, True)], 'Normal', 'torus', 1), \n",
    "             (['RW', (0.3, 1.0, True, False)], 'Normal', 'euclid', 1)]\n",
    "\n",
    "num_induc = 8\n",
    "inducing_points = np.array([np.linspace(0, 2*np.pi, num_induc+1)[:-1], \n",
    "                            np.linspace(-1, 1, num_induc)]).T[None, ...].repeat(neurons, axis=0)\n",
    "\n",
    "ini_X = [\n",
    "    [np.random.rand(resamples, 1)*2*np.pi, np.ones((resamples, 1))*0.1], \n",
    "    [np.random.randn(resamples, 1)*0.1, np.ones((resamples, 1))*0.01]\n",
    "]\n",
    "\n",
    "\n",
    "\n"
   ]
  },
  {
   "cell_type": "code",
   "execution_count": null,
   "metadata": {},
   "outputs": [],
   "source": [
    "ard = False\n",
    "if ard:\n",
    "    fig, ax = plt.subplots(figsize=(4,4))\n",
    "    im = utils.plot.visualize_field((fig, ax), place_field[0], grid_shape, ticktitle='', cbar=False)\n"
   ]
  },
  {
   "cell_type": "code",
   "execution_count": null,
   "metadata": {},
   "outputs": [],
   "source": []
  },
  {
   "cell_type": "code",
   "execution_count": 81,
   "metadata": {},
   "outputs": [],
   "source": [
    "# CP-SVGP\n",
    "if mode == 'T1xT1': # GPLVM model ARD\n",
    "    pass\n",
    "    \n",
    "elif mode == 'T1xR1': # GPLVM model ARD\n",
    "    pass\n",
    "    \n",
    "else: # GPLVM model\n",
    "    l = 1.*np.array([np.ones(neurons)])\n",
    "    v = np.ones(neurons)\n",
    "    #kernels_tuples = [('variance', v), ('SE', 'torus', l)]\n",
    "    K_list = [kernel.Product(\n",
    "        kernel.Constant(variance=torch.tensor(v, dtype=torch.float)), \n",
    "        kernel.SE(input_dims=len(l), \\\n",
    "                       lengthscale=torch.tensor(l, dtype=torch.float), \\\n",
    "                       topology='torus'))\n",
    "    ]\n",
    "    in_dims = 1\n",
    "    track_dims_list = [[0]]\n",
    "    kernel_TT = kernel.KTT_kernel(K_list, track_dims_list)\n",
    "    \n",
    "    #GP_tuple = (gp_base_input, gp_base) (0.0, 1.0, False, False, *GP_tuple) RW_mapping\n",
    "    VI_tuples = [(['RW', (0.0, 4.0, True, True)], 'Normal', 'torus', 1)]\n",
    "\n",
    "    ini_X = [\n",
    "        [np.random.rand(resamples, 1)*2*np.pi, np.ones((resamples, 1))*0.1]\n",
    "    ]\n",
    "    \n",
    "    # inducing grid\n",
    "    N_U = 100\n",
    "    inducing_loc_list = [np.linspace(0, 2*np.pi, N_U+1)[None, None, :-1, None]]\n",
    "    \n",
    "    r_shape = (1,)\n",
    "    nu_list = []\n",
    "    Psi_list = []\n",
    "    for u in inducing_loc_list:\n",
    "        nu_list.append(np.zeros((neurons, *r_shape, u.shape[-2])))\n",
    "        Psi_list.append(np.ones((neurons, u.shape[-2]))*1e-3)\n",
    "    \n",
    "    #S_list = [np.ones((neurons, u.shape[-2], u.shape[-2]))]\n",
    "    #S_type = GP.linalg.general_matrix\n",
    "    k_V = 3\n",
    "    S_list = [np.zeros((neurons, u.shape[-2]-1))]*k_V\n",
    "    S_type = GP.linalg.trilI_Toeplitz_matrix\n",
    "    \n",
    "    \n",
    "# mapping\n",
    "gp_lvm = mdl.nonparametrics.KCP_SVGP(\n",
    "    in_dims, neurons, kernel_TT, inducing_loc_list, nu_list, Psi_list, S_list, S_type, \n",
    "    cheb_n=100, cheb_mc=1, GR_K=1, tr_mc=10, logdet_cheb=[True]*len(inducing_loc_list), jitter=1e-4, \n",
    "    nu_rshape_len=1, inv_link='exp', mean=np.zeros(neurons), learn_mean=True\n",
    ")"
   ]
  },
  {
   "cell_type": "code",
   "execution_count": 21,
   "metadata": {},
   "outputs": [
    {
     "data": {
      "text/plain": [
       "VI_optimized(\n",
       "  (input_group): input_group(\n",
       "    (input_0): prior_variational_pair(\n",
       "      (prior): dAR1(\n",
       "        (transition): transition_()\n",
       "      )\n",
       "      (variational): IndNormal()\n",
       "    )\n",
       "  )\n",
       "  (mapping): SVGP(\n",
       "    (kernel): Product(\n",
       "      (kern0): Constant()\n",
       "      (kern1): SquaredExponential()\n",
       "    )\n",
       "    (induc_pts): inducing_points()\n",
       "  )\n",
       "  (likelihood): Poisson()\n",
       ")"
      ]
     },
     "execution_count": 21,
     "metadata": {},
     "output_type": "execute_result"
    }
   ],
   "source": [
    "### inputs and likelihood ###\n",
    "input_group = nppl.inference.input_group()\n",
    "input_group.set_XZ(input_data, resamples, batch_info=500)\n",
    "\n",
    "\n",
    "#likelihood = mdl.likelihoods.Gaussian(neurons, 'exp', log_var=np.zeros(neurons))\n",
    "likelihood = nppl.likelihoods.discrete.Poisson(tbin, neurons, 'exp')\n",
    "#likelihood = mdl.likelihoods.ZI_Poisson(tbin, neurons, 'exp', 0.0*np.zeros(neurons))\n",
    "likelihood.set_Y(torch.from_numpy(rc_t), batch_info=500) \n",
    "\n",
    "\n",
    "glm = nppl.inference.VI_optimized(input_group, gp_lvm, likelihood)\n",
    "glm.to(dev)"
   ]
  },
  {
   "cell_type": "code",
   "execution_count": 25,
   "metadata": {
    "scrolled": true
   },
   "outputs": [
    {
     "data": {
      "application/vnd.jupyter.widget-view+json": {
       "model_id": "6c2bd790c14f42538b2d0b2899725979",
       "version_major": 2,
       "version_minor": 0
      },
      "text/plain": [
       "HBox(children=(FloatProgress(value=0.0, max=3000.0), HTML(value='')))"
      ]
     },
     "metadata": {},
     "output_type": "display_data"
    },
    {
     "ename": "KeyboardInterrupt",
     "evalue": "",
     "output_type": "error",
     "traceback": [
      "\u001b[0;31m---------------------------------------------------------------------------\u001b[0m",
      "\u001b[0;31mKeyboardInterrupt\u001b[0m                         Traceback (most recent call last)",
      "\u001b[0;32m<ipython-input-25-31cdeef6ebe7>\u001b[0m in \u001b[0;36m<module>\u001b[0;34m\u001b[0m\n\u001b[1;32m     11\u001b[0m \u001b[0mannealing\u001b[0m \u001b[0;34m=\u001b[0m \u001b[0;32mlambda\u001b[0m \u001b[0mx\u001b[0m\u001b[0;34m:\u001b[0m \u001b[0;36m1.0\u001b[0m\u001b[0;31m#min(1.0, 0.005*x)\u001b[0m\u001b[0;34m\u001b[0m\u001b[0;34m\u001b[0m\u001b[0m\n\u001b[1;32m     12\u001b[0m losses = glm.fit(3000, loss_margin=0.0, margin_epochs=100, kl_anneal_func=annealing, \n\u001b[0;32m---> 13\u001b[0;31m                  cov_samples=2, ll_samples=2, ll_mode='MC')\n\u001b[0m\u001b[1;32m     14\u001b[0m \u001b[0;34m\u001b[0m\u001b[0m\n\u001b[1;32m     15\u001b[0m \u001b[0mplt\u001b[0m\u001b[0;34m.\u001b[0m\u001b[0mfigure\u001b[0m\u001b[0;34m(\u001b[0m\u001b[0;34m)\u001b[0m\u001b[0;34m\u001b[0m\u001b[0;34m\u001b[0m\u001b[0m\n",
      "\u001b[0;32m~/Documents/Learning/neuroppl/neuroppl/inference.py\u001b[0m in \u001b[0;36mfit\u001b[0;34m(self, max_epochs, margin_epochs, loss_margin, neuron, kl_anneal_func, retain_graph, cov_samples, ll_samples, importance_weighted, ll_mode, lv_input, callback)\u001b[0m\n\u001b[1;32m    792\u001b[0m                         \u001b[0mloss\u001b[0m \u001b[0;34m=\u001b[0m \u001b[0mclosure\u001b[0m\u001b[0;34m(\u001b[0m\u001b[0;34m)\u001b[0m\u001b[0;34m\u001b[0m\u001b[0;34m\u001b[0m\u001b[0m\n\u001b[1;32m    793\u001b[0m                 \u001b[0;32melse\u001b[0m\u001b[0;34m:\u001b[0m\u001b[0;34m\u001b[0m\u001b[0;34m\u001b[0m\u001b[0m\n\u001b[0;32m--> 794\u001b[0;31m                     \u001b[0mloss\u001b[0m \u001b[0;34m=\u001b[0m \u001b[0mclosure\u001b[0m\u001b[0;34m(\u001b[0m\u001b[0;34m)\u001b[0m\u001b[0;34m\u001b[0m\u001b[0;34m\u001b[0m\u001b[0m\n\u001b[0m\u001b[1;32m    795\u001b[0m                     \u001b[0moptimizer\u001b[0m\u001b[0;34m[\u001b[0m\u001b[0;36m0\u001b[0m\u001b[0;34m]\u001b[0m\u001b[0;34m.\u001b[0m\u001b[0mstep\u001b[0m\u001b[0;34m(\u001b[0m\u001b[0;34m)\u001b[0m\u001b[0;34m\u001b[0m\u001b[0;34m\u001b[0m\u001b[0m\n\u001b[1;32m    796\u001b[0m \u001b[0;34m\u001b[0m\u001b[0m\n",
      "\u001b[0;32m~/Documents/Learning/neuroppl/neuroppl/inference.py\u001b[0m in \u001b[0;36mclosure\u001b[0;34m()\u001b[0m\n\u001b[1;32m    775\u001b[0m                         \u001b[0;31m#with profiler.profile(record_shapes=True, use_cuda=True) as profi:\u001b[0m\u001b[0;34m\u001b[0m\u001b[0;34m\u001b[0m\u001b[0;34m\u001b[0m\u001b[0m\n\u001b[1;32m    776\u001b[0m                         \u001b[0;31m#    with profiler.record_function(\"backwards\"):\u001b[0m\u001b[0;34m\u001b[0m\u001b[0;34m\u001b[0m\u001b[0;34m\u001b[0m\u001b[0m\n\u001b[0;32m--> 777\u001b[0;31m                         \u001b[0mloss\u001b[0m\u001b[0;34m.\u001b[0m\u001b[0mbackward\u001b[0m\u001b[0;34m(\u001b[0m\u001b[0mretain_graph\u001b[0m\u001b[0;34m=\u001b[0m\u001b[0mretain_graph\u001b[0m\u001b[0;34m)\u001b[0m\u001b[0;34m\u001b[0m\u001b[0;34m\u001b[0m\u001b[0m\n\u001b[0m\u001b[1;32m    778\u001b[0m \u001b[0;34m\u001b[0m\u001b[0m\n\u001b[1;32m    779\u001b[0m                         \u001b[0;31m# special gradient steps\u001b[0m\u001b[0;34m\u001b[0m\u001b[0;34m\u001b[0m\u001b[0;34m\u001b[0m\u001b[0m\n",
      "\u001b[0;32m~/.local/lib/python3.6/site-packages/torch/tensor.py\u001b[0m in \u001b[0;36mbackward\u001b[0;34m(self, gradient, retain_graph, create_graph)\u001b[0m\n\u001b[1;32m    219\u001b[0m                 \u001b[0mretain_graph\u001b[0m\u001b[0;34m=\u001b[0m\u001b[0mretain_graph\u001b[0m\u001b[0;34m,\u001b[0m\u001b[0;34m\u001b[0m\u001b[0;34m\u001b[0m\u001b[0m\n\u001b[1;32m    220\u001b[0m                 create_graph=create_graph)\n\u001b[0;32m--> 221\u001b[0;31m         \u001b[0mtorch\u001b[0m\u001b[0;34m.\u001b[0m\u001b[0mautograd\u001b[0m\u001b[0;34m.\u001b[0m\u001b[0mbackward\u001b[0m\u001b[0;34m(\u001b[0m\u001b[0mself\u001b[0m\u001b[0;34m,\u001b[0m \u001b[0mgradient\u001b[0m\u001b[0;34m,\u001b[0m \u001b[0mretain_graph\u001b[0m\u001b[0;34m,\u001b[0m \u001b[0mcreate_graph\u001b[0m\u001b[0;34m)\u001b[0m\u001b[0;34m\u001b[0m\u001b[0;34m\u001b[0m\u001b[0m\n\u001b[0m\u001b[1;32m    222\u001b[0m \u001b[0;34m\u001b[0m\u001b[0m\n\u001b[1;32m    223\u001b[0m     \u001b[0;32mdef\u001b[0m \u001b[0mregister_hook\u001b[0m\u001b[0;34m(\u001b[0m\u001b[0mself\u001b[0m\u001b[0;34m,\u001b[0m \u001b[0mhook\u001b[0m\u001b[0;34m)\u001b[0m\u001b[0;34m:\u001b[0m\u001b[0;34m\u001b[0m\u001b[0;34m\u001b[0m\u001b[0m\n",
      "\u001b[0;32m~/.local/lib/python3.6/site-packages/torch/autograd/__init__.py\u001b[0m in \u001b[0;36mbackward\u001b[0;34m(tensors, grad_tensors, retain_graph, create_graph, grad_variables)\u001b[0m\n\u001b[1;32m    130\u001b[0m     Variable._execution_engine.run_backward(\n\u001b[1;32m    131\u001b[0m         \u001b[0mtensors\u001b[0m\u001b[0;34m,\u001b[0m \u001b[0mgrad_tensors_\u001b[0m\u001b[0;34m,\u001b[0m \u001b[0mretain_graph\u001b[0m\u001b[0;34m,\u001b[0m \u001b[0mcreate_graph\u001b[0m\u001b[0;34m,\u001b[0m\u001b[0;34m\u001b[0m\u001b[0;34m\u001b[0m\u001b[0m\n\u001b[0;32m--> 132\u001b[0;31m         allow_unreachable=True)  # allow_unreachable flag\n\u001b[0m\u001b[1;32m    133\u001b[0m \u001b[0;34m\u001b[0m\u001b[0m\n\u001b[1;32m    134\u001b[0m \u001b[0;34m\u001b[0m\u001b[0m\n",
      "\u001b[0;31mKeyboardInterrupt\u001b[0m: "
     ]
    }
   ],
   "source": [
    "# fitting\n",
    "sch = lambda o: optim.lr_scheduler.MultiplicativeLR(o, lambda e: 0.9)\n",
    "opt_tuple = (optim.Adam, 100, sch)\n",
    "opt_lr_dict = {'default': 5*1e-3, \n",
    "               'input_group.input_0.variational.finv_std': 5*1e-3}\n",
    "\n",
    "glm.set_optimizers(opt_tuple, opt_lr_dict)#, \n",
    "                   #newton_grad=('rate_model.0.u_loc',), newton_lr=1e-1)\n",
    "                   #nat_grad=('rate_model.0.u_loc', 'rate_model.0.u_scale_tril'), nat_lr=1e-1)\n",
    "\n",
    "annealing = lambda x: 1.0#min(1.0, 0.005*x)\n",
    "losses = glm.fit(3000, loss_margin=0.0, margin_epochs=100, kl_anneal_func=annealing, \n",
    "                 cov_samples=2, ll_samples=2, ll_mode='MC')\n",
    "\n",
    "plt.figure()\n",
    "plt.plot(losses)\n",
    "plt.xlabel('epoch')\n",
    "plt.ylabel('NLL per time sample')\n",
    "plt.show()"
   ]
  },
  {
   "cell_type": "code",
   "execution_count": null,
   "metadata": {
    "scrolled": true
   },
   "outputs": [],
   "source": [
    "glm.input_group.input_0.variational."
   ]
  },
  {
   "cell_type": "code",
   "execution_count": 70,
   "metadata": {},
   "outputs": [
    {
     "data": {
      "text/plain": [
       "(array([   0, 1000]), [False], [True])"
      ]
     },
     "execution_count": 70,
     "metadata": {},
     "output_type": "execute_result"
    }
   ],
   "source": [
    "glm.input_group.batch_info"
   ]
  },
  {
   "cell_type": "code",
   "execution_count": 56,
   "metadata": {
    "scrolled": true
   },
   "outputs": [
    {
     "data": {
      "text/plain": [
       "tensor([[[[1.1734]],\n",
       "\n",
       "         [[1.4509]],\n",
       "\n",
       "         [[1.4541]],\n",
       "\n",
       "         [[1.6457]],\n",
       "\n",
       "         [[1.3873]],\n",
       "\n",
       "         [[1.4267]],\n",
       "\n",
       "         [[1.2386]],\n",
       "\n",
       "         [[1.2819]],\n",
       "\n",
       "         [[1.3178]],\n",
       "\n",
       "         [[1.2166]],\n",
       "\n",
       "         [[1.2870]],\n",
       "\n",
       "         [[1.2071]],\n",
       "\n",
       "         [[1.1791]],\n",
       "\n",
       "         [[1.2119]],\n",
       "\n",
       "         [[1.3729]],\n",
       "\n",
       "         [[1.2932]],\n",
       "\n",
       "         [[1.3201]],\n",
       "\n",
       "         [[1.2895]],\n",
       "\n",
       "         [[1.2045]],\n",
       "\n",
       "         [[1.1048]],\n",
       "\n",
       "         [[1.1590]],\n",
       "\n",
       "         [[1.0134]],\n",
       "\n",
       "         [[1.0161]],\n",
       "\n",
       "         [[0.9737]],\n",
       "\n",
       "         [[0.9690]],\n",
       "\n",
       "         [[0.9960]],\n",
       "\n",
       "         [[1.1552]],\n",
       "\n",
       "         [[1.2994]],\n",
       "\n",
       "         [[1.1770]],\n",
       "\n",
       "         [[1.1443]],\n",
       "\n",
       "         [[1.2015]],\n",
       "\n",
       "         [[1.2649]],\n",
       "\n",
       "         [[1.3740]],\n",
       "\n",
       "         [[1.3617]],\n",
       "\n",
       "         [[1.3950]],\n",
       "\n",
       "         [[1.3878]],\n",
       "\n",
       "         [[1.5686]],\n",
       "\n",
       "         [[1.5074]],\n",
       "\n",
       "         [[1.5337]],\n",
       "\n",
       "         [[1.6273]],\n",
       "\n",
       "         [[1.8549]],\n",
       "\n",
       "         [[1.0318]],\n",
       "\n",
       "         [[1.1928]],\n",
       "\n",
       "         [[1.5362]],\n",
       "\n",
       "         [[1.0521]],\n",
       "\n",
       "         [[1.1596]],\n",
       "\n",
       "         [[1.2235]],\n",
       "\n",
       "         [[1.2446]],\n",
       "\n",
       "         [[1.1974]],\n",
       "\n",
       "         [[1.1668]]]], device='cuda:0', grad_fn=<SliceBackward>)"
      ]
     },
     "execution_count": 56,
     "metadata": {},
     "output_type": "execute_result"
    }
   ],
   "source": [
    "gp_lvm.kernel.K_list[0].kern1.lengthscale"
   ]
  },
  {
   "cell_type": "code",
   "execution_count": 57,
   "metadata": {},
   "outputs": [
    {
     "data": {
      "text/plain": [
       "tensor([-0.0290, -0.0290, -0.0290], device='cuda:0', grad_fn=<SliceBackward>)"
      ]
     },
     "execution_count": 57,
     "metadata": {},
     "output_type": "execute_result"
    }
   ],
   "source": [
    "gp_lvm.Psi_list[0][0, 0, 0, :]"
   ]
  },
  {
   "cell_type": "code",
   "execution_count": 32,
   "metadata": {},
   "outputs": [
    {
     "data": {
      "text/plain": [
       "dict_keys(['mean', 'kernel.K_list.0.kern0._variance', 'kernel.K_list.0.kern1._lengthscale', 'nu_list.0', 'Psi_list.0', 'S_list.0', 'S_list.1', 'S_list.2'])"
      ]
     },
     "execution_count": 32,
     "metadata": {},
     "output_type": "execute_result"
    }
   ],
   "source": [
    "dict(gp_lvm.named_parameters()).keys()"
   ]
  },
  {
   "cell_type": "code",
   "execution_count": 147,
   "metadata": {},
   "outputs": [],
   "source": [
    "if mode == 'T1xT1':\n",
    "    model_name = \"GPLVM_T2\"\n",
    "    torch.save({'glm': glm.state_dict()}, './checkpoint/' + model_name)\n",
    "elif mode == 'T1xR1':\n",
    "    model_name = \"GPLVM_T1R1\"\n",
    "    torch.save({'glm': glm.state_dict()}, './checkpoint/' + model_name)\n",
    "else:\n",
    "    model_name = \"GPLVM_T1\"\n",
    "    torch.save({'glm': glm.state_dict()}, './checkpoint/' + model_name)"
   ]
  },
  {
   "cell_type": "code",
   "execution_count": 43,
   "metadata": {},
   "outputs": [],
   "source": [
    "np.savez_compressed('./checkpoint/T_GPLVM_data', rc_t=rc_t, rhd_t=rhd_t, p_a=p_a, p_b=p_b, p_c=p_c, p_z=p_z)"
   ]
  },
  {
   "cell_type": "code",
   "execution_count": 84,
   "metadata": {},
   "outputs": [],
   "source": [
    "# shift latents\n",
    "X_loc, X_std = inputs.eval_XZ(net_input=glm.likelihood.spikes[0])\n",
    "\n",
    "if mode == 'T1xT1':\n",
    "    lat_t, shift, sign, _ = utils.latent.signed_scaled_shift(X_loc[0][:, 0], rhd_t, dev)\n",
    "    lat_t2, shift, sign, _ = utils.latent.signed_scaled_shift(X_loc[0][:, 1], rhd_t, dev)\n",
    "elif mode == 'T1xR1':\n",
    "    lat_t, shift, sign, _ = utils.latent.signed_scaled_shift(X_loc[0][:], rhd_t, dev)\n",
    "    lat_t2, shift, sign, scale, _ = utils.latent.signed_scaled_shift(X_loc[1][:], rhd_t, dev)\n",
    "    wrap_lat_t = utils.numpy.WrapPi(lat_t, True)\n",
    "    lat_std = X_std[0]\n",
    "else:\n",
    "    lat_t, shift, sign, _, _ = utils.latent.signed_scaled_shift(X_loc[0], rhd_t, dev)\n",
    "    wrap_lat_t = utils.signal.WrapPi(lat_t, True)\n",
    "    lat_std = X_std[0]"
   ]
  },
  {
   "cell_type": "code",
   "execution_count": 26,
   "metadata": {},
   "outputs": [
    {
     "data": {
      "text/plain": [
       "<matplotlib.collections.PathCollection at 0x7f9091798cc0>"
      ]
     },
     "execution_count": 26,
     "metadata": {},
     "output_type": "execute_result"
    },
    {
     "data": {
      "image/png": "[encoded data removed]",
      "text/plain": [
       "<Figure size 245x183.75 with 1 Axes>"
      ]
     },
     "metadata": {
      "needs_background": "light"
     },
     "output_type": "display_data"
    }
   ],
   "source": [
    "#X_loc, X_std = glm.input_group.input_0.variational(net_input=glm.likelihood.spikes[0])\n",
    "#X_loc = glm.input_group.input_0.variational.mu.data.numpy()\n",
    "#X_std = glm.input_group.input_0.variational.finv_std.data.numpy()\n",
    "\n",
    "X_loc, X_str = glm.input_group.input_0.variational.eval_moments(0, resamples, None)\n",
    "X_loc = X_loc.data.cpu().numpy()\n",
    "X_str = X_str.data.cpu().numpy()\n",
    "\n",
    "plt.scatter(np.arange(resamples), X_loc[:] % (2*np.pi))"
   ]
  },
  {
   "cell_type": "code",
   "execution_count": 148,
   "metadata": {},
   "outputs": [
    {
     "name": "stdout",
     "output_type": "stream",
     "text": [
      "2.5482655006769535\n",
      "0.37000831121887806\n",
      "2.937330599071589\n",
      "2.6315421311097786\n"
     ]
    }
   ],
   "source": [
    "model_name = 'GPLVM_T2'\n",
    "checkpoint = torch.load('./checkpoint/' + model_name)\n",
    "glm.load_state_dict(checkpoint['glm'])\n",
    "\n",
    "\n",
    "grid_size = [40, 40]\n",
    "grid_shape = [[0, 2*np.pi], [0, 2*np.pi]]\n",
    "\n",
    "def func(pos):\n",
    "    prevshape = pos.shape[1:]\n",
    "    x = pos[0].flatten()\n",
    "    y = pos[1].flatten()\n",
    "    covariates = (x, y)\n",
    "    return gp_lvm.eval_rate(covariates, np.arange(neurons)).reshape(neurons, *prevshape)\n",
    "\n",
    "_, place_field = tools.compute_mesh(grid_size, grid_shape, func)\n",
    "\n",
    "\n",
    "X_loc, X_std = gp_lvm.eval_X(net_input=glm.likelihood.spikes[0])\n",
    "lat_t, shift, sign, _ = tools.shift_circ_traj(X_loc[0][:, 0], rhd_t, dev)\n",
    "lat_t2, shift, sign, _ = tools.shift_circ_traj(X_loc[0][:, 1], rhd_t, dev)\n",
    "lat_std = X_std[0][:, 0]\n",
    "lat_std2 = X_std[0][:, 1]\n",
    "\n",
    "\n",
    "T2len = glm.rate_model[0].kernel.kern1.lengthscale.flatten().data.cpu().numpy()\n",
    "p_std = glm.rate_model[0].p_std_0.data.cpu().numpy()"
   ]
  },
  {
   "cell_type": "code",
   "execution_count": 129,
   "metadata": {},
   "outputs": [
    {
     "name": "stdout",
     "output_type": "stream",
     "text": [
      "3.2344176868666943\n",
      "3.30380766302471\n",
      "5.379968249444565\n",
      "5.3799692416492455\n"
     ]
    }
   ],
   "source": [
    "model_name = 'GPLVM_T1R1'\n",
    "checkpoint = torch.load('./checkpoint/' + model_name)\n",
    "glm.load_state_dict(checkpoint['glm'])\n",
    "\n",
    "X_loc, X_std = gp_lvm.eval_X(net_input=glm.likelihood.spikes[0])\n",
    "TRlat_t, shift, sign, _ = tools.shift_circ_traj(X_loc[0], rhd_t, dev)\n",
    "TRlat_t2, shift, sign, TRscale, _ = tools.shift_traj(X_loc[1], rhd_t, dev)\n",
    "TRlat_std = X_std[0]\n",
    "TRlat_std2 = X_std[1]\n",
    "\n",
    "TRlen_2 = glm.rate_model[0].kernel.kern1.lengthscale.flatten().data.cpu().numpy()\n",
    "TRlen_1 = glm.rate_model[0].kernel.kern0.kern1.lengthscale.flatten().data.cpu().numpy()"
   ]
  },
  {
   "cell_type": "code",
   "execution_count": 149,
   "metadata": {},
   "outputs": [],
   "source": [
    "pickle.dump((place_field, lat_t, lat_t2, lat_std, lat_std2, T2len, p_std, TRlen_2, TRlen_1, TRscale, tbin, rhd_t), open('./output/P1.p', 'wb'))"
   ]
  },
  {
   "cell_type": "code",
   "execution_count": null,
   "metadata": {},
   "outputs": [],
   "source": []
  },
  {
   "cell_type": "code",
   "execution_count": 87,
   "metadata": {},
   "outputs": [
    {
     "data": {
      "image/png": "[encoded data removed]",
      "text/plain": [
       "<Figure size 245x183.75 with 1 Axes>"
      ]
     },
     "metadata": {
      "needs_background": "light"
     },
     "output_type": "display_data"
    },
    {
     "data": {
      "image/png": "[encoded data removed]",
      "text/plain": [
       "<Figure size 245x183.75 with 1 Axes>"
      ]
     },
     "metadata": {
      "needs_background": "light"
     },
     "output_type": "display_data"
    },
    {
     "data": {
      "image/png": "[encoded data removed]",
      "text/plain": [
       "<Figure size 245x183.75 with 1 Axes>"
      ]
     },
     "metadata": {
      "needs_background": "light"
     },
     "output_type": "display_data"
    },
    {
     "ename": "ModuleAttributeError",
     "evalue": "'KCP_SVGP' object has no attribute 'eval_tuning'",
     "output_type": "error",
     "traceback": [
      "\u001b[0;31m---------------------------------------------------------\u001b[0m",
      "\u001b[0;31mModuleAttributeError\u001b[0m    Traceback (most recent call last)",
      "\u001b[0;32m<ipython-input-87-d304fb8f4df4>\u001b[0m in \u001b[0;36m<module>\u001b[0;34m\u001b[0m\n\u001b[1;32m     31\u001b[0m     \u001b[0;31m#gp_lvm.set_params(jitter=1e-5)\u001b[0m\u001b[0;34m\u001b[0m\u001b[0;34m\u001b[0m\u001b[0;34m\u001b[0m\u001b[0m\n\u001b[1;32m     32\u001b[0m     \u001b[0mgp_lvm\u001b[0m\u001b[0;34m.\u001b[0m\u001b[0mjitter\u001b[0m \u001b[0;34m=\u001b[0m \u001b[0;36m1e-5\u001b[0m\u001b[0;34m\u001b[0m\u001b[0;34m\u001b[0m\u001b[0m\n\u001b[0;32m---> 33\u001b[0;31m     \u001b[0mtuning\u001b[0m \u001b[0;34m=\u001b[0m \u001b[0mgp_lvm\u001b[0m\u001b[0;34m.\u001b[0m\u001b[0meval_tuning\u001b[0m\u001b[0;34m(\u001b[0m\u001b[0mcovariates\u001b[0m\u001b[0;34m,\u001b[0m \u001b[0mshow_neurons\u001b[0m\u001b[0;34m,\u001b[0m \u001b[0msamp\u001b[0m\u001b[0;34m)\u001b[0m\u001b[0;34m\u001b[0m\u001b[0;34m\u001b[0m\u001b[0m\n\u001b[0m\u001b[1;32m     34\u001b[0m \u001b[0;34m\u001b[0m\u001b[0m\n\u001b[1;32m     35\u001b[0m     \u001b[0;32mfor\u001b[0m \u001b[0mk_n\u001b[0m \u001b[0;32min\u001b[0m \u001b[0mrange\u001b[0m\u001b[0;34m(\u001b[0m\u001b[0mlen\u001b[0m\u001b[0;34m(\u001b[0m\u001b[0mshow_neurons\u001b[0m\u001b[0;34m)\u001b[0m\u001b[0;34m)\u001b[0m\u001b[0;34m:\u001b[0m\u001b[0;34m\u001b[0m\u001b[0;34m\u001b[0m\u001b[0m\n",
      "\u001b[0;32m~/.local/lib/python3.6/site-packages/torch/nn/modules/module.py\u001b[0m in \u001b[0;36m__getattr__\u001b[0;34m(self, name)\u001b[0m\n\u001b[1;32m    777\u001b[0m                 \u001b[0;32mreturn\u001b[0m \u001b[0mmodules\u001b[0m\u001b[0;34m[\u001b[0m\u001b[0mname\u001b[0m\u001b[0;34m]\u001b[0m\u001b[0;34m\u001b[0m\u001b[0;34m\u001b[0m\u001b[0m\n\u001b[1;32m    778\u001b[0m         raise ModuleAttributeError(\"'{}' object has no attribute '{}'\".format(\n\u001b[0;32m--> 779\u001b[0;31m             type(self).__name__, name))\n\u001b[0m\u001b[1;32m    780\u001b[0m \u001b[0;34m\u001b[0m\u001b[0m\n\u001b[1;32m    781\u001b[0m     \u001b[0;32mdef\u001b[0m \u001b[0m__setattr__\u001b[0m\u001b[0;34m(\u001b[0m\u001b[0mself\u001b[0m\u001b[0;34m,\u001b[0m \u001b[0mname\u001b[0m\u001b[0;34m:\u001b[0m \u001b[0mstr\u001b[0m\u001b[0;34m,\u001b[0m \u001b[0mvalue\u001b[0m\u001b[0;34m:\u001b[0m \u001b[0mUnion\u001b[0m\u001b[0;34m[\u001b[0m\u001b[0mTensor\u001b[0m\u001b[0;34m,\u001b[0m \u001b[0;34m'Module'\u001b[0m\u001b[0;34m]\u001b[0m\u001b[0;34m)\u001b[0m \u001b[0;34m->\u001b[0m \u001b[0;32mNone\u001b[0m\u001b[0;34m:\u001b[0m\u001b[0;34m\u001b[0m\u001b[0;34m\u001b[0m\u001b[0m\n",
      "\u001b[0;31mModuleAttributeError\u001b[0m: 'KCP_SVGP' object has no attribute 'eval_tuning'"
     ]
    }
   ],
   "source": []
  },
  {
   "cell_type": "code",
   "execution_count": 30,
   "metadata": {},
   "outputs": [
    {
     "ename": "NameError",
     "evalue": "name 'wrap_lat_t' is not defined",
     "output_type": "error",
     "traceback": [
      "\u001b[0;31m---------------------------------------------------------------------------\u001b[0m",
      "\u001b[0;31mNameError\u001b[0m                                 Traceback (most recent call last)",
      "\u001b[0;32m<ipython-input-30-7e18f90ea178>\u001b[0m in \u001b[0;36m<module>\u001b[0;34m\u001b[0m\n\u001b[1;32m     10\u001b[0m \u001b[0;34m\u001b[0m\u001b[0m\n\u001b[1;32m     11\u001b[0m \u001b[0;34m\u001b[0m\u001b[0m\n\u001b[0;32m---> 12\u001b[0;31m ax.errorbar(tbin*np.arange(T), wrap_lat_t[:T], yerr=lat_std[:T], linestyle='', \n\u001b[0m\u001b[1;32m     13\u001b[0m             elinewidth=1, color='tab:blue', alpha=0.5 ,label='var. dist.')\n\u001b[1;32m     14\u001b[0m \u001b[0;34m\u001b[0m\u001b[0m\n",
      "\u001b[0;31mNameError\u001b[0m: name 'wrap_lat_t' is not defined"
     ]
    },
    {
     "data": {
      "image/png": "[encoded data removed]",
      "text/plain": [
       "<Figure size 280x210 with 1 Axes>"
      ]
     },
     "metadata": {
      "needs_background": "light"
     },
     "output_type": "display_data"
    }
   ],
   "source": [
    "T = 1000\n",
    "\n",
    "fig, ax = plt.subplots(figsize=(4,3))\n",
    "ax.set_xlim([0, tbin*T])\n",
    "ax.set_ylim([0, 2*np.pi])\n",
    "ax.set_yticks([0, 2*np.pi])\n",
    "ax.set_yticklabels([r'$0$', r'$2\\pi$'])\n",
    "ax.set_xlabel('time (s)')\n",
    "ax.set_ylabel('head direction')\n",
    "\n",
    "\n",
    "ax.errorbar(tbin*np.arange(T), wrap_lat_t[:T], yerr=lat_std[:T], linestyle='', \n",
    "            elinewidth=1, color='tab:blue', alpha=0.5 ,label='var. dist.')\n",
    "\n",
    "X__ = wrap_lat_t[:T]+lat_std[:T]\n",
    "a = np.where(X__ > 2*np.pi)[0]\n",
    "ax.errorbar(tbin*np.arange(T)[a], wrap_lat_t[a]-2*np.pi, yerr=lat_std[a], linestyle='', \n",
    "            elinewidth=1, color='tab:blue', alpha=0.5)\n",
    "\n",
    "X__ = wrap_lat_t[:T]-lat_std[:T]\n",
    "a = np.where(X__ < 0)[0]\n",
    "ax.errorbar(tbin*np.arange(T)[a], wrap_lat_t[a]+2*np.pi, yerr=lat_std[a], linestyle='', \n",
    "            elinewidth=1, color='tab:blue', alpha=0.5)\n",
    "\n",
    "ax.scatter(tbin*np.arange(T), rhd_t[:T], marker='.', color='r', zorder=2, label='true latents')\n",
    "\n",
    "ax.legend()\n",
    "plt.show()\n"
   ]
  },
  {
   "cell_type": "code",
   "execution_count": null,
   "metadata": {},
   "outputs": [],
   "source": []
  },
  {
   "cell_type": "code",
   "execution_count": null,
   "metadata": {},
   "outputs": [],
   "source": []
  }
 ],
 "metadata": {
  "kernelspec": {
   "display_name": "python39",
   "language": "python",
   "name": "python39"
  },
  "language_info": {
   "codemirror_mode": {
    "name": "ipython",
    "version": 3
   },
   "file_extension": ".py",
   "mimetype": "text/x-python",
   "name": "python",
   "nbconvert_exporter": "python",
   "pygments_lexer": "ipython3",
   "version": "3.9.16"
  }
 },
 "nbformat": 4,
 "nbformat_minor": 4
}
