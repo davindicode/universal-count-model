{
 "cells": [
  {
   "cell_type": "markdown",
   "metadata": {},
   "source": [
    "# Gaussian process regression\n",
    "\n",
    "Comparison to baselines\n",
    "\n",
    "### Table of contents\n",
    "\n",
    "1. [**Data**](#data)\n",
    "3. [**SNN**](#snn)\n",
    "4. [**RNN**](#rnn)\n",
    "\n",
    "This notebook contains code demonstrating how to do regression.\n",
    "- Linear regression\n",
    "- Fitting a spike train with a renewal process GP\n",
    "- Computing the renewal process likelihood landscape\n",
    "- Performing GPLVM on a biological data for dimensionality reduction"
   ]
  },
  {
   "cell_type": "code",
   "execution_count": 3,
   "metadata": {},
   "outputs": [
    {
     "name": "stdout",
     "output_type": "stream",
     "text": [
      "The autoreload extension is already loaded. To reload it, use:\n",
      "  %reload_ext autoreload\n",
      "PyTorch version: 1.13.0+cu117\n",
      "Using device: cuda:0\n"
     ]
    }
   ],
   "source": [
    "%load_ext autoreload\n",
    "%autoreload 2\n",
    "\n",
    "import torch\n",
    "import torch.optim as optim\n",
    "\n",
    "import matplotlib.pyplot as plt\n",
    "import numpy as np\n",
    "\n",
    "\n",
    "import sys\n",
    "sys.path.append(\"..\")\n",
    "\n",
    "\n",
    "import neuroprob as nprb\n",
    "from neuroprob import utils\n",
    "\n",
    "\n",
    "dev = nprb.inference.get_device()  # PyTorch device, gpu 0 by default if available"
   ]
  },
  {
   "cell_type": "markdown",
   "metadata": {},
   "source": [
    "### Spike train GP\n",
    "Here we fit several trials of an inhomogenous Poisson process GP to a spike train. To improve optimization, we use the natural gradient."
   ]
  },
  {
   "cell_type": "code",
   "execution_count": 14,
   "metadata": {},
   "outputs": [],
   "source": [
    "tbin = 0.001\n",
    "steps = 1000\n",
    "max_time = tbin*steps\n",
    "trials = 10\n",
    "neurons = 2\n",
    "\n",
    "rate = np.empty((trials, neurons, steps))\n",
    "rate[:, 0, :] = (20.0*np.sin(2*np.pi*np.arange(steps)/1000) + 20.0)[None, :].repeat(trials, axis=0)\n",
    "rate[:, 1, :] = (20.0*np.cos(2*np.pi*np.arange(steps)/1000) + 20.0)[None, :].repeat(trials, axis=0)\n",
    "\n",
    "\n",
    "spikes = np.random.binomial(1, rate * tbin)  # generate spike trains\n",
    "\n",
    "times = np.arange(steps)*tbin # time points to evaluate\n",
    "covariates = times[None, :, None].repeat(trials, axis=0) # input regressors of shape (trials, time, dimensions)\n",
    "\n",
    "\n",
    "t_spike = []\n",
    "for t in range(trials):\n",
    "    t_spike.append(np.where(spikes[t, ] > 0)[0])"
   ]
  },
  {
   "cell_type": "code",
   "execution_count": null,
   "metadata": {},
   "outputs": [],
   "source": []
  },
  {
   "cell_type": "code",
   "execution_count": null,
   "metadata": {},
   "outputs": [],
   "source": [
    "visualize_neuron = 0\n",
    "\n",
    "plt.plot(times, rate[0, visualize_neuron])\n",
    "for n in range(trials):\n",
    "    plt.scatter(t_spike[n]*tbin, (-5.0-2*n)*np.ones_like(t_spike[n]), marker='|')\n",
    "plt.xlabel('time (s)')\n",
    "plt.ylabel('firing rate (Hz)')\n",
    "plt.show()"
   ]
  },
  {
   "cell_type": "code",
   "execution_count": 91,
   "metadata": {},
   "outputs": [],
   "source": [
    "l = 0.1*np.ones((1, neurons)) # shape (input dimensions, output dimensions)\n",
    "v = 1.*np.ones(neurons) # shape (output dimensions,)\n",
    "kernels_tuples = [('variance', v), \n",
    "                  ('RBF', 'euclid', l)]\n",
    "VI_tuples = [(None, None, None, 1)] # prior, var. dist., topology, dimensions\n",
    "\n",
    "num_induc = 8\n",
    "indps = np.linspace(0, max_time, num_induc)\n",
    "inducing_points = indps[None, :, None].repeat(neurons, axis=0) # shape (output dims, time, input dims)\n",
    "\n",
    "rate_model = neuroprob.nonparametrics.Gaussian_process(\n",
    "    neurons, # number of neurons\n",
    "    inducing_points, # initial inducing points                                          \n",
    "    kernels_tuples, # kernels                                          \n",
    "    VI_tuples, # priors and variational distributions                                          \n",
    "    shared_kernel_params=False, # share all kernel parameters over output dims?                                          \n",
    "    cov_type='factorized', # fit with full GP posterior covariance?                                          \n",
    "    mean=np.zeros((neurons)), # initial GP mean\n",
    "    inv_link='exp', # inverse link function\n",
    "    kern_f='softplus' # kernel inverse link\n",
    ")\n",
    "\n",
    "rate_model.set_params(\n",
    "    tbin, # time bin\n",
    "    jitter=1e-5 # jitter (numerical stability)\n",
    ")"
   ]
  },
  {
   "cell_type": "code",
   "execution_count": 92,
   "metadata": {},
   "outputs": [],
   "source": [
    "# likelihood model\n",
    "likelihood = neuroprob.likelihoods.Poisson(\n",
    "    neurons, # number of neurons or output dimensions\n",
    "    'exp' # inverse link function\n",
    ")\n",
    "\n",
    "likelihood.set_params(tbin, jitter=1e-5)"
   ]
  },
  {
   "cell_type": "code",
   "execution_count": 93,
   "metadata": {},
   "outputs": [
    {
     "data": {
      "text/plain": [
       "nll_optimized(\n",
       "  (likelihood): Poisson()\n",
       "  (rate_model): ModuleList(\n",
       "    (0): Gaussian_process(\n",
       "      (kernel): Product(\n",
       "        (kern0): Constant()\n",
       "        (kern1): RBF()\n",
       "      )\n",
       "    )\n",
       "  )\n",
       ")"
      ]
     },
     "execution_count": 93,
     "metadata": {},
     "output_type": "execute_result"
    }
   ],
   "source": [
    "# put together in GLM framework\n",
    "glm = neuroprob.inference.VI_optimized([rate_model], likelihood)\n",
    "glm.preprocess(\n",
    "    [covariates], # list of input regressors of GP\n",
    "    covariates.shape[1], # number of timesteps in total\n",
    "    spikes, # spike trains\n",
    "    batch_size=1000 # batch size (over timesteps)\n",
    ")\n",
    "    \n",
    "glm.to(dev) # move to GPU if available"
   ]
  },
  {
   "cell_type": "code",
   "execution_count": 94,
   "metadata": {},
   "outputs": [
    {
     "data": {
      "application/vnd.jupyter.widget-view+json": {
       "model_id": "50ff35353e0146208987adc8b3dfbf3b",
       "version_major": 2,
       "version_minor": 0
      },
      "text/plain": [
       "HBox(children=(FloatProgress(value=0.0, max=1000.0), HTML(value='')))"
      ]
     },
     "metadata": {},
     "output_type": "display_data"
    },
    {
     "name": "stdout",
     "output_type": "stream",
     "text": [
      "\n"
     ]
    },
    {
     "data": {
      "image/png": "[encoded data removed]",
      "text/plain": [
       "<Figure size 432x288 with 1 Axes>"
      ]
     },
     "metadata": {
      "needs_background": "light"
     },
     "output_type": "display_data"
    }
   ],
   "source": [
    "# fitting\n",
    "sch = lambda o: optim.lr_scheduler.MultiplicativeLR(o, lambda e: 0.9)\n",
    "opt_tuple = (\n",
    "    optim.Adam, # optimizer\n",
    "    100, # scheduler time steps for iteration\n",
    "    sch # scheduler effect\n",
    ")\n",
    "opt_lr_dict = {'default': 1e-2}\n",
    "\n",
    "glm.set_optimizers(\n",
    "    opt_tuple, \n",
    "    opt_lr_dict, \n",
    "    nat_grad=('rate_model.0.u_loc', 'rate_model.0.u_scale_tril'), \n",
    "    nat_lr=1e-1\n",
    "    #newton_grad=('rate_model.0.u_loc',), \n",
    "    #newton_lr=1e-1\n",
    ")\n",
    "\n",
    "annealing = lambda x: 1.0\n",
    "losses = glm.fit(\n",
    "    1000, # number of max iterations\n",
    "    loss_margin=0e0, \n",
    "    stop_iters=100, \n",
    "    anneal_func=annealing, \n",
    "    cov_samples=trials, # need to put in trials as we are doing regression over trials \n",
    "    ll_samples=20, \n",
    "    ll_mode='MC',\n",
    "    bound='ELBO'\n",
    ")\n",
    "\n",
    "plt.figure()\n",
    "plt.plot(losses)\n",
    "plt.xlabel('epoch')\n",
    "plt.ylabel('NLL per time sample')\n",
    "plt.show()"
   ]
  },
  {
   "cell_type": "code",
   "execution_count": 6,
   "metadata": {},
   "outputs": [
    {
     "ename": "NameError",
     "evalue": "name 'rate_model' is not defined",
     "output_type": "error",
     "traceback": [
      "\u001b[0;31m---------------------------------------------------------------------------\u001b[0m",
      "\u001b[0;31mNameError\u001b[0m                                 Traceback (most recent call last)",
      "\u001b[0;32m<ipython-input-6-bc7f4666c348>\u001b[0m in \u001b[0;36m<module>\u001b[0;34m\u001b[0m\n\u001b[1;32m      4\u001b[0m \u001b[0meval_times\u001b[0m \u001b[0;34m=\u001b[0m \u001b[0mnp\u001b[0m\u001b[0;34m.\u001b[0m\u001b[0mlinspace\u001b[0m\u001b[0;34m(\u001b[0m\u001b[0;36m0.0\u001b[0m\u001b[0;34m,\u001b[0m \u001b[0mmax_time\u001b[0m\u001b[0;34m,\u001b[0m \u001b[0msteps\u001b[0m\u001b[0;34m)\u001b[0m\u001b[0;34m[\u001b[0m\u001b[0;32mNone\u001b[0m\u001b[0;34m,\u001b[0m \u001b[0;34m:\u001b[0m\u001b[0;34m]\u001b[0m \u001b[0;31m# shape (dims, timesteps)\u001b[0m\u001b[0;34m\u001b[0m\u001b[0;34m\u001b[0m\u001b[0m\n\u001b[1;32m      5\u001b[0m \u001b[0;34m\u001b[0m\u001b[0m\n\u001b[0;32m----> 6\u001b[0;31m \u001b[0mlower\u001b[0m\u001b[0;34m,\u001b[0m \u001b[0mmean\u001b[0m\u001b[0;34m,\u001b[0m \u001b[0mupper\u001b[0m \u001b[0;34m=\u001b[0m \u001b[0mrate_model\u001b[0m\u001b[0;34m.\u001b[0m\u001b[0meval_rate\u001b[0m\u001b[0;34m(\u001b[0m\u001b[0meval_times\u001b[0m\u001b[0;34m,\u001b[0m \u001b[0mshow_neurons\u001b[0m\u001b[0;34m,\u001b[0m \u001b[0;34m'posterior'\u001b[0m\u001b[0;34m)\u001b[0m\u001b[0;34m\u001b[0m\u001b[0;34m\u001b[0m\u001b[0m\n\u001b[0m\u001b[1;32m      7\u001b[0m \u001b[0;34m\u001b[0m\u001b[0m\n\u001b[1;32m      8\u001b[0m \u001b[0mvisualize_trial\u001b[0m \u001b[0;34m=\u001b[0m \u001b[0;36m0\u001b[0m\u001b[0;34m\u001b[0m\u001b[0;34m\u001b[0m\u001b[0m\n",
      "\u001b[0;31mNameError\u001b[0m: name 'rate_model' is not defined"
     ]
    }
   ],
   "source": [
    "# compare to true rate\n",
    "steps= 100\n",
    "show_neurons = [0, 1]\n",
    "eval_times = np.linspace(0.0, max_time, steps)[None, :] # shape (dims, timesteps)\n",
    "\n",
    "lower, mean, upper = rate_model.eval_rate(eval_times, show_neurons, 'posterior')\n",
    "\n",
    "visualize_trial = 0\n",
    "fig, axes = plt.subplots(1, 2)\n",
    "for k, neuron in enumerate(show_neurons):\n",
    "    \n",
    "    ax = axes[k]\n",
    "    ax.plot(np.linspace(0, max_time, rate.shape[-1]), rate[visualize_trial, neuron], 'r--', label='true rate')\n",
    "    line, = ax.plot(eval_times[0], mean[k], label='GP posterior')\n",
    "    ax.fill_between(\n",
    "        eval_times[0], lower[k],\n",
    "        upper[k], color=line.get_color(), alpha=0.5\n",
    "    )\n",
    "    ax.set_xlabel('time (s)')\n",
    "    ax.set_ylabel('firing rate (Hz)')\n",
    "    ax.legend()\n",
    "    \n",
    "fig.tight_layout()\n",
    "\n",
    "\n",
    "    \n",
    "# draw tuning curves\n",
    "tuning = rate_model.eval_rate(eval_times, show_neurons, 'tuning', n_samp=10)\n",
    "fig, axes = plt.subplots(1, 2)\n",
    "for k_n in range(len(show_neurons)):\n",
    "    \n",
    "    ax = axes[k_n]\n",
    "    \n",
    "    for n in range(samp):\n",
    "        ax.plot(eval_times[0], tuning[n, k_n, ...])\n",
    "\n",
    "    ax.set_xlabel('time (s)')\n",
    "    ax.set_ylabel('firing rate (Hz)')\n",
    "\n",
    "fig.tight_layout()\n",
    "\n",
    "\n",
    "# show GP posterior properties\n",
    "steps= 100\n",
    "show_neurons = [0, 1]\n",
    "fig, axes = plt.subplots(1, 2)\n",
    "for k, neuron in enumerate(show_neurons):\n",
    "    \n",
    "    Xu = glm.rate_model[0].Xu.data.cpu().numpy()[neuron, :, 0]\n",
    "    eval_times = [np.linspace(Xu.min()-1.0, Xu.max()+1.0, steps)]\n",
    "    lower, mean, upper = rate_model.eval_rate(eval_times, neuron, 'posterior')\n",
    "    \n",
    "    ax = axes[k]\n",
    "    ax.scatter(Xu, -5.0*np.ones_like(Xu), marker='+', label='inducing points')\n",
    "    line, = ax.plot(eval_times[0], mean, label='GP posterior')\n",
    "    ax.fill_between(\n",
    "        eval_times[0], lower,\n",
    "        upper, color=line.get_color(), alpha=0.5\n",
    "    )\n",
    "    ax.set_xlabel('time (s)')\n",
    "    ax.set_ylabel('firing rate (Hz)')\n",
    "    ax.legend()\n",
    "    \n",
    "fig.tight_layout()\n",
    "plt.show()"
   ]
  },
  {
   "cell_type": "code",
   "execution_count": null,
   "metadata": {},
   "outputs": [],
   "source": []
  },
  {
   "cell_type": "code",
   "execution_count": 13,
   "metadata": {},
   "outputs": [
    {
     "data": {
      "text/plain": [
       "(4, 5)"
      ]
     },
     "execution_count": 13,
     "metadata": {},
     "output_type": "execute_result"
    }
   ],
   "source": []
  },
  {
   "cell_type": "code",
   "execution_count": null,
   "metadata": {},
   "outputs": [],
   "source": []
  }
 ],
 "metadata": {
  "kernelspec": {
   "display_name": "python39",
   "language": "python",
   "name": "python39"
  },
  "language_info": {
   "codemirror_mode": {
    "name": "ipython",
    "version": 3
   },
   "file_extension": ".py",
   "mimetype": "text/x-python",
   "name": "python",
   "nbconvert_exporter": "python",
   "pygments_lexer": "ipython3",
   "version": "3.9.16"
  }
 },
 "nbformat": 4,
 "nbformat_minor": 4
}
