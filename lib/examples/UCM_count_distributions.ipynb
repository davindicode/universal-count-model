{
 "cells": [
  {
   "cell_type": "markdown",
   "metadata": {},
   "source": [
    "# Universal Count Model\n",
    "\n",
    "Comparison to baselines\n",
    "\n",
    "### Table of contents\n",
    "\n",
    "1. [**Data**](#data)\n",
    "3. [**SNN**](#snn)\n",
    "4. [**RNN**](#rnn)\n",
    "\n",
    "\n",
    "\n",
    "The above only holds for one covariate dimension that we looked at. To look at the intrinsic degree of freedom for a neuron, it may be more informative and convenient to look at the softmax weights and biases that connect the GP functions to the spike count distribution. We now load the pre-softmax weights and biases. Each neuron has its own set of weights and biases $W_n$ and $\\mathbf{b}_n$. Note we used a exponential-quadratic expansion for $\\phi(\\cdot)$. This expansion combines the quadratic basis expansion with an exponential mapping, i.e. for a vector $\\mathbf{f} = (f_1, f_2)$ we obtain \n",
    "\n",
    "$$\n",
    "\\phi(\\mathbf{f}) = (f_1, f_2, f_1^2, f_2^2, e^{f_1}, e^{f_2}, f_1 f_2)\n",
    "$$\n",
    "\n",
    "and for a vector $\\mathbf{f} = (f_1, f_2, f_3)$ we obtain \n",
    "\n",
    "$$\n",
    "\\phi(\\mathbf{f}) = (f_1, f_2, f_3, f_1^2, f_2^2, f_3^2, e^{f_1}, e^{f_2}, e^{f_3}, f_1 f_2, f_2 f_3, f_1 f_3)\n",
    "$$\n",
    "\n",
    "and so on. The last example here corresponds to the case of $C = 3$ as in the model that we loaded. The probability of spike count $k$ for neuron $n$ is then computed as \n",
    "\n",
    "$$\n",
    "P_{nk} = \\text{softmax}\\left( W_n \\cdot \\phi(\\mathbf{f}_n) + \\mathbf{b}_n \\right)_k\n",
    "$$\n",
    "\n",
    "Different basis expansions $\\phi(\\cdot)$ are defined in ```scripts/lib/models.py```."
   ]
  },
  {
   "cell_type": "markdown",
   "metadata": {},
   "source": [
    "<a id=\"likelihood\"></a>\n",
    "## Count distributions"
   ]
  },
  {
   "cell_type": "code",
   "execution_count": 3,
   "metadata": {},
   "outputs": [],
   "source": [
    "likelihood_type = 'ZIP'# 'NB', 'ZIP', 'P'"
   ]
  },
  {
   "cell_type": "code",
   "execution_count": 4,
   "metadata": {},
   "outputs": [],
   "source": [
    "neurons = 1\n",
    "tbin = 0.1\n",
    "\n",
    "### count process output ###\n",
    "if likelihood_type == 'NB':\n",
    "    r_inv = 0.0*torch.ones(neurons)\n",
    "    likelihood = nprb.likelihoods.Negative_binomial(tbin, neurons, 'exp', r_inv)\n",
    "elif likelihood_type == 'ZIP':\n",
    "    alpha = 0.95*torch.ones(neurons)\n",
    "    likelihood = nprb.likelihoods.ZI_Poisson(tbin, neurons, 'exp', alpha)\n",
    "elif likelihood_type == 'CMP':\n",
    "    log_nu = 1.*torch.ones(neurons)\n",
    "    likelihood = nprb.likelihoods.COM_Poisson(tbin, neurons, 'exp', log_nu)\n",
    "elif likelihood_type == 'P':\n",
    "    likelihood = nprb.likelihoods.Poisson(tbin, neurons, 'exp')\n",
    "\n",
    "### set data ###\n",
    "max_count = 10\n",
    "spikes = torch.arange(max_count)[None, :]\n",
    "likelihood.set_Y(spikes, max_count)\n",
    "\n",
    "### compute NLL ###\n",
    "trials = 2\n",
    "rates = 10.0*torch.ones(trials, neurons, max_count) # primary parameter\n",
    "#disper_param = 0.1*torch.ones(trials, neurons, max_count) # dispersion parameter\n",
    "nll = likelihood.nll(0, rates, spikes*torch.log(rates), spikes, range(neurons))#, disper_param=disper_param)"
   ]
  },
  {
   "cell_type": "code",
   "execution_count": 5,
   "metadata": {},
   "outputs": [
    {
     "data": {
      "image/png": "[encoded data removed]",
      "text/plain": [
       "<Figure size 432x288 with 1 Axes>"
      ]
     },
     "metadata": {
      "needs_background": "light"
     },
     "output_type": "display_data"
    }
   ],
   "source": [
    "plt.plot(spikes[0, :], np.exp(-nll.data.numpy()[0, :]))\n",
    "bins = np.arange(max_count)\n",
    "\n",
    "if likelihood_type == 'NB':\n",
    "    prbs = utils.stats.nb_count_prob(\n",
    "        bins, rates[0, 0, 0].numpy()*likelihood.tbin.item(), r_inv[0].item(), 1.0)\n",
    "elif likelihood_type == 'ZIP':\n",
    "    prbs = utils.stats.zip_count_prob(\n",
    "        bins, rates[0, 0, 0].numpy()*likelihood.tbin.item(), alpha[0].item(), 1.0)\n",
    "elif likelihood_type == 'CMP':\n",
    "    prbs = utils.stats.cmp_count_prob(\n",
    "        bins, rates[0, 0, 0].numpy()*likelihood.tbin.item(), np.exp(log_nu[0].item()), 1.0)\n",
    "elif likelihood_type == 'P':\n",
    "    prbs = utils.stats.poiss_count_prob(\n",
    "        bins, rates[0, 0, 0].numpy()*likelihood.tbin.item(), None, 1.0)\n",
    "    \n",
    "plt.plot(bins, prbs, 'r.', label=r'numpy')\n",
    "plt.legend()\n",
    "plt.show()"
   ]
  },
  {
   "cell_type": "code",
   "execution_count": 6,
   "metadata": {},
   "outputs": [
    {
     "ename": "TypeError",
     "evalue": "__init__() missing 1 required positional argument: 'neurons'",
     "output_type": "error",
     "traceback": [
      "\u001b[0;31m---------------------------------------------------------------------------\u001b[0m",
      "\u001b[0;31mTypeError\u001b[0m                                 Traceback (most recent call last)",
      "\u001b[0;32m<ipython-input-6-046f7351bb2e>\u001b[0m in \u001b[0;36m<module>\u001b[0;34m\u001b[0m\n\u001b[1;32m      1\u001b[0m \u001b[0;31m### sample ###\u001b[0m\u001b[0;34m\u001b[0m\u001b[0;34m\u001b[0m\u001b[0;34m\u001b[0m\u001b[0m\n\u001b[1;32m      2\u001b[0m \u001b[0mrate\u001b[0m \u001b[0;34m=\u001b[0m \u001b[0mnp\u001b[0m\u001b[0;34m.\u001b[0m\u001b[0mlinspace\u001b[0m\u001b[0;34m(\u001b[0m\u001b[0;36m0\u001b[0m\u001b[0;34m,\u001b[0m \u001b[0;36m10\u001b[0m\u001b[0;34m,\u001b[0m \u001b[0;36m100\u001b[0m\u001b[0;34m)\u001b[0m\u001b[0;34m[\u001b[0m\u001b[0;32mNone\u001b[0m\u001b[0;34m,\u001b[0m \u001b[0;32mNone\u001b[0m\u001b[0;34m,\u001b[0m \u001b[0;34m:\u001b[0m\u001b[0;34m]\u001b[0m\u001b[0;34m.\u001b[0m\u001b[0mrepeat\u001b[0m\u001b[0;34m(\u001b[0m\u001b[0;36m100\u001b[0m\u001b[0;34m,\u001b[0m \u001b[0maxis\u001b[0m\u001b[0;34m=\u001b[0m\u001b[0;36m0\u001b[0m\u001b[0;34m)\u001b[0m\u001b[0;34m*\u001b[0m\u001b[0;36m10\u001b[0m\u001b[0;34m\u001b[0m\u001b[0;34m\u001b[0m\u001b[0m\n\u001b[0;32m----> 3\u001b[0;31m \u001b[0msyn_train\u001b[0m \u001b[0;34m=\u001b[0m \u001b[0mlikelihood\u001b[0m\u001b[0;34m.\u001b[0m\u001b[0msample\u001b[0m\u001b[0;34m(\u001b[0m\u001b[0mrate\u001b[0m\u001b[0;34m,\u001b[0m \u001b[0;34m[\u001b[0m\u001b[0;36m0\u001b[0m\u001b[0;34m]\u001b[0m\u001b[0;34m,\u001b[0m \u001b[0mXZ\u001b[0m\u001b[0;34m=\u001b[0m\u001b[0;32mNone\u001b[0m\u001b[0;34m)\u001b[0m\u001b[0;34m\u001b[0m\u001b[0;34m\u001b[0m\u001b[0m\n\u001b[0m\u001b[1;32m      4\u001b[0m \u001b[0;34m\u001b[0m\u001b[0m\n\u001b[1;32m      5\u001b[0m \u001b[0;34m\u001b[0m\u001b[0m\n",
      "\u001b[0;32m~/Documents/Learning/universal-count-model/lib/neuroprob/likelihoods/discrete.py\u001b[0m in \u001b[0;36msample\u001b[0;34m(self, rate, neuron, XZ)\u001b[0m\n\u001b[1;32m    709\u001b[0m                 )\n\u001b[1;32m    710\u001b[0m \u001b[0;34m\u001b[0m\u001b[0m\n\u001b[0;32m--> 711\u001b[0;31m         \u001b[0mzero_mask\u001b[0m \u001b[0;34m=\u001b[0m \u001b[0mgen_IBP\u001b[0m\u001b[0;34m(\u001b[0m\u001b[0malpha_\u001b[0m\u001b[0;34m)\u001b[0m\u001b[0;34m\u001b[0m\u001b[0;34m\u001b[0m\u001b[0m\n\u001b[0m\u001b[1;32m    712\u001b[0m         return (1.0 - zero_mask) * torch.poisson(\n\u001b[1;32m    713\u001b[0m             \u001b[0mtorch\u001b[0m\u001b[0;34m.\u001b[0m\u001b[0mtensor\u001b[0m\u001b[0;34m(\u001b[0m\u001b[0mrate_\u001b[0m \u001b[0;34m*\u001b[0m \u001b[0mself\u001b[0m\u001b[0;34m.\u001b[0m\u001b[0mtbin\u001b[0m\u001b[0;34m.\u001b[0m\u001b[0mitem\u001b[0m\u001b[0;34m(\u001b[0m\u001b[0;34m)\u001b[0m\u001b[0;34m)\u001b[0m\u001b[0;34m\u001b[0m\u001b[0;34m\u001b[0m\u001b[0m\n",
      "\u001b[0;32m~/Documents/Learning/universal-count-model/lib/neuroprob/likelihoods/discrete.py\u001b[0m in \u001b[0;36mgen_IBP\u001b[0;34m(intensity)\u001b[0m\n\u001b[1;32m     22\u001b[0m     \u001b[0;34m:\u001b[0m\u001b[0mrtype\u001b[0m\u001b[0;34m:\u001b[0m \u001b[0mnumpy\u001b[0m\u001b[0;34m.\u001b[0m\u001b[0marray\u001b[0m\u001b[0;34m\u001b[0m\u001b[0;34m\u001b[0m\u001b[0m\n\u001b[1;32m     23\u001b[0m     \"\"\"\n\u001b[0;32m---> 24\u001b[0;31m     \u001b[0mb\u001b[0m \u001b[0;34m=\u001b[0m \u001b[0mBernoulli\u001b[0m\u001b[0;34m(\u001b[0m\u001b[0mtorch\u001b[0m\u001b[0;34m.\u001b[0m\u001b[0mtensor\u001b[0m\u001b[0;34m(\u001b[0m\u001b[0mintensity\u001b[0m\u001b[0;34m)\u001b[0m\u001b[0;34m)\u001b[0m\u001b[0;34m\u001b[0m\u001b[0;34m\u001b[0m\u001b[0m\n\u001b[0m\u001b[1;32m     25\u001b[0m     \u001b[0;32mreturn\u001b[0m \u001b[0mb\u001b[0m\u001b[0;34m.\u001b[0m\u001b[0msample\u001b[0m\u001b[0;34m(\u001b[0m\u001b[0;34m)\u001b[0m\u001b[0;34m.\u001b[0m\u001b[0mnumpy\u001b[0m\u001b[0;34m(\u001b[0m\u001b[0;34m)\u001b[0m\u001b[0;34m\u001b[0m\u001b[0;34m\u001b[0m\u001b[0m\n\u001b[1;32m     26\u001b[0m \u001b[0;34m\u001b[0m\u001b[0m\n",
      "\u001b[0;31mTypeError\u001b[0m: __init__() missing 1 required positional argument: 'neurons'"
     ]
    }
   ],
   "source": [
    "### sample ###\n",
    "rate = np.linspace(0, 10, 100)[None, None, :].repeat(100, axis=0)*10\n",
    "syn_train = likelihood.sample(rate, [0], XZ=None)\n",
    "\n",
    "\n",
    "### empirical count mean and variance ###\n",
    "m = syn_train.mean(0)\n",
    "v = syn_train.var(0)\n",
    "\n",
    "plt.scatter(m, v)\n",
    "\n",
    "nx = np.linspace(0, m.max())\n",
    "plt.plot(nx, nx*(1+nx*alpha.numpy()[0]))\n",
    "plt.show()\n",
    "\n",
    "plt.hist(syn_train.flatten(), bins=np.arange(max_count+1)-.5)\n",
    "plt.show()"
   ]
  },
  {
   "cell_type": "code",
   "execution_count": null,
   "metadata": {},
   "outputs": [],
   "source": []
  },
  {
   "cell_type": "code",
   "execution_count": 8,
   "metadata": {},
   "outputs": [
    {
     "ename": "NameError",
     "evalue": "name 'sample_bin' is not defined",
     "output_type": "error",
     "traceback": [
      "\u001b[0;31m---------------------------------------------------------------------------\u001b[0m",
      "\u001b[0;31mNameError\u001b[0m                                 Traceback (most recent call last)",
      "\u001b[0;32m<ipython-input-8-69188cea21fb>\u001b[0m in \u001b[0;36m<module>\u001b[0;34m\u001b[0m\n\u001b[1;32m      4\u001b[0m \u001b[0;34m\u001b[0m\u001b[0m\n\u001b[1;32m      5\u001b[0m \u001b[0;32mfor\u001b[0m \u001b[0mk\u001b[0m \u001b[0;32min\u001b[0m \u001b[0mrange\u001b[0m\u001b[0;34m(\u001b[0m\u001b[0;36m100\u001b[0m\u001b[0;34m)\u001b[0m\u001b[0;34m:\u001b[0m\u001b[0;34m\u001b[0m\u001b[0;34m\u001b[0m\u001b[0m\n\u001b[0;32m----> 6\u001b[0;31m     tbin, resamples, rc_t, _ = utils.neural.bin_data(bin_size, sample_bin, syn_train[k], \n\u001b[0m\u001b[1;32m      7\u001b[0m                                                             syn_train.shape[-1], (), average_behav=False, binned=True)\n\u001b[1;32m      8\u001b[0m     \u001b[0mrc_ts\u001b[0m\u001b[0;34m.\u001b[0m\u001b[0mappend\u001b[0m\u001b[0;34m(\u001b[0m\u001b[0mrc_t\u001b[0m\u001b[0;34m)\u001b[0m\u001b[0;34m\u001b[0m\u001b[0;34m\u001b[0m\u001b[0m\n",
      "\u001b[0;31mNameError\u001b[0m: name 'sample_bin' is not defined"
     ]
    }
   ],
   "source": [
    "### rebinning ###\n",
    "bin_size = 100\n",
    "rc_ts = []\n",
    "\n",
    "for k in range(100):\n",
    "    tbin, resamples, rc_t, _ = utils.neural.bin_data(bin_size, sample_bin, syn_train[k], \n",
    "                                                            syn_train.shape[-1], (), average_behav=False, binned=True)\n",
    "    rc_ts.append(rc_t)\n",
    "    \n",
    "rc_ts = np.array(rc_ts)"
   ]
  },
  {
   "cell_type": "code",
   "execution_count": 85,
   "metadata": {},
   "outputs": [
    {
     "data": {
      "image/png": "[encoded data removed]",
      "text/plain": [
       "<Figure size 432x288 with 1 Axes>"
      ]
     },
     "metadata": {
      "needs_background": "light"
     },
     "output_type": "display_data"
    }
   ],
   "source": [
    "mean_act = (rc_ts).mean(0)\n",
    "var_act = (rc_ts).var(0)\n",
    "\n",
    "plt.scatter(mean_act, var_act)\n",
    "nx = np.linspace(0, 80)\n",
    "plt.plot(nx, nx*(1+nx*r_inv.numpy()[0]))\n",
    "plt.show()"
   ]
  },
  {
   "cell_type": "markdown",
   "metadata": {},
   "source": [
    "## 2. UCM"
   ]
  },
  {
   "cell_type": "code",
   "execution_count": 24,
   "metadata": {},
   "outputs": [],
   "source": [
    "import numpy as np\n",
    "import scipy.special as sps\n",
    "\n",
    "import matplotlib.pyplot as plt"
   ]
  },
  {
   "cell_type": "code",
   "execution_count": 96,
   "metadata": {},
   "outputs": [],
   "source": [
    "K = 15\n",
    "C = 15"
   ]
  },
  {
   "cell_type": "code",
   "execution_count": 97,
   "metadata": {},
   "outputs": [],
   "source": [
    "N_samps = 3\n",
    "\n",
    "f = np.random.randn(N_samps, C)"
   ]
  },
  {
   "cell_type": "code",
   "execution_count": 98,
   "metadata": {},
   "outputs": [],
   "source": [
    "def phi(f):\n",
    "    expansion = [f, np.exp(f)]\n",
    "    expanded = np.concatenate(expansion, axis=-1)\n",
    "    return expanded  # (samps, expand_C)\n",
    "\n",
    "expand_C = 2 * C\n",
    "\n",
    "\n",
    "def compute_P(f, phi, W, b):\n",
    "    a = (W[None, ...] @ phi(f)[..., None])[..., 0] + b\n",
    "    return sps.softmax(a, axis=-1)"
   ]
  },
  {
   "cell_type": "code",
   "execution_count": 99,
   "metadata": {},
   "outputs": [],
   "source": [
    "W = np.random.randn(K + 1, expand_C) * 0.0\n",
    "W[:, C:] -= 1.\n",
    "W[:, :C] += np.arange(K + 1)[:, None]\n",
    "b = np.random.randn(K + 1) * 0.0 - sps.gammaln(np.arange(K + 1) + 1)\n",
    "\n",
    "P = compute_P(f, phi, W, b)"
   ]
  },
  {
   "cell_type": "code",
   "execution_count": 103,
   "metadata": {},
   "outputs": [
    {
     "data": {
      "image/png": "[encoded data removed]",
      "text/plain": [
       "<Figure size 576x216 with 3 Axes>"
      ]
     },
     "metadata": {
      "needs_background": "light"
     },
     "output_type": "display_data"
    }
   ],
   "source": [
    "fig, axes = plt.subplots(1, N_samps, figsize=(8, 3))\n",
    "\n",
    "for tr in range(N_samps):\n",
    "    axes[tr].bar(np.arange(K+1), P[tr, :])\n",
    "\n",
    "plt.show()"
   ]
  },
  {
   "cell_type": "code",
   "execution_count": null,
   "metadata": {},
   "outputs": [],
   "source": []
  },
  {
   "cell_type": "code",
   "execution_count": null,
   "metadata": {},
   "outputs": [],
   "source": []
  }
 ],
 "metadata": {
  "kernelspec": {
   "display_name": "python39",
   "language": "python",
   "name": "python39"
  },
  "language_info": {
   "codemirror_mode": {
    "name": "ipython",
    "version": 3
   },
   "file_extension": ".py",
   "mimetype": "text/x-python",
   "name": "python",
   "nbconvert_exporter": "python",
   "pygments_lexer": "ipython3",
   "version": "3.9.16"
  }
 },
 "nbformat": 4,
 "nbformat_minor": 4
}
