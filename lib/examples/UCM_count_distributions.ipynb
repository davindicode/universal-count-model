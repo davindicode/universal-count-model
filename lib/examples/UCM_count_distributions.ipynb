{
 "cells": [
  {
   "cell_type": "markdown",
   "metadata": {},
   "source": [
    "# Universal Count Model\n",
    "\n",
    "Comparison to baselines\n",
    "\n",
    "### Table of contents\n",
    "\n",
    "1. [**Count distributions**](#likelihood)\n",
    "2. [**Universal Count Model likelihood**](#ucm)\n"
   ]
  },
  {
   "cell_type": "code",
   "execution_count": 5,
   "metadata": {},
   "outputs": [
    {
     "name": "stdout",
     "output_type": "stream",
     "text": [
      "PyTorch version: 1.13.0+cu117\n",
      "Using device: cuda:0\n"
     ]
    }
   ],
   "source": [
    "import torch\n",
    "import torch.nn as nn\n",
    "import torch.optim as optim\n",
    "from torch.nn import Parameter\n",
    "\n",
    "import matplotlib.pyplot as plt\n",
    "\n",
    "import numpy as np\n",
    "import scipy.special as sps\n",
    "\n",
    "import sys\n",
    "sys.path.append(\"..\")\n",
    "\n",
    "import neuroprob as nprb\n",
    "from neuroprob import utils\n",
    "\n",
    "\n",
    "dev = nprb.inference.get_device()"
   ]
  },
  {
   "cell_type": "markdown",
   "metadata": {},
   "source": [
    "<a id=\"likelihood\"></a>\n",
    "## 1. Count distributions"
   ]
  },
  {
   "cell_type": "code",
   "execution_count": 6,
   "metadata": {},
   "outputs": [],
   "source": [
    "likelihood_type = 'ZIP'# 'NB', 'ZIP', 'P'"
   ]
  },
  {
   "cell_type": "code",
   "execution_count": 7,
   "metadata": {},
   "outputs": [],
   "source": [
    "neurons = 1\n",
    "tbin = 0.1\n",
    "\n",
    "### count process output ###\n",
    "if likelihood_type == 'NB':\n",
    "    r_inv = 0.0*torch.ones(neurons)\n",
    "    likelihood = nprb.likelihoods.Negative_binomial(tbin, neurons, 'exp', r_inv)\n",
    "elif likelihood_type == 'ZIP':\n",
    "    alpha = 0.95*torch.ones(neurons)\n",
    "    likelihood = nprb.likelihoods.ZI_Poisson(tbin, neurons, 'exp', alpha)\n",
    "elif likelihood_type == 'CMP':\n",
    "    log_nu = 1.*torch.ones(neurons)\n",
    "    likelihood = nprb.likelihoods.COM_Poisson(tbin, neurons, 'exp', log_nu)\n",
    "elif likelihood_type == 'P':\n",
    "    likelihood = nprb.likelihoods.Poisson(tbin, neurons, 'exp')\n",
    "\n",
    "### set data ###\n",
    "max_count = 10\n",
    "spikes = torch.arange(max_count)[None, :]\n",
    "likelihood.set_Y(spikes, max_count)\n",
    "\n",
    "### compute NLL ###\n",
    "trials = 2\n",
    "rates = 10.0*torch.ones(trials, neurons, max_count) # primary parameter\n",
    "#disper_param = 0.1*torch.ones(trials, neurons, max_count) # dispersion parameter\n",
    "nll = likelihood.nll(0, rates, spikes*torch.log(rates), spikes, range(neurons))#, disper_param=disper_param)"
   ]
  },
  {
   "cell_type": "code",
   "execution_count": 8,
   "metadata": {},
   "outputs": [
    {
     "data": {
      "image/png": "[encoded data removed]",
      "text/plain": [
       "<Figure size 432x288 with 1 Axes>"
      ]
     },
     "metadata": {
      "needs_background": "light"
     },
     "output_type": "display_data"
    }
   ],
   "source": [
    "plt.plot(spikes[0, :], np.exp(-nll.data.numpy()[0, :]))\n",
    "bins = np.arange(max_count)\n",
    "\n",
    "if likelihood_type == 'NB':\n",
    "    prbs = utils.stats.nb_count_prob(\n",
    "        bins, rates[0, 0, 0].numpy()*likelihood.tbin.item(), r_inv[0].item(), 1.0)\n",
    "elif likelihood_type == 'ZIP':\n",
    "    prbs = utils.stats.zip_count_prob(\n",
    "        bins, rates[0, 0, 0].numpy()*likelihood.tbin.item(), alpha[0].item(), 1.0)\n",
    "elif likelihood_type == 'CMP':\n",
    "    prbs = utils.stats.cmp_count_prob(\n",
    "        bins, rates[0, 0, 0].numpy()*likelihood.tbin.item(), np.exp(log_nu[0].item()), 1.0)\n",
    "elif likelihood_type == 'P':\n",
    "    prbs = utils.stats.poiss_count_prob(\n",
    "        bins, rates[0, 0, 0].numpy()*likelihood.tbin.item(), None, 1.0)\n",
    "    \n",
    "plt.plot(bins, prbs, 'r.', label=r'numpy')\n",
    "plt.legend()\n",
    "plt.show()"
   ]
  },
  {
   "cell_type": "code",
   "execution_count": 9,
   "metadata": {},
   "outputs": [
    {
     "data": {
      "image/png": "[encoded data removed]",
      "text/plain": [
       "<Figure size 432x288 with 1 Axes>"
      ]
     },
     "metadata": {
      "needs_background": "light"
     },
     "output_type": "display_data"
    },
    {
     "data": {
      "image/png": "[encoded data removed]",
      "text/plain": [
       "<Figure size 432x288 with 1 Axes>"
      ]
     },
     "metadata": {
      "needs_background": "light"
     },
     "output_type": "display_data"
    }
   ],
   "source": [
    "### sample ###\n",
    "rate = np.linspace(0, 10, 100)[None, None, :].repeat(100, axis=0)*10\n",
    "syn_train = likelihood.sample(rate, [0], XZ=None)\n",
    "\n",
    "\n",
    "### empirical count mean and variance ###\n",
    "m = syn_train.mean(0)\n",
    "v = syn_train.var(0)\n",
    "\n",
    "plt.scatter(m, v)\n",
    "\n",
    "nx = np.linspace(0, m.max())\n",
    "plt.plot(nx, nx*(1+nx*alpha.numpy()[0]))\n",
    "plt.show()\n",
    "\n",
    "plt.hist(syn_train.flatten(), bins=np.arange(max_count+1)-.5)\n",
    "plt.show()"
   ]
  },
  {
   "cell_type": "code",
   "execution_count": null,
   "metadata": {},
   "outputs": [],
   "source": []
  },
  {
   "cell_type": "code",
   "execution_count": 10,
   "metadata": {},
   "outputs": [
    {
     "ename": "NameError",
     "evalue": "name 'sample_bin' is not defined",
     "output_type": "error",
     "traceback": [
      "\u001b[0;31m---------------------------------------------------------------------------\u001b[0m",
      "\u001b[0;31mNameError\u001b[0m                                 Traceback (most recent call last)",
      "Input \u001b[0;32mIn [10]\u001b[0m, in \u001b[0;36m<cell line: 5>\u001b[0;34m()\u001b[0m\n\u001b[1;32m      3\u001b[0m rc_ts \u001b[38;5;241m=\u001b[39m []\n\u001b[1;32m      5\u001b[0m \u001b[38;5;28;01mfor\u001b[39;00m k \u001b[38;5;129;01min\u001b[39;00m \u001b[38;5;28mrange\u001b[39m(\u001b[38;5;241m100\u001b[39m):\n\u001b[0;32m----> 6\u001b[0m     tbin, resamples, rc_t, _ \u001b[38;5;241m=\u001b[39m utils\u001b[38;5;241m.\u001b[39mneural\u001b[38;5;241m.\u001b[39mbin_data(bin_size, \u001b[43msample_bin\u001b[49m, syn_train[k], \n\u001b[1;32m      7\u001b[0m                                                             syn_train\u001b[38;5;241m.\u001b[39mshape[\u001b[38;5;241m-\u001b[39m\u001b[38;5;241m1\u001b[39m], (), average_behav\u001b[38;5;241m=\u001b[39m\u001b[38;5;28;01mFalse\u001b[39;00m, binned\u001b[38;5;241m=\u001b[39m\u001b[38;5;28;01mTrue\u001b[39;00m)\n\u001b[1;32m      8\u001b[0m     rc_ts\u001b[38;5;241m.\u001b[39mappend(rc_t)\n\u001b[1;32m     10\u001b[0m rc_ts \u001b[38;5;241m=\u001b[39m np\u001b[38;5;241m.\u001b[39marray(rc_ts)\n",
      "\u001b[0;31mNameError\u001b[0m: name 'sample_bin' is not defined"
     ]
    }
   ],
   "source": [
    "### rebinning ###\n",
    "bin_size = 100\n",
    "rc_ts = []\n",
    "\n",
    "for k in range(100):\n",
    "    tbin, resamples, rc_t, _ = utils.neural.bin_data(bin_size, sample_bin, syn_train[k], \n",
    "                                                            syn_train.shape[-1], (), average_behav=False, binned=True)\n",
    "    rc_ts.append(rc_t)\n",
    "    \n",
    "rc_ts = np.array(rc_ts)"
   ]
  },
  {
   "cell_type": "code",
   "execution_count": 85,
   "metadata": {},
   "outputs": [
    {
     "data": {
      "image/png": "[encoded data removed]",
      "text/plain": [
       "<Figure size 432x288 with 1 Axes>"
      ]
     },
     "metadata": {
      "needs_background": "light"
     },
     "output_type": "display_data"
    }
   ],
   "source": [
    "mean_act = (rc_ts).mean(0)\n",
    "var_act = (rc_ts).var(0)\n",
    "\n",
    "plt.scatter(mean_act, var_act)\n",
    "nx = np.linspace(0, 80)\n",
    "plt.plot(nx, nx*(1+nx*r_inv.numpy()[0]))\n",
    "plt.show()"
   ]
  },
  {
   "cell_type": "markdown",
   "metadata": {},
   "source": [
    "## 2. UCM\n",
    "\n",
    "The above only holds for one covariate dimension that we looked at. To look at the intrinsic degree of freedom for a neuron, it may be more informative and convenient to look at the softmax weights and biases that connect the GP functions to the spike count distribution. We now load the pre-softmax weights and biases. Each neuron has its own set of weights and biases $W_n$ and $\\mathbf{b}_n$. Note we used a exponential-quadratic expansion for $\\phi(\\cdot)$. This expansion combines the quadratic basis expansion with an exponential mapping, i.e. for a vector $\\mathbf{f} = (f_1, f_2)$ we obtain \n",
    "\n",
    "$$\n",
    "\\phi(\\mathbf{f}) = (f_1, f_2, f_1^2, f_2^2, e^{f_1}, e^{f_2}, f_1 f_2)\n",
    "$$\n",
    "\n",
    "and for a vector $\\mathbf{f} = (f_1, f_2, f_3)$ we obtain \n",
    "\n",
    "$$\n",
    "\\phi(\\mathbf{f}) = (f_1, f_2, f_3, f_1^2, f_2^2, f_3^2, e^{f_1}, e^{f_2}, e^{f_3}, f_1 f_2, f_2 f_3, f_1 f_3)\n",
    "$$\n",
    "\n",
    "and so on. The last example here corresponds to the case of $C = 3$ as in the model that we loaded. The probability of spike count $k$ for neuron $n$ is then computed as \n",
    "\n",
    "$$\n",
    "P_{nk} = \\text{softmax}\\left( W_n \\cdot \\phi(\\mathbf{f}_n) + \\mathbf{b}_n \\right)_k\n",
    "$$\n",
    "\n",
    "Different basis expansions $\\phi(\\cdot)$ are defined in ```scripts/lib/models.py```."
   ]
  },
  {
   "cell_type": "code",
   "execution_count": 24,
   "metadata": {},
   "outputs": [],
   "source": []
  },
  {
   "cell_type": "code",
   "execution_count": 96,
   "metadata": {},
   "outputs": [],
   "source": [
    "K = 15\n",
    "C = 15"
   ]
  },
  {
   "cell_type": "code",
   "execution_count": 97,
   "metadata": {},
   "outputs": [],
   "source": [
    "N_samps = 3\n",
    "\n",
    "f = np.random.randn(N_samps, C)"
   ]
  },
  {
   "cell_type": "code",
   "execution_count": 98,
   "metadata": {},
   "outputs": [],
   "source": [
    "def phi(f):\n",
    "    expansion = [f, np.exp(f)]\n",
    "    expanded = np.concatenate(expansion, axis=-1)\n",
    "    return expanded  # (samps, expand_C)\n",
    "\n",
    "expand_C = 2 * C\n",
    "\n",
    "\n",
    "def compute_P(f, phi, W, b):\n",
    "    a = (W[None, ...] @ phi(f)[..., None])[..., 0] + b\n",
    "    return sps.softmax(a, axis=-1)"
   ]
  },
  {
   "cell_type": "code",
   "execution_count": 99,
   "metadata": {},
   "outputs": [],
   "source": [
    "W = np.random.randn(K + 1, expand_C) * 0.0\n",
    "W[:, C:] -= 1.\n",
    "W[:, :C] += np.arange(K + 1)[:, None]\n",
    "b = np.random.randn(K + 1) * 0.0 - sps.gammaln(np.arange(K + 1) + 1)\n",
    "\n",
    "P = compute_P(f, phi, W, b)"
   ]
  },
  {
   "cell_type": "code",
   "execution_count": 103,
   "metadata": {},
   "outputs": [
    {
     "data": {
      "image/png": "[encoded data removed]",
      "text/plain": [
       "<Figure size 576x216 with 3 Axes>"
      ]
     },
     "metadata": {
      "needs_background": "light"
     },
     "output_type": "display_data"
    }
   ],
   "source": [
    "fig, axes = plt.subplots(1, N_samps, figsize=(8, 3))\n",
    "\n",
    "for tr in range(N_samps):\n",
    "    axes[tr].bar(np.arange(K+1), P[tr, :])\n",
    "\n",
    "plt.show()"
   ]
  },
  {
   "cell_type": "code",
   "execution_count": null,
   "metadata": {},
   "outputs": [],
   "source": []
  },
  {
   "cell_type": "code",
   "execution_count": null,
   "metadata": {},
   "outputs": [],
   "source": []
  }
 ],
 "metadata": {
  "kernelspec": {
   "display_name": "python39",
   "language": "python",
   "name": "python39"
  },
  "language_info": {
   "codemirror_mode": {
    "name": "ipython",
    "version": 3
   },
   "file_extension": ".py",
   "mimetype": "text/x-python",
   "name": "python",
   "nbconvert_exporter": "python",
   "pygments_lexer": "ipython3",
   "version": "3.9.16"
  }
 },
 "nbformat": 4,
 "nbformat_minor": 4
}
