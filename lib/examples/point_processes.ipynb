{
 "cells": [
  {
   "cell_type": "code",
   "execution_count": 2,
   "metadata": {},
   "outputs": [],
   "source": [
    "%load_ext autoreload\n",
    "%autoreload 2\n",
    "\n",
    "import torch\n",
    "import torch.optim as optim\n",
    "\n",
    "import matplotlib.pyplot as plt\n",
    "import numpy as np\n",
    "\n",
    "\n",
    "import sys\n",
    "sys.path.append(\"..\")"
   ]
  },
  {
   "cell_type": "code",
   "execution_count": null,
   "metadata": {},
   "outputs": [],
   "source": []
  },
  {
   "cell_type": "markdown",
   "metadata": {},
   "source": [
    "### Refractory Poisson\n",
    "\n",
    "There are two ways to simulate it: with the GLM framework or with the time-rescaled renewal processes"
   ]
  },
  {
   "cell_type": "code",
   "execution_count": 3,
   "metadata": {},
   "outputs": [
    {
     "name": "stdout",
     "output_type": "stream",
     "text": [
      "PyTorch version: 1.7.1+cu101\n",
      "Using device: cuda:0\n"
     ]
    }
   ],
   "source": [
    "import neuroprob as mdl\n",
    "from neuroprob import utils\n",
    "\n",
    "dev = utils.pytorch.get_device() # PyTorch device"
   ]
  },
  {
   "cell_type": "code",
   "execution_count": 53,
   "metadata": {
    "scrolled": true
   },
   "outputs": [
    {
     "data": {
      "application/vnd.jupyter.widget-view+json": {
       "model_id": "",
       "version_major": 2,
       "version_minor": 0
      },
      "text/plain": [
       "HBox(children=(FloatProgress(value=0.0), HTML(value='')))"
      ]
     },
     "metadata": {},
     "output_type": "display_data"
    },
    {
     "data": {
      "application/vnd.jupyter.widget-view+json": {
       "model_id": "",
       "version_major": 2,
       "version_minor": 0
      },
      "text/plain": [
       "HBox(children=(FloatProgress(value=0.0), HTML(value='')))"
      ]
     },
     "metadata": {},
     "output_type": "display_data"
    },
    {
     "data": {
      "application/vnd.jupyter.widget-view+json": {
       "model_id": "",
       "version_major": 2,
       "version_minor": 0
      },
      "text/plain": [
       "HBox(children=(FloatProgress(value=0.0), HTML(value='')))"
      ]
     },
     "metadata": {},
     "output_type": "display_data"
    },
    {
     "data": {
      "application/vnd.jupyter.widget-view+json": {
       "model_id": "",
       "version_major": 2,
       "version_minor": 0
      },
      "text/plain": [
       "HBox(children=(FloatProgress(value=0.0), HTML(value='')))"
      ]
     },
     "metadata": {},
     "output_type": "display_data"
    },
    {
     "data": {
      "application/vnd.jupyter.widget-view+json": {
       "model_id": "",
       "version_major": 2,
       "version_minor": 0
      },
      "text/plain": [
       "HBox(children=(FloatProgress(value=0.0), HTML(value='')))"
      ]
     },
     "metadata": {},
     "output_type": "display_data"
    },
    {
     "data": {
      "application/vnd.jupyter.widget-view+json": {
       "model_id": "",
       "version_major": 2,
       "version_minor": 0
      },
      "text/plain": [
       "HBox(children=(FloatProgress(value=0.0), HTML(value='')))"
      ]
     },
     "metadata": {},
     "output_type": "display_data"
    },
    {
     "data": {
      "application/vnd.jupyter.widget-view+json": {
       "model_id": "",
       "version_major": 2,
       "version_minor": 0
      },
      "text/plain": [
       "HBox(children=(FloatProgress(value=0.0), HTML(value='')))"
      ]
     },
     "metadata": {},
     "output_type": "display_data"
    },
    {
     "data": {
      "application/vnd.jupyter.widget-view+json": {
       "model_id": "",
       "version_major": 2,
       "version_minor": 0
      },
      "text/plain": [
       "HBox(children=(FloatProgress(value=0.0), HTML(value='')))"
      ]
     },
     "metadata": {},
     "output_type": "display_data"
    },
    {
     "data": {
      "application/vnd.jupyter.widget-view+json": {
       "model_id": "",
       "version_major": 2,
       "version_minor": 0
      },
      "text/plain": [
       "HBox(children=(FloatProgress(value=0.0), HTML(value='')))"
      ]
     },
     "metadata": {},
     "output_type": "display_data"
    },
    {
     "data": {
      "application/vnd.jupyter.widget-view+json": {
       "model_id": "",
       "version_major": 2,
       "version_minor": 0
      },
      "text/plain": [
       "HBox(children=(FloatProgress(value=0.0), HTML(value='')))"
      ]
     },
     "metadata": {},
     "output_type": "display_data"
    },
    {
     "data": {
      "application/vnd.jupyter.widget-view+json": {
       "model_id": "",
       "version_major": 2,
       "version_minor": 0
      },
      "text/plain": [
       "HBox(children=(FloatProgress(value=0.0), HTML(value='')))"
      ]
     },
     "metadata": {},
     "output_type": "display_data"
    },
    {
     "data": {
      "application/vnd.jupyter.widget-view+json": {
       "model_id": "",
       "version_major": 2,
       "version_minor": 0
      },
      "text/plain": [
       "HBox(children=(FloatProgress(value=0.0), HTML(value='')))"
      ]
     },
     "metadata": {},
     "output_type": "display_data"
    },
    {
     "data": {
      "application/vnd.jupyter.widget-view+json": {
       "model_id": "",
       "version_major": 2,
       "version_minor": 0
      },
      "text/plain": [
       "HBox(children=(FloatProgress(value=0.0), HTML(value='')))"
      ]
     },
     "metadata": {},
     "output_type": "display_data"
    },
    {
     "data": {
      "application/vnd.jupyter.widget-view+json": {
       "model_id": "",
       "version_major": 2,
       "version_minor": 0
      },
      "text/plain": [
       "HBox(children=(FloatProgress(value=0.0), HTML(value='')))"
      ]
     },
     "metadata": {},
     "output_type": "display_data"
    },
    {
     "data": {
      "application/vnd.jupyter.widget-view+json": {
       "model_id": "",
       "version_major": 2,
       "version_minor": 0
      },
      "text/plain": [
       "HBox(children=(FloatProgress(value=0.0), HTML(value='')))"
      ]
     },
     "metadata": {},
     "output_type": "display_data"
    },
    {
     "data": {
      "application/vnd.jupyter.widget-view+json": {
       "model_id": "",
       "version_major": 2,
       "version_minor": 0
      },
      "text/plain": [
       "HBox(children=(FloatProgress(value=0.0), HTML(value='')))"
      ]
     },
     "metadata": {},
     "output_type": "display_data"
    },
    {
     "data": {
      "application/vnd.jupyter.widget-view+json": {
       "model_id": "",
       "version_major": 2,
       "version_minor": 0
      },
      "text/plain": [
       "HBox(children=(FloatProgress(value=0.0), HTML(value='')))"
      ]
     },
     "metadata": {},
     "output_type": "display_data"
    },
    {
     "data": {
      "application/vnd.jupyter.widget-view+json": {
       "model_id": "",
       "version_major": 2,
       "version_minor": 0
      },
      "text/plain": [
       "HBox(children=(FloatProgress(value=0.0), HTML(value='')))"
      ]
     },
     "metadata": {},
     "output_type": "display_data"
    },
    {
     "data": {
      "application/vnd.jupyter.widget-view+json": {
       "model_id": "",
       "version_major": 2,
       "version_minor": 0
      },
      "text/plain": [
       "HBox(children=(FloatProgress(value=0.0), HTML(value='')))"
      ]
     },
     "metadata": {},
     "output_type": "display_data"
    },
    {
     "data": {
      "application/vnd.jupyter.widget-view+json": {
       "model_id": "",
       "version_major": 2,
       "version_minor": 0
      },
      "text/plain": [
       "HBox(children=(FloatProgress(value=0.0), HTML(value='')))"
      ]
     },
     "metadata": {},
     "output_type": "display_data"
    },
    {
     "data": {
      "application/vnd.jupyter.widget-view+json": {
       "model_id": "",
       "version_major": 2,
       "version_minor": 0
      },
      "text/plain": [
       "HBox(children=(FloatProgress(value=0.0), HTML(value='')))"
      ]
     },
     "metadata": {},
     "output_type": "display_data"
    },
    {
     "data": {
      "application/vnd.jupyter.widget-view+json": {
       "model_id": "",
       "version_major": 2,
       "version_minor": 0
      },
      "text/plain": [
       "HBox(children=(FloatProgress(value=0.0), HTML(value='')))"
      ]
     },
     "metadata": {},
     "output_type": "display_data"
    },
    {
     "data": {
      "application/vnd.jupyter.widget-view+json": {
       "model_id": "",
       "version_major": 2,
       "version_minor": 0
      },
      "text/plain": [
       "HBox(children=(FloatProgress(value=0.0), HTML(value='')))"
      ]
     },
     "metadata": {},
     "output_type": "display_data"
    },
    {
     "data": {
      "application/vnd.jupyter.widget-view+json": {
       "model_id": "",
       "version_major": 2,
       "version_minor": 0
      },
      "text/plain": [
       "HBox(children=(FloatProgress(value=0.0), HTML(value='')))"
      ]
     },
     "metadata": {},
     "output_type": "display_data"
    },
    {
     "data": {
      "application/vnd.jupyter.widget-view+json": {
       "model_id": "",
       "version_major": 2,
       "version_minor": 0
      },
      "text/plain": [
       "HBox(children=(FloatProgress(value=0.0), HTML(value='')))"
      ]
     },
     "metadata": {},
     "output_type": "display_data"
    },
    {
     "data": {
      "application/vnd.jupyter.widget-view+json": {
       "model_id": "",
       "version_major": 2,
       "version_minor": 0
      },
      "text/plain": [
       "HBox(children=(FloatProgress(value=0.0), HTML(value='')))"
      ]
     },
     "metadata": {},
     "output_type": "display_data"
    },
    {
     "data": {
      "application/vnd.jupyter.widget-view+json": {
       "model_id": "",
       "version_major": 2,
       "version_minor": 0
      },
      "text/plain": [
       "HBox(children=(FloatProgress(value=0.0), HTML(value='')))"
      ]
     },
     "metadata": {},
     "output_type": "display_data"
    },
    {
     "data": {
      "application/vnd.jupyter.widget-view+json": {
       "model_id": "",
       "version_major": 2,
       "version_minor": 0
      },
      "text/plain": [
       "HBox(children=(FloatProgress(value=0.0), HTML(value='')))"
      ]
     },
     "metadata": {},
     "output_type": "display_data"
    },
    {
     "data": {
      "application/vnd.jupyter.widget-view+json": {
       "model_id": "",
       "version_major": 2,
       "version_minor": 0
      },
      "text/plain": [
       "HBox(children=(FloatProgress(value=0.0), HTML(value='')))"
      ]
     },
     "metadata": {},
     "output_type": "display_data"
    },
    {
     "data": {
      "application/vnd.jupyter.widget-view+json": {
       "model_id": "",
       "version_major": 2,
       "version_minor": 0
      },
      "text/plain": [
       "HBox(children=(FloatProgress(value=0.0), HTML(value='')))"
      ]
     },
     "metadata": {},
     "output_type": "display_data"
    },
    {
     "data": {
      "application/vnd.jupyter.widget-view+json": {
       "model_id": "",
       "version_major": 2,
       "version_minor": 0
      },
      "text/plain": [
       "HBox(children=(FloatProgress(value=0.0), HTML(value='')))"
      ]
     },
     "metadata": {},
     "output_type": "display_data"
    },
    {
     "data": {
      "application/vnd.jupyter.widget-view+json": {
       "model_id": "",
       "version_major": 2,
       "version_minor": 0
      },
      "text/plain": [
       "HBox(children=(FloatProgress(value=0.0), HTML(value='')))"
      ]
     },
     "metadata": {},
     "output_type": "display_data"
    },
    {
     "data": {
      "application/vnd.jupyter.widget-view+json": {
       "model_id": "",
       "version_major": 2,
       "version_minor": 0
      },
      "text/plain": [
       "HBox(children=(FloatProgress(value=0.0), HTML(value='')))"
      ]
     },
     "metadata": {},
     "output_type": "display_data"
    },
    {
     "data": {
      "application/vnd.jupyter.widget-view+json": {
       "model_id": "",
       "version_major": 2,
       "version_minor": 0
      },
      "text/plain": [
       "HBox(children=(FloatProgress(value=0.0), HTML(value='')))"
      ]
     },
     "metadata": {},
     "output_type": "display_data"
    },
    {
     "data": {
      "application/vnd.jupyter.widget-view+json": {
       "model_id": "",
       "version_major": 2,
       "version_minor": 0
      },
      "text/plain": [
       "HBox(children=(FloatProgress(value=0.0), HTML(value='')))"
      ]
     },
     "metadata": {},
     "output_type": "display_data"
    },
    {
     "data": {
      "application/vnd.jupyter.widget-view+json": {
       "model_id": "",
       "version_major": 2,
       "version_minor": 0
      },
      "text/plain": [
       "HBox(children=(FloatProgress(value=0.0), HTML(value='')))"
      ]
     },
     "metadata": {},
     "output_type": "display_data"
    },
    {
     "data": {
      "application/vnd.jupyter.widget-view+json": {
       "model_id": "",
       "version_major": 2,
       "version_minor": 0
      },
      "text/plain": [
       "HBox(children=(FloatProgress(value=0.0), HTML(value='')))"
      ]
     },
     "metadata": {},
     "output_type": "display_data"
    },
    {
     "data": {
      "application/vnd.jupyter.widget-view+json": {
       "model_id": "",
       "version_major": 2,
       "version_minor": 0
      },
      "text/plain": [
       "HBox(children=(FloatProgress(value=0.0), HTML(value='')))"
      ]
     },
     "metadata": {},
     "output_type": "display_data"
    },
    {
     "data": {
      "application/vnd.jupyter.widget-view+json": {
       "model_id": "",
       "version_major": 2,
       "version_minor": 0
      },
      "text/plain": [
       "HBox(children=(FloatProgress(value=0.0), HTML(value='')))"
      ]
     },
     "metadata": {},
     "output_type": "display_data"
    },
    {
     "data": {
      "application/vnd.jupyter.widget-view+json": {
       "model_id": "",
       "version_major": 2,
       "version_minor": 0
      },
      "text/plain": [
       "HBox(children=(FloatProgress(value=0.0), HTML(value='')))"
      ]
     },
     "metadata": {},
     "output_type": "display_data"
    }
   ],
   "source": [
    "tbin = 0.001\n",
    "Tsteps = 1000\n",
    "refracts = [0.0, 0.001, 0.002, 0.004]\n",
    "rp = np.ones((10000, 1, Tsteps))\n",
    "cnts = []\n",
    "rate_n = 10\n",
    "\n",
    "for refract in refracts:\n",
    "    for rate in np.linspace(1, 30, rate_n):\n",
    "        ISI_dist = mdl.point_process.ISI_gamma(np.ones(1), loc=rate*refract)\n",
    "        spike_ind = mdl.point_process.gen_IRP(ISI_dist, rate*rp, tbin)\n",
    "        cnts.append(np.array([len(s) for s in spike_ind]))"
   ]
  },
  {
   "cell_type": "code",
   "execution_count": 54,
   "metadata": {},
   "outputs": [],
   "source": [
    "cnts = np.array(cnts).reshape(len(refracts), rate_n, -1)"
   ]
  },
  {
   "cell_type": "code",
   "execution_count": 55,
   "metadata": {},
   "outputs": [
    {
     "data": {
      "text/plain": [
       "<matplotlib.legend.Legend at 0x7f8c37c1be10>"
      ]
     },
     "execution_count": 55,
     "metadata": {},
     "output_type": "execute_result"
    },
    {
     "data": {
      "image/png": "[encoded data removed]",
      "text/plain": [
       "<Figure size 432x288 with 1 Axes>"
      ]
     },
     "metadata": {
      "needs_background": "light"
     },
     "output_type": "display_data"
    }
   ],
   "source": [
    "for k, r in enumerate(refracts):\n",
    "    plt.plot(cnts.mean(-1)[k, :], (cnts.var(-1)/cnts.mean(-1))[k, :], label='{} ms'.format(r*1000))\n",
    "    \n",
    "plt.legend()"
   ]
  },
  {
   "cell_type": "code",
   "execution_count": null,
   "metadata": {},
   "outputs": [],
   "source": [
    "# IPP-GLM with refractory\n",
    "T = 50000\n",
    "runs = 10\n",
    "\n",
    "#T_int = 0\n",
    "I_ext = np.zeros((runs, T))\n",
    "\n",
    "sample_bin = 0.001\n",
    "        \n",
    "for r in range(runs):    \n",
    "    I_ext[r, :] = r/5.\n"
   ]
  },
  {
   "cell_type": "code",
   "execution_count": null,
   "metadata": {},
   "outputs": [],
   "source": [
    "hist_len = 100\n",
    "VI_tuples = [(None, None, None, 1)]\n",
    "covariates = [I_ext[:, :, None]]\n",
    "\n",
    "input_group = mdl.inference.input_group(1, VI_tuples, stimulus_filter=None)\n",
    "input_group.set_XZ(covariates, T, batch_size=5000, filter_len=hist_len, trials=runs)\n",
    "\n",
    "\n",
    "\n",
    "# GLM validation with synthetic GLM data\n",
    "#ivlink = 'exp'\n",
    "ivlink = lambda x: torch.sigmoid(x)/sample_bin\n",
    "\n",
    "glm_rate = mdl.parametrics.GLM(1, 1, 1, ivlink, bias=True)\n",
    "glm_rate.set_params(np.array([[1.0]]), np.array([[-5.0]]))\n",
    "\n",
    "_likelihood = mdl.likelihoods.Bernoulli(sample_bin, 1, ivlink)\n",
    "\n",
    "syn_trains = []\n",
    "taus = [0., 1., 2., 4.]\n",
    "for tau_ in taus:\n",
    "    a = np.array([[[-10.0]]])\n",
    "    beta = np.array([[[10.0]]])\n",
    "    tau = np.array([[[tau_]]])\n",
    "\n",
    "    #hist_len = 99 # 100 steps of spiketrain, no instantaneous element\n",
    "    hist_couple = mdl.filters.sigmoid_refractory(a=a, beta=beta, tau=tau, timesteps=hist_len-1, \n",
    "                                                 learnable=[False, False, False])\n",
    "\n",
    "\n",
    "    likelihood = mdl.filters.filtered_likelihood(_likelihood, hist_couple)\n",
    "\n",
    "\n",
    "    glm = mdl.inference.VI_optimized(input_group, glm_rate, likelihood)\n",
    "    glm.to(dev)\n",
    "\n",
    "\n",
    "    ini_train = np.zeros((10, 1, hist_len-2))\n",
    "    MC = 1\n",
    "\n",
    "    F_mu = glm.sample_F(covariates, MC=MC, F_dims=np.arange(1), trials=runs)\n",
    "    syn_train, rate = glm.likelihood.sample(F_mu[None, ...], ini_train)\n",
    "    \n",
    "    syn_trains.append(syn_train)"
   ]
  },
  {
   "cell_type": "code",
   "execution_count": null,
   "metadata": {},
   "outputs": [],
   "source": [
    "ss = []\n",
    "for syn_train_ in syn_trains:\n",
    "    ss.append(syn_train_.reshape(10, 5000, 10).sum(-1))"
   ]
  },
  {
   "cell_type": "code",
   "execution_count": null,
   "metadata": {},
   "outputs": [],
   "source": [
    "ts =  [0, 1, 3]\n",
    "\n",
    "for t in ts:\n",
    "    ms = ss[t].mean(-1)\n",
    "    plt.plot(ms/sample_bin/10)\n",
    "    \n",
    "plt.show()\n",
    "\n",
    "\n",
    "for t in ts:\n",
    "    ms = ss[t].mean(-1)\n",
    "    vs = ss[t].var(-1)\n",
    "    plt.plot(ms/sample_bin/10, vs/(ms+1e-12), label='{} ms'.format(int(taus[t])))\n",
    "    \n",
    "plt.ylabel('Fano factor')\n",
    "plt.xlabel('firing rate (Hz)')\n",
    "plt.legend()\n",
    "plt.show()"
   ]
  },
  {
   "cell_type": "code",
   "execution_count": null,
   "metadata": {},
   "outputs": [],
   "source": [
    "aa = np.where(syn_train[0, 0, :] != 0)[0]\n",
    "plt.scatter(aa, np.zeros_like(aa))\n",
    "plt.show()\n",
    "\n",
    "\n",
    "a_t = hist_couple.compute_filter()\n",
    "plt.plot(a_t.cpu().numpy()[0, 0, ::-1])"
   ]
  },
  {
   "cell_type": "code",
   "execution_count": null,
   "metadata": {},
   "outputs": [],
   "source": []
  },
  {
   "cell_type": "markdown",
   "metadata": {},
   "source": [
    "### Renewal process likelihood\n",
    "Here we visualize the loss landscape for a renewal process likelihood."
   ]
  },
  {
   "cell_type": "code",
   "execution_count": null,
   "metadata": {},
   "outputs": [],
   "source": [
    "from neuroprob.utils import tools, neural_utils, stats\n",
    "import neuroprob.models as mdl\n",
    "\n",
    "from tqdm.autonotebook import tqdm\n",
    "\n",
    "dev = tools.PyTorch() # PyTorch device"
   ]
  },
  {
   "cell_type": "code",
   "execution_count": null,
   "metadata": {},
   "outputs": [],
   "source": [
    "samples = 100000\n",
    "tbin = 0.001\n",
    "shape_t = 3.0*np.ones(1) # true shape parameters\n",
    "\n",
    "# renewal process model\n",
    "renewal_dist = mdl.likelihoods.invGaussian(1, # neurons\n",
    "                                     'exp', # inverse link\n",
    "                                     shape_t, # shape parameters of Gamma process\n",
    "                                     dequantize=True, # add noise to the spike times when fitting\n",
    "                                     allow_duplicate=True) # when > 1 spikes per bin, don't treat as single spike\n",
    "renewal_dist.set_params(tbin)\n",
    "renewal_dist.to(dev) # move to device"
   ]
  },
  {
   "cell_type": "code",
   "execution_count": null,
   "metadata": {},
   "outputs": [],
   "source": [
    "# sample synthetic spike train from renewal process\n",
    "neuron = [0]\n",
    "rate_t = np.empty((1, 1, samples)) # trials, neurons, timesteps\n",
    "rate = 20.0\n",
    "rate_t.fill(rate) # let's use a constant rate\n",
    "\n",
    "spikes = renewal_dist.sample(rate_t, # rate function\n",
    "                             neuron) # neuron(s) to sample from\n",
    "spikes = spikes.squeeze(0) # get rid of trial dimension\n",
    "\n",
    "print('True rate: {}'.format(rate))\n",
    "print('True shape: {}'.format(shape_t[0]))\n",
    "\n",
    "spiketime_indices = neural_utils.BinToTrain(spikes[0])\n",
    "plt.scatter(spiketime_indices*tbin, np.ones_like(spiketime_indices), marker='|')\n",
    "plt.xlim(0, 10.0)\n",
    "plt.yticks([])\n",
    "plt.xlabel('time (s)')\n",
    "plt.show()"
   ]
  },
  {
   "cell_type": "code",
   "execution_count": null,
   "metadata": {},
   "outputs": [],
   "source": [
    "rate_model = np.ones(samples)*(spikes.sum()/samples/tbin)\n",
    "\n",
    "# ISI KS-method\n",
    "#dist_isi = mdl.point_process.ISI_invGauss(np.array([0.5]), np.array([1.0]))\n",
    "dist_isi = mdl.point_process.ISI_gamma(np.array([1.0]))\n",
    "q_cdf, Z_DS, T_KS, s_DS, s_KS, p_DS, p_KS = \\\n",
    "    stats.ISI_KS_method(dist_isi, tbin, spiketime_indices, rate_model)"
   ]
  },
  {
   "cell_type": "code",
   "execution_count": null,
   "metadata": {},
   "outputs": [],
   "source": [
    "fig = plt.figure(figsize=(3, 3))\n",
    "ax = fig.subplots()\n",
    "ax = stats.plot_dispersion(ax, q_cdf, s_KS)\n",
    "plt.show()\n",
    "print(T_KS)\n",
    "print(Z_DS)"
   ]
  },
  {
   "cell_type": "code",
   "execution_count": null,
   "metadata": {},
   "outputs": [],
   "source": [
    "# evaluate NLL\n",
    "renewal_dist.preprocess(spikes, samples)\n",
    "renewal_dist.set_params(shape=shape_t)\n",
    "inner = torch.tensor(np.log(rate_t[0, 0]), device=dev).expand((1, 1, samples)) # trials, neurons, timesteps\n",
    "\n",
    "print('Spike train NLL: {}'.format(renewal_dist.objective(inner, # rate (before nonlinearity)\n",
    "                                                    0, # uncertainty in rate (before nonlinearity)\n",
    "                                                    0, # batch ID \n",
    "                                                    neuron).sum().item()))"
   ]
  },
  {
   "cell_type": "code",
   "execution_count": null,
   "metadata": {},
   "outputs": [],
   "source": [
    "# fit to spike train\n",
    "renewal_dist.set_params(shape=1.0*np.ones(1)) # initial shape 1.0\n",
    "inner = Parameter(torch.tensor(np.log(5.0), device=dev)) # fit a single rate value, initially 5 Hz\n",
    "\n",
    "tracked_loss = []\n",
    "minloss = np.inf\n",
    "epochs = 1000\n",
    "cnt = 0\n",
    "iterator = tqdm(range(epochs))\n",
    "optimizer = optim.SGD(list(renewal_dist.parameters())+[inner], lr=1e-6)\n",
    "for epoch in iterator:\n",
    "    sloss = 0\n",
    "    \n",
    "    optimizer.zero_grad()\n",
    "    loss = renewal_dist.objective(inner.expand((1, 1, samples)), 0, 0, neuron)\n",
    "    loss.backward()\n",
    "    optimizer.step()\n",
    "\n",
    "    assert not torch.isnan(loss.data).any()\n",
    "    sloss += loss.item()\n",
    "\n",
    "    iterator.set_postfix(loss=sloss)\n",
    "    tracked_loss.append(sloss)\n",
    "    if sloss < minloss:\n",
    "        minloss = sloss\n",
    "        cnt = 0\n",
    "    else:\n",
    "        cnt += 1\n",
    "        \n",
    "plt.plot(tracked_loss)\n",
    "\n",
    "print('Inferred rate: {}'.format(np.exp(inner.item())))\n",
    "print('Inferred shape: {}'.format(renewal_dist.shape.item()))\n",
    "print('Spike train NLL: {}'.format(renewal_dist.objective(inner.expand((1, 1, samples)), 0, 0, neuron).item()))"
   ]
  },
  {
   "cell_type": "code",
   "execution_count": null,
   "metadata": {},
   "outputs": [],
   "source": [
    "# shape and rate loss 2D visualization\n",
    "lw_1 = inner.item()\n",
    "lw_2 = renewal_dist.shape.item()\n",
    "nw_1 = r'$\\log \\, r$'\n",
    "nw_2 = r'$\\alpha$'\n",
    "range_w_1 = np.linspace(-2.0, 5.0, 10)\n",
    "range_w_2 = np.linspace(0.1, 3.0, 10)\n",
    "\n",
    "def func(pos):\n",
    "    prevshape = pos[0, ...].shape\n",
    "    p_1 = pos[0, ...].flatten()\n",
    "    p_2 = pos[1, ...].flatten()\n",
    "    NLL = np.empty(p_1.shape)\n",
    "    with torch.no_grad():\n",
    "        for k in range(len(p_1)): \n",
    "            inner = Parameter(torch.tensor(p_1[k], device=dev))\n",
    "            renewal_dist.shape.data[0] = torch.tensor(p_2[k], device=dev)\n",
    "            NLL[k] = renewal_dist.objective(inner.expand((1, 1, samples)), 0, 0, neuron).item()\n",
    "    inner = lw_1\n",
    "    renewal_dist.shape[0] = lw_2\n",
    "    return NLL.reshape(*prevshape)\n",
    "\n",
    "grid_size = [len(range_w_1), len(range_w_2)]\n",
    "grid_shape = [[range_w_1.min(), range_w_1.max()], [range_w_2.min(), range_w_2.max()]]\n",
    "\n",
    "(xx, yy), field = tools.compute_mesh(grid_size, grid_shape, func)\n",
    "fig, ax, im = tools.mesh_plot((xx, yy, field), cmap='plasma', figsize=(4,4))\n",
    "\n",
    "tools.decorate_ax(ax=ax, xlabel=nw_1, ylabel=nw_2, labelsize=12, xticks=None, yticks=None, \\\n",
    "                  spines=[False, False, False, False], \n",
    "                  xlim=[grid_shape[0][0], grid_shape[0][1]], ylim=[grid_shape[1][0], grid_shape[1][1]])\n",
    "\n",
    "tools.add_colorbar(im, fig, ax, cbar_size='5%', ticktitle='NLL')\n",
    "\n",
    "\n",
    "ax.scatter(lw_1, lw_2, s=60, marker='x', color='lime', zorder=1, label='learned')\n",
    "ax.scatter(np.log(rate_t[0, 0, 0]), shape_t[0], s=80, marker='+', color='w', zorder=1, label='true')\n",
    "\n",
    "ax.legend()\n",
    "\n",
    "\n",
    "plt.show()"
   ]
  },
  {
   "cell_type": "code",
   "execution_count": null,
   "metadata": {},
   "outputs": [],
   "source": [
    "\n",
    "\n",
    "\n",
    "\n"
   ]
  },
  {
   "cell_type": "code",
   "execution_count": null,
   "metadata": {},
   "outputs": [],
   "source": []
  }
 ],
 "metadata": {
  "kernelspec": {
   "display_name": "Python 3",
   "language": "python",
   "name": "python3"
  },
  "language_info": {
   "codemirror_mode": {
    "name": "ipython",
    "version": 3
   },
   "file_extension": ".py",
   "mimetype": "text/x-python",
   "name": "python",
   "nbconvert_exporter": "python",
   "pygments_lexer": "ipython3",
   "version": "3.6.9"
  }
 },
 "nbformat": 4,
 "nbformat_minor": 4
}
