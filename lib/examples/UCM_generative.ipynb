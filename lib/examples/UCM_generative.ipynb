{
 "cells": [
  {
   "cell_type": "markdown",
   "metadata": {},
   "source": [
    "# Universal Count Model\n",
    "\n",
    "Comparison to baselines\n",
    "\n",
    "### Table of contents\n",
    "\n",
    "1. [**Data**](#data)\n",
    "3. [**SNN**](#snn)\n",
    "4. [**RNN**](#rnn)\n",
    "\n",
    "\n",
    "\n",
    "The above only holds for one covariate dimension that we looked at. To look at the intrinsic degree of freedom for a neuron, it may be more informative and convenient to look at the softmax weights and biases that connect the GP functions to the spike count distribution. We now load the pre-softmax weights and biases. Each neuron has its own set of weights and biases $W_n$ and $\\mathbf{b}_n$. Note we used a exponential-quadratic expansion for $\\phi(\\cdot)$. This expansion combines the quadratic basis expansion with an exponential mapping, i.e. for a vector $\\mathbf{f} = (f_1, f_2)$ we obtain \n",
    "\n",
    "$$\n",
    "\\phi(\\mathbf{f}) = (f_1, f_2, f_1^2, f_2^2, e^{f_1}, e^{f_2}, f_1 f_2)\n",
    "$$\n",
    "\n",
    "and for a vector $\\mathbf{f} = (f_1, f_2, f_3)$ we obtain \n",
    "\n",
    "$$\n",
    "\\phi(\\mathbf{f}) = (f_1, f_2, f_3, f_1^2, f_2^2, f_3^2, e^{f_1}, e^{f_2}, e^{f_3}, f_1 f_2, f_2 f_3, f_1 f_3)\n",
    "$$\n",
    "\n",
    "and so on. The last example here corresponds to the case of $C = 3$ as in the model that we loaded. The probability of spike count $k$ for neuron $n$ is then computed as \n",
    "\n",
    "$$\n",
    "P_{nk} = \\text{softmax}\\left( W_n \\cdot \\phi(\\mathbf{f}_n) + \\mathbf{b}_n \\right)_k\n",
    "$$\n",
    "\n",
    "Different basis expansions $\\phi(\\cdot)$ are defined in ```scripts/lib/models.py```."
   ]
  },
  {
   "cell_type": "code",
   "execution_count": 24,
   "metadata": {},
   "outputs": [],
   "source": [
    "import numpy as np\n",
    "import scipy.special as sps\n",
    "\n",
    "import matplotlib.pyplot as plt"
   ]
  },
  {
   "cell_type": "code",
   "execution_count": 96,
   "metadata": {},
   "outputs": [],
   "source": [
    "K = 15\n",
    "C = 15"
   ]
  },
  {
   "cell_type": "code",
   "execution_count": 97,
   "metadata": {},
   "outputs": [],
   "source": [
    "N_samps = 3\n",
    "\n",
    "f = np.random.randn(N_samps, C)"
   ]
  },
  {
   "cell_type": "code",
   "execution_count": 98,
   "metadata": {},
   "outputs": [],
   "source": [
    "def phi(f):\n",
    "    expansion = [f, np.exp(f)]\n",
    "    expanded = np.concatenate(expansion, axis=-1)\n",
    "    return expanded  # (samps, expand_C)\n",
    "\n",
    "expand_C = 2 * C\n",
    "\n",
    "\n",
    "def compute_P(f, phi, W, b):\n",
    "    a = (W[None, ...] @ phi(f)[..., None])[..., 0] + b\n",
    "    return sps.softmax(a, axis=-1)"
   ]
  },
  {
   "cell_type": "code",
   "execution_count": 99,
   "metadata": {},
   "outputs": [],
   "source": [
    "W = np.random.randn(K + 1, expand_C) * 0.0\n",
    "W[:, C:] -= 1.\n",
    "W[:, :C] += np.arange(K + 1)[:, None]\n",
    "b = np.random.randn(K + 1) * 0.0 - sps.gammaln(np.arange(K + 1) + 1)\n",
    "\n",
    "P = compute_P(f, phi, W, b)"
   ]
  },
  {
   "cell_type": "code",
   "execution_count": 103,
   "metadata": {},
   "outputs": [
    {
     "data": {
      "image/png": "[encoded data removed]",
      "text/plain": [
       "<Figure size 576x216 with 3 Axes>"
      ]
     },
     "metadata": {
      "needs_background": "light"
     },
     "output_type": "display_data"
    }
   ],
   "source": [
    "fig, axes = plt.subplots(1, N_samps, figsize=(8, 3))\n",
    "\n",
    "for tr in range(N_samps):\n",
    "    axes[tr].bar(np.arange(K+1), P[tr, :])\n",
    "\n",
    "plt.show()"
   ]
  },
  {
   "cell_type": "code",
   "execution_count": null,
   "metadata": {},
   "outputs": [],
   "source": []
  },
  {
   "cell_type": "code",
   "execution_count": null,
   "metadata": {},
   "outputs": [],
   "source": []
  }
 ],
 "metadata": {
  "kernelspec": {
   "display_name": "python39",
   "language": "python",
   "name": "python39"
  },
  "language_info": {
   "codemirror_mode": {
    "name": "ipython",
    "version": 3
   },
   "file_extension": ".py",
   "mimetype": "text/x-python",
   "name": "python",
   "nbconvert_exporter": "python",
   "pygments_lexer": "ipython3",
   "version": "3.9.16"
  }
 },
 "nbformat": 4,
 "nbformat_minor": 4
}
