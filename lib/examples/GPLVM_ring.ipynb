{
 "cells": [
  {
   "cell_type": "markdown",
   "metadata": {},
   "source": [
    "# GPLVM with toroidal latent spaces\n",
    "\n",
    "\n",
    "### Table of contents\n",
    "\n",
    "1. [**Synthetic population**](#synthetic)\n",
    "3. [**SNN**](#snn)\n",
    "4. [**RNN**](#rnn)\n",
    "\n",
    "This notebook contains code for:\n",
    "- running GPLVM on synthetic HDC activity with a latent variable on the ring\n",
    "- running GPLVM or Deep GPs on synthetic place field activity for decoding position\n",
    "- running conditional GPLVM on place field synthetic data"
   ]
  },
  {
   "cell_type": "code",
   "execution_count": 12,
   "metadata": {},
   "outputs": [
    {
     "name": "stdout",
     "output_type": "stream",
     "text": [
      "The autoreload extension is already loaded. To reload it, use:\n",
      "  %reload_ext autoreload\n",
      "PyTorch version: 1.13.0+cu117\n",
      "Using device: cuda:0\n"
     ]
    }
   ],
   "source": [
    "%load_ext autoreload\n",
    "%autoreload 2\n",
    "\n",
    "import torch\n",
    "import torch.nn as nn\n",
    "import torch.optim as optim\n",
    "from torch.nn import Parameter\n",
    "\n",
    "import matplotlib.pyplot as plt\n",
    "\n",
    "import numpy as np\n",
    "\n",
    "\n",
    "import sys\n",
    "sys.path.append(\"..\")\n",
    "\n",
    "import neuroprob as nprb\n",
    "from neuroprob import utils\n",
    "\n",
    "\n",
    "dev = nprb.inference.get_device()"
   ]
  },
  {
   "cell_type": "code",
   "execution_count": 2,
   "metadata": {},
   "outputs": [],
   "source": [
    "def raster_plot(\n",
    "    figax, spikes, time_bins, bin_time, units, colors=None, marker=\"|\", markersize=2\n",
    "):\n",
    "    \"\"\"\n",
    "    Visualize a 2D array representing point events, spikes has shape (timstep, units).\n",
    "\n",
    "    :param list colors: colors to be included in the colormap\n",
    "    :param string name: name the colormap\n",
    "    :returns: figure and axis\n",
    "    :rtype: tuple\n",
    "    \"\"\"\n",
    "    fig, ax = figax\n",
    "    if colors is None:\n",
    "        col = [\"k\"] * units\n",
    "    else:\n",
    "        col = colors\n",
    "    for i in range(units):\n",
    "        t = np.nonzero(spikes[i, :])[0] * bin_time\n",
    "        ax.scatter(t, (i + 1) * np.ones_like(t), c=col[i], s=markersize, marker=marker)\n",
    "\n",
    "    ax.set_xlim(0, time_bins * bin_time)\n",
    "    ax.set_ylim(0.1, units + 0.9)\n",
    "    ax.set_yticks(np.arange(1, units + 1))\n",
    "    \n",
    "    \n",
    "    \n",
    "def posterior_rate(mapping, likelihood, covariates, MC, F_dims, trials=1, percentiles=[0.05, .5, 0.95]):\n",
    "    \"\"\"\n",
    "    Sample F from diagonalized variational posterior.\n",
    "    \n",
    "    :returns: F of shape (MCxtrials, outdims, time)\n",
    "    \"\"\"\n",
    "    cov = mapping.to_XZ(covariates, trials)\n",
    "    with torch.no_grad():\n",
    "        if mapping.MC_only:\n",
    "            F = mapping.sample_F(cov)[:, F_dims, :] # TODO: cov_samples vs ll_samples?\n",
    "            samples = likelihood.f(F.view(-1, trials, *samples.shape[1:]))\n",
    "        else:\n",
    "            F_mu, F_var = mapping.compute_F(cov)\n",
    "            samples = likelihood.sample_rate(\n",
    "                F_mu[:, F_dims, :], F_var[:, F_dims, :], trials, MC)\n",
    "    \n",
    "    return utils.signal.percentiles_from_samples(samples, percentiles)\n",
    "\n",
    "\n",
    "\n",
    "def plot_circ_posterior(\n",
    "    ax,\n",
    "    times,\n",
    "    wrap_y,\n",
    "    y_std,\n",
    "    col=\"k\",\n",
    "    linewidth=1.0,\n",
    "    step=1,\n",
    "    alpha=0.5,\n",
    "    line_alpha=1.0,\n",
    "    l=None,\n",
    "    l_std=None,\n",
    "):\n",
    "    \"\"\"\n",
    "    Plot circular variables with (approximate) variational uncertainty.\n",
    "    \"\"\"\n",
    "    if y_std is not None:\n",
    "        upper = wrap_y + y_std\n",
    "        lower = wrap_y - y_std\n",
    "\n",
    "    T = len(wrap_y)\n",
    "    for i in np.arange(T)[1::step]:\n",
    "        lines = []\n",
    "        delta = wrap_y[i] - wrap_y[i - 1]\n",
    "        if delta > np.pi:\n",
    "            lines.append(\n",
    "                ax.plot(\n",
    "                    [times[i - 1], times[i]],\n",
    "                    [wrap_y[i - 1], wrap_y[i] - 2 * np.pi],\n",
    "                    color=col,\n",
    "                    linewidth=linewidth,\n",
    "                    label=l,\n",
    "                    alpha=line_alpha,\n",
    "                )[0]\n",
    "            )\n",
    "            lines.append(\n",
    "                ax.plot(\n",
    "                    [times[i - 1], times[i]],\n",
    "                    [wrap_y[i - 1] + 2 * np.pi, wrap_y[i]],\n",
    "                    color=col,\n",
    "                    linewidth=linewidth,\n",
    "                    label=None,\n",
    "                    alpha=line_alpha,\n",
    "                )[0]\n",
    "            )\n",
    "        elif delta < -np.pi:\n",
    "            lines.append(\n",
    "                ax.plot(\n",
    "                    [times[i - 1], times[i]],\n",
    "                    [wrap_y[i - 1], wrap_y[i] + 2 * np.pi],\n",
    "                    color=col,\n",
    "                    linewidth=linewidth,\n",
    "                    label=l,\n",
    "                    alpha=line_alpha,\n",
    "                )[0]\n",
    "            )\n",
    "            lines.append(\n",
    "                ax.plot(\n",
    "                    [times[i - 1], times[i]],\n",
    "                    [wrap_y[i - 1] - 2 * np.pi, wrap_y[i]],\n",
    "                    color=col,\n",
    "                    linewidth=linewidth,\n",
    "                    label=None,\n",
    "                    alpha=line_alpha,\n",
    "                )[0]\n",
    "            )\n",
    "        else:\n",
    "            lines.append(\n",
    "                ax.plot(\n",
    "                    [times[i - 1], times[i]],\n",
    "                    [wrap_y[i - 1], wrap_y[i]],\n",
    "                    color=col,\n",
    "                    linewidth=linewidth,\n",
    "                    label=l,\n",
    "                    alpha=line_alpha,\n",
    "                )[0]\n",
    "            )\n",
    "            if y_std is not None:  # double locations for uncertainty\n",
    "                if upper[i] > 2 * np.pi or upper[i - 1] > 2 * np.pi:\n",
    "                    lines.append(\n",
    "                        ax.plot(\n",
    "                            [times[i - 1], times[i]],\n",
    "                            [wrap_y[i - 1] - 2 * np.pi, wrap_y[i] - 2 * np.pi],\n",
    "                            color=col,\n",
    "                            linewidth=linewidth,\n",
    "                            label=None,\n",
    "                            alpha=line_alpha,\n",
    "                        )[0]\n",
    "                    )\n",
    "                elif lower[i] < 0 or lower[i - 1] < 0:\n",
    "                    lines.append(\n",
    "                        ax.plot(\n",
    "                            [times[i - 1], times[i]],\n",
    "                            [wrap_y[i - 1] + 2 * np.pi, wrap_y[i] + 2 * np.pi],\n",
    "                            color=col,\n",
    "                            linewidth=linewidth,\n",
    "                            label=None,\n",
    "                            alpha=line_alpha,\n",
    "                        )[0]\n",
    "                    )\n",
    "\n",
    "        if y_std is not None:\n",
    "            for line in lines:\n",
    "                ax.fill_between(\n",
    "                    [times[i - 1], times[i]],\n",
    "                    line.get_ydata() - y_std[i - 1 : i + 1],\n",
    "                    line.get_ydata() + y_std[i - 1 : i + 1],\n",
    "                    color=line.get_color(),\n",
    "                    alpha=alpha,\n",
    "                    label=l_std,\n",
    "                )\n",
    "                l_std = None\n",
    "\n",
    "        l = None  # no label for each segment after first\n",
    "\n",
    "        \n",
    "        \n",
    "        \n",
    "# metrics\n",
    "def metric(x, y, topology=\"euclid\"):\n",
    "    \"\"\"\n",
    "    Returns the geodesic displacement between x and y, (x-y).\n",
    "\n",
    "    :param torch.tensor x: input x of any shape\n",
    "    :param torch.tensor y: input y of same shape as x\n",
    "    :returns: x-y tensor of geodesic distances\n",
    "    :rtype: torch.tensor\n",
    "    \"\"\"\n",
    "    if topology == \"euclid\":\n",
    "        xy = x - y\n",
    "    elif topology == \"torus\":\n",
    "        xy = (x - y) % (2 * np.pi)\n",
    "        xy[xy > np.pi] -= 2 * np.pi\n",
    "    elif topology == \"circ\":\n",
    "        xy = 2 * (1 - torch.cos(x - y))\n",
    "    else:\n",
    "        raise NotImplementedError\n",
    "    # xy[xy < 0] = -xy[xy < 0] # abs\n",
    "    return xy\n",
    "\n",
    "\n",
    "\n",
    "# align latent\n",
    "def signed_scaled_shift(\n",
    "    x, x_ref, dev=\"cpu\", topology=\"torus\", iters=1000, lr=1e-2, learn_scale=True\n",
    "):\n",
    "    \"\"\"\n",
    "    Shift trajectory, with scaling, reflection and translation.\n",
    "\n",
    "    Shift trajectories to be as close as possible to each other, including\n",
    "    switches in sign.\n",
    "\n",
    "    :param np.array theta: circular input array of shape (timesteps,)\n",
    "    :param np.array theta_ref: reference circular input array of shape (timesteps,)\n",
    "    :param string dev:\n",
    "    :param int iters:\n",
    "    :param float lr:\n",
    "    :returns:\n",
    "    :rtype: tuple\n",
    "    \"\"\"\n",
    "    XX = torch.tensor(x, device=dev)\n",
    "    XR = torch.tensor(x_ref, device=dev)\n",
    "\n",
    "    lowest_loss = np.inf\n",
    "    for sign in [1, -1]:  # select sign automatically\n",
    "        shift = Parameter(torch.zeros(1, device=dev))\n",
    "        p = [shift]\n",
    "\n",
    "        if learn_scale:\n",
    "            scale = Parameter(torch.ones(1, device=dev))\n",
    "            p += [scale]\n",
    "        else:\n",
    "            scale = torch.ones(1, device=dev)\n",
    "\n",
    "        optimizer = optim.Adam(p, lr=lr)\n",
    "        losses = []\n",
    "        for k in range(iters):\n",
    "            optimizer.zero_grad()\n",
    "            X_ = XX * sign * scale + shift\n",
    "            loss = (metric(X_, XR, topology) ** 2).mean()\n",
    "            loss.backward()\n",
    "            optimizer.step()\n",
    "            losses.append(loss.cpu().item())\n",
    "\n",
    "        l_ = loss.cpu().item()\n",
    "\n",
    "        if l_ < lowest_loss:\n",
    "            lowest_loss = l_\n",
    "            shift_ = shift.cpu().item()\n",
    "            scale_ = scale.cpu().item()\n",
    "            sign_ = sign\n",
    "            losses_ = losses\n",
    "\n",
    "    return x * sign_ * scale_ + shift_, shift_, sign_, scale_, losses_\n"
   ]
  },
  {
   "cell_type": "code",
   "execution_count": null,
   "metadata": {},
   "outputs": [],
   "source": []
  },
  {
   "cell_type": "markdown",
   "metadata": {},
   "source": [
    "<a id=\"synthetic\"></a>\n",
    "## Synthetic HDC population"
   ]
  },
  {
   "cell_type": "code",
   "execution_count": 19,
   "metadata": {},
   "outputs": [],
   "source": [
    "def HDC_bumps(theta, A, invbeta, b, theta_0):\n",
    "    \"\"\"\n",
    "    parameters have shape (neurons,)\n",
    "    :return:\n",
    "        rates of shape (..., neurons, eval_pts)\n",
    "    \"\"\"\n",
    "    return A[:, None] * np.exp(\n",
    "        (np.cos(theta[..., None, :] - theta_0[:, None]) - 1) / invbeta[:, None]) + b[:, None]\n"
   ]
  },
  {
   "cell_type": "code",
   "execution_count": 21,
   "metadata": {},
   "outputs": [],
   "source": [
    "# seed\n",
    "rng = np.random.default_rng(123)\n",
    "\n",
    "# Gaussian von Mises bump head direction model\n",
    "trials = 1\n",
    "\n",
    "track_samples = 20000\n",
    "hd_t = np.empty((trials, track_samples))\n",
    "\n",
    "hd_t[:, 0] = rng.normal(size=(trials,))*2*np.pi\n",
    "rn = rng.normal(size=(trials, track_samples-1))\n",
    "for k in range(track_samples-1):\n",
    "    hd_t[:, k+1] = hd_t[:, k] + 0.05*rn[:, k]\n",
    "    \n",
    "hd_t = hd_t % (2*np.pi)\n",
    "\n",
    "# tuning\n",
    "neurons = 50\n",
    "p_c = np.random.randn(neurons)**2 + 1.0\n",
    "p_a = np.maximum(0.0, 30.0 + 0.1*np.random.randn(neurons))\n",
    "p_b = 0.2*np.random.randn(neurons)**2 + 0.3\n",
    "p_z = np.linspace(0, 2*np.pi, neurons+1)[:-1]\n",
    "\n",
    "rate = HDC_bumps(hd_t, p_a, p_b, p_c, p_z)  # (tr, neurons, ts)"
   ]
  },
  {
   "cell_type": "code",
   "execution_count": 22,
   "metadata": {},
   "outputs": [],
   "source": [
    "# IPP spike trains\n",
    "sample_bin = 0.001\n",
    "res = torch.poisson(torch.tensor(rate*sample_bin)).numpy()\n",
    "\n",
    "res_ind = [] # spike times\n",
    "for tr in range(trials):\n",
    "    res_ind_ = []\n",
    "    for n in range(neurons):\n",
    "        res_ind_.append(utils.neural.binned_to_indices(res[tr, n, :]))\n",
    "    res_ind.append(res_ind_)\n",
    "\n",
    "# bin data\n",
    "bin_size = 20\n",
    "\n",
    "rc_t = []\n",
    "rhd_t = []\n",
    "for tr in range(trials):\n",
    "    tbin, resamples, rc_t_, (rhd_t_,) = utils.neural.bin_data(bin_size, sample_bin, res_ind[tr], \n",
    "                                                            track_samples, (hd_t[tr],), average_behav=False)\n",
    "    \n",
    "    rc_t.append(rc_t_)\n",
    "    rhd_t.append(rhd_t_)\n",
    "    \n",
    "rc_t = np.array(rc_t)\n",
    "rhd_t = np.array(rhd_t)"
   ]
  },
  {
   "cell_type": "code",
   "execution_count": 23,
   "metadata": {
    "scrolled": true
   },
   "outputs": [
    {
     "data": {
      "image/png": "[encoded data removed]",
      "text/plain": [
       "<Figure size 288x288 with 1 Axes>"
      ]
     },
     "metadata": {
      "needs_background": "light"
     },
     "output_type": "display_data"
    },
    {
     "data": {
      "image/png": "[encoded data removed]",
      "text/plain": [
       "<Figure size 432x288 with 1 Axes>"
      ]
     },
     "metadata": {
      "needs_background": "light"
     },
     "output_type": "display_data"
    }
   ],
   "source": [
    "tr = 0\n",
    "\n",
    "fig, ax = plt.subplots(figsize=(4,4))\n",
    "raster_plot((fig, ax), res[tr], track_samples, sample_bin*1000, neurons, markersize=10)\n",
    "#utils.plot.decorate_ax(ax, xlabel='time (ms)', ylabel='neuron')\n",
    "\n",
    "plt.figure()\n",
    "plt.scatter(np.arange(track_samples), hd_t[tr], marker='.')\n",
    "plt.show()"
   ]
  },
  {
   "cell_type": "code",
   "execution_count": null,
   "metadata": {},
   "outputs": [],
   "source": []
  },
  {
   "cell_type": "markdown",
   "metadata": {},
   "source": [
    "### GPLVM with circular latent space\n",
    "\n",
    "Ring topology $S^1$"
   ]
  },
  {
   "cell_type": "code",
   "execution_count": 7,
   "metadata": {},
   "outputs": [
    {
     "data": {
      "text/plain": [
       "VI_optimized(\n",
       "  (input_group): input_group(\n",
       "    (input_0): prior_variational_pair(\n",
       "      (prior): tAR1(\n",
       "        (transition): transition_()\n",
       "      )\n",
       "      (variational): IndNormal()\n",
       "    )\n",
       "  )\n",
       "  (mapping): SVGP(\n",
       "    (kernel): Product(\n",
       "      (kern0): Constant()\n",
       "      (kern1): SquaredExponential()\n",
       "    )\n",
       "    (induc_pts): inducing_points()\n",
       "  )\n",
       "  (likelihood): Poisson()\n",
       ")"
      ]
     },
     "execution_count": 7,
     "metadata": {},
     "output_type": "execute_result"
    }
   ],
   "source": [
    "out_dims = neurons\n",
    "\n",
    "# kernel\n",
    "l = 5.*torch.ones(1, out_dims)\n",
    "v = torch.ones(out_dims)\n",
    "\n",
    "krn_1 = nprb.kernels.Constant(variance=v, tensor_type=torch.float)\n",
    "krn_2 = nprb.kernels.SquaredExponential(\n",
    "    input_dims=len(l), lengthscale=l, \\\n",
    "    track_dims=[0], topology='torus', f='softplus', \\\n",
    "    tensor_type=torch.float\n",
    ")\n",
    "\n",
    "kernel = nprb.kernels.Product(krn_1, krn_2)\n",
    "\n",
    "# inputs\n",
    "p = nprb.inputs.priors.tAR1(\n",
    "    torch.tensor(0.), \n",
    "    torch.tensor(4.0), \n",
    "    'torus', \n",
    "    1, \n",
    ")\n",
    "v = nprb.inputs.variational.IndNormal(\n",
    "    torch.rand(resamples, 1) * 2*np.pi, \n",
    "    torch.ones((resamples, 1)) * 0.1, \n",
    "    'torus', \n",
    "    1, \n",
    ")\n",
    "input_data = [nprb.inputs.prior_variational_pair(1, p, v)]\n",
    "\n",
    "# inducing points\n",
    "num_induc = 8\n",
    "Xu = np.array(\n",
    "    [np.linspace(0, 2*np.pi, num_induc+1)[:-1]]\n",
    ").T[None, ...].repeat(out_dims, axis=0)\n",
    "inducing_points = nprb.mappings.inducing_points(out_dims, torch.from_numpy(Xu))\n",
    "\n",
    "\n",
    "# mapping\n",
    "in_dims = Xu.shape[-1]\n",
    "\n",
    "gp_lvm = nprb.mappings.SVGP(\n",
    "    in_dims, neurons, kernel, inducing_points=inducing_points, \n",
    "    whiten=True, jitter=1e-4, mean=torch.zeros(neurons), learn_mean=True\n",
    ")\n",
    "\n",
    "\n",
    "### inputs and likelihood ###\n",
    "input_group = nprb.inputs.input_group()\n",
    "input_group.set_XZ(input_data, resamples, batch_info=500, trials=trials)\n",
    "\n",
    "\n",
    "#likelihood = mdl.likelihoods.Gaussian(neurons, 'exp', log_var=np.zeros(neurons))\n",
    "likelihood = nprb.likelihoods.discrete.Poisson(tbin, neurons, 'exp')\n",
    "#likelihood = mdl.likelihoods.ZI_Poisson(tbin, neurons, 'exp', 0.0*np.zeros(neurons))\n",
    "likelihood.set_Y(torch.from_numpy(rc_t), batch_info=500) \n",
    "\n",
    "\n",
    "glm = nprb.inference.VI_optimized(input_group, gp_lvm, likelihood)\n",
    "glm.to(dev)"
   ]
  },
  {
   "cell_type": "code",
   "execution_count": 8,
   "metadata": {},
   "outputs": [
    {
     "data": {
      "application/vnd.jupyter.widget-view+json": {
       "model_id": "a31e95980b24408c923923e49ecd5434",
       "version_major": 2,
       "version_minor": 0
      },
      "text/plain": [
       "  0%|          | 0/3000 [00:00<?, ?it/s]"
      ]
     },
     "metadata": {},
     "output_type": "display_data"
    },
    {
     "name": "stdout",
     "output_type": "stream",
     "text": [
      "\n",
      "Stopped at epoch 1429.\n"
     ]
    }
   ],
   "source": [
    "# fitting\n",
    "sch = lambda o: optim.lr_scheduler.MultiplicativeLR(o, lambda e: 0.9)\n",
    "opt_tuple = (optim.Adam, 100, sch)\n",
    "opt_lr_dict = {\n",
    "    'default': 5*1e-3, \n",
    "    'input_group.input_0.variational.finv_std': 5*1e-3,  \n",
    "}\n",
    "\n",
    "glm.set_optimizers(opt_tuple, opt_lr_dict)\n",
    "\n",
    "annealing = lambda x: 1.0#min(1.0, 0.005*x)\n",
    "losses = glm.fit(3000, loss_margin=0.0, margin_epochs=100, kl_anneal_func=annealing, \n",
    "                 cov_samples=2, ll_samples=2, ll_mode='MC')"
   ]
  },
  {
   "cell_type": "code",
   "execution_count": 9,
   "metadata": {},
   "outputs": [
    {
     "data": {
      "image/png": "[encoded data removed]",
      "text/plain": [
       "<Figure size 432x288 with 1 Axes>"
      ]
     },
     "metadata": {
      "needs_background": "light"
     },
     "output_type": "display_data"
    }
   ],
   "source": [
    "plt.figure()\n",
    "plt.plot(losses)\n",
    "plt.xlabel('epoch')\n",
    "plt.ylabel('negative ELBO')\n",
    "plt.show()"
   ]
  },
  {
   "cell_type": "code",
   "execution_count": 10,
   "metadata": {},
   "outputs": [
    {
     "data": {
      "text/plain": [
       "<matplotlib.collections.PathCollection at 0x7f74404b22b0>"
      ]
     },
     "execution_count": 10,
     "metadata": {},
     "output_type": "execute_result"
    },
    {
     "data": {
      "image/png": "[encoded data removed]",
      "text/plain": [
       "<Figure size 432x288 with 1 Axes>"
      ]
     },
     "metadata": {
      "needs_background": "light"
     },
     "output_type": "display_data"
    }
   ],
   "source": [
    "X_loc, X_std = glm.input_group.input_0.variational.eval_moments(0, resamples)\n",
    "X_loc = X_loc.data.cpu().numpy()\n",
    "X_std = X_std.data.cpu().numpy()\n",
    "\n",
    "plt.scatter(np.arange(resamples), X_loc[:] % (2*np.pi))"
   ]
  },
  {
   "cell_type": "code",
   "execution_count": 17,
   "metadata": {},
   "outputs": [],
   "source": [
    "TRlat_t, shift, sign, scale, _ = signed_scaled_shift(X_loc[:, 0], rhd_t, dev)\n",
    "TRlat_std = X_std[:, 0]"
   ]
  },
  {
   "cell_type": "code",
   "execution_count": null,
   "metadata": {},
   "outputs": [],
   "source": [
    "steps= 100\n",
    "show_neurons = [0, 1, 20]\n",
    "covariates = np.linspace(0, 2*np.pi, steps)[None, :]\n",
    "\n",
    "hd__ = (covariates-shift)/sign\n",
    "\n",
    "lower, mean, upper = posterior_rate(hd__, show_neurons, 'posterior', n_samp=10)"
   ]
  },
  {
   "cell_type": "code",
   "execution_count": 39,
   "metadata": {},
   "outputs": [
    {
     "ename": "NameError",
     "evalue": "name 'shift' is not defined",
     "output_type": "error",
     "traceback": [
      "\u001b[0;31m---------------------------------------------------------------------------\u001b[0m",
      "\u001b[0;31mNameError\u001b[0m                                 Traceback (most recent call last)",
      "Input \u001b[0;32mIn [39]\u001b[0m, in \u001b[0;36m<cell line: 5>\u001b[0;34m()\u001b[0m\n\u001b[1;32m      2\u001b[0m show_neurons \u001b[38;5;241m=\u001b[39m [\u001b[38;5;241m0\u001b[39m, \u001b[38;5;241m1\u001b[39m, \u001b[38;5;241m20\u001b[39m]\n\u001b[1;32m      3\u001b[0m covariates \u001b[38;5;241m=\u001b[39m np\u001b[38;5;241m.\u001b[39mlinspace(\u001b[38;5;241m0\u001b[39m, \u001b[38;5;241m2\u001b[39m\u001b[38;5;241m*\u001b[39mnp\u001b[38;5;241m.\u001b[39mpi, steps)[\u001b[38;5;28;01mNone\u001b[39;00m, :]\n\u001b[0;32m----> 5\u001b[0m hd__ \u001b[38;5;241m=\u001b[39m (covariates\u001b[38;5;241m-\u001b[39m\u001b[43mshift\u001b[49m)\u001b[38;5;241m/\u001b[39msign\n\u001b[1;32m      6\u001b[0m r_true \u001b[38;5;241m=\u001b[39m p_a[:, \u001b[38;5;28;01mNone\u001b[39;00m]\u001b[38;5;241m*\u001b[39mnp\u001b[38;5;241m.\u001b[39mexp((np\u001b[38;5;241m.\u001b[39mcos(covariates[\u001b[38;5;241m0\u001b[39m:\u001b[38;5;241m1\u001b[39m, :] \u001b[38;5;241m-\u001b[39m p_z[:, \u001b[38;5;28;01mNone\u001b[39;00m])\u001b[38;5;241m-\u001b[39m\u001b[38;5;241m1\u001b[39m)\u001b[38;5;241m/\u001b[39mp_b[:, \u001b[38;5;28;01mNone\u001b[39;00m]) \u001b[38;5;241m+\u001b[39m p_c[:, \u001b[38;5;28;01mNone\u001b[39;00m]\n\u001b[1;32m      8\u001b[0m lower, mean, upper \u001b[38;5;241m=\u001b[39m gp_lvm\u001b[38;5;241m.\u001b[39meval_rate(hd__, show_neurons, \u001b[38;5;124m'\u001b[39m\u001b[38;5;124mposterior\u001b[39m\u001b[38;5;124m'\u001b[39m, n_samp\u001b[38;5;241m=\u001b[39m\u001b[38;5;241m10\u001b[39m)\n",
      "\u001b[0;31mNameError\u001b[0m: name 'shift' is not defined"
     ]
    }
   ],
   "source": [
    "r_true = HDC_bumps(covariates[0, :], p_a, p_b, p_c, p_z)\n",
    "\n",
    "\n",
    "\n",
    "for k, neuron in enumerate(show_neurons):\n",
    "\n",
    "    fig, ax = plt.subplots()\n",
    "    ax.plot(covariates[0], r_true[neuron], 'r--')\n",
    "    line, = ax.plot(covariates[0], mean[0, k])\n",
    "    ax.fill_between(\n",
    "        covariates[0], lower[0, k],\n",
    "        upper[0, k], color=line.get_color(), alpha=0.5\n",
    "    )\n",
    "    ax.set_xlabel('head direction')\n",
    "    ax.set_ylabel('firing rate (Hz)')\n",
    "\n",
    "plt.show()\n",
    "\n",
    "# draw tuning curves\n",
    "samp = 10\n",
    "#gp_lvm.set_params(jitter=1e-5)\n",
    "gp_lvm.jitter = 1e-5\n",
    "tuning = gp_lvm.eval_tuning(covariates, show_neurons, samp)\n",
    "\n",
    "for k_n in range(len(show_neurons)):\n",
    "    for n in range(samp):\n",
    "        plt.plot(tuning[n, k_n, :])\n",
    "\n",
    "    plt.show()"
   ]
  },
  {
   "cell_type": "code",
   "execution_count": null,
   "metadata": {},
   "outputs": [],
   "source": [
    "# circular posterior\n",
    "plot_circ_posterior(\n",
    "    ax, times, wrap_y, y_std, col='k', linewidth=1., step=1, alpha=0.5, line_alpha=1., \n",
    "    l=None, l_std=None\n",
    ")\n",
    "    \n",
    "    \n",
    "    \n",
    "T = 1000\n",
    "\n",
    "fig, ax = plt.subplots(figsize=(4,3))\n",
    "ax.set_xlim([0, tbin*T])\n",
    "ax.set_ylim([0, 2*np.pi])\n",
    "ax.set_yticks([0, 2*np.pi])\n",
    "ax.set_yticklabels([r'$0$', r'$2\\pi$'])\n",
    "ax.set_xlabel('time (s)')\n",
    "ax.set_ylabel('head direction')\n",
    "\n",
    "\n",
    "ax.errorbar(tbin*np.arange(T), wrap_lat_t[:T], yerr=lat_std[:T], linestyle='', \n",
    "            elinewidth=1, color='tab:blue', alpha=0.5 ,label='var. dist.')\n",
    "\n",
    "X__ = wrap_lat_t[:T]+lat_std[:T]\n",
    "a = np.where(X__ > 2*np.pi)[0]\n",
    "ax.errorbar(tbin*np.arange(T)[a], wrap_lat_t[a]-2*np.pi, yerr=lat_std[a], linestyle='', \n",
    "            elinewidth=1, color='tab:blue', alpha=0.5)\n",
    "\n",
    "X__ = wrap_lat_t[:T]-lat_std[:T]\n",
    "a = np.where(X__ < 0)[0]\n",
    "ax.errorbar(tbin*np.arange(T)[a], wrap_lat_t[a]+2*np.pi, yerr=lat_std[a], linestyle='', \n",
    "            elinewidth=1, color='tab:blue', alpha=0.5)\n",
    "\n",
    "ax.scatter(tbin*np.arange(T), rhd_t[:T], marker='.', color='r', zorder=2, label='true latents')\n",
    "\n",
    "ax.legend()\n",
    "plt.show()\n"
   ]
  },
  {
   "cell_type": "code",
   "execution_count": null,
   "metadata": {},
   "outputs": [],
   "source": []
  }
 ],
 "metadata": {
  "kernelspec": {
   "display_name": "python39",
   "language": "python",
   "name": "python39"
  },
  "language_info": {
   "codemirror_mode": {
    "name": "ipython",
    "version": 3
   },
   "file_extension": ".py",
   "mimetype": "text/x-python",
   "name": "python",
   "nbconvert_exporter": "python",
   "pygments_lexer": "ipython3",
   "version": "3.9.16"
  }
 },
 "nbformat": 4,
 "nbformat_minor": 4
}
