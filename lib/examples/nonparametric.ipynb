{
 "cells": [
  {
   "cell_type": "code",
   "execution_count": 1,
   "metadata": {},
   "outputs": [
    {
     "name": "stdout",
     "output_type": "stream",
     "text": [
      "PyTorch version: 1.6.0+cu101\n",
      "Using device: cuda:0\n"
     ]
    }
   ],
   "source": [
    "%load_ext autoreload\n",
    "%autoreload 2\n",
    "\n",
    "import torch\n",
    "import torch.nn as nn\n",
    "from torch.nn.parameter import Parameter\n",
    "import torch.nn.functional as F\n",
    "import torch.optim as optim\n",
    "#from torch.distributions import Gamma\n",
    "#torch.manual_seed(1)\n",
    "\n",
    "import matplotlib.pyplot as plt\n",
    "from mpl_toolkits.mplot3d import Axes3D\n",
    "from matplotlib.ticker import MultipleLocator # for minor ticks\n",
    "from matplotlib import gridspec\n",
    "from matplotlib import patches\n",
    "\n",
    "import numpy as np\n",
    "\n",
    "import scipy.stats as scstats\n",
    "import scipy.special as sps\n",
    "\n",
    "import pickle \n",
    "\n",
    "import sys\n",
    "sys.path.append(\"../..\")\n",
    "\n",
    "from neuroprob.utils import stats, tools, neural_utils\n",
    "import neuroprob.models as mdl\n",
    "\n",
    "from tqdm.autonotebook import tqdm\n",
    "\n",
    "dev = tools.PyTorch()\n",
    "#dev = torch.device(\"cuda:{}\".format(0))\n",
    "\n",
    "plt.style.use(['paper.mplstyle'])"
   ]
  },
  {
   "cell_type": "code",
   "execution_count": null,
   "metadata": {},
   "outputs": [],
   "source": []
  },
  {
   "cell_type": "markdown",
   "metadata": {},
   "source": [
    "### GP lengthscale versus kernel lengthscale versus histogram binning"
   ]
  },
  {
   "cell_type": "code",
   "execution_count": 2,
   "metadata": {},
   "outputs": [],
   "source": [
    "# Synthetic data\n",
    "sample_bin, track_samples, x_t, y_t, s_t, hd_t, theta_t, dir_t, \\\n",
    "    syn_t_spike, spike_samples, units, \\\n",
    "    left_x, right_x, bottom_y, top_y = pickle.load(open('../data/synthetic/gauss_spat_IPP.p', 'rb'))\n",
    "\n",
    "fac = 1000.\n",
    "\n",
    "max_speed = s_t.max()/fac\n",
    "wrap_theta_t = tools.WrapPi(theta_t, True)\n",
    "\n",
    "right_x = right_x/fac\n",
    "left_x = left_x/fac\n",
    "top_y = top_y/fac\n",
    "bottom_y = bottom_y/fac\n",
    "\n",
    "arena_width = right_x - left_x\n",
    "arena_height = top_y - bottom_y\n",
    "behav_data = [x_t/fac, y_t/fac]\n",
    "\n",
    "\n",
    "bin_size = 1\n",
    "tbin, resamples, rc_t, _ = neural_utils.BinTrain(bin_size, sample_bin, syn_t_spike, \n",
    "                                                 track_samples, binned=False)\n"
   ]
  },
  {
   "cell_type": "code",
   "execution_count": null,
   "metadata": {},
   "outputs": [],
   "source": []
  },
  {
   "cell_type": "code",
   "execution_count": 3,
   "metadata": {},
   "outputs": [],
   "source": [
    "def generate_hist_model(bins_x):\n",
    "    bins_y = int(arena_height/arena_width*bins_x)\n",
    "    bin_x = np.linspace(left_x, right_x+1e-3, bins_x+1)\n",
    "    bin_y = np.linspace(bottom_y, top_y+1e-3, bins_y+1)\n",
    "    bins_tuple = (bin_x, bin_y)\n",
    "    \n",
    "    model = mdl.nonparametrics.histogram(bins_tuple, neurons=1)\n",
    "    return model\n",
    "\n",
    "\n",
    "def bin_to_l(bins_x): # lengthscales\n",
    "    l_x = arena_width / bins_x\n",
    "    return l_x\n",
    "\n",
    "\n",
    "def histogram_select(binning, folds): # binnings\n",
    "    binnings = len(binning)\n",
    "    \n",
    "    AIC = np.empty((units, binnings))\n",
    "    BIC = np.empty((units, binnings))\n",
    "    nll = np.empty((units, binnings))\n",
    "    CVs = np.empty((units, binnings, folds))\n",
    "\n",
    "    for u in range(units):\n",
    "        print(u)\n",
    "        cv_set = neural_utils.SpikeTrainCV(folds, rc_t[u:u+1], track_samples, behav_data)\n",
    "    \n",
    "        for k in range(binnings):\n",
    "            print(k, end=' ')\n",
    "            def rate_func(behav_list, spiketrain):\n",
    "                bins_x = binning[k]\n",
    "                model = generate_hist_model(bins_x)\n",
    "                \n",
    "                spiketimes = neural_utils.BinToTrain(spiketrain[0])\n",
    "                rate, prob = neural_utils.IPP_model(tbin, behav_list, model.bins_cov, [spiketimes], bin_thres=0.125)\n",
    "                model.set_params(tbin, w=rate)\n",
    "\n",
    "                likelihood = mdl.likelihoods.Poisson(1, 'identity')\n",
    "                likelihood.set_params(tbin)\n",
    "                \n",
    "                glm = mdl.inference.nll_optimized([model], likelihood)\n",
    "                params = (prob > 0).sum() # visited bins\n",
    "                return glm, params\n",
    "\n",
    "            AIC[u, k], BIC[u, k], nll[u, k] = neural_utils.model_selection(rate_func, behav_data, rc_t[u:u+1])#, dev=dev)\n",
    "            CVs[u, k] = neural_utils.model_cv(rate_func, cv_set)#, dev=dev)\n",
    "            \n",
    "    return AIC, BIC, nll, CVs\n",
    "\n",
    "\n",
    "def fit_kernel_model(L, model, behav_list, spiketimes):\n",
    "    r\"\"\"\n",
    "    The kernel method is approximated by a fine histogram model to speed up computation \n",
    "    with high number of spikes. The raw histogram is smoothed with a kernel.\n",
    "    \"\"\"\n",
    "    bin_x, bin_y = model.bins_cov\n",
    "    sp_act, sp_time = neural_utils.IPP_model(tbin, behav_list, model.bins_cov, spiketimes, divide=False)\n",
    "    \n",
    "    delta_bin_x = bin_x[1] - bin_x[0]\n",
    "    delta_bin_y = bin_y[1] - bin_y[0]\n",
    "\n",
    "    sm_size_x = 31\n",
    "    centre_x = sm_size_x // 2\n",
    "    sm_size_y = 31\n",
    "    centre_y = sm_size_y // 2\n",
    "\n",
    "    sm_filter = np.empty((sm_size_x, sm_size_y))\n",
    "    for k in range(sm_size_x):\n",
    "        for l in range(sm_size_y):\n",
    "            sm_filter[k, l] = np.exp( -0.5*(((k-centre_x)*delta_bin_x/L[0])**2 + ((l-centre_y)*delta_bin_y/L[1])**2) )\n",
    "\n",
    "    sm_filter = sm_filter / sm_filter.sum()\n",
    "\n",
    "    smth_act = neural_utils.smooth_hist(sp_act, sm_filter, ['repeat', 'repeat'], dev=dev)\n",
    "    smth_time = neural_utils.smooth_hist(sp_time[None, ...], sm_filter, ['repeat', 'repeat'], dev=dev)\n",
    "    smth_rate = smth_act/smth_time\n",
    "    \n",
    "    model.set_params(tbin, w=smth_rate)\n",
    "    return model\n",
    "\n",
    "\n",
    "\n",
    "def kernel_select(Lscales, folds): # fields\n",
    "    bins_x = 100\n",
    "    CVs = np.empty((units, lscales, folds))\n",
    "    \n",
    "    hist_model = generate_hist_model(bins_x)\n",
    "    likelihood = mdl.likelihoods.Poisson(1, 'identity')\n",
    "    likelihood.set_params(tbin)\n",
    "    \n",
    "    for u in range(units):\n",
    "        print(u)\n",
    "        cv_set = neural_utils.SpikeTrainCV(folds, rc_t[u:u+1], track_samples, behav_data)\n",
    "        \n",
    "        for k, l_ in enumerate(Lscales):\n",
    "            print(k, end=' ')\n",
    "            L = [l_, l_]\n",
    "\n",
    "            def rate_func(behav_list, spiketrain):\n",
    "                spiketimes = neural_utils.BinToTrain(spiketrain[0])\n",
    "                model = fit_kernel_model(L, hist_model, behav_list, [spiketimes])\n",
    "                \n",
    "                glm = mdl.inference.nll_optimized([model], likelihood)\n",
    "                return glm, len(L)\n",
    "\n",
    "            CVs[u, k] = neural_utils.model_cv(rate_func, cv_set)#, dev=dev)\n",
    "            \n",
    "    return CVs"
   ]
  },
  {
   "cell_type": "code",
   "execution_count": 4,
   "metadata": {},
   "outputs": [],
   "source": [
    "def get_field(glm_rate, grid_size, grid_shape, neuron):\n",
    "\n",
    "    def func(pos):\n",
    "        prevshape = pos.shape[1:]\n",
    "        x = pos[0].flatten()\n",
    "        y = pos[1].flatten()\n",
    "        covariates = [x, y]\n",
    "        return glm_rate.eval_rate(covariates, neuron).reshape(-1, *prevshape)\n",
    "\n",
    "    _, field = tools.compute_mesh(grid_size, grid_shape, func)\n",
    "    return field\n",
    "\n",
    "\n",
    "def compute_rate(glm_rate, neuron):\n",
    "    grid_size = (30, 24)\n",
    "    dx = arena_width/grid_size[0]\n",
    "    dy = arena_height/grid_size[1]\n",
    "    grid_shape = [[left_x+dx/2., right_x-dx/2.], [bottom_y+dy/2., top_y-dy/2.]]\n",
    "    field = get_field(glm_rate, grid_size, grid_shape, neuron)\n",
    "    return field\n",
    "\n",
    "\n",
    "def compute_RMS(true_w, model_w): # rate error, with shape (neuron,)\n",
    "    return np.sqrt(((model_w-true_w)**2).mean(axis=(1, 2)))\n",
    "    \n",
    "    \n",
    "def compute_stats(glm_rate, behav_data, t_spike): # statistics\n",
    "    bs = 5000\n",
    "    T = behav_data[0].shape[0]\n",
    "    N = int(np.ceil(T/bs))\n",
    "    rate_model= []\n",
    "\n",
    "    for n in range(N):\n",
    "        covariates_ = [b[n*bs:(n+1)*bs] for b in behav_data]\n",
    "        rate_model += [glm_rate.eval_rate(covariates_, [0])[0]]\n",
    "\n",
    "    rate_model = np.concatenate(rate_model)\n",
    "\n",
    "    # Overdispersion count method\n",
    "    #traj_len = 1000\n",
    "    #q_cdf_, q_order_, py, T_DS, T_KS, s_DS, s_KS_, p_DS_, p_KS_, traj_lens = \\\n",
    "    #    stats.count_KS_method(sample_bin, t_spike, rate_model, traj_len, min_spikes=10, repeat=1)\n",
    "\n",
    "    # ISI KS-method\n",
    "    dist_isi = mdl.point_process.ISI_gamma(np.array([1.0]))\n",
    "    q_cdf, Z_DS, T_KS, s_DS, s_KS, p_DS, p_KS = \\\n",
    "        stats.ISI_KS_method(dist_isi, sample_bin, t_spike, rate_model)\n",
    "\n",
    "    return q_cdf, Z_DS, T_KS, s_KS"
   ]
  },
  {
   "cell_type": "code",
   "execution_count": 46,
   "metadata": {},
   "outputs": [],
   "source": [
    "def GT_model():\n",
    "    tmu = np.array([[250., 250.], [100., 100.], [400., 300.], [50., 350.], [360., 70.]])/fac\n",
    "    tprec = np.array([[0.0001, 0.0001, 0.00005], [0.0002, 0.0002, 0.0], [0.0001, 0.0002, 0.00005], \n",
    "                     [0.0001, 0.0002, 0.0], [0.00015, 0.00015, 0.0]])*fac**2\n",
    "    trate_0 = np.array([8.0, 20.0, 10.0, 17.0, 12.0]) # Hz\n",
    "    tt_p = np.array([[0.0, 0.0], [1.0, 0.2], [0.5, 0.0], [0.7, 1.0], [0.1, 0.0]]) # beta, phi_0 for theta modulation\n",
    "\n",
    "    glm_rate = mdl.parametrics.Gauss_GLM(units, 'exp')\n",
    "    w = mdl.parametrics.gaussian_to_w(tmu, tprec, trate_0, tt_p)[:, :6]\n",
    "    glm_rate.set_params(sample_bin, w)\n",
    "    return glm_rate\n",
    "        \n",
    "\n",
    "def fit_and_return_model(model_type, behav_list, spiketrain, optimal_l): # single neuron fits\n",
    "    if model_type == 'gaussian': # Gaussian fit\n",
    "        ll_samples = 1\n",
    "        \n",
    "        # single neuron initialization\n",
    "        spiketimes = neural_utils.BinToTrain(spiketrain[0])\n",
    "        x_s, y_s = neural_utils.CovariatesAtSpikes([spiketimes], tuple(behav_list))\n",
    "        imu = np.empty((1, 2))\n",
    "        iprec = np.empty((1, 3))\n",
    "        irate_0 = 10.*np.ones((1)) # Hz\n",
    "        it_p = np.zeros((1, 2)) # beta, phi_0 for theta modulation\n",
    "\n",
    "        imu[0, 0] = x_s[0].mean()\n",
    "        imu[0, 1] = y_s[0].mean()\n",
    "        iprec[0, 0] = 1/x_s[0].var()\n",
    "        iprec[0, 1] = 1/y_s[0].var()\n",
    "\n",
    "        glm_rate = mdl.parametrics.Gauss_GLM(1, 'exp')\n",
    "        glm_rate.set_params(sample_bin, mdl.parametrics.gaussian_to_w(imu, iprec, irate_0, it_p)[:, :6])\n",
    "        \n",
    "    elif model_type == 'histogram': # histogram fit\n",
    "        bins_x = optimal_l\n",
    "        glm_rate = generate_hist_model(bins_x)\n",
    "\n",
    "        spiketimes = neural_utils.BinToTrain(spiketrain[0])\n",
    "        rate, prob = neural_utils.IPP_model(tbin, behav_list, glm_rate.bins_cov, [spiketimes], bin_thres=0.125)\n",
    "        glm_rate.set_params(tbin, w=rate)\n",
    "        glm_rate.to(dev)\n",
    "        return glm_rate\n",
    "        \n",
    "    elif model_type == 'kernel': # kernel method rate\n",
    "        bins_x = 100\n",
    "        hist_model = generate_hist_model(bins_x)\n",
    "\n",
    "        L = [optimal_l, optimal_l]\n",
    "        spiketimes = neural_utils.BinToTrain(spiketrain[0])\n",
    "        glm_rate = fit_kernel_model(L, hist_model, behav_list, [spiketimes])\n",
    "        glm_rate.to(dev)\n",
    "        return glm_rate\n",
    "        \n",
    "    elif model_type == 'GP': # Gaussian process\n",
    "        ll_samples = 10\n",
    "        num_induc = 30\n",
    "        ind_list = [np.linspace(left_x, right_x, num_induc), \\\n",
    "                    bottom_y + arena_height*np.random.rand(num_induc)]\n",
    "\n",
    "        l = 30.*np.ones(1)/fac\n",
    "        v = np.ones(1)\n",
    "        kt = [('RBF', 'euclid', np.array([l, l]), v)] # shared lengthscales x and y\n",
    "        \n",
    "        inducing_points = np.array([left_x + arena_width*np.random.rand(num_induc), \\\n",
    "                                    bottom_y + arena_height*np.random.rand(num_induc)]).T\n",
    "\n",
    "        inducing_points = np.array(ind_list).T[None, ...].repeat(1, axis=0)\n",
    "        glm_rate = mdl.nonparametrics.Gaussian_process(1, inducing_points, kt,\n",
    "                                                    ([None],)*2, ([None],)*2, \n",
    "                                                    inv_link='exp', shared_kernel_params=True,\n",
    "                                                    full_cov_fit=False, \n",
    "                                                    mean_ini=np.zeros((1, 1, 1)))\n",
    "        glm_rate.set_params(jitter=1e-5)\n",
    "    \n",
    "    glm_rate.set_params(tbin)\n",
    "    likelihood = mdl.likelihoods.Poisson(1, 'exp')\n",
    "    likelihood.set_params(tbin)\n",
    "        \n",
    "    glm = mdl.inference.nll_optimized([glm_rate], likelihood)\n",
    "    glm.preprocess(behav_list, spiketrain.shape[1], spiketrain, batch_size=100000)\n",
    "    glm.to(dev)\n",
    "\n",
    "    # fit\n",
    "    sch = lambda o: optim.lr_scheduler.MultiplicativeLR(o, lambda e: 0.9)\n",
    "    opt_tuple = (optim.Adam, 100, sch)\n",
    "    opt_lr_dict = {'default': 5*1e-3}\n",
    "    glm.set_optimizers(opt_tuple, opt_lr_dict)\n",
    "\n",
    "    annealing = lambda x: 1.0#min(1.0, 0.01*x)\n",
    "    losses = glm.fit(3000, margin=1e1, premature=100, anneal_func=annealing, ll_samples=ll_samples)\n",
    "\n",
    "    # training\n",
    "    plt.figure()\n",
    "    plt.plot(losses)\n",
    "    plt.xlabel('epoch')\n",
    "    plt.ylabel('loss')\n",
    "    plt.show()\n",
    "    \n",
    "    return glm_rate"
   ]
  },
  {
   "cell_type": "code",
   "execution_count": null,
   "metadata": {},
   "outputs": [],
   "source": []
  },
  {
   "cell_type": "code",
   "execution_count": 41,
   "metadata": {
    "scrolled": true
   },
   "outputs": [
    {
     "name": "stdout",
     "output_type": "stream",
     "text": [
      "0\n",
      "0 1 2 3 4 5 6 7 8 9 10 1\n",
      "0 1 2 3 4 5 6 7 8 9 10 2\n",
      "0 1 2 3 4 5 6 7 8 9 10 3\n",
      "0 1 2 3 4 5 6 7 8 9 10 4\n",
      "0 1 2 3 4 5 6 7 8 9 10 0\n",
      "0 1 2 3 4 5 6 7 8 9 10 1\n",
      "0 1 2 3 4 5 6 7 8 9 10 2\n",
      "0 1 2 3 4 5 6 7 8 9 10 3\n",
      "0 1 2 3 4 5 6 7 8 9 10 4\n",
      "0 1 2 3 4 5 6 7 8 9 10 "
     ]
    }
   ],
   "source": [
    "show_field = []\n",
    "binning = [3, 4, 5, 6, 8, 10, 12, 15, 20, 30, 40]\n",
    "folds = 5\n",
    "\n",
    "lscales = len(binning)\n",
    "Lscales = [bin_to_l(g) for g in binning]#np.linspace(0.005, .1, lscales)\n",
    "\n",
    "AIC, BIC, nll, CVs = histogram_select(binning, folds)\n",
    "CVs_kernel = kernel_select(Lscales, folds)\n",
    "CV = CVs.mean(-1)\n",
    "CV_kernel = CVs_kernel.mean(-1)\n",
    "\n",
    "optimal_bin = np.empty((units))\n",
    "optimal_length = np.empty((units))\n",
    "for u in range(units):\n",
    "    optimal_bin[u] = binning[np.argmin(CV[u])]\n",
    "    optimal_length[u] = Lscales[np.argmin(CV_kernel[u])]\n",
    "    \n",
    "hist_lengthscales = bin_to_l(optimal_bin)\n",
    "    \n",
    "# compute show models\n",
    "grid_shape = [[left_x, right_x], [bottom_y, top_y]]\n",
    "u_show = 0\n",
    "u = u_show\n",
    "\n",
    "glm_rate = fit_and_return_model('histogram', behav_data, rc_t[u:u+1], 20)\n",
    "grid_size = [len(glm_rate.bins_cov[0])-1, len(glm_rate.bins_cov[1])-1]\n",
    "show_field.append(get_field(glm_rate, grid_size, grid_shape, [0])[0])\n",
    "\n",
    "glm_rate = fit_and_return_model('histogram', behav_data, rc_t[u:u+1], 6)\n",
    "grid_size = [len(glm_rate.bins_cov[0])-1, len(glm_rate.bins_cov[1])-1]\n",
    "show_field.append(get_field(glm_rate, grid_size, grid_shape, [0])[0])\n",
    "\n",
    "glm_rate = fit_and_return_model('kernel', behav_data, rc_t[u:u+1], .01)\n",
    "grid_size = [50, 40]\n",
    "show_field.append(get_field(glm_rate, grid_size, grid_shape, [0])[0])\n",
    "\n",
    "glm_rate = fit_and_return_model('kernel', behav_data, rc_t[u:u+1], .09)\n",
    "grid_size = [50, 40]\n",
    "show_field.append(get_field(glm_rate, grid_size, grid_shape, [0])[0])"
   ]
  },
  {
   "cell_type": "code",
   "execution_count": 64,
   "metadata": {
    "scrolled": true
   },
   "outputs": [
    {
     "data": {
      "application/vnd.jupyter.widget-view+json": {
       "model_id": "1b41762cea7f406c885c56e9e0beb721",
       "version_major": 2,
       "version_minor": 0
      },
      "text/plain": [
       "HBox(children=(FloatProgress(value=0.0, max=3000.0), HTML(value='')))"
      ]
     },
     "metadata": {},
     "output_type": "display_data"
    },
    {
     "name": "stdout",
     "output_type": "stream",
     "text": [
      "\n",
      "Stopped at epoch 235.\n"
     ]
    },
    {
     "data": {
      "image/png": "[encoded data removed]",
      "text/plain": [
       "<Figure size 245x183.75 with 1 Axes>"
      ]
     },
     "metadata": {
      "needs_background": "light"
     },
     "output_type": "display_data"
    },
    {
     "data": {
      "application/vnd.jupyter.widget-view+json": {
       "model_id": "3638b4d8c6c246b9b5f00ae0af2560c6",
       "version_major": 2,
       "version_minor": 0
      },
      "text/plain": [
       "HBox(children=(FloatProgress(value=0.0, max=3000.0), HTML(value='')))"
      ]
     },
     "metadata": {},
     "output_type": "display_data"
    },
    {
     "name": "stdout",
     "output_type": "stream",
     "text": [
      "\n",
      "Stopped at epoch 229.\n"
     ]
    },
    {
     "data": {
      "image/png": "[encoded data removed]",
      "text/plain": [
       "<Figure size 245x183.75 with 1 Axes>"
      ]
     },
     "metadata": {
      "needs_background": "light"
     },
     "output_type": "display_data"
    },
    {
     "data": {
      "application/vnd.jupyter.widget-view+json": {
       "model_id": "75027f6e43424fd7a7389d236ca167a8",
       "version_major": 2,
       "version_minor": 0
      },
      "text/plain": [
       "HBox(children=(FloatProgress(value=0.0, max=3000.0), HTML(value='')))"
      ]
     },
     "metadata": {},
     "output_type": "display_data"
    },
    {
     "name": "stdout",
     "output_type": "stream",
     "text": [
      "\n",
      "Stopped at epoch 278.\n"
     ]
    },
    {
     "data": {
      "image/png": "[encoded data removed]",
      "text/plain": [
       "<Figure size 245x183.75 with 1 Axes>"
      ]
     },
     "metadata": {
      "needs_background": "light"
     },
     "output_type": "display_data"
    },
    {
     "data": {
      "application/vnd.jupyter.widget-view+json": {
       "model_id": "37f4a03172fe49a08ab5482d1754585d",
       "version_major": 2,
       "version_minor": 0
      },
      "text/plain": [
       "HBox(children=(FloatProgress(value=0.0, max=3000.0), HTML(value='')))"
      ]
     },
     "metadata": {},
     "output_type": "display_data"
    },
    {
     "name": "stdout",
     "output_type": "stream",
     "text": [
      "\n",
      "Stopped at epoch 303.\n"
     ]
    },
    {
     "data": {
      "image/png": "[encoded data removed]",
      "text/plain": [
       "<Figure size 245x183.75 with 1 Axes>"
      ]
     },
     "metadata": {
      "needs_background": "light"
     },
     "output_type": "display_data"
    },
    {
     "data": {
      "application/vnd.jupyter.widget-view+json": {
       "model_id": "9bbd7ede57314f26bbd6aafecafeb1dd",
       "version_major": 2,
       "version_minor": 0
      },
      "text/plain": [
       "HBox(children=(FloatProgress(value=0.0, max=3000.0), HTML(value='')))"
      ]
     },
     "metadata": {},
     "output_type": "display_data"
    },
    {
     "name": "stdout",
     "output_type": "stream",
     "text": [
      "\n",
      "Stopped at epoch 244.\n"
     ]
    },
    {
     "data": {
      "image/png": "[encoded data removed]",
      "text/plain": [
       "<Figure size 245x183.75 with 1 Axes>"
      ]
     },
     "metadata": {
      "needs_background": "light"
     },
     "output_type": "display_data"
    },
    {
     "data": {
      "application/vnd.jupyter.widget-view+json": {
       "model_id": "c5ad21f8846b4ae0bb32c50ac6187e96",
       "version_major": 2,
       "version_minor": 0
      },
      "text/plain": [
       "HBox(children=(FloatProgress(value=0.0, max=3000.0), HTML(value='')))"
      ]
     },
     "metadata": {},
     "output_type": "display_data"
    },
    {
     "name": "stdout",
     "output_type": "stream",
     "text": [
      "\n",
      "Stopped at epoch 305.\n"
     ]
    },
    {
     "data": {
      "image/png": "[encoded data removed]",
      "text/plain": [
       "<Figure size 245x183.75 with 1 Axes>"
      ]
     },
     "metadata": {
      "needs_background": "light"
     },
     "output_type": "display_data"
    },
    {
     "data": {
      "application/vnd.jupyter.widget-view+json": {
       "model_id": "7c81e64669884ec28597ddf486cff475",
       "version_major": 2,
       "version_minor": 0
      },
      "text/plain": [
       "HBox(children=(FloatProgress(value=0.0, max=3000.0), HTML(value='')))"
      ]
     },
     "metadata": {},
     "output_type": "display_data"
    },
    {
     "name": "stdout",
     "output_type": "stream",
     "text": [
      "\n",
      "Stopped at epoch 698.\n"
     ]
    },
    {
     "data": {
      "image/png": "[encoded data removed]",
      "text/plain": [
       "<Figure size 245x183.75 with 1 Axes>"
      ]
     },
     "metadata": {
      "needs_background": "light"
     },
     "output_type": "display_data"
    },
    {
     "data": {
      "application/vnd.jupyter.widget-view+json": {
       "model_id": "74351745f875456abc88d8bc85471d39",
       "version_major": 2,
       "version_minor": 0
      },
      "text/plain": [
       "HBox(children=(FloatProgress(value=0.0, max=3000.0), HTML(value='')))"
      ]
     },
     "metadata": {},
     "output_type": "display_data"
    },
    {
     "name": "stdout",
     "output_type": "stream",
     "text": [
      "\n",
      "Stopped at epoch 300.\n"
     ]
    },
    {
     "data": {
      "image/png": "[encoded data removed]",
      "text/plain": [
       "<Figure size 245x183.75 with 1 Axes>"
      ]
     },
     "metadata": {
      "needs_background": "light"
     },
     "output_type": "display_data"
    },
    {
     "data": {
      "application/vnd.jupyter.widget-view+json": {
       "model_id": "91a1ace250a64e22ae55d3e3a3f599e4",
       "version_major": 2,
       "version_minor": 0
      },
      "text/plain": [
       "HBox(children=(FloatProgress(value=0.0, max=3000.0), HTML(value='')))"
      ]
     },
     "metadata": {},
     "output_type": "display_data"
    },
    {
     "name": "stdout",
     "output_type": "stream",
     "text": [
      "\n",
      "Stopped at epoch 183.\n"
     ]
    },
    {
     "data": {
      "image/png": "[encoded data removed]",
      "text/plain": [
       "<Figure size 245x183.75 with 1 Axes>"
      ]
     },
     "metadata": {
      "needs_background": "light"
     },
     "output_type": "display_data"
    },
    {
     "data": {
      "application/vnd.jupyter.widget-view+json": {
       "model_id": "ae21a32b5e464a2bade8cad8b448f82b",
       "version_major": 2,
       "version_minor": 0
      },
      "text/plain": [
       "HBox(children=(FloatProgress(value=0.0, max=3000.0), HTML(value='')))"
      ]
     },
     "metadata": {},
     "output_type": "display_data"
    },
    {
     "name": "stdout",
     "output_type": "stream",
     "text": [
      "\n",
      "Stopped at epoch 315.\n"
     ]
    },
    {
     "data": {
      "image/png": "[encoded data removed]",
      "text/plain": [
       "<Figure size 245x183.75 with 1 Axes>"
      ]
     },
     "metadata": {
      "needs_background": "light"
     },
     "output_type": "display_data"
    }
   ],
   "source": [
    "# computation\n",
    "gt_rate = GT_model()\n",
    "model_types = ['gaussian', 'histogram', 'kernel', 'GP']\n",
    "train_size = 2500000\n",
    "field_tuples = []\n",
    "\n",
    "RMS_ = []\n",
    "stats_ = []\n",
    "lengthscale = []\n",
    "\n",
    "\n",
    "grid_size = [50, 40]\n",
    "grid_shape = [[left_x, right_x], [bottom_y, top_y]]\n",
    "true_field = get_field(gt_rate, grid_size, grid_shape, np.arange(units))\n",
    "\n",
    "\n",
    "for u in range(units):\n",
    "    t_rate = compute_rate(gt_rate, neuron=[u])\n",
    "    \n",
    "    RMS = []\n",
    "    stats_list = []\n",
    "    \n",
    "    \n",
    "    for model_type in model_types:\n",
    "        if model_type == 'histogram':\n",
    "            opt_l = int(optimal_bin[u])\n",
    "        elif model_type == 'kernel':\n",
    "            opt_l = optimal_length[u]\n",
    "        else:\n",
    "            opt_l = None\n",
    "        glm_rate = fit_and_return_model(model_type, [b[:train_size] for b in behav_data], \n",
    "                                        rc_t[u:u+1, :train_size], opt_l)\n",
    "        \n",
    "        m_rate = compute_rate(glm_rate, [0])[0]\n",
    "        RMS.append(compute_RMS(t_rate, m_rate))\n",
    "        # evaluate predictive T scores\n",
    "        stats_list.append(compute_stats(glm_rate, [b[train_size:] for b in behav_data], \n",
    "                                        syn_t_spike[u][syn_t_spike[u] > train_size]-train_size))\n",
    "        \n",
    "        if model_type == 'GP':\n",
    "            lengthscale.append(glm_rate.kernel.lengthscale.data.cpu().numpy())\n",
    "            \n",
    "        grid_shape = [[left_x, right_x], [bottom_y, top_y]]\n",
    "        if model_type == 'histogram':\n",
    "            grid_size = [len(glm_rate.bins_cov[0])-1, len(glm_rate.bins_cov[1])-1]\n",
    "        else:\n",
    "            grid_size = [50, 40]\n",
    "            \n",
    "        if u == 0:\n",
    "            field_tuples.append(get_field(glm_rate, grid_size, grid_shape, [0])[0])\n",
    "\n",
    "    RMS_.append(RMS)\n",
    "    stats_.append(stats_list)\n",
    "\n",
    "lengthscale = np.array(lengthscale)\n",
    "RMS_ = np.array(RMS_)"
   ]
  },
  {
   "cell_type": "code",
   "execution_count": null,
   "metadata": {},
   "outputs": [],
   "source": []
  },
  {
   "cell_type": "code",
   "execution_count": 62,
   "metadata": {},
   "outputs": [
    {
     "data": {
      "image/png": "[encoded data removed]",
      "text/plain": [
       "<Figure size 560x420 with 20 Axes>"
      ]
     },
     "metadata": {
      "needs_background": "light"
     },
     "output_type": "display_data"
    }
   ],
   "source": [
    "fig = plt.figure(figsize=(8,6))\n",
    "fig.text(-0.08, 1.0, 'A', transform=fig.transFigure, size=15)\n",
    "fig.text(-0.08, 0.75, 'B', transform=fig.transFigure, size=15)\n",
    "fig.text(0.55, 0.75, 'C', transform=fig.transFigure, size=15)\n",
    "\n",
    "\n",
    "\n",
    "### show true fields ###\n",
    "grid_shape = [[left_x, right_x], [bottom_y, top_y]]\n",
    "\n",
    "\n",
    "widths = [1, 1, 1, 1, 1, 0.25]\n",
    "heights = [1]\n",
    "nrows = 1\n",
    "ncols = 6\n",
    "spec = fig.add_gridspec(ncols=ncols, nrows=nrows, width_ratios=widths,\n",
    "                         height_ratios=heights, wspace=0.25, left=0.0, right=0.9, bottom=0.83, top=1.0)\n",
    "\n",
    "\n",
    "for u in range(units):\n",
    "    ax = fig.add_subplot(spec[0, u])\n",
    "    \n",
    "    if u == 4:\n",
    "        cbar= True\n",
    "        ticktitle='firing rate'\n",
    "        cax = fig.add_subplot(spec[0, 5])\n",
    "    else:\n",
    "        cbar = False\n",
    "        ticktitle=''\n",
    "        cax = None\n",
    "        \n",
    "    ax.set_title('{:.0f} Hz'.format(true_field[u].max()), fontsize=12)\n",
    "    _, ax = tools.visualize_field(true_field[u], grid_shape, ticktitle=ticktitle, figax=(fig, ax), \n",
    "                                  ticks=[0, true_field[u].max()], ticklabels=['0', 'max'], cbar=cbar, \n",
    "                                  cax=cax)\n",
    "    if u == 0:\n",
    "        ax.set_ylabel(r'$y$')\n",
    "    if u == 2:\n",
    "        ax.set_xlabel(r'$x$')\n",
    "\n",
    "    #tools.decorate_ax(ax, ylabel=ylabel, xlim=[left_x, right_x], ylim=[bottom_y, top_y])\n",
    "\n",
    "\n",
    "\n",
    "### show model selection ###\n",
    "widths = [1]\n",
    "heights = [2, 2, 1]\n",
    "nrows = 3\n",
    "ncols = 1\n",
    "spec = fig.add_gridspec(ncols=ncols, nrows=nrows, width_ratios=widths, hspace=0.4, \n",
    "                        height_ratios=heights, left=0., right=.5, bottom=0.0, top=.75)\n",
    "\n",
    "\n",
    "# histogram\n",
    "binnings = len(binning)\n",
    "b = []\n",
    "for bb in binning:\n",
    "    b.append(bin_to_l(bb))\n",
    "b = np.array(b)\n",
    "\n",
    "CV_mean = CVs.mean(-1)\n",
    "CV_std = CVs.std(-1)\n",
    "\n",
    "ax = fig.add_subplot(spec[0, 0])\n",
    "ax.plot(b, AIC[u_show]/2., label='$-$AIC/2', marker='o', color='blue')\n",
    "ax.plot(b, BIC[u_show]/2., label='$-$BIC/2', marker='o', color='red')\n",
    "ax.plot(b, nll[u_show], label='NLL', marker='o', color='orange')\n",
    "ax.errorbar(b, folds*CV_mean[u_show], yerr=CV_std[u_show], capsize=4, \n",
    "            label='{}-fold CV'.format(folds), color='green')\n",
    "\n",
    "ax.scatter(b[np.argmin(AIC[u_show])], np.min(AIC[u_show]/2.), marker='o', \n",
    "           facecolor='None', edgecolors='blue', s=100)\n",
    "ax.scatter(b[np.argmin(BIC[u_show])], np.min(BIC[u_show]/2.), marker='o', \n",
    "           facecolor='None', edgecolors='red', s=100)\n",
    "#ax.scatter(b[np.argmin(nll[u_show])], np.min(nll[u_show]), marker='o', \n",
    "#           facecolor='None', edgecolors='tab:orange', s=100)\n",
    "ax.scatter(b[np.argmin(CV_mean[u_show])], np.min(folds*CV_mean[u_show]), marker='o', \n",
    "           facecolor='None', edgecolors='green', s=100)\n",
    "ax.legend()\n",
    "\n",
    "\n",
    "axes = ax.inset_axes([0.05, 0.55, 0.4, 0.3])\n",
    "tools.visualize_field(show_field[0], grid_shape, cbar=False, figax=(fig, axes))\n",
    "axes = ax.inset_axes([0.4, 0.55, 0.4, 0.3])\n",
    "tools.visualize_field(show_field[1], grid_shape, cbar=False, figax=(fig, axes))\n",
    "\n",
    "# kernel\n",
    "ax = fig.add_subplot(spec[1, 0])\n",
    "\n",
    "CV = CVs_kernel.mean(-1)\n",
    "ax.plot(Lscales, CV[u_show], marker='o', color='blue')\n",
    "ax.scatter(Lscales[np.argmin(CV[u_show])], np.min(CV[u_show]), marker='o', facecolor='None', \n",
    "           edgecolors='blue', s=100)\n",
    "\n",
    "ax.set_ylabel('cross-validated NLL')\n",
    "ax.ticklabel_format(axis='y', style='sci', scilimits=(-4, 4))\n",
    "\n",
    "axes = ax.inset_axes([0.05, 0.4, 0.5, 0.4])\n",
    "tools.visualize_field(show_field[2], grid_shape, cbar=False, figax=(fig, axes))\n",
    "axes.set_alpha(0.5)\n",
    "axes = ax.inset_axes([0.5, 0.4, 0.5, 0.4])\n",
    "tools.visualize_field(show_field[3], grid_shape, cbar=False, figax=(fig, axes))\n",
    "axes.set_alpha(0.5)\n",
    "\n",
    "# lengthscale comparison\n",
    "ax = fig.add_subplot(spec[2, 0])\n",
    "ax.scatter(hist_lengthscales, np.ones_like(hist_lengthscales)+(np.random.rand(*hist_lengthscales.shape)-0.5)*0.2, \n",
    "           marker='+', s=40)\n",
    "ax.scatter(optimal_length, np.ones_like(optimal_length)*2+(np.random.rand(*optimal_length.shape)-0.5)*0.2, \n",
    "           marker='+', s=40)\n",
    "gp_l = np.array(lengthscale).flatten()\n",
    "ax.scatter(gp_l, np.ones_like(gp_l)*3+(np.random.rand(*gp_l.shape)-0.5)*0.2, marker='+', s=40)\n",
    "ax.set_yticks([1, 2, 3])\n",
    "ax.set_yticklabels(['histogram', 'kernel', 'GP'])\n",
    "ax.set_xlabel('lengthscale (m)')\n",
    "ax.set_ylim(0.5, 3.5)\n",
    "\n",
    "\n",
    "### show goodness of fits\n",
    "widths = [1, 1, 1, 1]\n",
    "heights = [1, 1]\n",
    "nrows = 2\n",
    "ncols = 4\n",
    "spec = fig.add_gridspec(ncols=ncols, nrows=nrows, width_ratios=widths,\n",
    "                        height_ratios=heights, wspace=.3, left=0.62, right=1., bottom=0.5, top=.75)\n",
    "\n",
    "# plots\n",
    "for u in range(len(model_types)):\n",
    "    ax = fig.add_subplot(spec[0, u])\n",
    "    ax.set_title('{:.1f} Hz'.format(field_tuples[u].max()), fontsize=11)\n",
    "    _, ax = tools.visualize_field(field_tuples[u], grid_shape, ticktitle=ticktitle, figax=(fig, ax), cbar=False)\n",
    "    \n",
    "    ax = fig.add_subplot(spec[1, u])\n",
    "    ax = stats.plot_dispersion(ax, stats_list[u][0], stats_list[u][3])\n",
    "\n",
    "\n",
    "# statistics\n",
    "widths = [1]\n",
    "heights = [1, 1, 1]\n",
    "nrows = 3\n",
    "ncols = 1\n",
    "spec = fig.add_gridspec(ncols=ncols, nrows=nrows, width_ratios=widths,\n",
    "                        height_ratios=heights, left=0.62, right=1., bottom=0.0, top=.45)\n",
    "\n",
    "barWidth = 0.2\n",
    "\n",
    "# Set position of bar on X axis\n",
    "r1 = np.arange(len(RMS))\n",
    "r2 = [x + barWidth for x in r1]\n",
    "r3 = [x + barWidth for x in r2]\n",
    " \n",
    "# Make the plot\n",
    "ax = fig.add_subplot(spec[0, 0])\n",
    "#ax.bar(r1, bars1.mean(-1), yerr=bars1.std(-1), color='#7f6d5f', width=barWidth, edgecolor='white', label='var1')\n",
    "box = RMS_[..., 0]\n",
    "#ax.boxplot(box, medianprops={'color': 'k'})\n",
    "for e, tt in enumerate(box.T, 1):\n",
    "    ax.scatter(e*np.ones_like(tt)+(np.random.rand(*tt.shape)-0.5)*0.0, tt, marker='+', s=40)\n",
    "    ax.scatter(e, tt.mean(), marker='_', s=200, color='k')\n",
    "ax.set_ylabel('RMS error')\n",
    "ax.set_xticks([])\n",
    "ax.set_xlim(0.5, 4.5)\n",
    "\n",
    "ax = fig.add_subplot(spec[1, 0])\n",
    "T_DS = []\n",
    "for stats_l in stats_:\n",
    "    T_DS.append([s[1] for s in stats_l])\n",
    "T_DS = np.array(T_DS)\n",
    "#ax.boxplot(T_DS, medianprops={'color': 'k'})\n",
    "for e, tt in enumerate(T_DS.T, 1):\n",
    "    ax.scatter(e*np.ones_like(tt)+(np.random.rand(*tt.shape)-0.5)*0.0, tt, marker='+', s=40)\n",
    "    ax.scatter(e, tt.mean(), marker='_', s=200, color='k')\n",
    "ax.set_ylabel(r'$T_{DS}$ (ISI)')\n",
    "ax.set_xticks([])\n",
    "ax.set_xlim(0.5, 4.5)\n",
    "\n",
    "ax = fig.add_subplot(spec[2, 0])\n",
    "T_KS = []\n",
    "for stats_l in stats_:\n",
    "    T_KS.append([s[2] for s in stats_l])\n",
    "T_KS = np.array(T_KS)\n",
    "#ax.boxplot(T_KS, medianprops={'color': 'k'})\n",
    "for e, tt in enumerate(T_KS.T, 1):\n",
    "    ax.scatter(e*np.ones_like(tt)+(np.random.rand(*tt.shape)-0.5)*0.0, tt, marker='+', s=40)\n",
    "    ax.scatter(e, tt.mean(), marker='_', s=200, color='k')\n",
    "ax.set_ylabel(r'$T_{KS}$ (ISI)')\n",
    "ax.set_xlim(0.5, 4.5)\n",
    "\n",
    "# Add xticks on the middle of the group bars\n",
    "ax.set_xticks([1, 2, 3, 4])\n",
    "ax.set_xticklabels(['parametric', 'histogram', 'kernel', 'GP'])\n",
    "\n",
    "\n",
    "\n",
    "\n",
    "#plt.savefig('output/model_selection.svg')\n",
    "#plt.savefig('output/model_selection.pdf')\n",
    "plt.show()"
   ]
  },
  {
   "cell_type": "code",
   "execution_count": 63,
   "metadata": {},
   "outputs": [
    {
     "data": {
      "text/plain": [
       "array([[0.02951832, 0.03668293, 0.0384997 , 0.03573855],\n",
       "       [0.03804521, 0.07844857, 0.046337  , 0.58129066],\n",
       "       [0.02958999, 0.02042475, 0.01492834, 0.01998463],\n",
       "       [0.06140125, 0.0470628 , 0.04760702, 0.0253428 ],\n",
       "       [0.061881  , 0.04359899, 0.02630365, 0.02894005]])"
      ]
     },
     "execution_count": 63,
     "metadata": {},
     "output_type": "execute_result"
    }
   ],
   "source": [
    "T_KS"
   ]
  },
  {
   "cell_type": "code",
   "execution_count": null,
   "metadata": {},
   "outputs": [],
   "source": []
  },
  {
   "cell_type": "code",
   "execution_count": null,
   "metadata": {},
   "outputs": [],
   "source": []
  }
 ],
 "metadata": {
  "kernelspec": {
   "display_name": "Python 3",
   "language": "python",
   "name": "python3"
  },
  "language_info": {
   "codemirror_mode": {
    "name": "ipython",
    "version": 3
   },
   "file_extension": ".py",
   "mimetype": "text/x-python",
   "name": "python",
   "nbconvert_exporter": "python",
   "pygments_lexer": "ipython3",
   "version": "3.6.9"
  }
 },
 "nbformat": 4,
 "nbformat_minor": 4
}
