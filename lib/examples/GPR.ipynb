{
 "cells": [
  {
   "cell_type": "code",
   "execution_count": 1,
   "metadata": {},
   "outputs": [],
   "source": [
    "%load_ext autoreload\n",
    "%autoreload 2\n",
    "\n",
    "import torch\n",
    "import torch.optim as optim\n",
    "\n",
    "import matplotlib.pyplot as plt\n",
    "import numpy as np\n",
    "\n",
    "\n",
    "import sys\n",
    "sys.path.append(\"..\")"
   ]
  },
  {
   "cell_type": "markdown",
   "metadata": {},
   "source": [
    "This notebook contains code demonstrating how to do regression.\n",
    "- Linear regression\n",
    "- Fitting a spike train with a renewal process GP\n",
    "- Computing the renewal process likelihood landscape\n",
    "- Performing GPLVM on a biological data for dimensionality reduction"
   ]
  },
  {
   "cell_type": "code",
   "execution_count": 4,
   "metadata": {},
   "outputs": [
    {
     "name": "stdout",
     "output_type": "stream",
     "text": [
      "PyTorch version: 1.7.1+cu101\n",
      "Using device: cuda:0\n"
     ]
    }
   ],
   "source": [
    "import neuroppl as nppl\n",
    "import neuroppl.utils as utils\n",
    "\n",
    "dev = utils.pytorch.get_device() # PyTorch device, gpu 0 by default if available"
   ]
  },
  {
   "cell_type": "code",
   "execution_count": null,
   "metadata": {},
   "outputs": [],
   "source": []
  },
  {
   "cell_type": "markdown",
   "metadata": {},
   "source": [
    "### Kernel regression and splines\n",
    "https://www.ics.uci.edu/~welling/classnotes/papers_class/Kernel-Ridge.pdf. The choice of kernel implicitly selects the basis functions selected for kernel expansion. With a polynomial basis, we can fit Lagrange polynomials."
   ]
  },
  {
   "cell_type": "code",
   "execution_count": null,
   "metadata": {},
   "outputs": [],
   "source": [
    "x = np.random.randn(2)\n",
    "y = np.random.randn(1, 2) + 4.\n",
    "def phi(x):\n",
    "    x = x[None, :]\n",
    "    return np.concatenate((np.ones_like(x), x, x**2, x**3, x**4, x**5, x**6, x**7, x**8), axis=0)\n",
    "\n",
    "w, f = utils.signal.basis_function_regression(x, y, phi, lambd=0.)\n",
    "\n",
    "x_eval = np.linspace(x.min(), x.max(), 100)\n",
    "ph = phi(x_eval)[None, ...] # o, d, n\n",
    "f = (w[..., None]*ph).sum(1) # o, n\n",
    "\n",
    "plt.plot(x_eval, f[0, :])\n",
    "plt.scatter(x, y[0, :])\n",
    "plt.show()"
   ]
  },
  {
   "cell_type": "code",
   "execution_count": null,
   "metadata": {},
   "outputs": [],
   "source": [
    "x = torch.linspace(0, 6, 7)\n",
    "y = x.sin()\n",
    "xs = torch.linspace(0, 6, 101)\n",
    "\n",
    "spline = utils.signal.spline_interpolate(3)\n",
    "\n",
    "ys = spline.interp(x, y, xs)\n",
    "Ys = spline.integ(x, y, xs)\n",
    "\n",
    "plt.scatter(x, y, label='Samples', color='purple')\n",
    "plt.plot(xs, ys, label='Interpolated curve')\n",
    "plt.plot(xs, xs.sin(), '--', label='True Curve')\n",
    "plt.plot(xs, Ys, label='Spline Integral')\n",
    "plt.plot(xs, 1-xs.cos(), '--', label='True Integral')\n",
    "plt.legend()\n",
    "plt.show()"
   ]
  },
  {
   "cell_type": "code",
   "execution_count": null,
   "metadata": {},
   "outputs": [],
   "source": [
    "linn = utils.signal.linear_interpolate(x.numpy(), y.numpy(), xs.numpy())\n",
    "plt.plot(xs.numpy(), linn)\n",
    "plt.scatter(x.numpy(), y.numpy())"
   ]
  },
  {
   "cell_type": "code",
   "execution_count": null,
   "metadata": {},
   "outputs": [],
   "source": []
  },
  {
   "cell_type": "markdown",
   "metadata": {},
   "source": [
    "### SVGP\n",
    "We use sparse kernel methods to fit kernel regression and get uncertainty estimates."
   ]
  },
  {
   "cell_type": "code",
   "execution_count": 10,
   "metadata": {},
   "outputs": [
    {
     "data": {
      "image/png": "[encoded data removed]",
      "text/plain": [
       "<Figure size 432x288 with 1 Axes>"
      ]
     },
     "metadata": {
      "needs_background": "light"
     },
     "output_type": "display_data"
    }
   ],
   "source": [
    "tbin = 1. # rate = output ratio\n",
    "steps = 1000\n",
    "max_time = tbin*steps*0.001\n",
    "y_dims = 1\n",
    "in_dims = 1\n",
    "\n",
    "rate = np.empty((y_dims, steps))\n",
    "rate[0] = 0.01*np.arange(steps) + 10.\n",
    "y = rate + 2.*np.random.randn(y_dims, steps)\n",
    "\n",
    "cov = np.arange(steps)*tbin*0.001 # time points to evaluate\n",
    "\n",
    "plt.scatter(cov, rate[0])\n",
    "plt.xlabel('time (s)')\n",
    "plt.ylabel('value')\n",
    "plt.show()"
   ]
  },
  {
   "cell_type": "code",
   "execution_count": 20,
   "metadata": {},
   "outputs": [],
   "source": [
    "v = 1.*torch.ones(y_dims)\n",
    "\n",
    "#('linear', 'euclid', np.empty((1, y_dim)))]\n",
    "                  #('polynomial', 'euclid', np.zeros(y_dim), 2)]\n",
    "                  #('RBF', 'euclid', np.ones((1, y_dim)))]\n",
    "                  #('Matern32', 'euclid', np.ones((1, y_dim)))]\n",
    "                  #('RQ', 'euclid', np.ones((1, y_dim)), np.ones(y_dim))]\n",
    "    \n",
    "\n",
    "\n",
    "constraints = []\n",
    "krn_1 = nppl.kernels.kernel.Constant(variance=v, tensor_type=torch.float)\n",
    "krn_2 = nppl.kernels.kernel.Linear(\n",
    "    input_dims=in_dims, \n",
    "    track_dims=[0], tensor_type=torch.float\n",
    ")\n",
    "\n",
    "kernel = nppl.kernels.kernel.Product(krn_1, krn_2)\n",
    "\n",
    "num_induc = 8\n",
    "Xu = torch.tensor(\n",
    "    [np.linspace(0, max_time, num_induc)]\n",
    ").T[None, ...].repeat(y_dims, 1, 1)\n",
    "inducing_points = nppl.kernels.kernel.inducing_points(y_dims, Xu, constraints)\n",
    "\n",
    "\n",
    "\n",
    "input_data = [torch.from_numpy(cov)]"
   ]
  },
  {
   "cell_type": "code",
   "execution_count": 21,
   "metadata": {},
   "outputs": [],
   "source": [
    "# mapping\n",
    "in_dims = Xu.shape[-1]\n",
    "\n",
    "gpr = nppl.mappings.GP.SVGP(\n",
    "    in_dims, y_dims, kernel, inducing_points=inducing_points, \n",
    "    whiten=True, jitter=1e-4, mean=torch.zeros(y_dims), learn_mean=True\n",
    ")"
   ]
  },
  {
   "cell_type": "code",
   "execution_count": 22,
   "metadata": {},
   "outputs": [
    {
     "data": {
      "text/plain": [
       "VI_optimized(\n",
       "  (input_group): input_group()\n",
       "  (mapping): SVGP(\n",
       "    (kernel): Product(\n",
       "      (kern0): Constant()\n",
       "      (kern1): Linear()\n",
       "    )\n",
       "    (induc_pts): inducing_points()\n",
       "  )\n",
       "  (likelihood): Gaussian()\n",
       ")"
      ]
     },
     "execution_count": 22,
     "metadata": {},
     "output_type": "execute_result"
    }
   ],
   "source": [
    "### inputs and likelihood ###\n",
    "input_group = nppl.inference.input_group()\n",
    "input_group.set_XZ(input_data, steps, batch_info=500)\n",
    "\n",
    "\n",
    "likelihood = nppl.likelihoods.Gaussian(y_dims, 'exp', log_var=torch.zeros(y_dims))\n",
    "likelihood.set_Y(torch.from_numpy(y), batch_info=500) \n",
    "\n",
    "\n",
    "glm = nppl.inference.VI_optimized(input_group, gpr, likelihood)\n",
    "glm.to(dev)"
   ]
  },
  {
   "cell_type": "code",
   "execution_count": 23,
   "metadata": {},
   "outputs": [
    {
     "data": {
      "application/vnd.jupyter.widget-view+json": {
       "model_id": "0e1b88a5e65045d9bf3f980d02e3c06d",
       "version_major": 2,
       "version_minor": 0
      },
      "text/plain": [
       "HBox(children=(FloatProgress(value=0.0, max=3000.0), HTML(value='')))"
      ]
     },
     "metadata": {},
     "output_type": "display_data"
    },
    {
     "name": "stdout",
     "output_type": "stream",
     "text": [
      "Warning: sparse GP prior is NaN, ignoring prior term.\n"
     ]
    },
    {
     "ename": "ValueError",
     "evalue": "Loss diverged",
     "output_type": "error",
     "traceback": [
      "\u001b[0;31m---------------------------------------------------------------------------\u001b[0m",
      "\u001b[0;31mValueError\u001b[0m                                Traceback (most recent call last)",
      "\u001b[0;32m<ipython-input-23-9885246d8d3e>\u001b[0m in \u001b[0;36m<module>\u001b[0;34m\u001b[0m\n\u001b[1;32m      8\u001b[0m \u001b[0mannealing\u001b[0m \u001b[0;34m=\u001b[0m \u001b[0;32mlambda\u001b[0m \u001b[0mx\u001b[0m\u001b[0;34m:\u001b[0m \u001b[0;36m1.0\u001b[0m\u001b[0;34m\u001b[0m\u001b[0;34m\u001b[0m\u001b[0m\n\u001b[1;32m      9\u001b[0m losses = glm.fit(3000, loss_margin=0.0, margin_epochs=100, kl_anneal_func=annealing, \n\u001b[0;32m---> 10\u001b[0;31m                  cov_samples=1, ll_samples=10, ll_mode='MC')\n\u001b[0m\u001b[1;32m     11\u001b[0m \u001b[0;34m\u001b[0m\u001b[0m\n\u001b[1;32m     12\u001b[0m \u001b[0mplt\u001b[0m\u001b[0;34m.\u001b[0m\u001b[0mfigure\u001b[0m\u001b[0;34m(\u001b[0m\u001b[0;34m)\u001b[0m\u001b[0;34m\u001b[0m\u001b[0;34m\u001b[0m\u001b[0m\n",
      "\u001b[0;32m~/Documents/Learning/neuroppl/neuroppl/inference.py\u001b[0m in \u001b[0;36mfit\u001b[0;34m(self, max_epochs, margin_epochs, loss_margin, neuron, kl_anneal_func, retain_graph, cov_samples, ll_samples, importance_weighted, ll_mode, lv_input, callback)\u001b[0m\n\u001b[1;32m    803\u001b[0m \u001b[0;34m\u001b[0m\u001b[0m\n\u001b[1;32m    804\u001b[0m                 \u001b[0;32mif\u001b[0m \u001b[0mtorch\u001b[0m\u001b[0;34m.\u001b[0m\u001b[0misnan\u001b[0m\u001b[0;34m(\u001b[0m\u001b[0mloss\u001b[0m\u001b[0;34m.\u001b[0m\u001b[0mdata\u001b[0m\u001b[0;34m)\u001b[0m\u001b[0;34m.\u001b[0m\u001b[0many\u001b[0m\u001b[0;34m(\u001b[0m\u001b[0;34m)\u001b[0m \u001b[0;32mor\u001b[0m \u001b[0mtorch\u001b[0m\u001b[0;34m.\u001b[0m\u001b[0misinf\u001b[0m\u001b[0;34m(\u001b[0m\u001b[0mloss\u001b[0m\u001b[0;34m.\u001b[0m\u001b[0mdata\u001b[0m\u001b[0;34m)\u001b[0m\u001b[0;34m.\u001b[0m\u001b[0many\u001b[0m\u001b[0;34m(\u001b[0m\u001b[0;34m)\u001b[0m\u001b[0;34m:\u001b[0m\u001b[0;34m\u001b[0m\u001b[0;34m\u001b[0m\u001b[0m\n\u001b[0;32m--> 805\u001b[0;31m                     \u001b[0;32mraise\u001b[0m \u001b[0mValueError\u001b[0m\u001b[0;34m(\u001b[0m\u001b[0;34m'Loss diverged'\u001b[0m\u001b[0;34m)\u001b[0m\u001b[0;34m\u001b[0m\u001b[0;34m\u001b[0m\u001b[0m\n\u001b[0m\u001b[1;32m    806\u001b[0m                 \u001b[0msloss\u001b[0m \u001b[0;34m+=\u001b[0m \u001b[0mloss\u001b[0m\u001b[0;34m.\u001b[0m\u001b[0mitem\u001b[0m\u001b[0;34m(\u001b[0m\u001b[0;34m)\u001b[0m\u001b[0;34m\u001b[0m\u001b[0;34m\u001b[0m\u001b[0m\n\u001b[1;32m    807\u001b[0m \u001b[0;34m\u001b[0m\u001b[0m\n",
      "\u001b[0;31mValueError\u001b[0m: Loss diverged"
     ]
    }
   ],
   "source": [
    "# fitting\n",
    "sch = lambda o: optim.lr_scheduler.MultiplicativeLR(o, lambda e: 0.9)\n",
    "opt_tuple = (optim.Adam, 100, sch)\n",
    "opt_lr_dict = {'default': 5*1e-3}\n",
    "\n",
    "glm.set_optimizers(opt_tuple, opt_lr_dict)\n",
    "\n",
    "annealing = lambda x: 1.0\n",
    "losses = glm.fit(3000, loss_margin=0.0, margin_epochs=100, kl_anneal_func=annealing, \n",
    "                 cov_samples=1, ll_samples=10, ll_mode='MC')\n",
    "\n",
    "plt.figure()\n",
    "plt.plot(losses)\n",
    "plt.xlabel('epoch')\n",
    "plt.ylabel('NLL per time sample')\n",
    "plt.show()"
   ]
  },
  {
   "cell_type": "code",
   "execution_count": null,
   "metadata": {},
   "outputs": [],
   "source": [
    "def posterior_rate(mapping, likelihood, covariates, MC, F_dims, trials=1, percentiles=[0.05, .5, 0.95]):\n",
    "    \"\"\"\n",
    "    Sample F from diagonalized variational posterior.\n",
    "    \n",
    "    :returns: F of shape (MCxtrials, outdims, time)\n",
    "    \"\"\"\n",
    "    cov = mapping.to_XZ(covariates, trials)\n",
    "    with torch.no_grad():\n",
    "        if mapping.MC_only:\n",
    "            F = mapping.sample_F(cov)[:, F_dims, :] # TODO: cov_samples vs ll_samples?\n",
    "            samples = likelihood.f(F.view(-1, trials, *samples.shape[1:]))\n",
    "        else:\n",
    "            F_mu, F_var = mapping.compute_F(cov)\n",
    "            samples = likelihood.sample_rate(\n",
    "                F_mu[:, F_dims, :], F_var[:, F_dims, :], trials, MC)\n",
    "    \n",
    "    return utils.signal.percentiles_from_samples(samples, percentiles)"
   ]
  },
  {
   "cell_type": "code",
   "execution_count": 26,
   "metadata": {},
   "outputs": [
    {
     "data": {
      "image/png": "[encoded data removed]",
      "text/plain": [
       "<Figure size 432x288 with 1 Axes>"
      ]
     },
     "metadata": {
      "needs_background": "light"
     },
     "output_type": "display_data"
    }
   ],
   "source": [
    "# compare to true rate\n",
    "steps= 100\n",
    "show_neurons = [0]\n",
    "covariates = [np.linspace(0.0, max_time, steps)]\n",
    "\n",
    "mean = rate_model.eval_rate(covariates, show_neurons, True)\n",
    "for k, neuron in enumerate(show_neurons):\n",
    "    \n",
    "    fig, ax = plt.subplots()\n",
    "    \n",
    "    ax.plot(np.linspace(0, max_time, rate.shape[1]), rate[neuron], 'r--', label='true rate')\n",
    "    line, = ax.plot(covariates[0], mean[k], label='model fit')\n",
    "    #ax.fill_between(\n",
    "    #    covariates[0], lower[k],\n",
    "    #    upper[k], color=line.get_color(), alpha=0.5\n",
    "    #)\n",
    "    ax.set_xlabel('time (s)')\n",
    "    ax.set_ylabel('firing rate (Hz)')\n",
    "    ax.legend()\n",
    "    \n",
    "plt.show()"
   ]
  },
  {
   "cell_type": "code",
   "execution_count": null,
   "metadata": {},
   "outputs": [],
   "source": []
  },
  {
   "cell_type": "code",
   "execution_count": null,
   "metadata": {},
   "outputs": [],
   "source": []
  },
  {
   "cell_type": "code",
   "execution_count": null,
   "metadata": {},
   "outputs": [],
   "source": []
  },
  {
   "cell_type": "markdown",
   "metadata": {},
   "source": [
    "### Spike train GP\n",
    "Here we fit several trials of an inhomogenous Poisson process GP to a spike train. To improve optimization, we use the natural gradient."
   ]
  },
  {
   "cell_type": "code",
   "execution_count": null,
   "metadata": {},
   "outputs": [],
   "source": [
    "tbin = 0.001\n",
    "steps = 1000\n",
    "max_time = tbin*steps\n",
    "trials = 10\n",
    "neurons = 2\n",
    "\n",
    "rate = np.empty((trials, neurons, steps))\n",
    "rate[:, 0, :] = (20.0*np.sin(2*np.pi*np.arange(steps)/1000) + 20.0)[None, :].repeat(trials, axis=0)\n",
    "rate[:, 1, :] = (20.0*np.cos(2*np.pi*np.arange(steps)/1000) + 20.0)[None, :].repeat(trials, axis=0)\n",
    "\n",
    "spikes = mdl.point_process.gen_IPP(rate, tbin) # generate spike trains\n",
    "\n",
    "times = np.arange(steps)*tbin # time points to evaluate\n",
    "covariates = times[None, :, None].repeat(trials, axis=0) # input regressors of shape (trials, time, dimensions)"
   ]
  },
  {
   "cell_type": "code",
   "execution_count": 41,
   "metadata": {},
   "outputs": [
    {
     "data": {
      "image/png": "[encoded data removed]",
      "text/plain": [
       "<Figure size 432x288 with 1 Axes>"
      ]
     },
     "metadata": {
      "needs_background": "light"
     },
     "output_type": "display_data"
    }
   ],
   "source": [
    "visualize_neuron = 0\n",
    "\n",
    "t_spike = []\n",
    "for t in range(trials):\n",
    "    t_spike.append(neural_utils.BinToTrain(spikes[t, visualize_neuron]))\n",
    "\n",
    "plt.plot(times, rate[0, visualize_neuron])\n",
    "for n in range(trials):\n",
    "    plt.scatter(t_spike[n]*tbin, (-5.0-2*n)*np.ones_like(t_spike[n]), marker='|')\n",
    "plt.xlabel('time (s)')\n",
    "plt.ylabel('firing rate (Hz)')\n",
    "plt.show()"
   ]
  },
  {
   "cell_type": "code",
   "execution_count": 91,
   "metadata": {},
   "outputs": [],
   "source": [
    "l = 0.1*np.ones((1, neurons)) # shape (input dimensions, output dimensions)\n",
    "v = 1.*np.ones(neurons) # shape (output dimensions,)\n",
    "kernels_tuples = [('variance', v), \n",
    "                  ('RBF', 'euclid', l)]\n",
    "VI_tuples = [(None, None, None, 1)] # prior, var. dist., topology, dimensions\n",
    "\n",
    "num_induc = 8\n",
    "indps = np.linspace(0, max_time, num_induc)\n",
    "inducing_points = indps[None, :, None].repeat(neurons, axis=0) # shape (output dims, time, input dims)\n",
    "\n",
    "rate_model = neuroprob.nonparametrics.Gaussian_process(\n",
    "    neurons, # number of neurons\n",
    "    inducing_points, # initial inducing points                                          \n",
    "    kernels_tuples, # kernels                                          \n",
    "    VI_tuples, # priors and variational distributions                                          \n",
    "    shared_kernel_params=False, # share all kernel parameters over output dims?                                          \n",
    "    cov_type='factorized', # fit with full GP posterior covariance?                                          \n",
    "    mean=np.zeros((neurons)), # initial GP mean\n",
    "    inv_link='exp', # inverse link function\n",
    "    kern_f='softplus' # kernel inverse link\n",
    ")\n",
    "\n",
    "rate_model.set_params(\n",
    "    tbin, # time bin\n",
    "    jitter=1e-5 # jitter (numerical stability)\n",
    ")"
   ]
  },
  {
   "cell_type": "code",
   "execution_count": 92,
   "metadata": {},
   "outputs": [],
   "source": [
    "# likelihood model\n",
    "likelihood = neuroprob.likelihoods.Poisson(\n",
    "    neurons, # number of neurons or output dimensions\n",
    "    'exp' # inverse link function\n",
    ")\n",
    "\n",
    "likelihood.set_params(tbin, jitter=1e-5)"
   ]
  },
  {
   "cell_type": "code",
   "execution_count": 93,
   "metadata": {},
   "outputs": [
    {
     "data": {
      "text/plain": [
       "nll_optimized(\n",
       "  (likelihood): Poisson()\n",
       "  (rate_model): ModuleList(\n",
       "    (0): Gaussian_process(\n",
       "      (kernel): Product(\n",
       "        (kern0): Constant()\n",
       "        (kern1): RBF()\n",
       "      )\n",
       "    )\n",
       "  )\n",
       ")"
      ]
     },
     "execution_count": 93,
     "metadata": {},
     "output_type": "execute_result"
    }
   ],
   "source": [
    "# put together in GLM framework\n",
    "glm = neuroprob.inference.VI_optimized([rate_model], likelihood)\n",
    "glm.preprocess(\n",
    "    [covariates], # list of input regressors of GP\n",
    "    covariates.shape[1], # number of timesteps in total\n",
    "    spikes, # spike trains\n",
    "    batch_size=1000 # batch size (over timesteps)\n",
    ")\n",
    "    \n",
    "glm.to(dev) # move to GPU if available"
   ]
  },
  {
   "cell_type": "code",
   "execution_count": 94,
   "metadata": {},
   "outputs": [
    {
     "data": {
      "application/vnd.jupyter.widget-view+json": {
       "model_id": "50ff35353e0146208987adc8b3dfbf3b",
       "version_major": 2,
       "version_minor": 0
      },
      "text/plain": [
       "HBox(children=(FloatProgress(value=0.0, max=1000.0), HTML(value='')))"
      ]
     },
     "metadata": {},
     "output_type": "display_data"
    },
    {
     "name": "stdout",
     "output_type": "stream",
     "text": [
      "\n"
     ]
    },
    {
     "data": {
      "image/png": "[encoded data removed]",
      "text/plain": [
       "<Figure size 432x288 with 1 Axes>"
      ]
     },
     "metadata": {
      "needs_background": "light"
     },
     "output_type": "display_data"
    }
   ],
   "source": [
    "# fitting\n",
    "sch = lambda o: optim.lr_scheduler.MultiplicativeLR(o, lambda e: 0.9)\n",
    "opt_tuple = (\n",
    "    optim.Adam, # optimizer\n",
    "    100, # scheduler time steps for iteration\n",
    "    sch # scheduler effect\n",
    ")\n",
    "opt_lr_dict = {'default': 1e-2}\n",
    "\n",
    "glm.set_optimizers(\n",
    "    opt_tuple, \n",
    "    opt_lr_dict, \n",
    "    nat_grad=('rate_model.0.u_loc', 'rate_model.0.u_scale_tril'), \n",
    "    nat_lr=1e-1\n",
    "    #newton_grad=('rate_model.0.u_loc',), \n",
    "    #newton_lr=1e-1\n",
    ")\n",
    "\n",
    "annealing = lambda x: 1.0\n",
    "losses = glm.fit(\n",
    "    1000, # number of max iterations\n",
    "    loss_margin=0e0, \n",
    "    stop_iters=100, \n",
    "    anneal_func=annealing, \n",
    "    cov_samples=trials, # need to put in trials as we are doing regression over trials \n",
    "    ll_samples=20, \n",
    "    ll_mode='MC',\n",
    "    bound='ELBO'\n",
    ")\n",
    "\n",
    "plt.figure()\n",
    "plt.plot(losses)\n",
    "plt.xlabel('epoch')\n",
    "plt.ylabel('NLL per time sample')\n",
    "plt.show()"
   ]
  },
  {
   "cell_type": "code",
   "execution_count": 6,
   "metadata": {},
   "outputs": [
    {
     "ename": "NameError",
     "evalue": "name 'rate_model' is not defined",
     "output_type": "error",
     "traceback": [
      "\u001b[0;31m---------------------------------------------------------------------------\u001b[0m",
      "\u001b[0;31mNameError\u001b[0m                                 Traceback (most recent call last)",
      "\u001b[0;32m<ipython-input-6-bc7f4666c348>\u001b[0m in \u001b[0;36m<module>\u001b[0;34m\u001b[0m\n\u001b[1;32m      4\u001b[0m \u001b[0meval_times\u001b[0m \u001b[0;34m=\u001b[0m \u001b[0mnp\u001b[0m\u001b[0;34m.\u001b[0m\u001b[0mlinspace\u001b[0m\u001b[0;34m(\u001b[0m\u001b[0;36m0.0\u001b[0m\u001b[0;34m,\u001b[0m \u001b[0mmax_time\u001b[0m\u001b[0;34m,\u001b[0m \u001b[0msteps\u001b[0m\u001b[0;34m)\u001b[0m\u001b[0;34m[\u001b[0m\u001b[0;32mNone\u001b[0m\u001b[0;34m,\u001b[0m \u001b[0;34m:\u001b[0m\u001b[0;34m]\u001b[0m \u001b[0;31m# shape (dims, timesteps)\u001b[0m\u001b[0;34m\u001b[0m\u001b[0;34m\u001b[0m\u001b[0m\n\u001b[1;32m      5\u001b[0m \u001b[0;34m\u001b[0m\u001b[0m\n\u001b[0;32m----> 6\u001b[0;31m \u001b[0mlower\u001b[0m\u001b[0;34m,\u001b[0m \u001b[0mmean\u001b[0m\u001b[0;34m,\u001b[0m \u001b[0mupper\u001b[0m \u001b[0;34m=\u001b[0m \u001b[0mrate_model\u001b[0m\u001b[0;34m.\u001b[0m\u001b[0meval_rate\u001b[0m\u001b[0;34m(\u001b[0m\u001b[0meval_times\u001b[0m\u001b[0;34m,\u001b[0m \u001b[0mshow_neurons\u001b[0m\u001b[0;34m,\u001b[0m \u001b[0;34m'posterior'\u001b[0m\u001b[0;34m)\u001b[0m\u001b[0;34m\u001b[0m\u001b[0;34m\u001b[0m\u001b[0m\n\u001b[0m\u001b[1;32m      7\u001b[0m \u001b[0;34m\u001b[0m\u001b[0m\n\u001b[1;32m      8\u001b[0m \u001b[0mvisualize_trial\u001b[0m \u001b[0;34m=\u001b[0m \u001b[0;36m0\u001b[0m\u001b[0;34m\u001b[0m\u001b[0;34m\u001b[0m\u001b[0m\n",
      "\u001b[0;31mNameError\u001b[0m: name 'rate_model' is not defined"
     ]
    }
   ],
   "source": [
    "# compare to true rate\n",
    "steps= 100\n",
    "show_neurons = [0, 1]\n",
    "eval_times = np.linspace(0.0, max_time, steps)[None, :] # shape (dims, timesteps)\n",
    "\n",
    "lower, mean, upper = rate_model.eval_rate(eval_times, show_neurons, 'posterior')\n",
    "\n",
    "visualize_trial = 0\n",
    "fig, axes = plt.subplots(1, 2)\n",
    "for k, neuron in enumerate(show_neurons):\n",
    "    \n",
    "    ax = axes[k]\n",
    "    ax.plot(np.linspace(0, max_time, rate.shape[-1]), rate[visualize_trial, neuron], 'r--', label='true rate')\n",
    "    line, = ax.plot(eval_times[0], mean[k], label='GP posterior')\n",
    "    ax.fill_between(\n",
    "        eval_times[0], lower[k],\n",
    "        upper[k], color=line.get_color(), alpha=0.5\n",
    "    )\n",
    "    ax.set_xlabel('time (s)')\n",
    "    ax.set_ylabel('firing rate (Hz)')\n",
    "    ax.legend()\n",
    "    \n",
    "fig.tight_layout()\n",
    "\n",
    "\n",
    "    \n",
    "# draw tuning curves\n",
    "tuning = rate_model.eval_rate(eval_times, show_neurons, 'tuning', n_samp=10)\n",
    "fig, axes = plt.subplots(1, 2)\n",
    "for k_n in range(len(show_neurons)):\n",
    "    \n",
    "    ax = axes[k_n]\n",
    "    \n",
    "    for n in range(samp):\n",
    "        ax.plot(eval_times[0], tuning[n, k_n, ...])\n",
    "\n",
    "    ax.set_xlabel('time (s)')\n",
    "    ax.set_ylabel('firing rate (Hz)')\n",
    "\n",
    "fig.tight_layout()\n",
    "\n",
    "\n",
    "# show GP posterior properties\n",
    "steps= 100\n",
    "show_neurons = [0, 1]\n",
    "fig, axes = plt.subplots(1, 2)\n",
    "for k, neuron in enumerate(show_neurons):\n",
    "    \n",
    "    Xu = glm.rate_model[0].Xu.data.cpu().numpy()[neuron, :, 0]\n",
    "    eval_times = [np.linspace(Xu.min()-1.0, Xu.max()+1.0, steps)]\n",
    "    lower, mean, upper = rate_model.eval_rate(eval_times, neuron, 'posterior')\n",
    "    \n",
    "    ax = axes[k]\n",
    "    ax.scatter(Xu, -5.0*np.ones_like(Xu), marker='+', label='inducing points')\n",
    "    line, = ax.plot(eval_times[0], mean, label='GP posterior')\n",
    "    ax.fill_between(\n",
    "        eval_times[0], lower,\n",
    "        upper, color=line.get_color(), alpha=0.5\n",
    "    )\n",
    "    ax.set_xlabel('time (s)')\n",
    "    ax.set_ylabel('firing rate (Hz)')\n",
    "    ax.legend()\n",
    "    \n",
    "fig.tight_layout()\n",
    "plt.show()"
   ]
  },
  {
   "cell_type": "code",
   "execution_count": null,
   "metadata": {},
   "outputs": [],
   "source": []
  }
 ],
 "metadata": {
  "kernelspec": {
   "display_name": "Python 3 (ipykernel)",
   "language": "python",
   "name": "python3"
  },
  "language_info": {
   "codemirror_mode": {
    "name": "ipython",
    "version": 3
   },
   "file_extension": ".py",
   "mimetype": "text/x-python",
   "name": "python",
   "nbconvert_exporter": "python",
   "pygments_lexer": "ipython3",
   "version": "3.7.12"
  }
 },
 "nbformat": 4,
 "nbformat_minor": 4
}
