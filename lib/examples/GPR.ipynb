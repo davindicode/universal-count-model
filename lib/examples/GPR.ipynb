{
 "cells": [
  {
   "cell_type": "markdown",
   "metadata": {},
   "source": [
    "# Gaussian process regression\n",
    "\n",
    "\n",
    "\n",
    "### Table of contents\n",
    "\n",
    "1. [**Data**](#data)\n",
    "3. [**SNN**](#snn)\n",
    "4. [**RNN**](#rnn)\n",
    "\n",
    "This notebook contains code demonstrating how to do regression.\n",
    "- Linear regression\n",
    "- Fitting a spike train with a renewal process GP\n",
    "- Computing the renewal process likelihood landscape\n",
    "- Performing GPLVM on a biological data for dimensionality reduction"
   ]
  },
  {
   "cell_type": "code",
   "execution_count": null,
   "metadata": {},
   "outputs": [],
   "source": [
    "%load_ext autoreload\n",
    "%autoreload 2\n",
    "\n",
    "import torch\n",
    "import torch.optim as optim\n",
    "\n",
    "import matplotlib.pyplot as plt\n",
    "import numpy as np\n",
    "\n",
    "\n",
    "import sys\n",
    "sys.path.append(\"..\")"
   ]
  },
  {
   "cell_type": "code",
   "execution_count": 4,
   "metadata": {},
   "outputs": [
    {
     "name": "stdout",
     "output_type": "stream",
     "text": [
      "PyTorch version: 1.7.1+cu101\n",
      "Using device: cuda:0\n"
     ]
    }
   ],
   "source": [
    "import neuroppl as nppl\n",
    "import neuroppl.utils as utils\n",
    "\n",
    "dev = utils.pytorch.get_device() # PyTorch device, gpu 0 by default if available"
   ]
  },
  {
   "cell_type": "code",
   "execution_count": null,
   "metadata": {},
   "outputs": [],
   "source": []
  },
  {
   "cell_type": "markdown",
   "metadata": {},
   "source": [
    "### SVGP\n",
    "We use sparse kernel methods to fit kernel regression and get uncertainty estimates."
   ]
  },
  {
   "cell_type": "code",
   "execution_count": 10,
   "metadata": {},
   "outputs": [
    {
     "data": {
      "image/png": "[encoded data removed]",
      "text/plain": [
       "<Figure size 432x288 with 1 Axes>"
      ]
     },
     "metadata": {
      "needs_background": "light"
     },
     "output_type": "display_data"
    }
   ],
   "source": [
    "tbin = 1. # rate = output ratio\n",
    "steps = 1000\n",
    "max_time = tbin*steps*0.001\n",
    "y_dims = 1\n",
    "in_dims = 1\n",
    "\n",
    "rate = np.empty((y_dims, steps))\n",
    "rate[0] = 0.01*np.arange(steps) + 10.\n",
    "y = rate + 2.*np.random.randn(y_dims, steps)\n",
    "\n",
    "cov = np.arange(steps)*tbin*0.001 # time points to evaluate\n",
    "\n",
    "plt.scatter(cov, rate[0])\n",
    "plt.xlabel('time (s)')\n",
    "plt.ylabel('value')\n",
    "plt.show()"
   ]
  },
  {
   "cell_type": "code",
   "execution_count": 20,
   "metadata": {},
   "outputs": [],
   "source": [
    "v = 1.*torch.ones(y_dims)\n",
    "\n",
    "#('linear', 'euclid', np.empty((1, y_dim)))]\n",
    "                  #('polynomial', 'euclid', np.zeros(y_dim), 2)]\n",
    "                  #('RBF', 'euclid', np.ones((1, y_dim)))]\n",
    "                  #('Matern32', 'euclid', np.ones((1, y_dim)))]\n",
    "                  #('RQ', 'euclid', np.ones((1, y_dim)), np.ones(y_dim))]\n",
    "    \n",
    "\n",
    "\n",
    "constraints = []\n",
    "krn_1 = nppl.kernels.kernel.Constant(variance=v, tensor_type=torch.float)\n",
    "krn_2 = nppl.kernels.kernel.Linear(\n",
    "    input_dims=in_dims, \n",
    "    track_dims=[0], tensor_type=torch.float\n",
    ")\n",
    "\n",
    "kernel = nppl.kernels.kernel.Product(krn_1, krn_2)\n",
    "\n",
    "num_induc = 8\n",
    "Xu = torch.tensor(\n",
    "    [np.linspace(0, max_time, num_induc)]\n",
    ").T[None, ...].repeat(y_dims, 1, 1)\n",
    "inducing_points = nppl.kernels.kernel.inducing_points(y_dims, Xu, constraints)\n",
    "\n",
    "\n",
    "\n",
    "input_data = [torch.from_numpy(cov)]"
   ]
  },
  {
   "cell_type": "code",
   "execution_count": 21,
   "metadata": {},
   "outputs": [],
   "source": [
    "# mapping\n",
    "in_dims = Xu.shape[-1]\n",
    "\n",
    "gpr = nppl.mappings.GP.SVGP(\n",
    "    in_dims, y_dims, kernel, inducing_points=inducing_points, \n",
    "    whiten=True, jitter=1e-4, mean=torch.zeros(y_dims), learn_mean=True\n",
    ")"
   ]
  },
  {
   "cell_type": "code",
   "execution_count": 22,
   "metadata": {},
   "outputs": [
    {
     "data": {
      "text/plain": [
       "VI_optimized(\n",
       "  (input_group): input_group()\n",
       "  (mapping): SVGP(\n",
       "    (kernel): Product(\n",
       "      (kern0): Constant()\n",
       "      (kern1): Linear()\n",
       "    )\n",
       "    (induc_pts): inducing_points()\n",
       "  )\n",
       "  (likelihood): Gaussian()\n",
       ")"
      ]
     },
     "execution_count": 22,
     "metadata": {},
     "output_type": "execute_result"
    }
   ],
   "source": [
    "### inputs and likelihood ###\n",
    "input_group = nppl.inference.input_group()\n",
    "input_group.set_XZ(input_data, steps, batch_info=500)\n",
    "\n",
    "\n",
    "likelihood = nppl.likelihoods.Gaussian(y_dims, 'exp', log_var=torch.zeros(y_dims))\n",
    "likelihood.set_Y(torch.from_numpy(y), batch_info=500) \n",
    "\n",
    "\n",
    "glm = nppl.inference.VI_optimized(input_group, gpr, likelihood)\n",
    "glm.to(dev)"
   ]
  },
  {
   "cell_type": "code",
   "execution_count": 23,
   "metadata": {},
   "outputs": [
    {
     "data": {
      "application/vnd.jupyter.widget-view+json": {
       "model_id": "0e1b88a5e65045d9bf3f980d02e3c06d",
       "version_major": 2,
       "version_minor": 0
      },
      "text/plain": [
       "HBox(children=(FloatProgress(value=0.0, max=3000.0), HTML(value='')))"
      ]
     },
     "metadata": {},
     "output_type": "display_data"
    },
    {
     "name": "stdout",
     "output_type": "stream",
     "text": [
      "Warning: sparse GP prior is NaN, ignoring prior term.\n"
     ]
    },
    {
     "ename": "ValueError",
     "evalue": "Loss diverged",
     "output_type": "error",
     "traceback": [
      "\u001b[0;31m---------------------------------------------------------------------------\u001b[0m",
      "\u001b[0;31mValueError\u001b[0m                                Traceback (most recent call last)",
      "\u001b[0;32m<ipython-input-23-9885246d8d3e>\u001b[0m in \u001b[0;36m<module>\u001b[0;34m\u001b[0m\n\u001b[1;32m      8\u001b[0m \u001b[0mannealing\u001b[0m \u001b[0;34m=\u001b[0m \u001b[0;32mlambda\u001b[0m \u001b[0mx\u001b[0m\u001b[0;34m:\u001b[0m \u001b[0;36m1.0\u001b[0m\u001b[0;34m\u001b[0m\u001b[0;34m\u001b[0m\u001b[0m\n\u001b[1;32m      9\u001b[0m losses = glm.fit(3000, loss_margin=0.0, margin_epochs=100, kl_anneal_func=annealing, \n\u001b[0;32m---> 10\u001b[0;31m                  cov_samples=1, ll_samples=10, ll_mode='MC')\n\u001b[0m\u001b[1;32m     11\u001b[0m \u001b[0;34m\u001b[0m\u001b[0m\n\u001b[1;32m     12\u001b[0m \u001b[0mplt\u001b[0m\u001b[0;34m.\u001b[0m\u001b[0mfigure\u001b[0m\u001b[0;34m(\u001b[0m\u001b[0;34m)\u001b[0m\u001b[0;34m\u001b[0m\u001b[0;34m\u001b[0m\u001b[0m\n",
      "\u001b[0;32m~/Documents/Learning/neuroppl/neuroppl/inference.py\u001b[0m in \u001b[0;36mfit\u001b[0;34m(self, max_epochs, margin_epochs, loss_margin, neuron, kl_anneal_func, retain_graph, cov_samples, ll_samples, importance_weighted, ll_mode, lv_input, callback)\u001b[0m\n\u001b[1;32m    803\u001b[0m \u001b[0;34m\u001b[0m\u001b[0m\n\u001b[1;32m    804\u001b[0m                 \u001b[0;32mif\u001b[0m \u001b[0mtorch\u001b[0m\u001b[0;34m.\u001b[0m\u001b[0misnan\u001b[0m\u001b[0;34m(\u001b[0m\u001b[0mloss\u001b[0m\u001b[0;34m.\u001b[0m\u001b[0mdata\u001b[0m\u001b[0;34m)\u001b[0m\u001b[0;34m.\u001b[0m\u001b[0many\u001b[0m\u001b[0;34m(\u001b[0m\u001b[0;34m)\u001b[0m \u001b[0;32mor\u001b[0m \u001b[0mtorch\u001b[0m\u001b[0;34m.\u001b[0m\u001b[0misinf\u001b[0m\u001b[0;34m(\u001b[0m\u001b[0mloss\u001b[0m\u001b[0;34m.\u001b[0m\u001b[0mdata\u001b[0m\u001b[0;34m)\u001b[0m\u001b[0;34m.\u001b[0m\u001b[0many\u001b[0m\u001b[0;34m(\u001b[0m\u001b[0;34m)\u001b[0m\u001b[0;34m:\u001b[0m\u001b[0;34m\u001b[0m\u001b[0;34m\u001b[0m\u001b[0m\n\u001b[0;32m--> 805\u001b[0;31m                     \u001b[0;32mraise\u001b[0m \u001b[0mValueError\u001b[0m\u001b[0;34m(\u001b[0m\u001b[0;34m'Loss diverged'\u001b[0m\u001b[0;34m)\u001b[0m\u001b[0;34m\u001b[0m\u001b[0;34m\u001b[0m\u001b[0m\n\u001b[0m\u001b[1;32m    806\u001b[0m                 \u001b[0msloss\u001b[0m \u001b[0;34m+=\u001b[0m \u001b[0mloss\u001b[0m\u001b[0;34m.\u001b[0m\u001b[0mitem\u001b[0m\u001b[0;34m(\u001b[0m\u001b[0;34m)\u001b[0m\u001b[0;34m\u001b[0m\u001b[0;34m\u001b[0m\u001b[0m\n\u001b[1;32m    807\u001b[0m \u001b[0;34m\u001b[0m\u001b[0m\n",
      "\u001b[0;31mValueError\u001b[0m: Loss diverged"
     ]
    }
   ],
   "source": [
    "# fitting\n",
    "sch = lambda o: optim.lr_scheduler.MultiplicativeLR(o, lambda e: 0.9)\n",
    "opt_tuple = (optim.Adam, 100, sch)\n",
    "opt_lr_dict = {'default': 5*1e-3}\n",
    "\n",
    "glm.set_optimizers(opt_tuple, opt_lr_dict)\n",
    "\n",
    "annealing = lambda x: 1.0\n",
    "losses = glm.fit(3000, loss_margin=0.0, margin_epochs=100, kl_anneal_func=annealing, \n",
    "                 cov_samples=1, ll_samples=10, ll_mode='MC')\n",
    "\n",
    "plt.figure()\n",
    "plt.plot(losses)\n",
    "plt.xlabel('epoch')\n",
    "plt.ylabel('NLL per time sample')\n",
    "plt.show()"
   ]
  },
  {
   "cell_type": "code",
   "execution_count": null,
   "metadata": {},
   "outputs": [],
   "source": [
    "def posterior_rate(mapping, likelihood, covariates, MC, F_dims, trials=1, percentiles=[0.05, .5, 0.95]):\n",
    "    \"\"\"\n",
    "    Sample F from diagonalized variational posterior.\n",
    "    \n",
    "    :returns: F of shape (MCxtrials, outdims, time)\n",
    "    \"\"\"\n",
    "    cov = mapping.to_XZ(covariates, trials)\n",
    "    with torch.no_grad():\n",
    "        if mapping.MC_only:\n",
    "            F = mapping.sample_F(cov)[:, F_dims, :] # TODO: cov_samples vs ll_samples?\n",
    "            samples = likelihood.f(F.view(-1, trials, *samples.shape[1:]))\n",
    "        else:\n",
    "            F_mu, F_var = mapping.compute_F(cov)\n",
    "            samples = likelihood.sample_rate(\n",
    "                F_mu[:, F_dims, :], F_var[:, F_dims, :], trials, MC)\n",
    "    \n",
    "    return utils.signal.percentiles_from_samples(samples, percentiles)"
   ]
  },
  {
   "cell_type": "code",
   "execution_count": 26,
   "metadata": {},
   "outputs": [
    {
     "data": {
      "image/png": "[encoded data removed]",
      "text/plain": [
       "<Figure size 432x288 with 1 Axes>"
      ]
     },
     "metadata": {
      "needs_background": "light"
     },
     "output_type": "display_data"
    }
   ],
   "source": [
    "# compare to true rate\n",
    "steps= 100\n",
    "show_neurons = [0]\n",
    "covariates = [np.linspace(0.0, max_time, steps)]\n",
    "\n",
    "mean = rate_model.eval_rate(covariates, show_neurons, True)\n",
    "for k, neuron in enumerate(show_neurons):\n",
    "    \n",
    "    fig, ax = plt.subplots()\n",
    "    \n",
    "    ax.plot(np.linspace(0, max_time, rate.shape[1]), rate[neuron], 'r--', label='true rate')\n",
    "    line, = ax.plot(covariates[0], mean[k], label='model fit')\n",
    "    #ax.fill_between(\n",
    "    #    covariates[0], lower[k],\n",
    "    #    upper[k], color=line.get_color(), alpha=0.5\n",
    "    #)\n",
    "    ax.set_xlabel('time (s)')\n",
    "    ax.set_ylabel('firing rate (Hz)')\n",
    "    ax.legend()\n",
    "    \n",
    "plt.show()"
   ]
  },
  {
   "cell_type": "code",
   "execution_count": null,
   "metadata": {},
   "outputs": [],
   "source": []
  },
  {
   "cell_type": "markdown",
   "metadata": {},
   "source": [
    "### Spectral mixture kernel"
   ]
  },
  {
   "cell_type": "code",
   "execution_count": null,
   "metadata": {},
   "outputs": [],
   "source": [
    "class Lengthscale(Kernel):\n",
    "    \"\"\" \"\"\"\n",
    "\n",
    "    def __init__(\n",
    "        self,\n",
    "        input_dims,\n",
    "        lengthscale,\n",
    "        w,\n",
    "        omega,\n",
    "        Q,\n",
    "        track_dims=None,\n",
    "        topology=\"euclid\",\n",
    "        f=\"exp\",\n",
    "        tensor_type=torch.float,\n",
    "    ):\n",
    "        super().__init__(input_dims, topology, lengthscale, track_dims, f, tensor_type)\n",
    "\n",
    "\n",
    "\n",
    "class SpectralMixture(Lengthscale):\n",
    "    r\"\"\"\n",
    "    Implementation of Radial Basis Function kernel:\n",
    "\n",
    "        :math:`k(x,z) = \\exp\\left(-0.5 \\times \\frac{|x-z|^2}{l^2}\\right).`\n",
    "\n",
    "    .. note:: This kernel also has name `Squared Exponential` in literature.\n",
    "    \"\"\"\n",
    "\n",
    "    def __init__(\n",
    "        self,\n",
    "        input_dims,\n",
    "        lengthscale,\n",
    "        w,\n",
    "        omega,\n",
    "        Q,\n",
    "        track_dims=None,\n",
    "        topology=\"euclid\",\n",
    "        f=\"exp\",\n",
    "        tensor_type=torch.float,\n",
    "    ):\n",
    "        super().__init__(input_dims, topology, lengthscale, track_dims, f, tensor_type)\n",
    "\n",
    "    def _square_scaled_dist(self, X, Z=None):\n",
    "        r\"\"\"\n",
    "        Returns :math:`\\|\\frac{X-Z}{l}\\|^2`.\n",
    "        :param torch.Tensor X: input of shape (samples, neurons, points, dims)\n",
    "\n",
    "        \"\"\"\n",
    "        X, Z = self._XZ(X, Z)\n",
    "\n",
    "        scaled_X = X / self.lengthscale  # K, N, T, D\n",
    "        scaled_Z = Z / self.lengthscale\n",
    "        X2 = (scaled_X**2).sum(-1, keepdim=True)\n",
    "        Z2 = (scaled_Z**2).sum(-1, keepdim=True)\n",
    "        XZ = scaled_X.matmul(scaled_Z.permute(0, 1, 3, 2))\n",
    "        r2 = X2 - 2 * XZ + Z2.permute(0, 1, 3, 2)\n",
    "        return r2.clamp(min=0)\n",
    "\n",
    "    def _scaled_dist(self, X, Z=None):\n",
    "        r\"\"\"\n",
    "        Returns :math:`\\|\\frac{X-Z}{l}\\|`.\n",
    "        \"\"\"\n",
    "        return _torch_sqrt(self._square_scaled_dist(X, Z))\n",
    "\n",
    "    def forward(self, X, Z=None, diag=False):\n",
    "        if diag:\n",
    "            return X.new_ones(X.size(0), self.n, X.size(2))\n",
    "\n",
    "        r2 = self.square_scaled_dist(X, Z)\n",
    "        return (amp * torch.exp(-0.5 * r2) * torch.cos()).sum(-1)"
   ]
  },
  {
   "cell_type": "markdown",
   "metadata": {},
   "source": [
    "### Spike train GP\n",
    "Here we fit several trials of an inhomogenous Poisson process GP to a spike train. To improve optimization, we use the natural gradient."
   ]
  },
  {
   "cell_type": "code",
   "execution_count": null,
   "metadata": {},
   "outputs": [],
   "source": [
    "tbin = 0.001\n",
    "steps = 1000\n",
    "max_time = tbin*steps\n",
    "trials = 10\n",
    "neurons = 2\n",
    "\n",
    "rate = np.empty((trials, neurons, steps))\n",
    "rate[:, 0, :] = (20.0*np.sin(2*np.pi*np.arange(steps)/1000) + 20.0)[None, :].repeat(trials, axis=0)\n",
    "rate[:, 1, :] = (20.0*np.cos(2*np.pi*np.arange(steps)/1000) + 20.0)[None, :].repeat(trials, axis=0)\n",
    "\n",
    "spikes = mdl.point_process.gen_IPP(rate, tbin) # generate spike trains\n",
    "\n",
    "times = np.arange(steps)*tbin # time points to evaluate\n",
    "covariates = times[None, :, None].repeat(trials, axis=0) # input regressors of shape (trials, time, dimensions)"
   ]
  },
  {
   "cell_type": "code",
   "execution_count": 41,
   "metadata": {},
   "outputs": [
    {
     "data": {
      "image/png": "[encoded data removed]",
      "text/plain": [
       "<Figure size 432x288 with 1 Axes>"
      ]
     },
     "metadata": {
      "needs_background": "light"
     },
     "output_type": "display_data"
    }
   ],
   "source": [
    "visualize_neuron = 0\n",
    "\n",
    "t_spike = []\n",
    "for t in range(trials):\n",
    "    t_spike.append(neural_utils.BinToTrain(spikes[t, visualize_neuron]))\n",
    "\n",
    "plt.plot(times, rate[0, visualize_neuron])\n",
    "for n in range(trials):\n",
    "    plt.scatter(t_spike[n]*tbin, (-5.0-2*n)*np.ones_like(t_spike[n]), marker='|')\n",
    "plt.xlabel('time (s)')\n",
    "plt.ylabel('firing rate (Hz)')\n",
    "plt.show()"
   ]
  },
  {
   "cell_type": "code",
   "execution_count": 91,
   "metadata": {},
   "outputs": [],
   "source": [
    "l = 0.1*np.ones((1, neurons)) # shape (input dimensions, output dimensions)\n",
    "v = 1.*np.ones(neurons) # shape (output dimensions,)\n",
    "kernels_tuples = [('variance', v), \n",
    "                  ('RBF', 'euclid', l)]\n",
    "VI_tuples = [(None, None, None, 1)] # prior, var. dist., topology, dimensions\n",
    "\n",
    "num_induc = 8\n",
    "indps = np.linspace(0, max_time, num_induc)\n",
    "inducing_points = indps[None, :, None].repeat(neurons, axis=0) # shape (output dims, time, input dims)\n",
    "\n",
    "rate_model = neuroprob.nonparametrics.Gaussian_process(\n",
    "    neurons, # number of neurons\n",
    "    inducing_points, # initial inducing points                                          \n",
    "    kernels_tuples, # kernels                                          \n",
    "    VI_tuples, # priors and variational distributions                                          \n",
    "    shared_kernel_params=False, # share all kernel parameters over output dims?                                          \n",
    "    cov_type='factorized', # fit with full GP posterior covariance?                                          \n",
    "    mean=np.zeros((neurons)), # initial GP mean\n",
    "    inv_link='exp', # inverse link function\n",
    "    kern_f='softplus' # kernel inverse link\n",
    ")\n",
    "\n",
    "rate_model.set_params(\n",
    "    tbin, # time bin\n",
    "    jitter=1e-5 # jitter (numerical stability)\n",
    ")"
   ]
  },
  {
   "cell_type": "code",
   "execution_count": 92,
   "metadata": {},
   "outputs": [],
   "source": [
    "# likelihood model\n",
    "likelihood = neuroprob.likelihoods.Poisson(\n",
    "    neurons, # number of neurons or output dimensions\n",
    "    'exp' # inverse link function\n",
    ")\n",
    "\n",
    "likelihood.set_params(tbin, jitter=1e-5)"
   ]
  },
  {
   "cell_type": "code",
   "execution_count": 93,
   "metadata": {},
   "outputs": [
    {
     "data": {
      "text/plain": [
       "nll_optimized(\n",
       "  (likelihood): Poisson()\n",
       "  (rate_model): ModuleList(\n",
       "    (0): Gaussian_process(\n",
       "      (kernel): Product(\n",
       "        (kern0): Constant()\n",
       "        (kern1): RBF()\n",
       "      )\n",
       "    )\n",
       "  )\n",
       ")"
      ]
     },
     "execution_count": 93,
     "metadata": {},
     "output_type": "execute_result"
    }
   ],
   "source": [
    "# put together in GLM framework\n",
    "glm = neuroprob.inference.VI_optimized([rate_model], likelihood)\n",
    "glm.preprocess(\n",
    "    [covariates], # list of input regressors of GP\n",
    "    covariates.shape[1], # number of timesteps in total\n",
    "    spikes, # spike trains\n",
    "    batch_size=1000 # batch size (over timesteps)\n",
    ")\n",
    "    \n",
    "glm.to(dev) # move to GPU if available"
   ]
  },
  {
   "cell_type": "code",
   "execution_count": 94,
   "metadata": {},
   "outputs": [
    {
     "data": {
      "application/vnd.jupyter.widget-view+json": {
       "model_id": "50ff35353e0146208987adc8b3dfbf3b",
       "version_major": 2,
       "version_minor": 0
      },
      "text/plain": [
       "HBox(children=(FloatProgress(value=0.0, max=1000.0), HTML(value='')))"
      ]
     },
     "metadata": {},
     "output_type": "display_data"
    },
    {
     "name": "stdout",
     "output_type": "stream",
     "text": [
      "\n"
     ]
    },
    {
     "data": {
      "image/png": "[encoded data removed]",
      "text/plain": [
       "<Figure size 432x288 with 1 Axes>"
      ]
     },
     "metadata": {
      "needs_background": "light"
     },
     "output_type": "display_data"
    }
   ],
   "source": [
    "# fitting\n",
    "sch = lambda o: optim.lr_scheduler.MultiplicativeLR(o, lambda e: 0.9)\n",
    "opt_tuple = (\n",
    "    optim.Adam, # optimizer\n",
    "    100, # scheduler time steps for iteration\n",
    "    sch # scheduler effect\n",
    ")\n",
    "opt_lr_dict = {'default': 1e-2}\n",
    "\n",
    "glm.set_optimizers(\n",
    "    opt_tuple, \n",
    "    opt_lr_dict, \n",
    "    nat_grad=('rate_model.0.u_loc', 'rate_model.0.u_scale_tril'), \n",
    "    nat_lr=1e-1\n",
    "    #newton_grad=('rate_model.0.u_loc',), \n",
    "    #newton_lr=1e-1\n",
    ")\n",
    "\n",
    "annealing = lambda x: 1.0\n",
    "losses = glm.fit(\n",
    "    1000, # number of max iterations\n",
    "    loss_margin=0e0, \n",
    "    stop_iters=100, \n",
    "    anneal_func=annealing, \n",
    "    cov_samples=trials, # need to put in trials as we are doing regression over trials \n",
    "    ll_samples=20, \n",
    "    ll_mode='MC',\n",
    "    bound='ELBO'\n",
    ")\n",
    "\n",
    "plt.figure()\n",
    "plt.plot(losses)\n",
    "plt.xlabel('epoch')\n",
    "plt.ylabel('NLL per time sample')\n",
    "plt.show()"
   ]
  },
  {
   "cell_type": "code",
   "execution_count": 6,
   "metadata": {},
   "outputs": [
    {
     "ename": "NameError",
     "evalue": "name 'rate_model' is not defined",
     "output_type": "error",
     "traceback": [
      "\u001b[0;31m---------------------------------------------------------------------------\u001b[0m",
      "\u001b[0;31mNameError\u001b[0m                                 Traceback (most recent call last)",
      "\u001b[0;32m<ipython-input-6-bc7f4666c348>\u001b[0m in \u001b[0;36m<module>\u001b[0;34m\u001b[0m\n\u001b[1;32m      4\u001b[0m \u001b[0meval_times\u001b[0m \u001b[0;34m=\u001b[0m \u001b[0mnp\u001b[0m\u001b[0;34m.\u001b[0m\u001b[0mlinspace\u001b[0m\u001b[0;34m(\u001b[0m\u001b[0;36m0.0\u001b[0m\u001b[0;34m,\u001b[0m \u001b[0mmax_time\u001b[0m\u001b[0;34m,\u001b[0m \u001b[0msteps\u001b[0m\u001b[0;34m)\u001b[0m\u001b[0;34m[\u001b[0m\u001b[0;32mNone\u001b[0m\u001b[0;34m,\u001b[0m \u001b[0;34m:\u001b[0m\u001b[0;34m]\u001b[0m \u001b[0;31m# shape (dims, timesteps)\u001b[0m\u001b[0;34m\u001b[0m\u001b[0;34m\u001b[0m\u001b[0m\n\u001b[1;32m      5\u001b[0m \u001b[0;34m\u001b[0m\u001b[0m\n\u001b[0;32m----> 6\u001b[0;31m \u001b[0mlower\u001b[0m\u001b[0;34m,\u001b[0m \u001b[0mmean\u001b[0m\u001b[0;34m,\u001b[0m \u001b[0mupper\u001b[0m \u001b[0;34m=\u001b[0m \u001b[0mrate_model\u001b[0m\u001b[0;34m.\u001b[0m\u001b[0meval_rate\u001b[0m\u001b[0;34m(\u001b[0m\u001b[0meval_times\u001b[0m\u001b[0;34m,\u001b[0m \u001b[0mshow_neurons\u001b[0m\u001b[0;34m,\u001b[0m \u001b[0;34m'posterior'\u001b[0m\u001b[0;34m)\u001b[0m\u001b[0;34m\u001b[0m\u001b[0;34m\u001b[0m\u001b[0m\n\u001b[0m\u001b[1;32m      7\u001b[0m \u001b[0;34m\u001b[0m\u001b[0m\n\u001b[1;32m      8\u001b[0m \u001b[0mvisualize_trial\u001b[0m \u001b[0;34m=\u001b[0m \u001b[0;36m0\u001b[0m\u001b[0;34m\u001b[0m\u001b[0;34m\u001b[0m\u001b[0m\n",
      "\u001b[0;31mNameError\u001b[0m: name 'rate_model' is not defined"
     ]
    }
   ],
   "source": [
    "# compare to true rate\n",
    "steps= 100\n",
    "show_neurons = [0, 1]\n",
    "eval_times = np.linspace(0.0, max_time, steps)[None, :] # shape (dims, timesteps)\n",
    "\n",
    "lower, mean, upper = rate_model.eval_rate(eval_times, show_neurons, 'posterior')\n",
    "\n",
    "visualize_trial = 0\n",
    "fig, axes = plt.subplots(1, 2)\n",
    "for k, neuron in enumerate(show_neurons):\n",
    "    \n",
    "    ax = axes[k]\n",
    "    ax.plot(np.linspace(0, max_time, rate.shape[-1]), rate[visualize_trial, neuron], 'r--', label='true rate')\n",
    "    line, = ax.plot(eval_times[0], mean[k], label='GP posterior')\n",
    "    ax.fill_between(\n",
    "        eval_times[0], lower[k],\n",
    "        upper[k], color=line.get_color(), alpha=0.5\n",
    "    )\n",
    "    ax.set_xlabel('time (s)')\n",
    "    ax.set_ylabel('firing rate (Hz)')\n",
    "    ax.legend()\n",
    "    \n",
    "fig.tight_layout()\n",
    "\n",
    "\n",
    "    \n",
    "# draw tuning curves\n",
    "tuning = rate_model.eval_rate(eval_times, show_neurons, 'tuning', n_samp=10)\n",
    "fig, axes = plt.subplots(1, 2)\n",
    "for k_n in range(len(show_neurons)):\n",
    "    \n",
    "    ax = axes[k_n]\n",
    "    \n",
    "    for n in range(samp):\n",
    "        ax.plot(eval_times[0], tuning[n, k_n, ...])\n",
    "\n",
    "    ax.set_xlabel('time (s)')\n",
    "    ax.set_ylabel('firing rate (Hz)')\n",
    "\n",
    "fig.tight_layout()\n",
    "\n",
    "\n",
    "# show GP posterior properties\n",
    "steps= 100\n",
    "show_neurons = [0, 1]\n",
    "fig, axes = plt.subplots(1, 2)\n",
    "for k, neuron in enumerate(show_neurons):\n",
    "    \n",
    "    Xu = glm.rate_model[0].Xu.data.cpu().numpy()[neuron, :, 0]\n",
    "    eval_times = [np.linspace(Xu.min()-1.0, Xu.max()+1.0, steps)]\n",
    "    lower, mean, upper = rate_model.eval_rate(eval_times, neuron, 'posterior')\n",
    "    \n",
    "    ax = axes[k]\n",
    "    ax.scatter(Xu, -5.0*np.ones_like(Xu), marker='+', label='inducing points')\n",
    "    line, = ax.plot(eval_times[0], mean, label='GP posterior')\n",
    "    ax.fill_between(\n",
    "        eval_times[0], lower,\n",
    "        upper, color=line.get_color(), alpha=0.5\n",
    "    )\n",
    "    ax.set_xlabel('time (s)')\n",
    "    ax.set_ylabel('firing rate (Hz)')\n",
    "    ax.legend()\n",
    "    \n",
    "fig.tight_layout()\n",
    "plt.show()"
   ]
  },
  {
   "cell_type": "code",
   "execution_count": null,
   "metadata": {},
   "outputs": [],
   "source": []
  },
  {
   "cell_type": "markdown",
   "metadata": {},
   "source": [
    "<a id=\"likelihood\"></a>\n",
    "## Likelihood functions"
   ]
  },
  {
   "cell_type": "code",
   "execution_count": 3,
   "metadata": {},
   "outputs": [],
   "source": [
    "likelihood_type = 'ZIP'# 'NB', 'ZIP', 'P'"
   ]
  },
  {
   "cell_type": "code",
   "execution_count": 4,
   "metadata": {},
   "outputs": [],
   "source": [
    "neurons = 1\n",
    "tbin = 0.1\n",
    "\n",
    "### count process output ###\n",
    "if likelihood_type == 'NB':\n",
    "    r_inv = 0.0*torch.ones(neurons)\n",
    "    likelihood = nprb.likelihoods.Negative_binomial(tbin, neurons, 'exp', r_inv)\n",
    "elif likelihood_type == 'ZIP':\n",
    "    alpha = 0.95*torch.ones(neurons)\n",
    "    likelihood = nprb.likelihoods.ZI_Poisson(tbin, neurons, 'exp', alpha)\n",
    "elif likelihood_type == 'CMP':\n",
    "    log_nu = 1.*torch.ones(neurons)\n",
    "    likelihood = nprb.likelihoods.COM_Poisson(tbin, neurons, 'exp', log_nu)\n",
    "elif likelihood_type == 'P':\n",
    "    likelihood = nprb.likelihoods.Poisson(tbin, neurons, 'exp')\n",
    "\n",
    "### set data ###\n",
    "max_count = 10\n",
    "spikes = torch.arange(max_count)[None, :]\n",
    "likelihood.set_Y(spikes, max_count)\n",
    "\n",
    "### compute NLL ###\n",
    "trials = 2\n",
    "rates = 10.0*torch.ones(trials, neurons, max_count) # primary parameter\n",
    "#disper_param = 0.1*torch.ones(trials, neurons, max_count) # dispersion parameter\n",
    "nll = likelihood.nll(0, rates, spikes*torch.log(rates), spikes, range(neurons))#, disper_param=disper_param)"
   ]
  },
  {
   "cell_type": "code",
   "execution_count": 5,
   "metadata": {},
   "outputs": [
    {
     "data": {
      "image/png": "[encoded data removed]",
      "text/plain": [
       "<Figure size 432x288 with 1 Axes>"
      ]
     },
     "metadata": {
      "needs_background": "light"
     },
     "output_type": "display_data"
    }
   ],
   "source": [
    "plt.plot(spikes[0, :], np.exp(-nll.data.numpy()[0, :]))\n",
    "bins = np.arange(max_count)\n",
    "\n",
    "if likelihood_type == 'NB':\n",
    "    prbs = utils.stats.nb_count_prob(\n",
    "        bins, rates[0, 0, 0].numpy()*likelihood.tbin.item(), r_inv[0].item(), 1.0)\n",
    "elif likelihood_type == 'ZIP':\n",
    "    prbs = utils.stats.zip_count_prob(\n",
    "        bins, rates[0, 0, 0].numpy()*likelihood.tbin.item(), alpha[0].item(), 1.0)\n",
    "elif likelihood_type == 'CMP':\n",
    "    prbs = utils.stats.cmp_count_prob(\n",
    "        bins, rates[0, 0, 0].numpy()*likelihood.tbin.item(), np.exp(log_nu[0].item()), 1.0)\n",
    "elif likelihood_type == 'P':\n",
    "    prbs = utils.stats.poiss_count_prob(\n",
    "        bins, rates[0, 0, 0].numpy()*likelihood.tbin.item(), None, 1.0)\n",
    "    \n",
    "plt.plot(bins, prbs, 'r.', label=r'numpy')\n",
    "plt.legend()\n",
    "plt.show()"
   ]
  },
  {
   "cell_type": "code",
   "execution_count": 6,
   "metadata": {},
   "outputs": [
    {
     "ename": "TypeError",
     "evalue": "__init__() missing 1 required positional argument: 'neurons'",
     "output_type": "error",
     "traceback": [
      "\u001b[0;31m---------------------------------------------------------------------------\u001b[0m",
      "\u001b[0;31mTypeError\u001b[0m                                 Traceback (most recent call last)",
      "Input \u001b[0;32mIn [6]\u001b[0m, in \u001b[0;36m<cell line: 3>\u001b[0;34m()\u001b[0m\n\u001b[1;32m      1\u001b[0m \u001b[38;5;66;03m### sample ###\u001b[39;00m\n\u001b[1;32m      2\u001b[0m rate \u001b[38;5;241m=\u001b[39m np\u001b[38;5;241m.\u001b[39mlinspace(\u001b[38;5;241m0\u001b[39m, \u001b[38;5;241m10\u001b[39m, \u001b[38;5;241m100\u001b[39m)[\u001b[38;5;28;01mNone\u001b[39;00m, \u001b[38;5;28;01mNone\u001b[39;00m, :]\u001b[38;5;241m.\u001b[39mrepeat(\u001b[38;5;241m100\u001b[39m, axis\u001b[38;5;241m=\u001b[39m\u001b[38;5;241m0\u001b[39m)\u001b[38;5;241m*\u001b[39m\u001b[38;5;241m10\u001b[39m\n\u001b[0;32m----> 3\u001b[0m syn_train \u001b[38;5;241m=\u001b[39m \u001b[43mlikelihood\u001b[49m\u001b[38;5;241;43m.\u001b[39;49m\u001b[43msample\u001b[49m\u001b[43m(\u001b[49m\u001b[43mrate\u001b[49m\u001b[43m,\u001b[49m\u001b[43m \u001b[49m\u001b[43m[\u001b[49m\u001b[38;5;241;43m0\u001b[39;49m\u001b[43m]\u001b[49m\u001b[43m,\u001b[49m\u001b[43m \u001b[49m\u001b[43mXZ\u001b[49m\u001b[38;5;241;43m=\u001b[39;49m\u001b[38;5;28;43;01mNone\u001b[39;49;00m\u001b[43m)\u001b[49m\n\u001b[1;32m      6\u001b[0m \u001b[38;5;66;03m### empirical count mean and variance ###\u001b[39;00m\n\u001b[1;32m      7\u001b[0m m \u001b[38;5;241m=\u001b[39m syn_train\u001b[38;5;241m.\u001b[39mmean(\u001b[38;5;241m0\u001b[39m)\n",
      "File \u001b[0;32m~/Documents/Learning/universal-count-model/lib/examples/../neuroprob/likelihoods/discrete.py:597\u001b[0m, in \u001b[0;36mZI_Poisson.sample\u001b[0;34m(self, rate, neuron, XZ)\u001b[0m\n\u001b[1;32m    590\u001b[0m     \u001b[38;5;28;01mwith\u001b[39;00m torch\u001b[38;5;241m.\u001b[39mno_grad():\n\u001b[1;32m    591\u001b[0m         alpha_ \u001b[38;5;241m=\u001b[39m (\n\u001b[1;32m    592\u001b[0m             \u001b[38;5;28mself\u001b[39m\u001b[38;5;241m.\u001b[39msample_dispersion(XZ, rate\u001b[38;5;241m.\u001b[39mshape[\u001b[38;5;241m0\u001b[39m] \u001b[38;5;241m/\u001b[39m\u001b[38;5;241m/\u001b[39m XZ\u001b[38;5;241m.\u001b[39mshape[\u001b[38;5;241m0\u001b[39m], neuron)\n\u001b[1;32m    593\u001b[0m             \u001b[38;5;241m.\u001b[39mcpu()\n\u001b[1;32m    594\u001b[0m             \u001b[38;5;241m.\u001b[39mnumpy()\n\u001b[1;32m    595\u001b[0m         )\n\u001b[0;32m--> 597\u001b[0m zero_mask \u001b[38;5;241m=\u001b[39m \u001b[43mgen_IBP\u001b[49m\u001b[43m(\u001b[49m\u001b[43malpha_\u001b[49m\u001b[43m)\u001b[49m\n\u001b[1;32m    598\u001b[0m \u001b[38;5;28;01mreturn\u001b[39;00m (\u001b[38;5;241m1.0\u001b[39m \u001b[38;5;241m-\u001b[39m zero_mask) \u001b[38;5;241m*\u001b[39m torch\u001b[38;5;241m.\u001b[39mpoisson(\n\u001b[1;32m    599\u001b[0m     torch\u001b[38;5;241m.\u001b[39mtensor(rate_ \u001b[38;5;241m*\u001b[39m \u001b[38;5;28mself\u001b[39m\u001b[38;5;241m.\u001b[39mtbin\u001b[38;5;241m.\u001b[39mitem())\n\u001b[1;32m    600\u001b[0m )\u001b[38;5;241m.\u001b[39mnumpy()\n",
      "File \u001b[0;32m~/Documents/Learning/universal-count-model/lib/examples/../neuroprob/likelihoods/discrete.py:21\u001b[0m, in \u001b[0;36mgen_IBP\u001b[0;34m(intensity)\u001b[0m\n\u001b[1;32m     13\u001b[0m \u001b[38;5;28;01mdef\u001b[39;00m \u001b[38;5;21mgen_IBP\u001b[39m(intensity):\n\u001b[1;32m     14\u001b[0m     \u001b[38;5;124;03m\"\"\"\u001b[39;00m\n\u001b[1;32m     15\u001b[0m \u001b[38;5;124;03m    Sample of the Inhomogenous Bernoulli Process\u001b[39;00m\n\u001b[1;32m     16\u001b[0m \n\u001b[0;32m   (...)\u001b[0m\n\u001b[1;32m     19\u001b[0m \u001b[38;5;124;03m    :rtype: numpy.array\u001b[39;00m\n\u001b[1;32m     20\u001b[0m \u001b[38;5;124;03m    \"\"\"\u001b[39;00m\n\u001b[0;32m---> 21\u001b[0m     b \u001b[38;5;241m=\u001b[39m \u001b[43mBernoulli\u001b[49m\u001b[43m(\u001b[49m\u001b[43mtorch\u001b[49m\u001b[38;5;241;43m.\u001b[39;49m\u001b[43mtensor\u001b[49m\u001b[43m(\u001b[49m\u001b[43mintensity\u001b[49m\u001b[43m)\u001b[49m\u001b[43m)\u001b[49m\n\u001b[1;32m     22\u001b[0m     \u001b[38;5;28;01mreturn\u001b[39;00m b\u001b[38;5;241m.\u001b[39msample()\u001b[38;5;241m.\u001b[39mnumpy()\n",
      "\u001b[0;31mTypeError\u001b[0m: __init__() missing 1 required positional argument: 'neurons'"
     ]
    }
   ],
   "source": [
    "### sample ###\n",
    "rate = np.linspace(0, 10, 100)[None, None, :].repeat(100, axis=0)*10\n",
    "syn_train = likelihood.sample(rate, [0], XZ=None)\n",
    "\n",
    "\n",
    "### empirical count mean and variance ###\n",
    "m = syn_train.mean(0)\n",
    "v = syn_train.var(0)\n",
    "\n",
    "plt.scatter(m, v)\n",
    "\n",
    "nx = np.linspace(0, m.max())\n",
    "plt.plot(nx, nx*(1+nx*alpha.numpy()[0]))\n",
    "plt.show()\n",
    "\n",
    "plt.hist(syn_train.flatten(), bins=np.arange(max_count+1)-.5)\n",
    "plt.show()"
   ]
  },
  {
   "cell_type": "code",
   "execution_count": null,
   "metadata": {},
   "outputs": [],
   "source": []
  },
  {
   "cell_type": "code",
   "execution_count": 8,
   "metadata": {},
   "outputs": [
    {
     "ename": "NameError",
     "evalue": "name 'sample_bin' is not defined",
     "output_type": "error",
     "traceback": [
      "\u001b[0;31m---------------------------------------------------------------------------\u001b[0m",
      "\u001b[0;31mNameError\u001b[0m                                 Traceback (most recent call last)",
      "\u001b[0;32m<ipython-input-8-69188cea21fb>\u001b[0m in \u001b[0;36m<module>\u001b[0;34m\u001b[0m\n\u001b[1;32m      4\u001b[0m \u001b[0;34m\u001b[0m\u001b[0m\n\u001b[1;32m      5\u001b[0m \u001b[0;32mfor\u001b[0m \u001b[0mk\u001b[0m \u001b[0;32min\u001b[0m \u001b[0mrange\u001b[0m\u001b[0;34m(\u001b[0m\u001b[0;36m100\u001b[0m\u001b[0;34m)\u001b[0m\u001b[0;34m:\u001b[0m\u001b[0;34m\u001b[0m\u001b[0;34m\u001b[0m\u001b[0m\n\u001b[0;32m----> 6\u001b[0;31m     tbin, resamples, rc_t, _ = utils.neural.bin_data(bin_size, sample_bin, syn_train[k], \n\u001b[0m\u001b[1;32m      7\u001b[0m                                                             syn_train.shape[-1], (), average_behav=False, binned=True)\n\u001b[1;32m      8\u001b[0m     \u001b[0mrc_ts\u001b[0m\u001b[0;34m.\u001b[0m\u001b[0mappend\u001b[0m\u001b[0;34m(\u001b[0m\u001b[0mrc_t\u001b[0m\u001b[0;34m)\u001b[0m\u001b[0;34m\u001b[0m\u001b[0;34m\u001b[0m\u001b[0m\n",
      "\u001b[0;31mNameError\u001b[0m: name 'sample_bin' is not defined"
     ]
    }
   ],
   "source": [
    "### rebinning ###\n",
    "bin_size = 100\n",
    "rc_ts = []\n",
    "\n",
    "for k in range(100):\n",
    "    tbin, resamples, rc_t, _ = utils.neural.bin_data(bin_size, sample_bin, syn_train[k], \n",
    "                                                            syn_train.shape[-1], (), average_behav=False, binned=True)\n",
    "    rc_ts.append(rc_t)\n",
    "    \n",
    "rc_ts = np.array(rc_ts)"
   ]
  },
  {
   "cell_type": "code",
   "execution_count": 85,
   "metadata": {},
   "outputs": [
    {
     "data": {
      "image/png": "[encoded data removed]",
      "text/plain": [
       "<Figure size 432x288 with 1 Axes>"
      ]
     },
     "metadata": {
      "needs_background": "light"
     },
     "output_type": "display_data"
    }
   ],
   "source": [
    "mean_act = (rc_ts).mean(0)\n",
    "var_act = (rc_ts).var(0)\n",
    "\n",
    "plt.scatter(mean_act, var_act)\n",
    "nx = np.linspace(0, 80)\n",
    "plt.plot(nx, nx*(1+nx*r_inv.numpy()[0]))\n",
    "plt.show()"
   ]
  },
  {
   "cell_type": "code",
   "execution_count": null,
   "metadata": {},
   "outputs": [],
   "source": []
  },
  {
   "cell_type": "code",
   "execution_count": null,
   "metadata": {},
   "outputs": [],
   "source": []
  },
  {
   "cell_type": "markdown",
   "metadata": {},
   "source": [
    "### Synthetic heteroscedastic model"
   ]
  },
  {
   "cell_type": "code",
   "execution_count": 2,
   "metadata": {},
   "outputs": [],
   "source": [
    "# Gaussian von Mises bump head direction model\n",
    "track_samples = 4000\n",
    "hd_t = np.empty(track_samples)\n",
    "hd_t[0] = 0#np.pi\n",
    "rn = np.random.randn(track_samples)\n",
    "for k in range(1, track_samples):\n",
    "    hd_t[k] = hd_t[k-1] + 0.1*rn[k]\n",
    "    \n",
    "hd_t = hd_t % (2*np.pi)"
   ]
  },
  {
   "cell_type": "code",
   "execution_count": 3,
   "metadata": {
    "scrolled": true
   },
   "outputs": [],
   "source": [
    "sample_bin = 0.05\n",
    "neurons = 50\n",
    "\n",
    "# Von Mises fields\n",
    "angle_0 = np.linspace(0, 2*np.pi, neurons+1)[:-1]\n",
    "beta = 0.3\n",
    "rate_0 = np.random.rand(neurons)*5.0 + 1.0\n",
    "w = np.stack([np.log(rate_0), beta*np.cos(angle_0), beta*np.sin(angle_0)]).T # beta, phi_0 for theta modulation\n",
    "neurons = w.shape[0]\n",
    "\n",
    "vm_rate = nprb.rate_models.vonMises_GLM(neurons, inv_link='exp')\n",
    "vm_rate.set_params(sample_bin, w)\n",
    "\n",
    "\n",
    "\n",
    "# Dispersion tuning curve\n",
    "_angle_0 = np.random.permutation(angle_0)\n",
    "_beta = (0.2*np.random.randn(neurons))**2 + 0.01\n",
    "_rate_0 = np.random.rand(neurons)*500.0 + 500.0\n",
    "w = np.stack([np.log(_rate_0), _beta*np.cos(_angle_0), _beta*np.sin(_angle_0)]).T # beta, phi_0 for theta modulation\n",
    "\n",
    "vm_disp = nprb.rate_models.vonMises_GLM(neurons, inv_link='exp')\n",
    "vm_disp.set_params(sample_bin, w)\n"
   ]
  },
  {
   "cell_type": "code",
   "execution_count": 4,
   "metadata": {
    "scrolled": true
   },
   "outputs": [
    {
     "data": {
      "image/png": "[encoded data removed]",
      "text/plain": [
       "<Figure size 245x183.75 with 1 Axes>"
      ]
     },
     "metadata": {
      "needs_background": "light"
     },
     "output_type": "display_data"
    },
    {
     "data": {
      "image/png": "[encoded data removed]",
      "text/plain": [
       "<Figure size 245x183.75 with 1 Axes>"
      ]
     },
     "metadata": {
      "needs_background": "light"
     },
     "output_type": "display_data"
    },
    {
     "data": {
      "image/png": "[encoded data removed]",
      "text/plain": [
       "<Figure size 245x183.75 with 1 Axes>"
      ]
     },
     "metadata": {
      "needs_background": "light"
     },
     "output_type": "display_data"
    },
    {
     "data": {
      "image/png": "[encoded data removed]",
      "text/plain": [
       "<Figure size 245x183.75 with 1 Axes>"
      ]
     },
     "metadata": {
      "needs_background": "light"
     },
     "output_type": "display_data"
    }
   ],
   "source": [
    "steps= 1000\n",
    "show_neurons = [0, 1, 2]\n",
    "covariates = np.linspace(0, 2*np.pi, steps)[None, :]\n",
    "\n",
    "mean = vm_rate.eval_rate(covariates, show_neurons)\n",
    "for k, neuron in enumerate(show_neurons):\n",
    "    \n",
    "    fig, ax = plt.subplots()\n",
    "    line, = ax.plot(covariates[0], mean[0, k])\n",
    "    ax.set_xlabel('head direction')\n",
    "    ax.set_ylabel('firing rate (Hz)')\n",
    "    \n",
    "plt.show()\n",
    "\n",
    "\n",
    "steps= 1000\n",
    "show_neurons = [0]\n",
    "covariates = np.linspace(0, 2*np.pi, steps)[None, :]\n",
    "\n",
    "mean = vm_disp.eval_rate(covariates, show_neurons)\n",
    "for k, neuron in enumerate(show_neurons):\n",
    "    \n",
    "    fig, ax = plt.subplots()\n",
    "    line, = ax.plot(covariates[0], mean[0, k])\n",
    "    ax.set_xlabel('head direction')\n",
    "    ax.set_ylabel('firing rate (Hz)')\n",
    "    \n",
    "plt.show()"
   ]
  },
  {
   "cell_type": "code",
   "execution_count": 5,
   "metadata": {},
   "outputs": [],
   "source": [
    "# Count process output\n",
    "#r_inv = 10.*np.ones(neurons)\n",
    "#alpha = 0.2*np.ones(neurons)\n",
    "likelihood = nprb.likelihoods.Poisson(sample_bin, neurons, 'exp')\n",
    "#likelihood = nprb.likelihoods.Negative_binomial(sample_bin, neurons, 'exp', r_inv, dispersion_mapping=None)\n",
    "#likelihood = nprb.likelihoods.ZI_Poisson(sample_bin, neurons, 'exp', alpha)\n",
    "\n",
    "trials = 1\n",
    "ll_samples = 10\n",
    "in_dims = 1\n",
    "\n",
    "XZ = torch.tensor(hd_t[None, :, None]).float() # MC, T, D\n",
    "F_mu, F_var = vm_rate.compute_F(XZ) \n",
    "rate = likelihood.sample_rate(F_mu, F_var, trials, ll_samples) # MC, trials, neuron, time\n",
    "\n",
    "rate = rate.mean(0).numpy()\n",
    "#h = nprb.inference.sample_F(vm_rate, likelihood, [hd_t], 10, list(range(neurons)))\n",
    "syn_train = likelihood.sample(rate, XZ=XZ)"
   ]
  },
  {
   "cell_type": "code",
   "execution_count": 6,
   "metadata": {},
   "outputs": [
    {
     "data": {
      "image/png": "[encoded data removed]",
      "text/plain": [
       "<Figure size 280x280 with 1 Axes>"
      ]
     },
     "metadata": {},
     "output_type": "display_data"
    }
   ],
   "source": [
    "tr = 0\n",
    "T = 1000\n",
    "\n",
    "fig, ax = plt.subplots(figsize=(4,4))\n",
    "utils.plot.raster_plot((fig, ax), syn_train[tr, :, :T], T, sample_bin*1000, neurons, markersize=10)\n",
    "utils.plot.decorate_ax(ax, xlabel='time (ms)', ylabel='neuron')"
   ]
  },
  {
   "cell_type": "code",
   "execution_count": null,
   "metadata": {},
   "outputs": [],
   "source": []
  },
  {
   "cell_type": "markdown",
   "metadata": {},
   "source": [
    "### Fitting SVGP"
   ]
  },
  {
   "cell_type": "code",
   "execution_count": 12,
   "metadata": {},
   "outputs": [],
   "source": [
    "l = 10.*np.array([np.ones(1)])\n",
    "v = np.ones(1)\n",
    "kernels_tuples = [('variance', v), ('RBF', 'torus', l)]\n",
    "VI_tuples = [(None, None, None, 1)]\n",
    "ini_X = [hd_t]"
   ]
  },
  {
   "cell_type": "code",
   "execution_count": 17,
   "metadata": {},
   "outputs": [],
   "source": [
    "cp = False\n",
    "\n",
    "if cp is False:\n",
    "    num_induc = 8\n",
    "    inducing_points = np.linspace(0, 2*np.pi, num_induc+1)[None, :-1, None].repeat(neurons, axis=0)\n",
    "\n",
    "    gpr = nprb.nonparametrics.Gaussian_process(\n",
    "        in_dims, neurons, kernels_tuples, inducing_points=inducing_points, \n",
    "        inv_link='exp', whiten=True, jitter=1e-6, mean=np.zeros(neurons), learn_mean=True\n",
    "    )\n",
    "\n",
    "    gpd = nprb.nonparametrics.Gaussian_process(\n",
    "        in_dims, neurons, kernels_tuples, inducing_points=inducing_points, \n",
    "        inv_link='exp', whiten=True, jitter=1e-6, mean=np.zeros(neurons), learn_mean=True\n",
    "    )\n",
    "    \n",
    "    \n",
    "    \n",
    "else: # CP-SVGP \n",
    "    l = 1.*np.array([np.ones(neurons)])\n",
    "    v = np.ones(neurons)\n",
    "    #kernels_tuples = [('variance', v), ('RBF', 'torus', l)]\n",
    "    K_list = [GP.kernels.Product(\n",
    "        GP.kernels.Constant(variance=torch.tensor(v, dtype=torch.float)), \n",
    "        GP.kernels.RBF(input_dims=len(l), \\\n",
    "                       lengthscale=torch.tensor(l, dtype=torch.float), \\\n",
    "                       topology='torus'))\n",
    "    ]\n",
    "\n",
    "    track_dims_list = [[0]]\n",
    "    kernel_TT = GP.kernels.KTT_kernel(K_list, track_dims_list)\n",
    "\n",
    "\n",
    "    # inducing grid\n",
    "    N_U = 100\n",
    "    inducing_loc_list = [np.linspace(0, 2*np.pi, N_U+1)[None, None, :-1, None]]\n",
    "\n",
    "    r_shape = (1,)\n",
    "    nu_list = []\n",
    "    Psi_list = []\n",
    "    for u in inducing_loc_list:\n",
    "        nu_list.append(np.zeros((neurons, *r_shape, u.shape[-2])))\n",
    "        Psi_list.append(np.ones((neurons, u.shape[-2]))*0.1)\n",
    "\n",
    "    #S_list = [np.eye(u.shape[-2])[None, ...].repeat(neurons, axis=0)]\n",
    "    #S_type = GP.linalg.general_matrix\n",
    "    k_V = 3\n",
    "    S_list = [np.zeros((neurons, u.shape[-2]-1))]*k_V\n",
    "    S_type = GP.linalg.trilI_Toeplitz_matrix\n",
    "\n",
    "\n",
    "    # mapping\n",
    "    gpr = nprb.nonparametrics.KCP_SVGP(\n",
    "        in_dims, neurons, kernel_TT, inducing_loc_list, nu_list, Psi_list, S_list, S_type, \n",
    "        cheb_n=100, cheb_mc=1, GR_K=1, tr_mc=10, logdet_cheb=[True]*len(inducing_loc_list), jitter=1e-4, \n",
    "        nu_rshape_len=1, inv_link='exp', mean=np.zeros(neurons), learn_mean=True\n",
    "    )"
   ]
  },
  {
   "cell_type": "code",
   "execution_count": 18,
   "metadata": {},
   "outputs": [
    {
     "data": {
      "text/plain": [
       "VI_optimized(\n",
       "  (inputs): input_group()\n",
       "  (mapping): Gaussian_process(\n",
       "    (kernel): Product(\n",
       "      (kern0): Constant()\n",
       "      (kern1): RBF()\n",
       "    )\n",
       "  )\n",
       "  (likelihood): Poisson()\n",
       ")"
      ]
     },
     "execution_count": 18,
     "metadata": {},
     "output_type": "execute_result"
    }
   ],
   "source": [
    "### inputs and likelihood ###\n",
    "inputs = nprb.inference.input_group(in_dims, VI_tuples)\n",
    "inputs.set_XZ(ini_X, track_samples, batch_size=1000, filter_len=1)  \n",
    "\n",
    "likelihood = nprb.likelihoods.Poisson(sample_bin, neurons, 'exp')\n",
    "#r_inv = 10.*np.ones(neurons)\n",
    "#likelihood = nprb.likelihoods.Negative_binomial(sample_bin, neurons, 'exp', r_inv)\n",
    "#alpha = .1*np.ones(neurons)\n",
    "#likelihood = nprb.likelihoods.ZI_Poisson(sample_bin, neurons, 'exp', alpha, dispersion_mapping=None)\n",
    "likelihood.set_Y(syn_train, batch_size=1000, filter_len=1) \n",
    "\n",
    "\n",
    "glm = nprb.inference.VI_optimized(inputs, gpr, likelihood)\n",
    "glm.to(dev)"
   ]
  },
  {
   "cell_type": "code",
   "execution_count": 19,
   "metadata": {
    "scrolled": true
   },
   "outputs": [
    {
     "data": {
      "application/vnd.jupyter.widget-view+json": {
       "model_id": "f7aae6aa72774c00976abecaca90f9a4",
       "version_major": 2,
       "version_minor": 0
      },
      "text/plain": [
       "HBox(children=(FloatProgress(value=0.0, max=3000.0), HTML(value='')))"
      ]
     },
     "metadata": {},
     "output_type": "display_data"
    },
    {
     "ename": "KeyboardInterrupt",
     "evalue": "",
     "output_type": "error",
     "traceback": [
      "\u001b[0;31m---------------------------------------------------------\u001b[0m",
      "\u001b[0;31mKeyboardInterrupt\u001b[0m       Traceback (most recent call last)",
      "\u001b[0;32m<ipython-input-19-2dbedd21d0d6>\u001b[0m in \u001b[0;36m<module>\u001b[0;34m\u001b[0m\n\u001b[1;32m      8\u001b[0m \u001b[0mannealing\u001b[0m \u001b[0;34m=\u001b[0m \u001b[0;32mlambda\u001b[0m \u001b[0mx\u001b[0m\u001b[0;34m:\u001b[0m \u001b[0;36m1.0\u001b[0m\u001b[0;31m#min(1.0, 0.005*x)\u001b[0m\u001b[0;34m\u001b[0m\u001b[0;34m\u001b[0m\u001b[0m\n\u001b[1;32m      9\u001b[0m losses = glm.fit(3000, loss_margin=0.0, margin_epochs=100, kl_anneal_func=annealing, \n\u001b[0;32m---> 10\u001b[0;31m                  cov_samples=1, ll_samples=10, bound='ELBO', ll_mode='MC')\n\u001b[0m\u001b[1;32m     11\u001b[0m \u001b[0;34m\u001b[0m\u001b[0m\n\u001b[1;32m     12\u001b[0m \u001b[0mplt\u001b[0m\u001b[0;34m.\u001b[0m\u001b[0mfigure\u001b[0m\u001b[0;34m(\u001b[0m\u001b[0;34m)\u001b[0m\u001b[0;34m\u001b[0m\u001b[0;34m\u001b[0m\u001b[0m\n",
      "\u001b[0;32m~/Documents/Learning/neuroprob/neuroprob/inference.py\u001b[0m in \u001b[0;36mfit\u001b[0;34m(self, max_epochs, margin_epochs, loss_margin, neuron, kl_anneal_func, z_anneal_func, retain_graph, cov_samples, ll_samples, bound, ll_mode, lv_input, callback)\u001b[0m\n\u001b[1;32m    558\u001b[0m                     \u001b[0mcallback\u001b[0m\u001b[0;34m(\u001b[0m\u001b[0mself\u001b[0m\u001b[0;34m)\u001b[0m\u001b[0;34m\u001b[0m\u001b[0;34m\u001b[0m\u001b[0m\n\u001b[1;32m    559\u001b[0m \u001b[0;34m\u001b[0m\u001b[0m\n\u001b[0;32m--> 560\u001b[0;31m                 \u001b[0;32mif\u001b[0m \u001b[0mtorch\u001b[0m\u001b[0;34m.\u001b[0m\u001b[0misnan\u001b[0m\u001b[0;34m(\u001b[0m\u001b[0mloss\u001b[0m\u001b[0;34m.\u001b[0m\u001b[0mdata\u001b[0m\u001b[0;34m)\u001b[0m\u001b[0;34m.\u001b[0m\u001b[0many\u001b[0m\u001b[0;34m(\u001b[0m\u001b[0;34m)\u001b[0m \u001b[0;32mor\u001b[0m \u001b[0mtorch\u001b[0m\u001b[0;34m.\u001b[0m\u001b[0misinf\u001b[0m\u001b[0;34m(\u001b[0m\u001b[0mloss\u001b[0m\u001b[0;34m.\u001b[0m\u001b[0mdata\u001b[0m\u001b[0;34m)\u001b[0m\u001b[0;34m.\u001b[0m\u001b[0many\u001b[0m\u001b[0;34m(\u001b[0m\u001b[0;34m)\u001b[0m\u001b[0;34m:\u001b[0m\u001b[0;34m\u001b[0m\u001b[0;34m\u001b[0m\u001b[0m\n\u001b[0m\u001b[1;32m    561\u001b[0m                     \u001b[0;32mraise\u001b[0m \u001b[0mValueError\u001b[0m\u001b[0;34m(\u001b[0m\u001b[0;34m'Loss diverged'\u001b[0m\u001b[0;34m)\u001b[0m\u001b[0;34m\u001b[0m\u001b[0;34m\u001b[0m\u001b[0m\n\u001b[1;32m    562\u001b[0m                 \u001b[0msloss\u001b[0m \u001b[0;34m+=\u001b[0m \u001b[0mloss\u001b[0m\u001b[0;34m.\u001b[0m\u001b[0mitem\u001b[0m\u001b[0;34m(\u001b[0m\u001b[0;34m)\u001b[0m\u001b[0;34m\u001b[0m\u001b[0;34m\u001b[0m\u001b[0m\n",
      "\u001b[0;31mKeyboardInterrupt\u001b[0m: "
     ]
    }
   ],
   "source": [
    "# fitting\n",
    "sch = lambda o: optim.lr_scheduler.MultiplicativeLR(o, lambda e: 0.9)\n",
    "opt_tuple = (optim.Adam, 100, sch)\n",
    "opt_lr_dict = {'default': 1e-3}\n",
    "\n",
    "glm.set_optimizers(opt_tuple, opt_lr_dict)\n",
    "\n",
    "annealing = lambda x: 1.0#min(1.0, 0.005*x)\n",
    "losses = glm.fit(3000, loss_margin=0.0, margin_epochs=100, kl_anneal_func=annealing, \n",
    "                 cov_samples=1, ll_samples=10, bound='ELBO', ll_mode='MC')\n",
    "\n",
    "plt.figure()\n",
    "plt.plot(losses)\n",
    "plt.xlabel('epoch')\n",
    "plt.ylabel('NLL per time sample')\n",
    "plt.show()"
   ]
  },
  {
   "cell_type": "code",
   "execution_count": 12,
   "metadata": {
    "scrolled": true
   },
   "outputs": [
    {
     "data": {
      "text/plain": [
       "tensor([[[[-0.0727, -0.0680, -0.0653,  ...,  0.0042,  0.0044,  0.0008]],\n",
       "\n",
       "         [[-0.0738, -0.0679, -0.0603,  ..., -0.0027, -0.0072, -0.0016]],\n",
       "\n",
       "         [[-0.0634, -0.0586, -0.0547,  ..., -0.0028,  0.0006,  0.0022]],\n",
       "\n",
       "         ...,\n",
       "\n",
       "         [[-0.0731, -0.0663, -0.0600,  ...,  0.0016, -0.0018, -0.0079]],\n",
       "\n",
       "         [[-0.0761, -0.0702, -0.0654,  ..., -0.0069, -0.0023, -0.0020]],\n",
       "\n",
       "         [[-0.0694, -0.0637, -0.0627,  ..., -0.0122, -0.0100,  0.0016]]]],\n",
       "       device='cuda:0', grad_fn=<SqueezeBackward1>)"
      ]
     },
     "execution_count": 12,
     "metadata": {},
     "output_type": "execute_result"
    }
   ],
   "source": [
    "gpr.S[0].tensor_list[0].tensor"
   ]
  },
  {
   "cell_type": "code",
   "execution_count": 13,
   "metadata": {
    "scrolled": true
   },
   "outputs": [
    {
     "data": {
      "text/plain": [
       "tensor([[[[0.0990, 0.0990, 0.1010,  ..., 0.0990, 0.1010, 0.0990]],\n",
       "\n",
       "         [[0.0990, 0.0990, 0.0990,  ..., 0.1010, 0.0990, 0.0990]],\n",
       "\n",
       "         [[0.1010, 0.0990, 0.0990,  ..., 0.0990, 0.0990, 0.0990]],\n",
       "\n",
       "         ...,\n",
       "\n",
       "         [[0.0990, 0.1010, 0.1010,  ..., 0.1010, 0.1010, 0.1010]],\n",
       "\n",
       "         [[0.0990, 0.0990, 0.1010,  ..., 0.0990, 0.0990, 0.1010]],\n",
       "\n",
       "         [[0.1010, 0.0990, 0.1010,  ..., 0.1010, 0.1010, 0.0990]]]],\n",
       "       device='cuda:0')"
      ]
     },
     "execution_count": 13,
     "metadata": {},
     "output_type": "execute_result"
    }
   ],
   "source": [
    "gpr.Psi.tensor_list[0].tensor#_list[0]"
   ]
  },
  {
   "cell_type": "code",
   "execution_count": 14,
   "metadata": {},
   "outputs": [
    {
     "data": {
      "text/plain": [
       "tensor([[[[0., 0., 0.,  ..., 0., 0., 0.]],\n",
       "\n",
       "         [[0., 0., 0.,  ..., 0., 0., 0.]],\n",
       "\n",
       "         [[0., 0., 0.,  ..., 0., 0., 0.]],\n",
       "\n",
       "         ...,\n",
       "\n",
       "         [[0., 0., 0.,  ..., 0., 0., 0.]],\n",
       "\n",
       "         [[0., 0., 0.,  ..., 0., 0., 0.]],\n",
       "\n",
       "         [[0., 0., 0.,  ..., 0., 0., 0.]]]], device='cuda:0')"
      ]
     },
     "execution_count": 14,
     "metadata": {},
     "output_type": "execute_result"
    }
   ],
   "source": [
    "gpr.Psi_list[0].grad"
   ]
  },
  {
   "cell_type": "markdown",
   "metadata": {},
   "source": [
    "### Inspect posterior"
   ]
  },
  {
   "cell_type": "code",
   "execution_count": 15,
   "metadata": {},
   "outputs": [],
   "source": [
    "#print(glm.likelihood.alpha)"
   ]
  },
  {
   "cell_type": "code",
   "execution_count": 20,
   "metadata": {
    "scrolled": true
   },
   "outputs": [
    {
     "data": {
      "image/png": "[encoded data removed]",
      "text/plain": [
       "<Figure size 245x183.75 with 1 Axes>"
      ]
     },
     "metadata": {
      "needs_background": "light"
     },
     "output_type": "display_data"
    },
    {
     "data": {
      "image/png": "[encoded data removed]",
      "text/plain": [
       "<Figure size 245x183.75 with 1 Axes>"
      ]
     },
     "metadata": {
      "needs_background": "light"
     },
     "output_type": "display_data"
    },
    {
     "data": {
      "image/png": "[encoded data removed]",
      "text/plain": [
       "<Figure size 245x183.75 with 1 Axes>"
      ]
     },
     "metadata": {
      "needs_background": "light"
     },
     "output_type": "display_data"
    },
    {
     "data": {
      "image/png": "[encoded data removed]",
      "text/plain": [
       "<Figure size 245x183.75 with 1 Axes>"
      ]
     },
     "metadata": {
      "needs_background": "light"
     },
     "output_type": "display_data"
    },
    {
     "data": {
      "image/png": "[encoded data removed]",
      "text/plain": [
       "<Figure size 245x183.75 with 1 Axes>"
      ]
     },
     "metadata": {
      "needs_background": "light"
     },
     "output_type": "display_data"
    }
   ],
   "source": [
    "steps= 100\n",
    "show_neurons = [0, 1, 6, 12, 20]\n",
    "covariates = np.linspace(0, 2*np.pi, steps)[None, :]\n",
    "\n",
    "r_true = vm_rate.eval_rate(covariates, show_neurons)\n",
    "\n",
    "lower, mean, upper = gpr.eval_rate(covariates, show_neurons, 'posterior', n_samp=10)\n",
    "for k, neuron in enumerate(show_neurons):\n",
    "\n",
    "    fig, ax = plt.subplots()\n",
    "    ax.plot(covariates[0], r_true[0, k], 'r--')\n",
    "    line, = ax.plot(covariates[0], mean[0, k])\n",
    "    ax.fill_between(\n",
    "        covariates[0], lower[0, k],\n",
    "        upper[0, k], color=line.get_color(), alpha=0.5\n",
    "    )\n",
    "    ax.set_xlabel('head direction')\n",
    "    ax.set_ylabel('firing rate (Hz)')\n",
    "\n",
    "plt.show()"
   ]
  },
  {
   "cell_type": "code",
   "execution_count": null,
   "metadata": {},
   "outputs": [],
   "source": []
  },
  {
   "cell_type": "markdown",
   "metadata": {},
   "source": [
    "### Compute statistics"
   ]
  },
  {
   "cell_type": "code",
   "execution_count": 93,
   "metadata": {},
   "outputs": [],
   "source": [
    "def get_field(glm_rate, grid_size, grid_shape, neuron):\n",
    "\n",
    "    def func(pos):\n",
    "        prevshape = pos.shape[1:]\n",
    "        x = pos[0].flatten()\n",
    "        y = pos[1].flatten()\n",
    "        covariates = [x, y]\n",
    "        return glm_rate.eval_rate(covariates, neuron).reshape(-1, *prevshape)\n",
    "\n",
    "    _, field = tools.compute_mesh(grid_size, grid_shape, func)\n",
    "    return field\n",
    "\n",
    "\n",
    "def compute_rate(glm_rate, neuron):\n",
    "    grid_size = [50, 40]\n",
    "    grid_shape = [[left_x, right_x], [bottom_y, top_y]]\n",
    "    field = get_field(glm_rate, grid_size, grid_shape, neuron)\n",
    "    return field\n",
    "\n",
    "def compute_stats(glm, spktrain, behav_list): # statistics\n",
    "    glm_rate = glm.rate_model[0]\n",
    "    glm_lik = glm.likelihood\n",
    "    \n",
    "    bs = 5000\n",
    "    T = 100000\n",
    "    traj_len = 1\n",
    "    N = int(np.ceil(T/bs))\n",
    "    rate_model = []\n",
    "    spktrain = spktrain[:T]\n",
    "\n",
    "    for n in range(N):\n",
    "        covariates_ = [b[n*bs:(n+1)*bs] for b in behav_list]\n",
    "        rate_model += [glm_rate.eval_rate(covariates_, [0])[0]]\n",
    "\n",
    "    rate_model = np.concatenate(rate_model)\n",
    "\n",
    "    f_p = lambda c, avg, shape, t: stats.nb_count_prob(c, avg, shape, t)\n",
    "    m_f = lambda x: x\n",
    "    cnt_tuple = stats.count_KS_method(f_p, m_f, glm_rate.tbin.item(), spktrain, rate_model, \\\n",
    "                                      traj_len, shape=glm_lik.r_inv[0].item(), min_spikes=0)\n",
    "    q_cdf, Z_DS, T_KS, s_DS, s_KS, p_DS, p_KS, traj_lens = cnt_tuple\n",
    "\n",
    "    return q_cdf, Z_DS, T_KS, s_KS"
   ]
  },
  {
   "cell_type": "code",
   "execution_count": 94,
   "metadata": {},
   "outputs": [],
   "source": [
    "q_cdf, Z_DS, T_KS, s_KS = compute_stats(glm, rc_t[0], [rhd_t])"
   ]
  },
  {
   "cell_type": "code",
   "execution_count": 95,
   "metadata": {},
   "outputs": [
    {
     "data": {
      "image/png": "[encoded data removed]",
      "text/plain": [
       "<Figure size 210x210 with 1 Axes>"
      ]
     },
     "metadata": {},
     "output_type": "display_data"
    },
    {
     "name": "stdout",
     "output_type": "stream",
     "text": [
      "0.0095291454015618\n",
      "-0.14628394160774894\n"
     ]
    }
   ],
   "source": [
    "fig = plt.figure(figsize=(3, 3))\n",
    "ax = fig.subplots()\n",
    "ax = stats.plot_dispersion(ax, q_cdf, s_KS)\n",
    "plt.show()\n",
    "print(T_KS)\n",
    "print(Z_DS)"
   ]
  },
  {
   "cell_type": "code",
   "execution_count": null,
   "metadata": {},
   "outputs": [],
   "source": []
  },
  {
   "cell_type": "code",
   "execution_count": null,
   "metadata": {},
   "outputs": [],
   "source": []
  },
  {
   "cell_type": "code",
   "execution_count": null,
   "metadata": {},
   "outputs": [],
   "source": []
  }
 ],
 "metadata": {
  "kernelspec": {
   "display_name": "Python 3",
   "language": "python",
   "name": "python3"
  },
  "language_info": {
   "codemirror_mode": {
    "name": "ipython",
    "version": 3
   },
   "file_extension": ".py",
   "mimetype": "text/x-python",
   "name": "python",
   "nbconvert_exporter": "python",
   "pygments_lexer": "ipython3",
   "version": "3.6.9"
  }
 },
 "nbformat": 4,
 "nbformat_minor": 4
}
