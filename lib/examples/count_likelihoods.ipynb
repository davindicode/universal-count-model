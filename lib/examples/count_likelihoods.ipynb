{
 "cells": [
  {
   "cell_type": "markdown",
   "metadata": {},
   "source": [
    "# Head direction attractor network\n",
    "\n",
    "\n",
    "### Table of contents\n",
    "\n",
    "1. [**Likelihood**](#likelihood)\n",
    "3. [**SNN**](#snn)\n",
    "4. [**RNN**](#rnn)"
   ]
  },
  {
   "cell_type": "code",
   "execution_count": null,
   "metadata": {},
   "outputs": [],
   "source": [
    "%load_ext autoreload\n",
    "%autoreload 2\n",
    "\n",
    "import torch\n",
    "import matplotlib.pyplot as plt\n",
    "import numpy as np\n",
    "\n",
    "import sys\n",
    "sys.path.append(\"..\")\n",
    "\n",
    "import neuroprob as nprb\n",
    "from neuroprob import utils\n",
    "\n",
    "\n",
    "dev = nprb.inference.get_device()"
   ]
  },
  {
   "cell_type": "markdown",
   "metadata": {},
   "source": [
    "<a id=\"likelihood\"></a>\n",
    "## Likelihood functions"
   ]
  },
  {
   "cell_type": "code",
   "execution_count": 2,
   "metadata": {},
   "outputs": [],
   "source": [
    "likelihood_type = 'ZIP'# 'NB', 'ZIP', 'P'"
   ]
  },
  {
   "cell_type": "code",
   "execution_count": 4,
   "metadata": {},
   "outputs": [],
   "source": [
    "neurons = 1\n",
    "tbin = 0.1\n",
    "\n",
    "### count process output ###\n",
    "if likelihood_type == 'NB':\n",
    "    r_inv = 0.0*torch.ones(neurons)\n",
    "    likelihood = nprb.likelihoods.Negative_binomial(tbin, neurons, 'exp', r_inv)\n",
    "elif likelihood_type == 'ZIP':\n",
    "    alpha = 0.95*torch.ones(neurons)\n",
    "    likelihood = nprb.likelihoods.ZI_Poisson(tbin, neurons, 'exp', alpha)\n",
    "elif likelihood_type == 'CMP':\n",
    "    log_nu = 1.*torch.ones(neurons)\n",
    "    likelihood = nprb.likelihoods.COM_Poisson(tbin, neurons, 'exp', log_nu)\n",
    "elif likelihood_type == 'P':\n",
    "    likelihood = nprb.likelihoods.Poisson(tbin, neurons, 'exp')\n",
    "\n",
    "### set data ###\n",
    "max_count = 10\n",
    "spikes = torch.arange(max_count)[None, :]\n",
    "likelihood.set_Y(spikes, max_count)\n",
    "\n",
    "### compute NLL ###\n",
    "trials = 2\n",
    "rates = 10.0*torch.ones(trials, neurons, max_count) # primary parameter\n",
    "#disper_param = 0.1*torch.ones(trials, neurons, max_count) # dispersion parameter\n",
    "nll = likelihood.nll(0, rates, spikes*torch.log(rates), spikes, range(neurons))#, disper_param=disper_param)"
   ]
  },
  {
   "cell_type": "code",
   "execution_count": 5,
   "metadata": {},
   "outputs": [
    {
     "data": {
      "image/png": "[encoded data removed]",
      "text/plain": [
       "<Figure size 432x288 with 1 Axes>"
      ]
     },
     "metadata": {
      "needs_background": "light"
     },
     "output_type": "display_data"
    }
   ],
   "source": [
    "plt.plot(spikes[0, :], np.exp(-nll.data.numpy()[0, :]))\n",
    "bins = np.arange(max_count)\n",
    "\n",
    "if likelihood_type == 'NB':\n",
    "    prbs = utils.stats.nb_count_prob(\n",
    "        bins, rates[0, 0, 0].numpy()*likelihood.tbin.item(), r_inv[0].item(), 1.0)\n",
    "elif likelihood_type == 'ZIP':\n",
    "    prbs = utils.stats.zip_count_prob(\n",
    "        bins, rates[0, 0, 0].numpy()*likelihood.tbin.item(), alpha[0].item(), 1.0)\n",
    "elif likelihood_type == 'CMP':\n",
    "    prbs = utils.stats.cmp_count_prob(\n",
    "        bins, rates[0, 0, 0].numpy()*likelihood.tbin.item(), np.exp(log_nu[0].item()), 1.0)\n",
    "elif likelihood_type == 'P':\n",
    "    prbs = utils.stats.poiss_count_prob(\n",
    "        bins, rates[0, 0, 0].numpy()*likelihood.tbin.item(), None, 1.0)\n",
    "    \n",
    "plt.plot(bins, prbs, 'r.', label=r'numpy')\n",
    "plt.legend()\n",
    "plt.show()"
   ]
  },
  {
   "cell_type": "code",
   "execution_count": 6,
   "metadata": {},
   "outputs": [
    {
     "data": {
      "image/png": "[encoded data removed]",
      "text/plain": [
       "<Figure size 432x288 with 1 Axes>"
      ]
     },
     "metadata": {
      "needs_background": "light"
     },
     "output_type": "display_data"
    },
    {
     "data": {
      "image/png": "[encoded data removed]",
      "text/plain": [
       "<Figure size 432x288 with 1 Axes>"
      ]
     },
     "metadata": {
      "needs_background": "light"
     },
     "output_type": "display_data"
    }
   ],
   "source": [
    "### sample ###\n",
    "rate = np.linspace(0, 10, 100)[None, None, :].repeat(100, axis=0)*10\n",
    "syn_train = likelihood.sample(rate, [0], XZ=None)\n",
    "\n",
    "\n",
    "### empirical count mean and variance ###\n",
    "m = syn_train.mean(0)\n",
    "v = syn_train.var(0)\n",
    "\n",
    "plt.scatter(m, v)\n",
    "\n",
    "nx = np.linspace(0, m.max())\n",
    "plt.plot(nx, nx*(1+nx*alpha.numpy()[0]))\n",
    "plt.show()\n",
    "\n",
    "plt.hist(syn_train.flatten(), bins=np.arange(max_count+1)-.5)\n",
    "plt.show()"
   ]
  },
  {
   "cell_type": "code",
   "execution_count": null,
   "metadata": {},
   "outputs": [],
   "source": []
  },
  {
   "cell_type": "code",
   "execution_count": 8,
   "metadata": {},
   "outputs": [
    {
     "ename": "NameError",
     "evalue": "name 'sample_bin' is not defined",
     "output_type": "error",
     "traceback": [
      "\u001b[0;31m---------------------------------------------------------------------------\u001b[0m",
      "\u001b[0;31mNameError\u001b[0m                                 Traceback (most recent call last)",
      "\u001b[0;32m<ipython-input-8-69188cea21fb>\u001b[0m in \u001b[0;36m<module>\u001b[0;34m\u001b[0m\n\u001b[1;32m      4\u001b[0m \u001b[0;34m\u001b[0m\u001b[0m\n\u001b[1;32m      5\u001b[0m \u001b[0;32mfor\u001b[0m \u001b[0mk\u001b[0m \u001b[0;32min\u001b[0m \u001b[0mrange\u001b[0m\u001b[0;34m(\u001b[0m\u001b[0;36m100\u001b[0m\u001b[0;34m)\u001b[0m\u001b[0;34m:\u001b[0m\u001b[0;34m\u001b[0m\u001b[0;34m\u001b[0m\u001b[0m\n\u001b[0;32m----> 6\u001b[0;31m     tbin, resamples, rc_t, _ = utils.neural.bin_data(bin_size, sample_bin, syn_train[k], \n\u001b[0m\u001b[1;32m      7\u001b[0m                                                             syn_train.shape[-1], (), average_behav=False, binned=True)\n\u001b[1;32m      8\u001b[0m     \u001b[0mrc_ts\u001b[0m\u001b[0;34m.\u001b[0m\u001b[0mappend\u001b[0m\u001b[0;34m(\u001b[0m\u001b[0mrc_t\u001b[0m\u001b[0;34m)\u001b[0m\u001b[0;34m\u001b[0m\u001b[0;34m\u001b[0m\u001b[0m\n",
      "\u001b[0;31mNameError\u001b[0m: name 'sample_bin' is not defined"
     ]
    }
   ],
   "source": [
    "### rebinning ###\n",
    "bin_size = 100\n",
    "rc_ts = []\n",
    "\n",
    "for k in range(100):\n",
    "    tbin, resamples, rc_t, _ = utils.neural.bin_data(bin_size, sample_bin, syn_train[k], \n",
    "                                                            syn_train.shape[-1], (), average_behav=False, binned=True)\n",
    "    rc_ts.append(rc_t)\n",
    "    \n",
    "rc_ts = np.array(rc_ts)"
   ]
  },
  {
   "cell_type": "code",
   "execution_count": 85,
   "metadata": {},
   "outputs": [
    {
     "data": {
      "image/png": "[encoded data removed]",
      "text/plain": [
       "<Figure size 432x288 with 1 Axes>"
      ]
     },
     "metadata": {
      "needs_background": "light"
     },
     "output_type": "display_data"
    }
   ],
   "source": [
    "mean_act = (rc_ts).mean(0)\n",
    "var_act = (rc_ts).var(0)\n",
    "\n",
    "plt.scatter(mean_act, var_act)\n",
    "nx = np.linspace(0, 80)\n",
    "plt.plot(nx, nx*(1+nx*r_inv.numpy()[0]))\n",
    "plt.show()"
   ]
  },
  {
   "cell_type": "code",
   "execution_count": null,
   "metadata": {},
   "outputs": [],
   "source": []
  },
  {
   "cell_type": "code",
   "execution_count": null,
   "metadata": {},
   "outputs": [],
   "source": []
  },
  {
   "cell_type": "code",
   "execution_count": null,
   "metadata": {},
   "outputs": [],
   "source": []
  },
  {
   "cell_type": "code",
   "execution_count": null,
   "metadata": {},
   "outputs": [],
   "source": []
  }
 ],
 "metadata": {
  "kernelspec": {
   "display_name": "Python 3 (ipykernel)",
   "language": "python",
   "name": "python3"
  },
  "language_info": {
   "codemirror_mode": {
    "name": "ipython",
    "version": 3
   },
   "file_extension": ".py",
   "mimetype": "text/x-python",
   "name": "python",
   "nbconvert_exporter": "python",
   "pygments_lexer": "ipython3",
   "version": "3.6.9"
  }
 },
 "nbformat": 4,
 "nbformat_minor": 4
}
